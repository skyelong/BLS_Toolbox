{
 "cells": [
  {
   "cell_type": "markdown",
   "metadata": {},
   "source": [
    "# BLS series selector - Tool 2 of 3 for accessing ATUS files\n",
    "\n",
    "## This notebook will allow you to take the dictonary you generated in the BLS Web Scraper and interactivly select demographics to get the series IDs.\n",
    "\n",
    "## The BLS API requires a list of series IDs to download the required files. You can also use this list here:\n",
    "\n",
    "[BLS Series Report] (https://data.bls.gov/cgi-bin/srgate)\n",
    "\n",
    "As a warning the output of the Series Report tool is a collection of individual excel files or one csv file with multiple sections for each series. This is very difficult for Python or Excel to read in. You can use the BLS API notebook to clean and merge your files. \n",
    "\n",
    "### This notebook assumes that you have your dictonary file in the/data directory. If you cloned or downloaded this repository, there is an example version already there.\n",
    "\n",
    "For a nice online resource about widgets see: [widgets](https://towardsdatascience.com/bring-your-jupyter-notebook-to-life-with-interactive-widgets-bc12e03f0916)"
   ]
  },
  {
   "cell_type": "code",
   "execution_count": 1,
   "metadata": {},
   "outputs": [],
   "source": [
    "#Import modules\n",
    "import pandas as pd\n",
    "import numpy as np\n",
    "import ipywidgets as widgets\n",
    "from IPython.display import display"
   ]
  },
  {
   "cell_type": "code",
   "execution_count": 2,
   "metadata": {},
   "outputs": [],
   "source": [
    "#This opens the dictonary file made from the tu.series file. I have included a sample in the data directory\n",
    "#It needs to have the *_text columns to work.\n",
    "lexicon = pd.read_csv('data/with_replace.csv', dtype=object) #we will need everything to be strings to match later"
   ]
  },
  {
   "cell_type": "code",
   "execution_count": 3,
   "metadata": {},
   "outputs": [
    {
     "data": {
      "text/html": [
       "<div>\n",
       "<style scoped>\n",
       "    .dataframe tbody tr th:only-of-type {\n",
       "        vertical-align: middle;\n",
       "    }\n",
       "\n",
       "    .dataframe tbody tr th {\n",
       "        vertical-align: top;\n",
       "    }\n",
       "\n",
       "    .dataframe thead th {\n",
       "        text-align: right;\n",
       "    }\n",
       "</style>\n",
       "<table border=\"1\" class=\"dataframe\">\n",
       "  <thead>\n",
       "    <tr style=\"text-align: right;\">\n",
       "      <th></th>\n",
       "      <th>Unnamed: 0</th>\n",
       "      <th>series_id</th>\n",
       "      <th>sex_code</th>\n",
       "      <th>race_code</th>\n",
       "      <th>educ_code</th>\n",
       "      <th>age_code</th>\n",
       "      <th>pertype_code</th>\n",
       "      <th>series_title</th>\n",
       "      <th>earn_code</th>\n",
       "      <th>actcode_code</th>\n",
       "      <th>...</th>\n",
       "      <th>actcode_text</th>\n",
       "      <th>age_text</th>\n",
       "      <th>earn_text</th>\n",
       "      <th>educ_text</th>\n",
       "      <th>lfstat_text</th>\n",
       "      <th>orig_text</th>\n",
       "      <th>pertype_text</th>\n",
       "      <th>race_text</th>\n",
       "      <th>sex_text</th>\n",
       "      <th>stattype_text</th>\n",
       "    </tr>\n",
       "  </thead>\n",
       "  <tbody>\n",
       "    <tr>\n",
       "      <th>0</th>\n",
       "      <td>0</td>\n",
       "      <td>TUU10100AA01000007</td>\n",
       "      <td>0</td>\n",
       "      <td>0</td>\n",
       "      <td>0</td>\n",
       "      <td>0</td>\n",
       "      <td>0</td>\n",
       "      <td>Number of persons - Employed</td>\n",
       "      <td>0</td>\n",
       "      <td>0</td>\n",
       "      <td>...</td>\n",
       "      <td>Total, all activities</td>\n",
       "      <td>15 years and over</td>\n",
       "      <td>All persons</td>\n",
       "      <td>All education levels</td>\n",
       "      <td>Employed</td>\n",
       "      <td>NaN</td>\n",
       "      <td>All days</td>\n",
       "      <td>All races</td>\n",
       "      <td>Both sexes</td>\n",
       "      <td>Number of persons (in thousands)</td>\n",
       "    </tr>\n",
       "    <tr>\n",
       "      <th>1</th>\n",
       "      <td>1</td>\n",
       "      <td>TUU10100AA01000013</td>\n",
       "      <td>0</td>\n",
       "      <td>0</td>\n",
       "      <td>0</td>\n",
       "      <td>0</td>\n",
       "      <td>0</td>\n",
       "      <td>Number of persons - Employed, Multiple jobholders</td>\n",
       "      <td>0</td>\n",
       "      <td>0</td>\n",
       "      <td>...</td>\n",
       "      <td>Total, all activities</td>\n",
       "      <td>15 years and over</td>\n",
       "      <td>All persons</td>\n",
       "      <td>All education levels</td>\n",
       "      <td>Employed</td>\n",
       "      <td>NaN</td>\n",
       "      <td>All days</td>\n",
       "      <td>All races</td>\n",
       "      <td>Both sexes</td>\n",
       "      <td>Number of persons (in thousands)</td>\n",
       "    </tr>\n",
       "    <tr>\n",
       "      <th>2</th>\n",
       "      <td>2</td>\n",
       "      <td>TUU10100AA01000014</td>\n",
       "      <td>0</td>\n",
       "      <td>0</td>\n",
       "      <td>0</td>\n",
       "      <td>0</td>\n",
       "      <td>0</td>\n",
       "      <td>Number of persons - Employed, Single jobholders</td>\n",
       "      <td>0</td>\n",
       "      <td>0</td>\n",
       "      <td>...</td>\n",
       "      <td>Total, all activities</td>\n",
       "      <td>15 years and over</td>\n",
       "      <td>All persons</td>\n",
       "      <td>All education levels</td>\n",
       "      <td>Employed</td>\n",
       "      <td>NaN</td>\n",
       "      <td>All days</td>\n",
       "      <td>All races</td>\n",
       "      <td>Both sexes</td>\n",
       "      <td>Number of persons (in thousands)</td>\n",
       "    </tr>\n",
       "    <tr>\n",
       "      <th>3</th>\n",
       "      <td>3</td>\n",
       "      <td>TUU10100AA01000015</td>\n",
       "      <td>0</td>\n",
       "      <td>0</td>\n",
       "      <td>0</td>\n",
       "      <td>0</td>\n",
       "      <td>0</td>\n",
       "      <td>Number of persons - Employed, Wage and salary ...</td>\n",
       "      <td>0</td>\n",
       "      <td>0</td>\n",
       "      <td>...</td>\n",
       "      <td>Total, all activities</td>\n",
       "      <td>15 years and over</td>\n",
       "      <td>All persons</td>\n",
       "      <td>All education levels</td>\n",
       "      <td>Employed</td>\n",
       "      <td>NaN</td>\n",
       "      <td>All days</td>\n",
       "      <td>All races</td>\n",
       "      <td>Both sexes</td>\n",
       "      <td>Number of persons (in thousands)</td>\n",
       "    </tr>\n",
       "    <tr>\n",
       "      <th>4</th>\n",
       "      <td>4</td>\n",
       "      <td>TUU10100AA01000018</td>\n",
       "      <td>0</td>\n",
       "      <td>0</td>\n",
       "      <td>0</td>\n",
       "      <td>0</td>\n",
       "      <td>0</td>\n",
       "      <td>Number of persons - Employed, Self-employed wo...</td>\n",
       "      <td>0</td>\n",
       "      <td>0</td>\n",
       "      <td>...</td>\n",
       "      <td>Total, all activities</td>\n",
       "      <td>15 years and over</td>\n",
       "      <td>All persons</td>\n",
       "      <td>All education levels</td>\n",
       "      <td>Employed</td>\n",
       "      <td>NaN</td>\n",
       "      <td>All days</td>\n",
       "      <td>All races</td>\n",
       "      <td>Both sexes</td>\n",
       "      <td>Number of persons (in thousands)</td>\n",
       "    </tr>\n",
       "  </tbody>\n",
       "</table>\n",
       "<p>5 rows × 23 columns</p>\n",
       "</div>"
      ],
      "text/plain": [
       "  Unnamed: 0  series_id                      sex_code race_code educ_code  \\\n",
       "0          0  TUU10100AA01000007                    0         0         0   \n",
       "1          1  TUU10100AA01000013                    0         0         0   \n",
       "2          2  TUU10100AA01000014                    0         0         0   \n",
       "3          3  TUU10100AA01000015                    0         0         0   \n",
       "4          4  TUU10100AA01000018                    0         0         0   \n",
       "\n",
       "  age_code pertype_code                                       series_title  \\\n",
       "0        0            0                       Number of persons - Employed   \n",
       "1        0            0  Number of persons - Employed, Multiple jobholders   \n",
       "2        0            0    Number of persons - Employed, Single jobholders   \n",
       "3        0            0  Number of persons - Employed, Wage and salary ...   \n",
       "4        0            0  Number of persons - Employed, Self-employed wo...   \n",
       "\n",
       "  earn_code actcode_code  ...           actcode_text           age_text  \\\n",
       "0         0            0  ...  Total, all activities  15 years and over   \n",
       "1         0            0  ...  Total, all activities  15 years and over   \n",
       "2         0            0  ...  Total, all activities  15 years and over   \n",
       "3         0            0  ...  Total, all activities  15 years and over   \n",
       "4         0            0  ...  Total, all activities  15 years and over   \n",
       "\n",
       "     earn_text             educ_text lfstat_text orig_text pertype_text  \\\n",
       "0  All persons  All education levels    Employed       NaN     All days   \n",
       "1  All persons  All education levels    Employed       NaN     All days   \n",
       "2  All persons  All education levels    Employed       NaN     All days   \n",
       "3  All persons  All education levels    Employed       NaN     All days   \n",
       "4  All persons  All education levels    Employed       NaN     All days   \n",
       "\n",
       "   race_text    sex_text                     stattype_text  \n",
       "0  All races  Both sexes  Number of persons (in thousands)  \n",
       "1  All races  Both sexes  Number of persons (in thousands)  \n",
       "2  All races  Both sexes  Number of persons (in thousands)  \n",
       "3  All races  Both sexes  Number of persons (in thousands)  \n",
       "4  All races  Both sexes  Number of persons (in thousands)  \n",
       "\n",
       "[5 rows x 23 columns]"
      ]
     },
     "execution_count": 3,
     "metadata": {},
     "output_type": "execute_result"
    }
   ],
   "source": [
    "#if you want to check\n",
    "lexicon.head(5)"
   ]
  },
  {
   "cell_type": "markdown",
   "metadata": {},
   "source": [
    "# This section defines the widgets, currently there are a limited number of selections, but you can modify the code to match your needs. I indicate where to make the changes.\n",
    "\n",
    "Note: This section needs to be optimized to make it more user friendly and customizable. If you fix something, let me know!\n",
    "\n",
    "**If anything odd happens below you can re-initialize the widgets by running all the blocks from here down.**"
   ]
  },
  {
   "cell_type": "code",
   "execution_count": 4,
   "metadata": {
    "tags": [
     "Restart",
     "from",
     "HERE"
    ]
   },
   "outputs": [],
   "source": [
    "#define the function to pull all the unique values from the df column we want to search\n",
    "def unique_sorted_values_plus_ALL(array):\n",
    "    \"\"\"This function will pull all the unique values out of the code_text\n",
    "    column and put them into a list. This list will be used to populate the\n",
    "    dropdowns\"\"\"\n",
    "    unique = array.unique().tolist()\n",
    "    unique.sort()\n",
    "    return unique"
   ]
  },
  {
   "cell_type": "markdown",
   "metadata": {},
   "source": [
    "### This section defines all of the dropdowns. \n",
    "\n",
    "**You can modify them easily by replacing the * in the following with your column \n",
    "\n",
    "`unique_sorted_values_plus_ALL(lexicon.*_text)`\n",
    "\n",
    "**Also replace the * in \n",
    "\n",
    "`value = '*'`  - Set this to the default value for your column, it is the code_text that matches the 00 value in the code_code column.\n",
    "\n",
    "`description = '\\*'` - Call the button whatever you want!"
   ]
  },
  {
   "cell_type": "code",
   "execution_count": 5,
   "metadata": {},
   "outputs": [],
   "source": [
    "#make the dropdown to select units\n",
    "dropdown_stats = widgets.Dropdown(options = unique_sorted_values_plus_ALL(lexicon.stattype_text), value = 'Average hours per day', description = 'Stat Type:') #put in the name of whatever file you are using for your dictonary \n",
    "dropdown_gender = widgets.Dropdown(options = unique_sorted_values_plus_ALL(lexicon.sex_text), value = 'Both sexes', description = 'Gender:') #put in the name of whatever file you are using for your dictonary \n",
    "dropdown_eth = widgets.Dropdown(options = unique_sorted_values_plus_ALL(lexicon.race_text), value = 'All races', description = 'Ethnicity:')\n",
    "dropdown_edu = widgets.Dropdown(options = unique_sorted_values_plus_ALL(lexicon.educ_text), value = 'All education levels', description = 'Education: Only works with 25 or older in the Ages selector')\n",
    "dropdown_age = widgets.Dropdown(options = unique_sorted_values_plus_ALL(lexicon.age_text), value = '15 years and over', description = 'Ages:')\n",
    "dropdown_day = widgets.Dropdown(options = unique_sorted_values_plus_ALL(lexicon.pertype_text), value = 'All days', description = 'Days:')"
   ]
  },
  {
   "cell_type": "markdown",
   "metadata": {},
   "source": [
    "Because we want to use these in the API we need to either copy them or save them. This line makes a new list that will save your selected series and can later be used to output them to a csv file or to the clipboard."
   ]
  },
  {
   "cell_type": "code",
   "execution_count": 6,
   "metadata": {},
   "outputs": [],
   "source": [
    "#making a variable to save the list\n",
    "list_ser = pd.DataFrame()"
   ]
  },
  {
   "cell_type": "code",
   "execution_count": 7,
   "metadata": {},
   "outputs": [],
   "source": [
    "#create an output variable for the widget\n",
    "output = widgets.Output() #this will display the series names\n",
    "list_output = widgets.Output() #this creates a list of the series ids"
   ]
  },
  {
   "cell_type": "markdown",
   "metadata": {},
   "source": [
    "### This function sets up a common filter to combine all of your widget choices. \n",
    "\n",
    "**You can add aditional choices by adding them to the arguments section:\n",
    "\n",
    "`common_filtering(stats, gender, eth, edu, age, day, your_col):`\n",
    "\n",
    "**You will also need to add it to the end of the filter\n",
    "\n",
    "`common_filter = lexicon[(lexicon['stattype_text'] == stats) & (lexicon['sex_text'] == gender) & (lexicon['race_text']== eth) & (lexicon['educ_text']== edu) & (lexicon['age_text']== age) & (lexicon['pertype_text']== day) & (lexicon['*_text'])\n",
    "== your_col]`\n",
    "\n"
   ]
  },
  {
   "cell_type": "code",
   "execution_count": 8,
   "metadata": {},
   "outputs": [],
   "source": [
    "def common_filtering(stats, gender, eth, edu, age, day):\n",
    "    \"\"\"Function sets up the dataframe filtering using the dropdown widgets\n",
    "    outputs the series name to a display frame and the list of series ids\"\"\"\n",
    "    global list_ser\n",
    "    output.clear_output()\n",
    "    list_output.clear_output()\n",
    "    common_filter = lexicon[(lexicon['stattype_text'] == stats) & (lexicon['sex_text'] == gender) & (lexicon['race_text']== eth) & (lexicon['educ_text']== edu) & (lexicon['age_text']== age) & (lexicon['pertype_text']== day)]\n",
    "    with output:\n",
    "        display(common_filter.iloc[:,7]) \n",
    "    with list_output:\n",
    "        list_ser = common_filter.iloc[:,1]\n",
    "        list_ser = list_ser.tolist()\n",
    "        display(len(common_filter))"
   ]
  },
  {
   "cell_type": "markdown",
   "metadata": {},
   "source": [
    "### Creating the handlers for the dropdowns they can be changed this way\n",
    "\n",
    "The input of the common_filtering() function needs to be in the order they defined in the code above.\n",
    "\n",
    "`common_filtering(stats, gender, eth, edu, age, day, *your_col*):`\n",
    "\n",
    "Add a new function for `*your_col*` and replace the following with the value of the argument preceding your new variable. For example below you would enter `dropdown_day.value` before `change.new`. The `change.new` should be last, as your new column is the last argument for the function.\n",
    "\n",
    "`def dropdown_day_eventhandler(change):\n",
    "    common_filtering(dropdown_stats.value, dropdown_gender.value, dropdown_eth.value, dropdown_edu.value , dropdown_age.value, **enter the value of the argument before *your_col*, change.new)`\n",
    "\n"
   ]
  },
  {
   "cell_type": "code",
   "execution_count": 9,
   "metadata": {},
   "outputs": [],
   "source": [
    "#create the handler to get all the rows for the selected values\n",
    "def dropdown_stats_eventhandler(change):\n",
    "    common_filtering(change.new, dropdown_gender.value, dropdown_eth.value, dropdown_edu.value, dropdown_age.value, dropdown_day.value )\n",
    "def dropdown_gender_eventhandler(change):\n",
    "    common_filtering(dropdown_stats.value, change.new, dropdown_eth.value, dropdown_edu.value, dropdown_age.value, dropdown_day.value)\n",
    "def dropdown_eth_eventhandler(change):\n",
    "    common_filtering(dropdown_stats.value, dropdown_gender.value, change.new , dropdown_edu.value, dropdown_age.value, dropdown_day.value)\n",
    "def dropdown_edu_eventhandler(change):\n",
    "    common_filtering(dropdown_stats.value, dropdown_gender.value, dropdown_eth.value, change.new, dropdown_age.value, dropdown_day.value)\n",
    "def dropdown_age_eventhandler(change):\n",
    "    common_filtering(dropdown_stats.value, dropdown_gender.value, dropdown_eth.value, dropdown_edu.value, change.new, dropdown_day.value)\n",
    "def dropdown_day_eventhandler(change):\n",
    "    common_filtering(dropdown_stats.value, dropdown_gender.value, dropdown_eth.value, dropdown_edu.value , dropdown_age.value, change.new)"
   ]
  },
  {
   "cell_type": "markdown",
   "metadata": {},
   "source": [
    "## To make sure that the dropdown list \"hears\" your changes you need to bind them to the hander.\n",
    "\n",
    "To make changes add a new line and replace the * with the values for your_col\n",
    "\n",
    "`dropdown_*your_col*.observe(dropdown_*your_col*_eventhandler, names='value')`\n"
   ]
  },
  {
   "cell_type": "code",
   "execution_count": 10,
   "metadata": {},
   "outputs": [],
   "source": [
    "#bind the handler to the dropdown\n",
    "dropdown_stats.observe(dropdown_stats_eventhandler, names='value')\n",
    "dropdown_gender.observe(dropdown_gender_eventhandler, names='value')\n",
    "dropdown_eth.observe(dropdown_eth_eventhandler, names='value')\n",
    "dropdown_edu.observe(dropdown_edu_eventhandler, names='value')\n",
    "dropdown_age.observe(dropdown_age_eventhandler, names='value')\n",
    "dropdown_day.observe(dropdown_day_eventhandler, names='value')"
   ]
  },
  {
   "cell_type": "markdown",
   "metadata": {},
   "source": [
    "## Add a new line for your dropdown\n",
    "\n",
    "To make changes add a new line and replace the * with the values for your_col\n",
    "\n",
    "`display(dropdown_*your_col*)`\n",
    "\n",
    "A few warnings about the data. Some demographics are in one one set of series. For example \"Asian\" cannot be mixed with any other factors or no results will be found. However \"Black\" can be found with either \"All sexes\". \"Men\" or \"Women\". Educational traits can only be used with '25 years or older' in Age or no records will be found. I have set the defaults for each sections to the most general traits.\n",
    ">To see the results make sure you run the cell below the widgets."
   ]
  },
  {
   "cell_type": "code",
   "execution_count": 11,
   "metadata": {},
   "outputs": [
    {
     "data": {
      "application/vnd.jupyter.widget-view+json": {
       "model_id": "3a6939826c3848cc95865886c8cfa353",
       "version_major": 2,
       "version_minor": 0
      },
      "text/plain": [
       "Dropdown(description='Stat Type:', options=('Average hours per day', 'Average hours per day for participants i…"
      ]
     },
     "metadata": {},
     "output_type": "display_data"
    },
    {
     "data": {
      "application/vnd.jupyter.widget-view+json": {
       "model_id": "d02a04475ffb486db13a16c4e11b7e4e",
       "version_major": 2,
       "version_minor": 0
      },
      "text/plain": [
       "Dropdown(description='Gender:', options=('Both sexes', 'Men', 'Women'), value='Both sexes')"
      ]
     },
     "metadata": {},
     "output_type": "display_data"
    },
    {
     "data": {
      "application/vnd.jupyter.widget-view+json": {
       "model_id": "8abfa694b5144944959978d03de26a2c",
       "version_major": 2,
       "version_minor": 0
      },
      "text/plain": [
       "Dropdown(description='Ethnicity:', options=('All races', 'Asian', 'Black or African American', 'White'), value…"
      ]
     },
     "metadata": {},
     "output_type": "display_data"
    },
    {
     "data": {
      "application/vnd.jupyter.widget-view+json": {
       "model_id": "cadcfeb60e14493a9532449e92e7ce07",
       "version_major": 2,
       "version_minor": 0
      },
      "text/plain": [
       "Dropdown(description='Education: Only works with 25 or older in the Ages selector', index=1, options=('Advance…"
      ]
     },
     "metadata": {},
     "output_type": "display_data"
    },
    {
     "data": {
      "application/vnd.jupyter.widget-view+json": {
       "model_id": "e81cbe1c9ecc47e3a89133ef6db19d79",
       "version_major": 2,
       "version_minor": 0
      },
      "text/plain": [
       "Dropdown(description='Ages:', index=2, options=('15 to 19 years', '15 to 24 years', '15 years and over', '18 y…"
      ]
     },
     "metadata": {},
     "output_type": "display_data"
    },
    {
     "data": {
      "application/vnd.jupyter.widget-view+json": {
       "model_id": "cf34523553df45e2b26fe0bbda912221",
       "version_major": 2,
       "version_minor": 0
      },
      "text/plain": [
       "Dropdown(description='Days:', options=('All days', 'Nonholiday weekdays', 'Weekdays', 'Weekend days and holida…"
      ]
     },
     "metadata": {},
     "output_type": "display_data"
    }
   ],
   "source": [
    "#this window will display the outputs\n",
    "display(dropdown_stats)\n",
    "display(dropdown_gender)\n",
    "display(dropdown_eth)\n",
    "display(dropdown_edu)\n",
    "display(dropdown_age)\n",
    "display(dropdown_day)\n",
    "#make your selections!"
   ]
  },
  {
   "cell_type": "markdown",
   "metadata": {},
   "source": [
    "## The output below will display the results of your search. \n",
    "\n",
    "You should try to find a smallish number of series. API registration key holders are limited to 50 series per search. The BLS API notebook can quickly pull and merge as many series as you need so you can be more specific here. Once you a number you like, move to the next cell to save it to a csv file for the API."
   ]
  },
  {
   "cell_type": "code",
   "execution_count": 12,
   "metadata": {},
   "outputs": [
    {
     "name": "stdout",
     "output_type": "stream",
     "text": [
      "The number of series selected is:\n"
     ]
    },
    {
     "data": {
      "application/vnd.jupyter.widget-view+json": {
       "model_id": "2e2f2adffb494d8ca3d262f6164613d7",
       "version_major": 2,
       "version_minor": 0
      },
      "text/plain": [
       "Output()"
      ]
     },
     "metadata": {},
     "output_type": "display_data"
    },
    {
     "name": "stdout",
     "output_type": "stream",
     "text": [
      "If this number is lower then the API limit of 50 then move to the next cell to copy the list for use in the API.\n"
     ]
    },
    {
     "data": {
      "application/vnd.jupyter.widget-view+json": {
       "model_id": "23b3969142044d68a191e7897bb66efd",
       "version_major": 2,
       "version_minor": 0
      },
      "text/plain": [
       "Output()"
      ]
     },
     "metadata": {},
     "output_type": "display_data"
    }
   ],
   "source": [
    "print('The number of series selected is:')\n",
    "display(list_output)\n",
    "print('If this number is lower then the API limit of 50 then move to the next cell to copy the list for use in the API.')\n",
    "pd.set_option('display.max_colwidth', 1000)\n",
    "display(output)"
   ]
  },
  {
   "cell_type": "markdown",
   "metadata": {},
   "source": [
    "## If you have the API open, you can print the list below and simply copy and paste it into the json code. Otherwise use the new_or_append function to create a new csv or append this search to an existing csv file. "
   ]
  },
  {
   "cell_type": "code",
   "execution_count": 44,
   "metadata": {},
   "outputs": [
    {
     "name": "stdout",
     "output_type": "stream",
     "text": [
      "['TUU10101AA01005684            ', 'TUU10101AA01006341            ', 'TUU10101AA01008860            ', 'TUU10101AA01009412            ', 'TUU10101AA01010405            ', 'TUU10101AA01011205            ', 'TUU10101AA01012018            ', 'TUU10101AA01012366            ', 'TUU10101AA01012683            ', 'TUU10101AA01013268            ', 'TUU10101AA01013622            ', 'TUU10101AA01013988            ', 'TUU10101AA01014273            ', 'TUU10101AA01014547            ', 'TUU10101AA01015041            ', 'TUU10101AA01015617            ', 'TUU10101AA01015956            ', 'TUU10101AA01016313            ', 'TUU10101AA01016391            ']\n"
     ]
    }
   ],
   "source": [
    "#save your list or copy it to the clipboard\n",
    "#copy\n",
    "print(list_ser)"
   ]
  },
  {
   "cell_type": "markdown",
   "metadata": {},
   "source": [
    "## This function can make a new file if this is your first request or can append it to an existing file if you want to add to an existing file. Just remember the 50 limit. \n",
    "> Don't worry that the series IDs are now seperate from their descriptions. The BLS API notebook will put everything back together for you!\n",
    "\n",
    "**The choice argument takes only two strings `'new'` to make a new csv or `'append'` to append to an existing csv. By default the file is made or expected to exist in the /data directory.**\n"
   ]
  },
  {
   "cell_type": "code",
   "execution_count": 49,
   "metadata": {},
   "outputs": [],
   "source": [
    "filename = 'data/List_for_API.csv' #define the name of your file here\n",
    "\n",
    "def new_or_append(choice, filename = filename):\n",
    "    \"\"\"Function creates either a new csv file or appends the list to \n",
    "    an existing file. choice options are 'new' or 'append'. The filename is defined\n",
    "    in a variable or can be entered manually\"\"\"\n",
    "    if choice == 'new':\n",
    "        list_out = pd.DataFrame(list_ser)\n",
    "        list_out.to_csv(filename)\n",
    "    elif choice == 'append':\n",
    "        list_out = pd.DataFrame(list_ser)\n",
    "        list_out.to_csv(filename, mode = 'a', header = False)\n",
    "        test_append = pd.read_csv(filename, index_col=0).reset_index(drop=True)\n",
    "        test_append.to_csv(filename, mode = 'w', header = False)"
   ]
  },
  {
   "cell_type": "code",
   "execution_count": 50,
   "metadata": {},
   "outputs": [],
   "source": [
    "#Run the function\n",
    "new_or_append('new')"
   ]
  }
 ],
 "metadata": {
  "kernelspec": {
   "display_name": "Python 3",
   "language": "python",
   "name": "python3"
  },
  "language_info": {
   "codemirror_mode": {
    "name": "ipython",
    "version": 3
   },
   "file_extension": ".py",
   "mimetype": "text/x-python",
   "name": "python",
   "nbconvert_exporter": "python",
   "pygments_lexer": "ipython3",
   "version": "3.7.4"
  },
  "widgets": {
   "application/vnd.jupyter.widget-state+json": {
    "state": {
     "006f483700fb499c8eae409d48174f45": {
      "model_module": "@jupyter-widgets/output",
      "model_module_version": "1.0.0",
      "model_name": "OutputModel",
      "state": {
       "layout": "IPY_MODEL_cde41ecf68c240c4b988c66bd71d3047",
       "outputs": [
        {
         "data": {
          "text/html": "<div>\n<style scoped>\n    .dataframe tbody tr th:only-of-type {\n        vertical-align: middle;\n    }\n\n    .dataframe tbody tr th {\n        vertical-align: top;\n    }\n\n    .dataframe thead th {\n        text-align: right;\n    }\n</style>\n<table border=\"1\" class=\"dataframe\">\n  <thead>\n    <tr style=\"text-align: right;\">\n      <th></th>\n      <th>Unnamed: 0</th>\n      <th>series_id</th>\n      <th>sex_code</th>\n      <th>race_code</th>\n      <th>educ_code</th>\n      <th>age_code</th>\n      <th>pertype_code</th>\n      <th>series_title</th>\n      <th>earn_code</th>\n      <th>actcode_code</th>\n      <th>...</th>\n      <th>actcode_text</th>\n      <th>age_text</th>\n      <th>earn_text</th>\n      <th>educ_text</th>\n      <th>lfstat_text</th>\n      <th>orig_text</th>\n      <th>pertype_text</th>\n      <th>race_text</th>\n      <th>sex_text</th>\n      <th>stattype_text</th>\n    </tr>\n  </thead>\n  <tbody>\n    <tr>\n      <th>3478</th>\n      <td>3478</td>\n      <td>TUU10101AA01005685</td>\n      <td>0</td>\n      <td>4</td>\n      <td>0</td>\n      <td>0</td>\n      <td>0</td>\n      <td>Avg hrs per day - Relaxing and thinking, Asian</td>\n      <td>0</td>\n      <td>120301</td>\n      <td>...</td>\n      <td>Relaxing and thinking</td>\n      <td>15 years and over</td>\n      <td>All persons</td>\n      <td>All education levels</td>\n      <td>NaN</td>\n      <td>NaN</td>\n      <td>All days</td>\n      <td>Asian</td>\n      <td>Both sexes</td>\n      <td>Average hours per day</td>\n    </tr>\n    <tr>\n      <th>3703</th>\n      <td>3703</td>\n      <td>TUU10101AA01006342</td>\n      <td>0</td>\n      <td>4</td>\n      <td>0</td>\n      <td>0</td>\n      <td>0</td>\n      <td>Avg hrs per day - Reading for personal interes...</td>\n      <td>0</td>\n      <td>120312</td>\n      <td>...</td>\n      <td>Reading for personal interest</td>\n      <td>15 years and over</td>\n      <td>All persons</td>\n      <td>All education levels</td>\n      <td>NaN</td>\n      <td>NaN</td>\n      <td>All days</td>\n      <td>Asian</td>\n      <td>Both sexes</td>\n      <td>Average hours per day</td>\n    </tr>\n    <tr>\n      <th>7303</th>\n      <td>7303</td>\n      <td>TUU10101AA01013623</td>\n      <td>0</td>\n      <td>4</td>\n      <td>0</td>\n      <td>0</td>\n      <td>0</td>\n      <td>Avg hrs per day - Leisure and sports (includes...</td>\n      <td>0</td>\n      <td>600023</td>\n      <td>...</td>\n      <td>Leisure and sports (includes travel)</td>\n      <td>15 years and over</td>\n      <td>All persons</td>\n      <td>All education levels</td>\n      <td>NaN</td>\n      <td>NaN</td>\n      <td>All days</td>\n      <td>Asian</td>\n      <td>Both sexes</td>\n      <td>Average hours per day</td>\n    </tr>\n    <tr>\n      <th>7472</th>\n      <td>7472</td>\n      <td>TUU10101AA01013989</td>\n      <td>0</td>\n      <td>4</td>\n      <td>0</td>\n      <td>0</td>\n      <td>0</td>\n      <td>Avg hrs per day - Socializing and communicatin...</td>\n      <td>0</td>\n      <td>600024</td>\n      <td>...</td>\n      <td>Socializing and communicating</td>\n      <td>15 years and over</td>\n      <td>All persons</td>\n      <td>All education levels</td>\n      <td>NaN</td>\n      <td>NaN</td>\n      <td>All days</td>\n      <td>Asian</td>\n      <td>Both sexes</td>\n      <td>Average hours per day</td>\n    </tr>\n    <tr>\n      <th>7592</th>\n      <td>7592</td>\n      <td>TUU10101AA01014274</td>\n      <td>0</td>\n      <td>4</td>\n      <td>0</td>\n      <td>0</td>\n      <td>0</td>\n      <td>Avg hrs per day - Watching TV, Asian</td>\n      <td>0</td>\n      <td>600025</td>\n      <td>...</td>\n      <td>Watching TV</td>\n      <td>15 years and over</td>\n      <td>All persons</td>\n      <td>All education levels</td>\n      <td>NaN</td>\n      <td>NaN</td>\n      <td>All days</td>\n      <td>Asian</td>\n      <td>Both sexes</td>\n      <td>Average hours per day</td>\n    </tr>\n    <tr>\n      <th>7701</th>\n      <td>7701</td>\n      <td>TUU10101AA01014548</td>\n      <td>0</td>\n      <td>4</td>\n      <td>0</td>\n      <td>0</td>\n      <td>0</td>\n      <td>Avg hrs per day - Participating in sports, exe...</td>\n      <td>0</td>\n      <td>600027</td>\n      <td>...</td>\n      <td>Participating in sports, exercise, and recreat...</td>\n      <td>15 years and over</td>\n      <td>All persons</td>\n      <td>All education levels</td>\n      <td>NaN</td>\n      <td>NaN</td>\n      <td>All days</td>\n      <td>Asian</td>\n      <td>Both sexes</td>\n      <td>Average hours per day</td>\n    </tr>\n    <tr>\n      <th>8424</th>\n      <td>8424</td>\n      <td>TUU10101AA01016314</td>\n      <td>0</td>\n      <td>4</td>\n      <td>0</td>\n      <td>0</td>\n      <td>0</td>\n      <td>Avg hrs per day - Playing games and computer u...</td>\n      <td>0</td>\n      <td>600058</td>\n      <td>...</td>\n      <td>Playing games and computer use for leisure</td>\n      <td>15 years and over</td>\n      <td>All persons</td>\n      <td>All education levels</td>\n      <td>NaN</td>\n      <td>NaN</td>\n      <td>All days</td>\n      <td>Asian</td>\n      <td>Both sexes</td>\n      <td>Average hours per day</td>\n    </tr>\n    <tr>\n      <th>8448</th>\n      <td>8448</td>\n      <td>TUU10101AA01016392</td>\n      <td>0</td>\n      <td>4</td>\n      <td>0</td>\n      <td>0</td>\n      <td>0</td>\n      <td>Avg hrs per day - Other leisure and sports act...</td>\n      <td>0</td>\n      <td>600059</td>\n      <td>...</td>\n      <td>Other leisure and sports activities, including...</td>\n      <td>15 years and over</td>\n      <td>All persons</td>\n      <td>All education levels</td>\n      <td>NaN</td>\n      <td>NaN</td>\n      <td>All days</td>\n      <td>Asian</td>\n      <td>Both sexes</td>\n      <td>Average hours per day</td>\n    </tr>\n  </tbody>\n</table>\n<p>8 rows × 23 columns</p>\n</div>",
          "text/plain": "      Unnamed: 0  series_id                       sex_code  race_code  \\\n3478        3478  TUU10101AA01005685                     0          4   \n3703        3703  TUU10101AA01006342                     0          4   \n7303        7303  TUU10101AA01013623                     0          4   \n7472        7472  TUU10101AA01013989                     0          4   \n7592        7592  TUU10101AA01014274                     0          4   \n7701        7701  TUU10101AA01014548                     0          4   \n8424        8424  TUU10101AA01016314                     0          4   \n8448        8448  TUU10101AA01016392                     0          4   \n\n      educ_code  age_code  pertype_code  \\\n3478          0         0             0   \n3703          0         0             0   \n7303          0         0             0   \n7472          0         0             0   \n7592          0         0             0   \n7701          0         0             0   \n8424          0         0             0   \n8448          0         0             0   \n\n                                           series_title  earn_code  \\\n3478     Avg hrs per day - Relaxing and thinking, Asian          0   \n3703  Avg hrs per day - Reading for personal interes...          0   \n7303  Avg hrs per day - Leisure and sports (includes...          0   \n7472  Avg hrs per day - Socializing and communicatin...          0   \n7592               Avg hrs per day - Watching TV, Asian          0   \n7701  Avg hrs per day - Participating in sports, exe...          0   \n8424  Avg hrs per day - Playing games and computer u...          0   \n8448  Avg hrs per day - Other leisure and sports act...          0   \n\n      actcode_code  ...                                       actcode_text  \\\n3478        120301  ...                              Relaxing and thinking   \n3703        120312  ...                      Reading for personal interest   \n7303        600023  ...               Leisure and sports (includes travel)   \n7472        600024  ...                      Socializing and communicating   \n7592        600025  ...                                        Watching TV   \n7701        600027  ...  Participating in sports, exercise, and recreat...   \n8424        600058  ...         Playing games and computer use for leisure   \n8448        600059  ...  Other leisure and sports activities, including...   \n\n               age_text    earn_text             educ_text lfstat_text  \\\n3478  15 years and over  All persons  All education levels         NaN   \n3703  15 years and over  All persons  All education levels         NaN   \n7303  15 years and over  All persons  All education levels         NaN   \n7472  15 years and over  All persons  All education levels         NaN   \n7592  15 years and over  All persons  All education levels         NaN   \n7701  15 years and over  All persons  All education levels         NaN   \n8424  15 years and over  All persons  All education levels         NaN   \n8448  15 years and over  All persons  All education levels         NaN   \n\n     orig_text pertype_text race_text    sex_text          stattype_text  \n3478       NaN     All days     Asian  Both sexes  Average hours per day  \n3703       NaN     All days     Asian  Both sexes  Average hours per day  \n7303       NaN     All days     Asian  Both sexes  Average hours per day  \n7472       NaN     All days     Asian  Both sexes  Average hours per day  \n7592       NaN     All days     Asian  Both sexes  Average hours per day  \n7701       NaN     All days     Asian  Both sexes  Average hours per day  \n8424       NaN     All days     Asian  Both sexes  Average hours per day  \n8448       NaN     All days     Asian  Both sexes  Average hours per day  \n\n[8 rows x 23 columns]"
         },
         "metadata": {},
         "output_type": "display_data"
        }
       ]
      }
     },
     "020c4694632d4cd6990ac6173b6d8693": {
      "model_module": "@jupyter-widgets/base",
      "model_module_version": "1.2.0",
      "model_name": "LayoutModel",
      "state": {}
     },
     "023e292abc114add84dbe3145b4ac8aa": {
      "model_module": "@jupyter-widgets/output",
      "model_module_version": "1.0.0",
      "model_name": "OutputModel",
      "state": {
       "layout": "IPY_MODEL_2d8b578519884e45b59cbc6bc3773703",
       "outputs": [
        {
         "data": {
          "text/plain": "24470                                                                        Avg hrs per day - Relaxing and thinking, Bachelor's degree only, 25 yrs and over\n24530                                                                Avg hrs per day - Reading for personal interest, Bachelor's degree only, 25 yrs and over\n24968                                                   Avg hrs per day - Personal care activities (includes travel), Bachelor's degree only, 25 yrs and over\n24988                                                       Avg hrs per day - Household activities (includes travel), Bachelor's degree only, 25 yrs and over\n25026                                   Avg hrs per day - Caring for and helping household members (includes travel), Bachelor's degree only, 25 yrs and over\n25082                                Avg hrs per day - Caring for and helping nonhousehold members (includes travel), Bachelor's degree only, 25 yrs and over\n25138                                        Avg hrs per day - Working and work-related activities (includes travel), Bachelor's degree only, 25 yrs and over\n25158                                                     Avg hrs per day - Educational activities (includes travel), Bachelor's degree only, 25 yrs and over\n25178                                              Avg hrs per day - Purchasing goods and services (includes travel), Bachelor's degree only, 25 yrs and over\n25216                                                        Avg hrs per day - Eating and drinking (includes travel), Bachelor's degree only, 25 yrs and over\n25236                                                         Avg hrs per day - Leisure and sports (includes travel), Bachelor's degree only, 25 yrs and over\n25260                                                                Avg hrs per day - Socializing and communicating, Bachelor's degree only, 25 yrs and over\n25284                                                                                  Avg hrs per day - Watching TV, Bachelor's degree only, 25 yrs and over\n25302    Avg hrs per day - Participating in sports, exercise, and recreation (includes related waiting and security), Bachelor's degree only, 25 yrs and over\n25332                            Avg hrs per day - Organizational, civic, and religious activities (includes travel), Bachelor's degree only, 25 yrs and over\n25370                                          Avg hrs per day - Telephone calls, mail, and e-mail (includes travel), Bachelor's degree only, 25 yrs and over\n25390            Avg hrs per day - Other activities, not elsewhere classified (includes misc. travel and data codes), Bachelor's degree only, 25 yrs and over\n25404                                                   Avg hrs per day - Playing games and computer use for leisure, Bachelor's degree only, 25 yrs and over\n25410                                        Avg hrs per day - Other leisure and sports activities, including travel, Bachelor's degree only, 25 yrs and over\nName: series_title, dtype: object"
         },
         "metadata": {},
         "output_type": "display_data"
        }
       ]
      }
     },
     "03095ba0bad7480f91891fd403040846": {
      "model_module": "@jupyter-widgets/controls",
      "model_module_version": "1.5.0",
      "model_name": "DropdownModel",
      "state": {
       "_options_labels": [
        "ALL",
        "Average hours per day",
        "Average hours per day for participants in an activity",
        "Number of participants in an activity on an average day (in thousands)",
        "Number of persons (in thousands)",
        "Percent of population engaged in activity on an average day"
       ],
       "index": 1,
       "layout": "IPY_MODEL_d2e4dea1a7e048a28beda1d84b38efb1",
       "style": "IPY_MODEL_7bb312f7f1104bd694d8df5314a15ea8"
      }
     },
     "04c03d0ad836427a9381486db9f4cc0d": {
      "model_module": "@jupyter-widgets/output",
      "model_module_version": "1.0.0",
      "model_name": "OutputModel",
      "state": {
       "layout": "IPY_MODEL_4c3d7f39aa9743b38f618ee0cf62f592",
       "outputs": [
        {
         "data": {
          "text/html": "<div>\n<style scoped>\n    .dataframe tbody tr th:only-of-type {\n        vertical-align: middle;\n    }\n\n    .dataframe tbody tr th {\n        vertical-align: top;\n    }\n\n    .dataframe thead th {\n        text-align: right;\n    }\n</style>\n<table border=\"1\" class=\"dataframe\">\n  <thead>\n    <tr style=\"text-align: right;\">\n      <th></th>\n      <th>Unnamed: 0</th>\n      <th>series_id</th>\n      <th>sex_code</th>\n      <th>race_code</th>\n      <th>educ_code</th>\n      <th>age_code</th>\n      <th>pertype_code</th>\n      <th>series_title</th>\n      <th>earn_code</th>\n      <th>actcode_code</th>\n      <th>...</th>\n      <th>actcode_text</th>\n      <th>age_text</th>\n      <th>earn_text</th>\n      <th>educ_text</th>\n      <th>lfstat_text</th>\n      <th>orig_text</th>\n      <th>pertype_text</th>\n      <th>race_text</th>\n      <th>sex_text</th>\n      <th>stattype_text</th>\n    </tr>\n  </thead>\n  <tbody>\n    <tr>\n      <th>3478</th>\n      <td>3478</td>\n      <td>TUU10101AA01005685</td>\n      <td>0</td>\n      <td>4</td>\n      <td>0</td>\n      <td>0</td>\n      <td>0</td>\n      <td>Avg hrs per day - Relaxing and thinking, Asian</td>\n      <td>0</td>\n      <td>120301</td>\n      <td>...</td>\n      <td>Relaxing and thinking</td>\n      <td>15 years and over</td>\n      <td>All persons</td>\n      <td>All education levels</td>\n      <td>NaN</td>\n      <td>NaN</td>\n      <td>All days</td>\n      <td>Asian</td>\n      <td>Both sexes</td>\n      <td>Average hours per day</td>\n    </tr>\n    <tr>\n      <th>3703</th>\n      <td>3703</td>\n      <td>TUU10101AA01006342</td>\n      <td>0</td>\n      <td>4</td>\n      <td>0</td>\n      <td>0</td>\n      <td>0</td>\n      <td>Avg hrs per day - Reading for personal interes...</td>\n      <td>0</td>\n      <td>120312</td>\n      <td>...</td>\n      <td>Reading for personal interest</td>\n      <td>15 years and over</td>\n      <td>All persons</td>\n      <td>All education levels</td>\n      <td>NaN</td>\n      <td>NaN</td>\n      <td>All days</td>\n      <td>Asian</td>\n      <td>Both sexes</td>\n      <td>Average hours per day</td>\n    </tr>\n    <tr>\n      <th>7303</th>\n      <td>7303</td>\n      <td>TUU10101AA01013623</td>\n      <td>0</td>\n      <td>4</td>\n      <td>0</td>\n      <td>0</td>\n      <td>0</td>\n      <td>Avg hrs per day - Leisure and sports (includes...</td>\n      <td>0</td>\n      <td>600023</td>\n      <td>...</td>\n      <td>Leisure and sports (includes travel)</td>\n      <td>15 years and over</td>\n      <td>All persons</td>\n      <td>All education levels</td>\n      <td>NaN</td>\n      <td>NaN</td>\n      <td>All days</td>\n      <td>Asian</td>\n      <td>Both sexes</td>\n      <td>Average hours per day</td>\n    </tr>\n    <tr>\n      <th>7472</th>\n      <td>7472</td>\n      <td>TUU10101AA01013989</td>\n      <td>0</td>\n      <td>4</td>\n      <td>0</td>\n      <td>0</td>\n      <td>0</td>\n      <td>Avg hrs per day - Socializing and communicatin...</td>\n      <td>0</td>\n      <td>600024</td>\n      <td>...</td>\n      <td>Socializing and communicating</td>\n      <td>15 years and over</td>\n      <td>All persons</td>\n      <td>All education levels</td>\n      <td>NaN</td>\n      <td>NaN</td>\n      <td>All days</td>\n      <td>Asian</td>\n      <td>Both sexes</td>\n      <td>Average hours per day</td>\n    </tr>\n    <tr>\n      <th>7592</th>\n      <td>7592</td>\n      <td>TUU10101AA01014274</td>\n      <td>0</td>\n      <td>4</td>\n      <td>0</td>\n      <td>0</td>\n      <td>0</td>\n      <td>Avg hrs per day - Watching TV, Asian</td>\n      <td>0</td>\n      <td>600025</td>\n      <td>...</td>\n      <td>Watching TV</td>\n      <td>15 years and over</td>\n      <td>All persons</td>\n      <td>All education levels</td>\n      <td>NaN</td>\n      <td>NaN</td>\n      <td>All days</td>\n      <td>Asian</td>\n      <td>Both sexes</td>\n      <td>Average hours per day</td>\n    </tr>\n    <tr>\n      <th>7701</th>\n      <td>7701</td>\n      <td>TUU10101AA01014548</td>\n      <td>0</td>\n      <td>4</td>\n      <td>0</td>\n      <td>0</td>\n      <td>0</td>\n      <td>Avg hrs per day - Participating in sports, exe...</td>\n      <td>0</td>\n      <td>600027</td>\n      <td>...</td>\n      <td>Participating in sports, exercise, and recreat...</td>\n      <td>15 years and over</td>\n      <td>All persons</td>\n      <td>All education levels</td>\n      <td>NaN</td>\n      <td>NaN</td>\n      <td>All days</td>\n      <td>Asian</td>\n      <td>Both sexes</td>\n      <td>Average hours per day</td>\n    </tr>\n    <tr>\n      <th>8424</th>\n      <td>8424</td>\n      <td>TUU10101AA01016314</td>\n      <td>0</td>\n      <td>4</td>\n      <td>0</td>\n      <td>0</td>\n      <td>0</td>\n      <td>Avg hrs per day - Playing games and computer u...</td>\n      <td>0</td>\n      <td>600058</td>\n      <td>...</td>\n      <td>Playing games and computer use for leisure</td>\n      <td>15 years and over</td>\n      <td>All persons</td>\n      <td>All education levels</td>\n      <td>NaN</td>\n      <td>NaN</td>\n      <td>All days</td>\n      <td>Asian</td>\n      <td>Both sexes</td>\n      <td>Average hours per day</td>\n    </tr>\n    <tr>\n      <th>8448</th>\n      <td>8448</td>\n      <td>TUU10101AA01016392</td>\n      <td>0</td>\n      <td>4</td>\n      <td>0</td>\n      <td>0</td>\n      <td>0</td>\n      <td>Avg hrs per day - Other leisure and sports act...</td>\n      <td>0</td>\n      <td>600059</td>\n      <td>...</td>\n      <td>Other leisure and sports activities, including...</td>\n      <td>15 years and over</td>\n      <td>All persons</td>\n      <td>All education levels</td>\n      <td>NaN</td>\n      <td>NaN</td>\n      <td>All days</td>\n      <td>Asian</td>\n      <td>Both sexes</td>\n      <td>Average hours per day</td>\n    </tr>\n  </tbody>\n</table>\n<p>8 rows × 23 columns</p>\n</div>",
          "text/plain": "      Unnamed: 0  series_id                       sex_code  race_code  \\\n3478        3478  TUU10101AA01005685                     0          4   \n3703        3703  TUU10101AA01006342                     0          4   \n7303        7303  TUU10101AA01013623                     0          4   \n7472        7472  TUU10101AA01013989                     0          4   \n7592        7592  TUU10101AA01014274                     0          4   \n7701        7701  TUU10101AA01014548                     0          4   \n8424        8424  TUU10101AA01016314                     0          4   \n8448        8448  TUU10101AA01016392                     0          4   \n\n      educ_code  age_code  pertype_code  \\\n3478          0         0             0   \n3703          0         0             0   \n7303          0         0             0   \n7472          0         0             0   \n7592          0         0             0   \n7701          0         0             0   \n8424          0         0             0   \n8448          0         0             0   \n\n                                           series_title  earn_code  \\\n3478     Avg hrs per day - Relaxing and thinking, Asian          0   \n3703  Avg hrs per day - Reading for personal interes...          0   \n7303  Avg hrs per day - Leisure and sports (includes...          0   \n7472  Avg hrs per day - Socializing and communicatin...          0   \n7592               Avg hrs per day - Watching TV, Asian          0   \n7701  Avg hrs per day - Participating in sports, exe...          0   \n8424  Avg hrs per day - Playing games and computer u...          0   \n8448  Avg hrs per day - Other leisure and sports act...          0   \n\n      actcode_code  ...                                       actcode_text  \\\n3478        120301  ...                              Relaxing and thinking   \n3703        120312  ...                      Reading for personal interest   \n7303        600023  ...               Leisure and sports (includes travel)   \n7472        600024  ...                      Socializing and communicating   \n7592        600025  ...                                        Watching TV   \n7701        600027  ...  Participating in sports, exercise, and recreat...   \n8424        600058  ...         Playing games and computer use for leisure   \n8448        600059  ...  Other leisure and sports activities, including...   \n\n               age_text    earn_text             educ_text lfstat_text  \\\n3478  15 years and over  All persons  All education levels         NaN   \n3703  15 years and over  All persons  All education levels         NaN   \n7303  15 years and over  All persons  All education levels         NaN   \n7472  15 years and over  All persons  All education levels         NaN   \n7592  15 years and over  All persons  All education levels         NaN   \n7701  15 years and over  All persons  All education levels         NaN   \n8424  15 years and over  All persons  All education levels         NaN   \n8448  15 years and over  All persons  All education levels         NaN   \n\n     orig_text pertype_text race_text    sex_text          stattype_text  \n3478       NaN     All days     Asian  Both sexes  Average hours per day  \n3703       NaN     All days     Asian  Both sexes  Average hours per day  \n7303       NaN     All days     Asian  Both sexes  Average hours per day  \n7472       NaN     All days     Asian  Both sexes  Average hours per day  \n7592       NaN     All days     Asian  Both sexes  Average hours per day  \n7701       NaN     All days     Asian  Both sexes  Average hours per day  \n8424       NaN     All days     Asian  Both sexes  Average hours per day  \n8448       NaN     All days     Asian  Both sexes  Average hours per day  \n\n[8 rows x 23 columns]"
         },
         "metadata": {},
         "output_type": "display_data"
        }
       ]
      }
     },
     "04cda75ad27046eab5ff50624f28e516": {
      "model_module": "@jupyter-widgets/base",
      "model_module_version": "1.2.0",
      "model_name": "LayoutModel",
      "state": {}
     },
     "0531959a0f7a46ac9f7231cdf4d0717b": {
      "model_module": "@jupyter-widgets/base",
      "model_module_version": "1.2.0",
      "model_name": "LayoutModel",
      "state": {}
     },
     "055538a7946b4a5ab78f779df0cb575e": {
      "model_module": "@jupyter-widgets/controls",
      "model_module_version": "1.5.0",
      "model_name": "DropdownModel",
      "state": {
       "_options_labels": [
        "All days",
        "Nonholiday weekdays",
        "Weekdays",
        "Weekend days and holidays"
       ],
       "description": "Days:",
       "index": 0,
       "layout": "IPY_MODEL_537078309c77449b958525c5830f2ada",
       "style": "IPY_MODEL_cb48e52115b9416fa7d77fbc3a381307"
      }
     },
     "058ba74b73444938863fdd984427c6dc": {
      "model_module": "@jupyter-widgets/base",
      "model_module_version": "1.2.0",
      "model_name": "LayoutModel",
      "state": {}
     },
     "063cf112564741f98e3387fffee35ff1": {
      "model_module": "@jupyter-widgets/controls",
      "model_module_version": "1.5.0",
      "model_name": "DescriptionStyleModel",
      "state": {
       "description_width": ""
      }
     },
     "097df6fdb0784e919fa1a91283abb45c": {
      "model_module": "@jupyter-widgets/output",
      "model_module_version": "1.0.0",
      "model_name": "OutputModel",
      "state": {
       "layout": "IPY_MODEL_bea757ab8d614118b3743addd1212a87",
       "outputs": [
        {
         "data": {
          "text/html": "<div>\n<style scoped>\n    .dataframe tbody tr th:only-of-type {\n        vertical-align: middle;\n    }\n\n    .dataframe tbody tr th {\n        vertical-align: top;\n    }\n\n    .dataframe thead th {\n        text-align: right;\n    }\n</style>\n<table border=\"1\" class=\"dataframe\">\n  <thead>\n    <tr style=\"text-align: right;\">\n      <th></th>\n      <th>Unnamed: 0</th>\n      <th>series_id</th>\n      <th>sex_code</th>\n      <th>race_code</th>\n      <th>educ_code</th>\n      <th>age_code</th>\n      <th>pertype_code</th>\n      <th>series_title</th>\n      <th>earn_code</th>\n      <th>actcode_code</th>\n      <th>...</th>\n      <th>actcode_text</th>\n      <th>age_text</th>\n      <th>earn_text</th>\n      <th>educ_text</th>\n      <th>lfstat_text</th>\n      <th>orig_text</th>\n      <th>pertype_text</th>\n      <th>race_text</th>\n      <th>sex_text</th>\n      <th>stattype_text</th>\n    </tr>\n  </thead>\n  <tbody>\n  </tbody>\n</table>\n<p>0 rows × 23 columns</p>\n</div>",
          "text/plain": "Empty DataFrame\nColumns: [Unnamed: 0, series_id                     , sex_code, race_code, educ_code, age_code, pertype_code, series_title, earn_code, actcode_code, lfstat_code, orig_code, stattype_code, actcode_text, age_text, earn_text, educ_text, lfstat_text, orig_text, pertype_text, race_text, sex_text, stattype_text]\nIndex: []\n\n[0 rows x 23 columns]"
         },
         "metadata": {},
         "output_type": "display_data"
        }
       ]
      }
     },
     "0993ca1ae0ec4c0a911e5a77a79ae560": {
      "model_module": "@jupyter-widgets/base",
      "model_module_version": "1.2.0",
      "model_name": "LayoutModel",
      "state": {}
     },
     "0bf5874abcee49918d7b5ff7520dadf0": {
      "model_module": "@jupyter-widgets/base",
      "model_module_version": "1.2.0",
      "model_name": "LayoutModel",
      "state": {}
     },
     "0c56a9615fc14d54ae49202e515d8153": {
      "model_module": "@jupyter-widgets/base",
      "model_module_version": "1.2.0",
      "model_name": "LayoutModel",
      "state": {}
     },
     "0cd3c2e9252b4172a6efed5b29b8cb7e": {
      "model_module": "@jupyter-widgets/controls",
      "model_module_version": "1.5.0",
      "model_name": "DescriptionStyleModel",
      "state": {
       "description_width": ""
      }
     },
     "0cd47908b98c4d819ee3aef9c09b2250": {
      "model_module": "@jupyter-widgets/base",
      "model_module_version": "1.2.0",
      "model_name": "LayoutModel",
      "state": {}
     },
     "0d3f60852f384e96922965d7eb953765": {
      "model_module": "@jupyter-widgets/controls",
      "model_module_version": "1.5.0",
      "model_name": "DescriptionStyleModel",
      "state": {
       "description_width": ""
      }
     },
     "0e4636b43719447b95aa8bfd3770f77b": {
      "model_module": "@jupyter-widgets/controls",
      "model_module_version": "1.5.0",
      "model_name": "DescriptionStyleModel",
      "state": {
       "description_width": ""
      }
     },
     "0ef26dbc4ee841c9b59219eeea4cb4b4": {
      "model_module": "@jupyter-widgets/controls",
      "model_module_version": "1.5.0",
      "model_name": "DropdownModel",
      "state": {
       "_options_labels": [
        "ALL",
        "Both sexes",
        "Men",
        "Women"
       ],
       "description": "Gender:",
       "index": 1,
       "layout": "IPY_MODEL_96ece6604c71488c8e327c1a84ddbb6b",
       "style": "IPY_MODEL_48e151224f5f4e7a878c3e50166e04cb"
      }
     },
     "1048b3cc80304f098ea9878346b9d1f4": {
      "model_module": "@jupyter-widgets/controls",
      "model_module_version": "1.5.0",
      "model_name": "DropdownModel",
      "state": {
       "_options_labels": [
        "ALL",
        "All races",
        "Asian",
        "Black or African American",
        "White"
       ],
       "description": "Ethnicity:",
       "index": 3,
       "layout": "IPY_MODEL_529ccbe5ecf3407b9ad0dee3a596b899",
       "style": "IPY_MODEL_9759170237d340f59dba25771ed05932"
      }
     },
     "107ec545f0834622a22fc08d4915cccb": {
      "model_module": "@jupyter-widgets/base",
      "model_module_version": "1.2.0",
      "model_name": "LayoutModel",
      "state": {}
     },
     "10a6fbb0b2264a5aa63eafc194f436a7": {
      "model_module": "@jupyter-widgets/controls",
      "model_module_version": "1.5.0",
      "model_name": "DescriptionStyleModel",
      "state": {
       "description_width": ""
      }
     },
     "125a45372c524891bf63bedf63b63f86": {
      "model_module": "@jupyter-widgets/base",
      "model_module_version": "1.2.0",
      "model_name": "LayoutModel",
      "state": {}
     },
     "134196e2f3c943fbb59babf5d2656b89": {
      "model_module": "@jupyter-widgets/base",
      "model_module_version": "1.2.0",
      "model_name": "LayoutModel",
      "state": {}
     },
     "13bdc683ee7d4675ac36ad685093281c": {
      "model_module": "@jupyter-widgets/output",
      "model_module_version": "1.0.0",
      "model_name": "OutputModel",
      "state": {
       "layout": "IPY_MODEL_cb0386bff92b43b7b2dd3d48f1ed7e4c"
      }
     },
     "152700c40aa747998fa81a456d1d4090": {
      "model_module": "@jupyter-widgets/controls",
      "model_module_version": "1.5.0",
      "model_name": "DropdownModel",
      "state": {
       "_options_labels": [
        "ALL",
        "Average hours per day",
        "Average hours per day for participants in an activity",
        "Number of participants in an activity on an average day (in thousands)",
        "Number of persons (in thousands)",
        "Percent of population engaged in activity on an average day"
       ],
       "index": 2,
       "layout": "IPY_MODEL_d035d27ac3114cd4bb2afa763ae9442b",
       "style": "IPY_MODEL_7414825e33874ed99656f719686c5031"
      }
     },
     "15973586680644949112493d3beab00b": {
      "model_module": "@jupyter-widgets/output",
      "model_module_version": "1.0.0",
      "model_name": "OutputModel",
      "state": {
       "layout": "IPY_MODEL_27e1613a6924428d943f9acc70e097d6",
       "outputs": [
        {
         "data": {
          "text/plain": "8"
         },
         "metadata": {},
         "output_type": "display_data"
        },
        {
         "name": "stdout",
         "output_type": "stream",
         "text": "3478    TUU10101AA01005685            \n3703    TUU10101AA01006342            \n7303    TUU10101AA01013623            \n7472    TUU10101AA01013989            \n7592    TUU10101AA01014274            \n7701    TUU10101AA01014548            \n8424    TUU10101AA01016314            \n8448    TUU10101AA01016392            \nName: series_id                     , dtype: object\n"
        }
       ]
      }
     },
     "159b743817364d668488eedd6b1423bb": {
      "model_module": "@jupyter-widgets/base",
      "model_module_version": "1.2.0",
      "model_name": "LayoutModel",
      "state": {}
     },
     "1657dc77418145b19016e8485de45faa": {
      "model_module": "@jupyter-widgets/controls",
      "model_module_version": "1.5.0",
      "model_name": "DescriptionStyleModel",
      "state": {
       "description_width": ""
      }
     },
     "16fb4573448f4e02b6dc8d07be03fe52": {
      "model_module": "@jupyter-widgets/controls",
      "model_module_version": "1.5.0",
      "model_name": "DescriptionStyleModel",
      "state": {
       "description_width": ""
      }
     },
     "1735ff0e2deb4effb6d11b40abc5f5e5": {
      "model_module": "@jupyter-widgets/base",
      "model_module_version": "1.2.0",
      "model_name": "LayoutModel",
      "state": {}
     },
     "179f5abd5da14a669ac120f4029cd4a4": {
      "model_module": "@jupyter-widgets/controls",
      "model_module_version": "1.5.0",
      "model_name": "DescriptionStyleModel",
      "state": {
       "description_width": ""
      }
     },
     "17ad0f7809744d2ab19cc30d1a981bd1": {
      "model_module": "@jupyter-widgets/base",
      "model_module_version": "1.2.0",
      "model_name": "LayoutModel",
      "state": {}
     },
     "194781b3f9e64f98950a8396889469b3": {
      "model_module": "@jupyter-widgets/base",
      "model_module_version": "1.2.0",
      "model_name": "LayoutModel",
      "state": {}
     },
     "1b7b75fc4c254898a3ee96a7a0b8fae2": {
      "model_module": "@jupyter-widgets/base",
      "model_module_version": "1.2.0",
      "model_name": "LayoutModel",
      "state": {}
     },
     "1be1dcb8e6024210b01d0a08f6468a2d": {
      "model_module": "@jupyter-widgets/controls",
      "model_module_version": "1.5.0",
      "model_name": "DropdownModel",
      "state": {
       "_options_labels": [
        "ALL",
        "Average hours per day",
        "Average hours per day for participants in an activity",
        "Number of participants in an activity on an average day (in thousands)",
        "Number of persons (in thousands)",
        "Percent of population engaged in activity on an average day"
       ],
       "index": 3,
       "layout": "IPY_MODEL_6c3a94d331f84c88a24ea6e98de1e059",
       "style": "IPY_MODEL_0cd3c2e9252b4172a6efed5b29b8cb7e"
      }
     },
     "1d122ee013934b9f85ba7196153e5728": {
      "model_module": "@jupyter-widgets/controls",
      "model_module_version": "1.5.0",
      "model_name": "DropdownModel",
      "state": {
       "_options_labels": [
        "Advanced degree",
        "All education levels",
        "Bachelor's degree and higher",
        "Bachelor's degree only",
        "High school graduates, no college",
        "Less than a high school diploma",
        "Some college or associate degree"
       ],
       "description": "Education: Only works with 25 or older in the Ages selector",
       "index": 3,
       "layout": "IPY_MODEL_3e815f26ffa24a64ac6899c6a2d7a54f",
       "style": "IPY_MODEL_a34aeff708c2429fa8bc2f6deee190e7"
      }
     },
     "1d323cd5b01d45f5a6a22a3828fe941f": {
      "model_module": "@jupyter-widgets/base",
      "model_module_version": "1.2.0",
      "model_name": "LayoutModel",
      "state": {}
     },
     "1dd6c78ccaf84edaa6469b1c947a7808": {
      "model_module": "@jupyter-widgets/base",
      "model_module_version": "1.2.0",
      "model_name": "LayoutModel",
      "state": {}
     },
     "2018c60a325849e3bb0e007f8ab77962": {
      "model_module": "@jupyter-widgets/controls",
      "model_module_version": "1.5.0",
      "model_name": "DescriptionStyleModel",
      "state": {
       "description_width": ""
      }
     },
     "20930c4eb4d643c398e0dd9ba8244c14": {
      "model_module": "@jupyter-widgets/base",
      "model_module_version": "1.2.0",
      "model_name": "LayoutModel",
      "state": {}
     },
     "211ec9e646c6422ab297cf5b5d84c752": {
      "model_module": "@jupyter-widgets/output",
      "model_module_version": "1.0.0",
      "model_name": "OutputModel",
      "state": {
       "layout": "IPY_MODEL_8722bcadfb3942fa87d11ded08c49631",
       "outputs": [
        {
         "data": {
          "text/html": "<div>\n<style scoped>\n    .dataframe tbody tr th:only-of-type {\n        vertical-align: middle;\n    }\n\n    .dataframe tbody tr th {\n        vertical-align: top;\n    }\n\n    .dataframe thead th {\n        text-align: right;\n    }\n</style>\n<table border=\"1\" class=\"dataframe\">\n  <thead>\n    <tr style=\"text-align: right;\">\n      <th></th>\n      <th>Unnamed: 0</th>\n      <th>series_id</th>\n      <th>sex_code</th>\n      <th>race_code</th>\n      <th>educ_code</th>\n      <th>age_code</th>\n      <th>pertype_code</th>\n      <th>series_title</th>\n      <th>earn_code</th>\n      <th>actcode_code</th>\n      <th>...</th>\n      <th>actcode_text</th>\n      <th>age_text</th>\n      <th>earn_text</th>\n      <th>educ_text</th>\n      <th>lfstat_text</th>\n      <th>orig_text</th>\n      <th>pertype_text</th>\n      <th>race_text</th>\n      <th>sex_text</th>\n      <th>stattype_text</th>\n    </tr>\n  </thead>\n  <tbody>\n    <tr>\n      <th>3477</th>\n      <td>3477</td>\n      <td>TUU10101AA01005684</td>\n      <td>0</td>\n      <td>3</td>\n      <td>0</td>\n      <td>0</td>\n      <td>0</td>\n      <td>Avg hrs per day - Relaxing and thinking, Black...</td>\n      <td>0</td>\n      <td>120301</td>\n      <td>...</td>\n      <td>Relaxing and thinking</td>\n      <td>15 years and over</td>\n      <td>All persons</td>\n      <td>All education levels</td>\n      <td>NaN</td>\n      <td>NaN</td>\n      <td>All days</td>\n      <td>Black or African American</td>\n      <td>Both sexes</td>\n      <td>Average hours per day</td>\n    </tr>\n    <tr>\n      <th>3702</th>\n      <td>3702</td>\n      <td>TUU10101AA01006341</td>\n      <td>0</td>\n      <td>3</td>\n      <td>0</td>\n      <td>0</td>\n      <td>0</td>\n      <td>Avg hrs per day - Reading for personal interes...</td>\n      <td>0</td>\n      <td>120312</td>\n      <td>...</td>\n      <td>Reading for personal interest</td>\n      <td>15 years and over</td>\n      <td>All persons</td>\n      <td>All education levels</td>\n      <td>NaN</td>\n      <td>NaN</td>\n      <td>All days</td>\n      <td>Black or African American</td>\n      <td>Both sexes</td>\n      <td>Average hours per day</td>\n    </tr>\n    <tr>\n      <th>5381</th>\n      <td>5381</td>\n      <td>TUU10101AA01008860</td>\n      <td>0</td>\n      <td>3</td>\n      <td>0</td>\n      <td>0</td>\n      <td>0</td>\n      <td>Avg hrs per day - Personal care activities (in...</td>\n      <td>0</td>\n      <td>600001</td>\n      <td>...</td>\n      <td>Personal care activities (includes travel)</td>\n      <td>15 years and over</td>\n      <td>All persons</td>\n      <td>All education levels</td>\n      <td>NaN</td>\n      <td>NaN</td>\n      <td>All days</td>\n      <td>Black or African American</td>\n      <td>Both sexes</td>\n      <td>Average hours per day</td>\n    </tr>\n    <tr>\n      <th>5544</th>\n      <td>5544</td>\n      <td>TUU10101AA01009412</td>\n      <td>0</td>\n      <td>3</td>\n      <td>0</td>\n      <td>0</td>\n      <td>0</td>\n      <td>Avg hrs per day - Household activities (includ...</td>\n      <td>0</td>\n      <td>600003</td>\n      <td>...</td>\n      <td>Household activities (includes travel)</td>\n      <td>15 years and over</td>\n      <td>All persons</td>\n      <td>All education levels</td>\n      <td>NaN</td>\n      <td>NaN</td>\n      <td>All days</td>\n      <td>Black or African American</td>\n      <td>Both sexes</td>\n      <td>Average hours per day</td>\n    </tr>\n    <tr>\n      <th>5809</th>\n      <td>5809</td>\n      <td>TUU10101AA01010405</td>\n      <td>0</td>\n      <td>3</td>\n      <td>0</td>\n      <td>0</td>\n      <td>0</td>\n      <td>Avg hrs per day - Caring for and helping house...</td>\n      <td>0</td>\n      <td>600007</td>\n      <td>...</td>\n      <td>Caring for and helping household members (incl...</td>\n      <td>15 years and over</td>\n      <td>All persons</td>\n      <td>All education levels</td>\n      <td>NaN</td>\n      <td>NaN</td>\n      <td>All days</td>\n      <td>Black or African American</td>\n      <td>Both sexes</td>\n      <td>Average hours per day</td>\n    </tr>\n    <tr>\n      <th>6176</th>\n      <td>6176</td>\n      <td>TUU10101AA01011205</td>\n      <td>0</td>\n      <td>3</td>\n      <td>0</td>\n      <td>0</td>\n      <td>0</td>\n      <td>Avg hrs per day - Caring for and helping nonho...</td>\n      <td>0</td>\n      <td>600010</td>\n      <td>...</td>\n      <td>Caring for and helping nonhousehold members (i...</td>\n      <td>15 years and over</td>\n      <td>All persons</td>\n      <td>All education levels</td>\n      <td>NaN</td>\n      <td>NaN</td>\n      <td>All days</td>\n      <td>Black or African American</td>\n      <td>Both sexes</td>\n      <td>Average hours per day</td>\n    </tr>\n    <tr>\n      <th>6543</th>\n      <td>6543</td>\n      <td>TUU10101AA01012018</td>\n      <td>0</td>\n      <td>3</td>\n      <td>0</td>\n      <td>0</td>\n      <td>0</td>\n      <td>Avg hrs per day - Working and work-related act...</td>\n      <td>0</td>\n      <td>600013</td>\n      <td>...</td>\n      <td>Working and work-related activities (includes ...</td>\n      <td>15 years and over</td>\n      <td>All persons</td>\n      <td>All education levels</td>\n      <td>NaN</td>\n      <td>NaN</td>\n      <td>All days</td>\n      <td>Black or African American</td>\n      <td>Both sexes</td>\n      <td>Average hours per day</td>\n    </tr>\n    <tr>\n      <th>6706</th>\n      <td>6706</td>\n      <td>TUU10101AA01012366</td>\n      <td>0</td>\n      <td>3</td>\n      <td>0</td>\n      <td>0</td>\n      <td>0</td>\n      <td>Avg hrs per day - Educational activities (incl...</td>\n      <td>0</td>\n      <td>600016</td>\n      <td>...</td>\n      <td>Educational activities (includes travel)</td>\n      <td>15 years and over</td>\n      <td>All persons</td>\n      <td>All education levels</td>\n      <td>NaN</td>\n      <td>NaN</td>\n      <td>All days</td>\n      <td>Black or African American</td>\n      <td>Both sexes</td>\n      <td>Average hours per day</td>\n    </tr>\n    <tr>\n      <th>6869</th>\n      <td>6869</td>\n      <td>TUU10101AA01012683</td>\n      <td>0</td>\n      <td>3</td>\n      <td>0</td>\n      <td>0</td>\n      <td>0</td>\n      <td>Avg hrs per day - Purchasing goods and service...</td>\n      <td>0</td>\n      <td>600018</td>\n      <td>...</td>\n      <td>Purchasing goods and services (includes travel)</td>\n      <td>15 years and over</td>\n      <td>All persons</td>\n      <td>All education levels</td>\n      <td>NaN</td>\n      <td>NaN</td>\n      <td>All days</td>\n      <td>Black or African American</td>\n      <td>Both sexes</td>\n      <td>Average hours per day</td>\n    </tr>\n    <tr>\n      <th>7134</th>\n      <td>7134</td>\n      <td>TUU10101AA01013268</td>\n      <td>0</td>\n      <td>3</td>\n      <td>0</td>\n      <td>0</td>\n      <td>0</td>\n      <td>Avg hrs per day - Eating and drinking (include...</td>\n      <td>0</td>\n      <td>600022</td>\n      <td>...</td>\n      <td>Eating and drinking (includes travel)</td>\n      <td>15 years and over</td>\n      <td>All persons</td>\n      <td>All education levels</td>\n      <td>NaN</td>\n      <td>NaN</td>\n      <td>All days</td>\n      <td>Black or African American</td>\n      <td>Both sexes</td>\n      <td>Average hours per day</td>\n    </tr>\n    <tr>\n      <th>7302</th>\n      <td>7302</td>\n      <td>TUU10101AA01013622</td>\n      <td>0</td>\n      <td>3</td>\n      <td>0</td>\n      <td>0</td>\n      <td>0</td>\n      <td>Avg hrs per day - Leisure and sports (includes...</td>\n      <td>0</td>\n      <td>600023</td>\n      <td>...</td>\n      <td>Leisure and sports (includes travel)</td>\n      <td>15 years and over</td>\n      <td>All persons</td>\n      <td>All education levels</td>\n      <td>NaN</td>\n      <td>NaN</td>\n      <td>All days</td>\n      <td>Black or African American</td>\n      <td>Both sexes</td>\n      <td>Average hours per day</td>\n    </tr>\n    <tr>\n      <th>7471</th>\n      <td>7471</td>\n      <td>TUU10101AA01013988</td>\n      <td>0</td>\n      <td>3</td>\n      <td>0</td>\n      <td>0</td>\n      <td>0</td>\n      <td>Avg hrs per day - Socializing and communicatin...</td>\n      <td>0</td>\n      <td>600024</td>\n      <td>...</td>\n      <td>Socializing and communicating</td>\n      <td>15 years and over</td>\n      <td>All persons</td>\n      <td>All education levels</td>\n      <td>NaN</td>\n      <td>NaN</td>\n      <td>All days</td>\n      <td>Black or African American</td>\n      <td>Both sexes</td>\n      <td>Average hours per day</td>\n    </tr>\n    <tr>\n      <th>7591</th>\n      <td>7591</td>\n      <td>TUU10101AA01014273</td>\n      <td>0</td>\n      <td>3</td>\n      <td>0</td>\n      <td>0</td>\n      <td>0</td>\n      <td>Avg hrs per day - Watching TV, Black or Africa...</td>\n      <td>0</td>\n      <td>600025</td>\n      <td>...</td>\n      <td>Watching TV</td>\n      <td>15 years and over</td>\n      <td>All persons</td>\n      <td>All education levels</td>\n      <td>NaN</td>\n      <td>NaN</td>\n      <td>All days</td>\n      <td>Black or African American</td>\n      <td>Both sexes</td>\n      <td>Average hours per day</td>\n    </tr>\n    <tr>\n      <th>7700</th>\n      <td>7700</td>\n      <td>TUU10101AA01014547</td>\n      <td>0</td>\n      <td>3</td>\n      <td>0</td>\n      <td>0</td>\n      <td>0</td>\n      <td>Avg hrs per day - Participating in sports, exe...</td>\n      <td>0</td>\n      <td>600027</td>\n      <td>...</td>\n      <td>Participating in sports, exercise, and recreat...</td>\n      <td>15 years and over</td>\n      <td>All persons</td>\n      <td>All education levels</td>\n      <td>NaN</td>\n      <td>NaN</td>\n      <td>All days</td>\n      <td>Black or African American</td>\n      <td>Both sexes</td>\n      <td>Average hours per day</td>\n    </tr>\n    <tr>\n      <th>7846</th>\n      <td>7846</td>\n      <td>TUU10101AA01015041</td>\n      <td>0</td>\n      <td>3</td>\n      <td>0</td>\n      <td>0</td>\n      <td>0</td>\n      <td>Avg hrs per day - Organizational, civic, and r...</td>\n      <td>0</td>\n      <td>600030</td>\n      <td>...</td>\n      <td>Organizational, civic, and religious activities</td>\n      <td>15 years and over</td>\n      <td>All persons</td>\n      <td>All education levels</td>\n      <td>NaN</td>\n      <td>NaN</td>\n      <td>All days</td>\n      <td>Black or African American</td>\n      <td>Both sexes</td>\n      <td>Average hours per day</td>\n    </tr>\n    <tr>\n      <th>8111</th>\n      <td>8111</td>\n      <td>TUU10101AA01015617</td>\n      <td>0</td>\n      <td>3</td>\n      <td>0</td>\n      <td>0</td>\n      <td>0</td>\n      <td>Avg hrs per day - Telephone calls, mail, and e...</td>\n      <td>0</td>\n      <td>600033</td>\n      <td>...</td>\n      <td>Telephone calls, mail, and e-mail (includes tr...</td>\n      <td>15 years and over</td>\n      <td>All persons</td>\n      <td>All education levels</td>\n      <td>NaN</td>\n      <td>NaN</td>\n      <td>All days</td>\n      <td>Black or African American</td>\n      <td>Both sexes</td>\n      <td>Average hours per day</td>\n    </tr>\n    <tr>\n      <th>8274</th>\n      <td>8274</td>\n      <td>TUU10101AA01015956</td>\n      <td>0</td>\n      <td>3</td>\n      <td>0</td>\n      <td>0</td>\n      <td>0</td>\n      <td>Avg hrs per day - Other activities, not elsewh...</td>\n      <td>0</td>\n      <td>600034</td>\n      <td>...</td>\n      <td>Other activities, not elsewhere classified (in...</td>\n      <td>15 years and over</td>\n      <td>All persons</td>\n      <td>All education levels</td>\n      <td>NaN</td>\n      <td>NaN</td>\n      <td>All days</td>\n      <td>Black or African American</td>\n      <td>Both sexes</td>\n      <td>Average hours per day</td>\n    </tr>\n    <tr>\n      <th>8423</th>\n      <td>8423</td>\n      <td>TUU10101AA01016313</td>\n      <td>0</td>\n      <td>3</td>\n      <td>0</td>\n      <td>0</td>\n      <td>0</td>\n      <td>Avg hrs per day - Playing games and computer u...</td>\n      <td>0</td>\n      <td>600058</td>\n      <td>...</td>\n      <td>Playing games and computer use for leisure</td>\n      <td>15 years and over</td>\n      <td>All persons</td>\n      <td>All education levels</td>\n      <td>NaN</td>\n      <td>NaN</td>\n      <td>All days</td>\n      <td>Black or African American</td>\n      <td>Both sexes</td>\n      <td>Average hours per day</td>\n    </tr>\n    <tr>\n      <th>8447</th>\n      <td>8447</td>\n      <td>TUU10101AA01016391</td>\n      <td>0</td>\n      <td>3</td>\n      <td>0</td>\n      <td>0</td>\n      <td>0</td>\n      <td>Avg hrs per day - Other leisure and sports act...</td>\n      <td>0</td>\n      <td>600059</td>\n      <td>...</td>\n      <td>Other leisure and sports activities, including...</td>\n      <td>15 years and over</td>\n      <td>All persons</td>\n      <td>All education levels</td>\n      <td>NaN</td>\n      <td>NaN</td>\n      <td>All days</td>\n      <td>Black or African American</td>\n      <td>Both sexes</td>\n      <td>Average hours per day</td>\n    </tr>\n    <tr>\n      <th>9304</th>\n      <td>9304</td>\n      <td>TUU10101AA01020915</td>\n      <td>0</td>\n      <td>3</td>\n      <td>0</td>\n      <td>0</td>\n      <td>16</td>\n      <td>Avg hrs per day - Relaxing and thinking, Weeke...</td>\n      <td>0</td>\n      <td>120301</td>\n      <td>...</td>\n      <td>Relaxing and thinking</td>\n      <td>15 years and over</td>\n      <td>All persons</td>\n      <td>All education levels</td>\n      <td>NaN</td>\n      <td>NaN</td>\n      <td>Weekend days and holidays</td>\n      <td>Black or African American</td>\n      <td>Both sexes</td>\n      <td>Average hours per day</td>\n    </tr>\n    <tr>\n      <th>9305</th>\n      <td>9305</td>\n      <td>TUU10101AA01020916</td>\n      <td>0</td>\n      <td>3</td>\n      <td>0</td>\n      <td>0</td>\n      <td>19</td>\n      <td>Avg hrs per day - Relaxing and thinking, Nonho...</td>\n      <td>0</td>\n      <td>120301</td>\n      <td>...</td>\n      <td>Relaxing and thinking</td>\n      <td>15 years and over</td>\n      <td>All persons</td>\n      <td>All education levels</td>\n      <td>NaN</td>\n      <td>NaN</td>\n      <td>Nonholiday weekdays</td>\n      <td>Black or African American</td>\n      <td>Both sexes</td>\n      <td>Average hours per day</td>\n    </tr>\n    <tr>\n      <th>9451</th>\n      <td>9451</td>\n      <td>TUU10101AA01021653</td>\n      <td>0</td>\n      <td>3</td>\n      <td>0</td>\n      <td>0</td>\n      <td>16</td>\n      <td>Avg hrs per day - Reading for personal interes...</td>\n      <td>0</td>\n      <td>120312</td>\n      <td>...</td>\n      <td>Reading for personal interest</td>\n      <td>15 years and over</td>\n      <td>All persons</td>\n      <td>All education levels</td>\n      <td>NaN</td>\n      <td>NaN</td>\n      <td>Weekend days and holidays</td>\n      <td>Black or African American</td>\n      <td>Both sexes</td>\n      <td>Average hours per day</td>\n    </tr>\n    <tr>\n      <th>9452</th>\n      <td>9452</td>\n      <td>TUU10101AA01021654</td>\n      <td>0</td>\n      <td>3</td>\n      <td>0</td>\n      <td>0</td>\n      <td>19</td>\n      <td>Avg hrs per day - Reading for personal interes...</td>\n      <td>0</td>\n      <td>120312</td>\n      <td>...</td>\n      <td>Reading for personal interest</td>\n      <td>15 years and over</td>\n      <td>All persons</td>\n      <td>All education levels</td>\n      <td>NaN</td>\n      <td>NaN</td>\n      <td>Nonholiday weekdays</td>\n      <td>Black or African American</td>\n      <td>Both sexes</td>\n      <td>Average hours per day</td>\n    </tr>\n    <tr>\n      <th>10094</th>\n      <td>10094</td>\n      <td>TUU10101AA01026588</td>\n      <td>0</td>\n      <td>3</td>\n      <td>0</td>\n      <td>0</td>\n      <td>16</td>\n      <td>Avg hrs per day - Leisure and sports (includes...</td>\n      <td>0</td>\n      <td>600023</td>\n      <td>...</td>\n      <td>Leisure and sports (includes travel)</td>\n      <td>15 years and over</td>\n      <td>All persons</td>\n      <td>All education levels</td>\n      <td>NaN</td>\n      <td>NaN</td>\n      <td>Weekend days and holidays</td>\n      <td>Black or African American</td>\n      <td>Both sexes</td>\n      <td>Average hours per day</td>\n    </tr>\n    <tr>\n      <th>10095</th>\n      <td>10095</td>\n      <td>TUU10101AA01026589</td>\n      <td>0</td>\n      <td>3</td>\n      <td>0</td>\n      <td>0</td>\n      <td>19</td>\n      <td>Avg hrs per day - Leisure and sports (includes...</td>\n      <td>0</td>\n      <td>600023</td>\n      <td>...</td>\n      <td>Leisure and sports (includes travel)</td>\n      <td>15 years and over</td>\n      <td>All persons</td>\n      <td>All education levels</td>\n      <td>NaN</td>\n      <td>NaN</td>\n      <td>Nonholiday weekdays</td>\n      <td>Black or African American</td>\n      <td>Both sexes</td>\n      <td>Average hours per day</td>\n    </tr>\n    <tr>\n      <th>10172</th>\n      <td>10172</td>\n      <td>TUU10101AA01026843</td>\n      <td>0</td>\n      <td>3</td>\n      <td>0</td>\n      <td>0</td>\n      <td>16</td>\n      <td>Avg hrs per day - Socializing and communicatin...</td>\n      <td>0</td>\n      <td>600024</td>\n      <td>...</td>\n      <td>Socializing and communicating</td>\n      <td>15 years and over</td>\n      <td>All persons</td>\n      <td>All education levels</td>\n      <td>NaN</td>\n      <td>NaN</td>\n      <td>Weekend days and holidays</td>\n      <td>Black or African American</td>\n      <td>Both sexes</td>\n      <td>Average hours per day</td>\n    </tr>\n    <tr>\n      <th>10173</th>\n      <td>10173</td>\n      <td>TUU10101AA01026844</td>\n      <td>0</td>\n      <td>3</td>\n      <td>0</td>\n      <td>0</td>\n      <td>19</td>\n      <td>Avg hrs per day - Socializing and communicatin...</td>\n      <td>0</td>\n      <td>600024</td>\n      <td>...</td>\n      <td>Socializing and communicating</td>\n      <td>15 years and over</td>\n      <td>All persons</td>\n      <td>All education levels</td>\n      <td>NaN</td>\n      <td>NaN</td>\n      <td>Nonholiday weekdays</td>\n      <td>Black or African American</td>\n      <td>Both sexes</td>\n      <td>Average hours per day</td>\n    </tr>\n    <tr>\n      <th>10280</th>\n      <td>10280</td>\n      <td>TUU10101AA01027128</td>\n      <td>0</td>\n      <td>3</td>\n      <td>0</td>\n      <td>0</td>\n      <td>16</td>\n      <td>Avg hrs per day - Watching TV, Weekend days an...</td>\n      <td>0</td>\n      <td>600025</td>\n      <td>...</td>\n      <td>Watching TV</td>\n      <td>15 years and over</td>\n      <td>All persons</td>\n      <td>All education levels</td>\n      <td>NaN</td>\n      <td>NaN</td>\n      <td>Weekend days and holidays</td>\n      <td>Black or African American</td>\n      <td>Both sexes</td>\n      <td>Average hours per day</td>\n    </tr>\n    <tr>\n      <th>10281</th>\n      <td>10281</td>\n      <td>TUU10101AA01027129</td>\n      <td>0</td>\n      <td>3</td>\n      <td>0</td>\n      <td>0</td>\n      <td>19</td>\n      <td>Avg hrs per day - Watching TV, Nonholiday week...</td>\n      <td>0</td>\n      <td>600025</td>\n      <td>...</td>\n      <td>Watching TV</td>\n      <td>15 years and over</td>\n      <td>All persons</td>\n      <td>All education levels</td>\n      <td>NaN</td>\n      <td>NaN</td>\n      <td>Nonholiday weekdays</td>\n      <td>Black or African American</td>\n      <td>Both sexes</td>\n      <td>Average hours per day</td>\n    </tr>\n    <tr>\n      <th>10390</th>\n      <td>10390</td>\n      <td>TUU10101AA01027415</td>\n      <td>0</td>\n      <td>3</td>\n      <td>0</td>\n      <td>0</td>\n      <td>16</td>\n      <td>Avg hrs per day - Participating in sports, exe...</td>\n      <td>0</td>\n      <td>600027</td>\n      <td>...</td>\n      <td>Participating in sports, exercise, and recreat...</td>\n      <td>15 years and over</td>\n      <td>All persons</td>\n      <td>All education levels</td>\n      <td>NaN</td>\n      <td>NaN</td>\n      <td>Weekend days and holidays</td>\n      <td>Black or African American</td>\n      <td>Both sexes</td>\n      <td>Average hours per day</td>\n    </tr>\n    <tr>\n      <th>10391</th>\n      <td>10391</td>\n      <td>TUU10101AA01027416</td>\n      <td>0</td>\n      <td>3</td>\n      <td>0</td>\n      <td>0</td>\n      <td>19</td>\n      <td>Avg hrs per day - Participating in sports, exe...</td>\n      <td>0</td>\n      <td>600027</td>\n      <td>...</td>\n      <td>Participating in sports, exercise, and recreat...</td>\n      <td>15 years and over</td>\n      <td>All persons</td>\n      <td>All education levels</td>\n      <td>NaN</td>\n      <td>NaN</td>\n      <td>Nonholiday weekdays</td>\n      <td>Black or African American</td>\n      <td>Both sexes</td>\n      <td>Average hours per day</td>\n    </tr>\n    <tr>\n      <th>10636</th>\n      <td>10636</td>\n      <td>TUU10101AA01028728</td>\n      <td>0</td>\n      <td>3</td>\n      <td>0</td>\n      <td>0</td>\n      <td>16</td>\n      <td>Avg hrs per day - Playing games and computer u...</td>\n      <td>0</td>\n      <td>600058</td>\n      <td>...</td>\n      <td>Playing games and computer use for leisure</td>\n      <td>15 years and over</td>\n      <td>All persons</td>\n      <td>All education levels</td>\n      <td>NaN</td>\n      <td>NaN</td>\n      <td>Weekend days and holidays</td>\n      <td>Black or African American</td>\n      <td>Both sexes</td>\n      <td>Average hours per day</td>\n    </tr>\n    <tr>\n      <th>10637</th>\n      <td>10637</td>\n      <td>TUU10101AA01028729</td>\n      <td>0</td>\n      <td>3</td>\n      <td>0</td>\n      <td>0</td>\n      <td>19</td>\n      <td>Avg hrs per day - Playing games and computer u...</td>\n      <td>0</td>\n      <td>600058</td>\n      <td>...</td>\n      <td>Playing games and computer use for leisure</td>\n      <td>15 years and over</td>\n      <td>All persons</td>\n      <td>All education levels</td>\n      <td>NaN</td>\n      <td>NaN</td>\n      <td>Nonholiday weekdays</td>\n      <td>Black or African American</td>\n      <td>Both sexes</td>\n      <td>Average hours per day</td>\n    </tr>\n    <tr>\n      <th>10712</th>\n      <td>10712</td>\n      <td>TUU10101AA01028814</td>\n      <td>0</td>\n      <td>3</td>\n      <td>0</td>\n      <td>0</td>\n      <td>16</td>\n      <td>Avg hrs per day - Other leisure and sports act...</td>\n      <td>0</td>\n      <td>600059</td>\n      <td>...</td>\n      <td>Other leisure and sports activities, including...</td>\n      <td>15 years and over</td>\n      <td>All persons</td>\n      <td>All education levels</td>\n      <td>NaN</td>\n      <td>NaN</td>\n      <td>Weekend days and holidays</td>\n      <td>Black or African American</td>\n      <td>Both sexes</td>\n      <td>Average hours per day</td>\n    </tr>\n    <tr>\n      <th>10713</th>\n      <td>10713</td>\n      <td>TUU10101AA01028815</td>\n      <td>0</td>\n      <td>3</td>\n      <td>0</td>\n      <td>0</td>\n      <td>19</td>\n      <td>Avg hrs per day - Other leisure and sports act...</td>\n      <td>0</td>\n      <td>600059</td>\n      <td>...</td>\n      <td>Other leisure and sports activities, including...</td>\n      <td>15 years and over</td>\n      <td>All persons</td>\n      <td>All education levels</td>\n      <td>NaN</td>\n      <td>NaN</td>\n      <td>Nonholiday weekdays</td>\n      <td>Black or African American</td>\n      <td>Both sexes</td>\n      <td>Average hours per day</td>\n    </tr>\n  </tbody>\n</table>\n<p>35 rows × 23 columns</p>\n</div>",
          "text/plain": "       Unnamed: 0  series_id                       sex_code  race_code  \\\n3477         3477  TUU10101AA01005684                     0          3   \n3702         3702  TUU10101AA01006341                     0          3   \n5381         5381  TUU10101AA01008860                     0          3   \n5544         5544  TUU10101AA01009412                     0          3   \n5809         5809  TUU10101AA01010405                     0          3   \n6176         6176  TUU10101AA01011205                     0          3   \n6543         6543  TUU10101AA01012018                     0          3   \n6706         6706  TUU10101AA01012366                     0          3   \n6869         6869  TUU10101AA01012683                     0          3   \n7134         7134  TUU10101AA01013268                     0          3   \n7302         7302  TUU10101AA01013622                     0          3   \n7471         7471  TUU10101AA01013988                     0          3   \n7591         7591  TUU10101AA01014273                     0          3   \n7700         7700  TUU10101AA01014547                     0          3   \n7846         7846  TUU10101AA01015041                     0          3   \n8111         8111  TUU10101AA01015617                     0          3   \n8274         8274  TUU10101AA01015956                     0          3   \n8423         8423  TUU10101AA01016313                     0          3   \n8447         8447  TUU10101AA01016391                     0          3   \n9304         9304  TUU10101AA01020915                     0          3   \n9305         9305  TUU10101AA01020916                     0          3   \n9451         9451  TUU10101AA01021653                     0          3   \n9452         9452  TUU10101AA01021654                     0          3   \n10094       10094  TUU10101AA01026588                     0          3   \n10095       10095  TUU10101AA01026589                     0          3   \n10172       10172  TUU10101AA01026843                     0          3   \n10173       10173  TUU10101AA01026844                     0          3   \n10280       10280  TUU10101AA01027128                     0          3   \n10281       10281  TUU10101AA01027129                     0          3   \n10390       10390  TUU10101AA01027415                     0          3   \n10391       10391  TUU10101AA01027416                     0          3   \n10636       10636  TUU10101AA01028728                     0          3   \n10637       10637  TUU10101AA01028729                     0          3   \n10712       10712  TUU10101AA01028814                     0          3   \n10713       10713  TUU10101AA01028815                     0          3   \n\n       educ_code  age_code  pertype_code  \\\n3477           0         0             0   \n3702           0         0             0   \n5381           0         0             0   \n5544           0         0             0   \n5809           0         0             0   \n6176           0         0             0   \n6543           0         0             0   \n6706           0         0             0   \n6869           0         0             0   \n7134           0         0             0   \n7302           0         0             0   \n7471           0         0             0   \n7591           0         0             0   \n7700           0         0             0   \n7846           0         0             0   \n8111           0         0             0   \n8274           0         0             0   \n8423           0         0             0   \n8447           0         0             0   \n9304           0         0            16   \n9305           0         0            19   \n9451           0         0            16   \n9452           0         0            19   \n10094          0         0            16   \n10095          0         0            19   \n10172          0         0            16   \n10173          0         0            19   \n10280          0         0            16   \n10281          0         0            19   \n10390          0         0            16   \n10391          0         0            19   \n10636          0         0            16   \n10637          0         0            19   \n10712          0         0            16   \n10713          0         0            19   \n\n                                            series_title  earn_code  \\\n3477   Avg hrs per day - Relaxing and thinking, Black...          0   \n3702   Avg hrs per day - Reading for personal interes...          0   \n5381   Avg hrs per day - Personal care activities (in...          0   \n5544   Avg hrs per day - Household activities (includ...          0   \n5809   Avg hrs per day - Caring for and helping house...          0   \n6176   Avg hrs per day - Caring for and helping nonho...          0   \n6543   Avg hrs per day - Working and work-related act...          0   \n6706   Avg hrs per day - Educational activities (incl...          0   \n6869   Avg hrs per day - Purchasing goods and service...          0   \n7134   Avg hrs per day - Eating and drinking (include...          0   \n7302   Avg hrs per day - Leisure and sports (includes...          0   \n7471   Avg hrs per day - Socializing and communicatin...          0   \n7591   Avg hrs per day - Watching TV, Black or Africa...          0   \n7700   Avg hrs per day - Participating in sports, exe...          0   \n7846   Avg hrs per day - Organizational, civic, and r...          0   \n8111   Avg hrs per day - Telephone calls, mail, and e...          0   \n8274   Avg hrs per day - Other activities, not elsewh...          0   \n8423   Avg hrs per day - Playing games and computer u...          0   \n8447   Avg hrs per day - Other leisure and sports act...          0   \n9304   Avg hrs per day - Relaxing and thinking, Weeke...          0   \n9305   Avg hrs per day - Relaxing and thinking, Nonho...          0   \n9451   Avg hrs per day - Reading for personal interes...          0   \n9452   Avg hrs per day - Reading for personal interes...          0   \n10094  Avg hrs per day - Leisure and sports (includes...          0   \n10095  Avg hrs per day - Leisure and sports (includes...          0   \n10172  Avg hrs per day - Socializing and communicatin...          0   \n10173  Avg hrs per day - Socializing and communicatin...          0   \n10280  Avg hrs per day - Watching TV, Weekend days an...          0   \n10281  Avg hrs per day - Watching TV, Nonholiday week...          0   \n10390  Avg hrs per day - Participating in sports, exe...          0   \n10391  Avg hrs per day - Participating in sports, exe...          0   \n10636  Avg hrs per day - Playing games and computer u...          0   \n10637  Avg hrs per day - Playing games and computer u...          0   \n10712  Avg hrs per day - Other leisure and sports act...          0   \n10713  Avg hrs per day - Other leisure and sports act...          0   \n\n       actcode_code  ...                                       actcode_text  \\\n3477         120301  ...                              Relaxing and thinking   \n3702         120312  ...                      Reading for personal interest   \n5381         600001  ...         Personal care activities (includes travel)   \n5544         600003  ...             Household activities (includes travel)   \n5809         600007  ...  Caring for and helping household members (incl...   \n6176         600010  ...  Caring for and helping nonhousehold members (i...   \n6543         600013  ...  Working and work-related activities (includes ...   \n6706         600016  ...           Educational activities (includes travel)   \n6869         600018  ...    Purchasing goods and services (includes travel)   \n7134         600022  ...              Eating and drinking (includes travel)   \n7302         600023  ...               Leisure and sports (includes travel)   \n7471         600024  ...                      Socializing and communicating   \n7591         600025  ...                                        Watching TV   \n7700         600027  ...  Participating in sports, exercise, and recreat...   \n7846         600030  ...    Organizational, civic, and religious activities   \n8111         600033  ...  Telephone calls, mail, and e-mail (includes tr...   \n8274         600034  ...  Other activities, not elsewhere classified (in...   \n8423         600058  ...         Playing games and computer use for leisure   \n8447         600059  ...  Other leisure and sports activities, including...   \n9304         120301  ...                              Relaxing and thinking   \n9305         120301  ...                              Relaxing and thinking   \n9451         120312  ...                      Reading for personal interest   \n9452         120312  ...                      Reading for personal interest   \n10094        600023  ...               Leisure and sports (includes travel)   \n10095        600023  ...               Leisure and sports (includes travel)   \n10172        600024  ...                      Socializing and communicating   \n10173        600024  ...                      Socializing and communicating   \n10280        600025  ...                                        Watching TV   \n10281        600025  ...                                        Watching TV   \n10390        600027  ...  Participating in sports, exercise, and recreat...   \n10391        600027  ...  Participating in sports, exercise, and recreat...   \n10636        600058  ...         Playing games and computer use for leisure   \n10637        600058  ...         Playing games and computer use for leisure   \n10712        600059  ...  Other leisure and sports activities, including...   \n10713        600059  ...  Other leisure and sports activities, including...   \n\n                age_text    earn_text             educ_text lfstat_text  \\\n3477   15 years and over  All persons  All education levels         NaN   \n3702   15 years and over  All persons  All education levels         NaN   \n5381   15 years and over  All persons  All education levels         NaN   \n5544   15 years and over  All persons  All education levels         NaN   \n5809   15 years and over  All persons  All education levels         NaN   \n6176   15 years and over  All persons  All education levels         NaN   \n6543   15 years and over  All persons  All education levels         NaN   \n6706   15 years and over  All persons  All education levels         NaN   \n6869   15 years and over  All persons  All education levels         NaN   \n7134   15 years and over  All persons  All education levels         NaN   \n7302   15 years and over  All persons  All education levels         NaN   \n7471   15 years and over  All persons  All education levels         NaN   \n7591   15 years and over  All persons  All education levels         NaN   \n7700   15 years and over  All persons  All education levels         NaN   \n7846   15 years and over  All persons  All education levels         NaN   \n8111   15 years and over  All persons  All education levels         NaN   \n8274   15 years and over  All persons  All education levels         NaN   \n8423   15 years and over  All persons  All education levels         NaN   \n8447   15 years and over  All persons  All education levels         NaN   \n9304   15 years and over  All persons  All education levels         NaN   \n9305   15 years and over  All persons  All education levels         NaN   \n9451   15 years and over  All persons  All education levels         NaN   \n9452   15 years and over  All persons  All education levels         NaN   \n10094  15 years and over  All persons  All education levels         NaN   \n10095  15 years and over  All persons  All education levels         NaN   \n10172  15 years and over  All persons  All education levels         NaN   \n10173  15 years and over  All persons  All education levels         NaN   \n10280  15 years and over  All persons  All education levels         NaN   \n10281  15 years and over  All persons  All education levels         NaN   \n10390  15 years and over  All persons  All education levels         NaN   \n10391  15 years and over  All persons  All education levels         NaN   \n10636  15 years and over  All persons  All education levels         NaN   \n10637  15 years and over  All persons  All education levels         NaN   \n10712  15 years and over  All persons  All education levels         NaN   \n10713  15 years and over  All persons  All education levels         NaN   \n\n      orig_text               pertype_text                  race_text  \\\n3477        NaN                   All days  Black or African American   \n3702        NaN                   All days  Black or African American   \n5381        NaN                   All days  Black or African American   \n5544        NaN                   All days  Black or African American   \n5809        NaN                   All days  Black or African American   \n6176        NaN                   All days  Black or African American   \n6543        NaN                   All days  Black or African American   \n6706        NaN                   All days  Black or African American   \n6869        NaN                   All days  Black or African American   \n7134        NaN                   All days  Black or African American   \n7302        NaN                   All days  Black or African American   \n7471        NaN                   All days  Black or African American   \n7591        NaN                   All days  Black or African American   \n7700        NaN                   All days  Black or African American   \n7846        NaN                   All days  Black or African American   \n8111        NaN                   All days  Black or African American   \n8274        NaN                   All days  Black or African American   \n8423        NaN                   All days  Black or African American   \n8447        NaN                   All days  Black or African American   \n9304        NaN  Weekend days and holidays  Black or African American   \n9305        NaN        Nonholiday weekdays  Black or African American   \n9451        NaN  Weekend days and holidays  Black or African American   \n9452        NaN        Nonholiday weekdays  Black or African American   \n10094       NaN  Weekend days and holidays  Black or African American   \n10095       NaN        Nonholiday weekdays  Black or African American   \n10172       NaN  Weekend days and holidays  Black or African American   \n10173       NaN        Nonholiday weekdays  Black or African American   \n10280       NaN  Weekend days and holidays  Black or African American   \n10281       NaN        Nonholiday weekdays  Black or African American   \n10390       NaN  Weekend days and holidays  Black or African American   \n10391       NaN        Nonholiday weekdays  Black or African American   \n10636       NaN  Weekend days and holidays  Black or African American   \n10637       NaN        Nonholiday weekdays  Black or African American   \n10712       NaN  Weekend days and holidays  Black or African American   \n10713       NaN        Nonholiday weekdays  Black or African American   \n\n         sex_text          stattype_text  \n3477   Both sexes  Average hours per day  \n3702   Both sexes  Average hours per day  \n5381   Both sexes  Average hours per day  \n5544   Both sexes  Average hours per day  \n5809   Both sexes  Average hours per day  \n6176   Both sexes  Average hours per day  \n6543   Both sexes  Average hours per day  \n6706   Both sexes  Average hours per day  \n6869   Both sexes  Average hours per day  \n7134   Both sexes  Average hours per day  \n7302   Both sexes  Average hours per day  \n7471   Both sexes  Average hours per day  \n7591   Both sexes  Average hours per day  \n7700   Both sexes  Average hours per day  \n7846   Both sexes  Average hours per day  \n8111   Both sexes  Average hours per day  \n8274   Both sexes  Average hours per day  \n8423   Both sexes  Average hours per day  \n8447   Both sexes  Average hours per day  \n9304   Both sexes  Average hours per day  \n9305   Both sexes  Average hours per day  \n9451   Both sexes  Average hours per day  \n9452   Both sexes  Average hours per day  \n10094  Both sexes  Average hours per day  \n10095  Both sexes  Average hours per day  \n10172  Both sexes  Average hours per day  \n10173  Both sexes  Average hours per day  \n10280  Both sexes  Average hours per day  \n10281  Both sexes  Average hours per day  \n10390  Both sexes  Average hours per day  \n10391  Both sexes  Average hours per day  \n10636  Both sexes  Average hours per day  \n10637  Both sexes  Average hours per day  \n10712  Both sexes  Average hours per day  \n10713  Both sexes  Average hours per day  \n\n[35 rows x 23 columns]"
         },
         "metadata": {},
         "output_type": "display_data"
        }
       ]
      }
     },
     "2171f86683a24ac2b55eb9a1076f47d7": {
      "model_module": "@jupyter-widgets/controls",
      "model_module_version": "1.5.0",
      "model_name": "DescriptionStyleModel",
      "state": {
       "description_width": ""
      }
     },
     "224629e3f0754cf78cd7e010eb402b99": {
      "model_module": "@jupyter-widgets/controls",
      "model_module_version": "1.5.0",
      "model_name": "DropdownModel",
      "state": {
       "_options_labels": [
        "15 to 19 years",
        "15 to 24 years",
        "15 years and over",
        "18 years and over",
        "20 to 24 years",
        "25 to 34 years",
        "25 to 54 years",
        "25 years and over",
        "35 to 44 years",
        "45 to 54 years",
        "55 to 64 years",
        "65 to 74 years",
        "65 years and over",
        "75 years and over"
       ],
       "description": "Ages:",
       "index": 7,
       "layout": "IPY_MODEL_dc5444f08aca4d84833b9812f18e1bca",
       "style": "IPY_MODEL_dd788d83593543f8b8c37aea85f92c1f"
      }
     },
     "240112f8f94e4f62be8be8b8230e1499": {
      "model_module": "@jupyter-widgets/controls",
      "model_module_version": "1.5.0",
      "model_name": "DropdownModel",
      "state": {
       "_options_labels": [
        "ALL",
        "Average hours per day",
        "Average hours per day for participants in an activity",
        "Number of participants in an activity on an average day (in thousands)",
        "Number of persons (in thousands)",
        "Percent of population engaged in activity on an average day"
       ],
       "description": "Stat Type:",
       "index": 1,
       "layout": "IPY_MODEL_d8a5f97e55194e1788ace5a7c0c4cfdc",
       "style": "IPY_MODEL_e082ee1a51ba4e82bc6d3669735d3163"
      }
     },
     "24a88e07de264815a9dfdc73f5508e3c": {
      "model_module": "@jupyter-widgets/output",
      "model_module_version": "1.0.0",
      "model_name": "OutputModel",
      "state": {
       "layout": "IPY_MODEL_91ba16d2a6984ee0bf2c665dc970b5ed"
      }
     },
     "2644a1fb744348bdb65e83b6594e0baf": {
      "model_module": "@jupyter-widgets/controls",
      "model_module_version": "1.5.0",
      "model_name": "DropdownModel",
      "state": {
       "_options_labels": [
        "ALL",
        "Both sexes",
        "Men",
        "Women"
       ],
       "description": "Gender:",
       "index": 0,
       "layout": "IPY_MODEL_bcbe1632936f40a985cdcd5330e5f8f5",
       "style": "IPY_MODEL_944ed2913fb24d169201873fbf2d6467"
      }
     },
     "27e1613a6924428d943f9acc70e097d6": {
      "model_module": "@jupyter-widgets/base",
      "model_module_version": "1.2.0",
      "model_name": "LayoutModel",
      "state": {}
     },
     "285fe6cfee77420c8bac4d6c8524c6e6": {
      "model_module": "@jupyter-widgets/controls",
      "model_module_version": "1.5.0",
      "model_name": "DescriptionStyleModel",
      "state": {
       "description_width": ""
      }
     },
     "2bce2d0370c54f6591de8d9d01f80251": {
      "model_module": "@jupyter-widgets/controls",
      "model_module_version": "1.5.0",
      "model_name": "DropdownModel",
      "state": {
       "_options_labels": [
        "ALL",
        "Both sexes",
        "Men",
        "Women"
       ],
       "index": 0,
       "layout": "IPY_MODEL_4de8446bba724394bc246013b35a8f20",
       "style": "IPY_MODEL_f5b1e905d8e34b36b1c9b504049719ad"
      }
     },
     "2c129ce470554c3b95631d8ae701052b": {
      "model_module": "@jupyter-widgets/controls",
      "model_module_version": "1.5.0",
      "model_name": "DropdownModel",
      "state": {
       "_options_labels": [
        "Both sexes",
        "Men",
        "Women"
       ],
       "description": "Gender:",
       "index": 0,
       "layout": "IPY_MODEL_a9ac47e3f10743f292649cdca6d66f3f",
       "style": "IPY_MODEL_5a78b26ded3a41c7b9a08a1e5d802cfa"
      }
     },
     "2cefb51bdcf84c3aab6fa46229e8d32f": {
      "model_module": "@jupyter-widgets/controls",
      "model_module_version": "1.5.0",
      "model_name": "DescriptionStyleModel",
      "state": {
       "description_width": ""
      }
     },
     "2d4a1fe81bd14aee85eeedae547dde44": {
      "model_module": "@jupyter-widgets/base",
      "model_module_version": "1.2.0",
      "model_name": "LayoutModel",
      "state": {}
     },
     "2d5853509ec24762a191417a9bf12e29": {
      "model_module": "@jupyter-widgets/controls",
      "model_module_version": "1.5.0",
      "model_name": "DescriptionStyleModel",
      "state": {
       "description_width": ""
      }
     },
     "2d8b578519884e45b59cbc6bc3773703": {
      "model_module": "@jupyter-widgets/base",
      "model_module_version": "1.2.0",
      "model_name": "LayoutModel",
      "state": {}
     },
     "2e7eb165a4d24ef199d8f9b8099b7940": {
      "model_module": "@jupyter-widgets/controls",
      "model_module_version": "1.5.0",
      "model_name": "DescriptionStyleModel",
      "state": {
       "description_width": ""
      }
     },
     "2f1f23bb38ec4e5b81077bbf3ac3467d": {
      "model_module": "@jupyter-widgets/base",
      "model_module_version": "1.2.0",
      "model_name": "LayoutModel",
      "state": {}
     },
     "304794c3efb44009ad0a7229e68064c7": {
      "model_module": "@jupyter-widgets/base",
      "model_module_version": "1.2.0",
      "model_name": "LayoutModel",
      "state": {}
     },
     "30fb2414493d44d7b9653f151821c35e": {
      "model_module": "@jupyter-widgets/base",
      "model_module_version": "1.2.0",
      "model_name": "LayoutModel",
      "state": {}
     },
     "321ca6c54eae43c6ba11eabc7e93a054": {
      "model_module": "@jupyter-widgets/controls",
      "model_module_version": "1.5.0",
      "model_name": "DropdownModel",
      "state": {
       "_options_labels": [
        "ALL",
        "Average hours per day",
        "Average hours per day for participants in an activity",
        "Number of participants in an activity on an average day (in thousands)",
        "Number of persons (in thousands)",
        "Percent of population engaged in activity on an average day"
       ],
       "index": 4,
       "layout": "IPY_MODEL_04cda75ad27046eab5ff50624f28e516",
       "style": "IPY_MODEL_552b266215f04fadb4c98938e26a3bad"
      }
     },
     "32a847cdf23e41e1bbac118ad05a2376": {
      "model_module": "@jupyter-widgets/controls",
      "model_module_version": "1.5.0",
      "model_name": "DescriptionStyleModel",
      "state": {
       "description_width": ""
      }
     },
     "32d7ca34d00f44d283cba20138fcc813": {
      "model_module": "@jupyter-widgets/output",
      "model_module_version": "1.0.0",
      "model_name": "OutputModel",
      "state": {
       "layout": "IPY_MODEL_64e9ed3cf5c049d2849fdb1fc3248d19",
       "outputs": [
        {
         "data": {
          "text/html": "<div>\n<style scoped>\n    .dataframe tbody tr th:only-of-type {\n        vertical-align: middle;\n    }\n\n    .dataframe tbody tr th {\n        vertical-align: top;\n    }\n\n    .dataframe thead th {\n        text-align: right;\n    }\n</style>\n<table border=\"1\" class=\"dataframe\">\n  <thead>\n    <tr style=\"text-align: right;\">\n      <th></th>\n      <th>Unnamed: 0</th>\n      <th>series_id</th>\n      <th>sex_code</th>\n      <th>race_code</th>\n      <th>educ_code</th>\n      <th>age_code</th>\n      <th>pertype_code</th>\n      <th>series_title</th>\n      <th>earn_code</th>\n      <th>actcode_code</th>\n      <th>...</th>\n      <th>actcode_text</th>\n      <th>age_text</th>\n      <th>earn_text</th>\n      <th>educ_text</th>\n      <th>lfstat_text</th>\n      <th>orig_text</th>\n      <th>pertype_text</th>\n      <th>race_text</th>\n      <th>sex_text</th>\n      <th>stattype_text</th>\n    </tr>\n  </thead>\n  <tbody>\n    <tr>\n      <th>3478</th>\n      <td>3478</td>\n      <td>TUU10101AA01005685</td>\n      <td>0</td>\n      <td>4</td>\n      <td>0</td>\n      <td>0</td>\n      <td>0</td>\n      <td>Avg hrs per day - Relaxing and thinking, Asian</td>\n      <td>0</td>\n      <td>120301</td>\n      <td>...</td>\n      <td>Relaxing and thinking</td>\n      <td>15 years and over</td>\n      <td>All persons</td>\n      <td>All education levels</td>\n      <td>NaN</td>\n      <td>NaN</td>\n      <td>All days</td>\n      <td>Asian</td>\n      <td>Both sexes</td>\n      <td>Average hours per day</td>\n    </tr>\n    <tr>\n      <th>3703</th>\n      <td>3703</td>\n      <td>TUU10101AA01006342</td>\n      <td>0</td>\n      <td>4</td>\n      <td>0</td>\n      <td>0</td>\n      <td>0</td>\n      <td>Avg hrs per day - Reading for personal interes...</td>\n      <td>0</td>\n      <td>120312</td>\n      <td>...</td>\n      <td>Reading for personal interest</td>\n      <td>15 years and over</td>\n      <td>All persons</td>\n      <td>All education levels</td>\n      <td>NaN</td>\n      <td>NaN</td>\n      <td>All days</td>\n      <td>Asian</td>\n      <td>Both sexes</td>\n      <td>Average hours per day</td>\n    </tr>\n    <tr>\n      <th>7303</th>\n      <td>7303</td>\n      <td>TUU10101AA01013623</td>\n      <td>0</td>\n      <td>4</td>\n      <td>0</td>\n      <td>0</td>\n      <td>0</td>\n      <td>Avg hrs per day - Leisure and sports (includes...</td>\n      <td>0</td>\n      <td>600023</td>\n      <td>...</td>\n      <td>Leisure and sports (includes travel)</td>\n      <td>15 years and over</td>\n      <td>All persons</td>\n      <td>All education levels</td>\n      <td>NaN</td>\n      <td>NaN</td>\n      <td>All days</td>\n      <td>Asian</td>\n      <td>Both sexes</td>\n      <td>Average hours per day</td>\n    </tr>\n    <tr>\n      <th>7472</th>\n      <td>7472</td>\n      <td>TUU10101AA01013989</td>\n      <td>0</td>\n      <td>4</td>\n      <td>0</td>\n      <td>0</td>\n      <td>0</td>\n      <td>Avg hrs per day - Socializing and communicatin...</td>\n      <td>0</td>\n      <td>600024</td>\n      <td>...</td>\n      <td>Socializing and communicating</td>\n      <td>15 years and over</td>\n      <td>All persons</td>\n      <td>All education levels</td>\n      <td>NaN</td>\n      <td>NaN</td>\n      <td>All days</td>\n      <td>Asian</td>\n      <td>Both sexes</td>\n      <td>Average hours per day</td>\n    </tr>\n    <tr>\n      <th>7592</th>\n      <td>7592</td>\n      <td>TUU10101AA01014274</td>\n      <td>0</td>\n      <td>4</td>\n      <td>0</td>\n      <td>0</td>\n      <td>0</td>\n      <td>Avg hrs per day - Watching TV, Asian</td>\n      <td>0</td>\n      <td>600025</td>\n      <td>...</td>\n      <td>Watching TV</td>\n      <td>15 years and over</td>\n      <td>All persons</td>\n      <td>All education levels</td>\n      <td>NaN</td>\n      <td>NaN</td>\n      <td>All days</td>\n      <td>Asian</td>\n      <td>Both sexes</td>\n      <td>Average hours per day</td>\n    </tr>\n    <tr>\n      <th>7701</th>\n      <td>7701</td>\n      <td>TUU10101AA01014548</td>\n      <td>0</td>\n      <td>4</td>\n      <td>0</td>\n      <td>0</td>\n      <td>0</td>\n      <td>Avg hrs per day - Participating in sports, exe...</td>\n      <td>0</td>\n      <td>600027</td>\n      <td>...</td>\n      <td>Participating in sports, exercise, and recreat...</td>\n      <td>15 years and over</td>\n      <td>All persons</td>\n      <td>All education levels</td>\n      <td>NaN</td>\n      <td>NaN</td>\n      <td>All days</td>\n      <td>Asian</td>\n      <td>Both sexes</td>\n      <td>Average hours per day</td>\n    </tr>\n    <tr>\n      <th>8424</th>\n      <td>8424</td>\n      <td>TUU10101AA01016314</td>\n      <td>0</td>\n      <td>4</td>\n      <td>0</td>\n      <td>0</td>\n      <td>0</td>\n      <td>Avg hrs per day - Playing games and computer u...</td>\n      <td>0</td>\n      <td>600058</td>\n      <td>...</td>\n      <td>Playing games and computer use for leisure</td>\n      <td>15 years and over</td>\n      <td>All persons</td>\n      <td>All education levels</td>\n      <td>NaN</td>\n      <td>NaN</td>\n      <td>All days</td>\n      <td>Asian</td>\n      <td>Both sexes</td>\n      <td>Average hours per day</td>\n    </tr>\n    <tr>\n      <th>8448</th>\n      <td>8448</td>\n      <td>TUU10101AA01016392</td>\n      <td>0</td>\n      <td>4</td>\n      <td>0</td>\n      <td>0</td>\n      <td>0</td>\n      <td>Avg hrs per day - Other leisure and sports act...</td>\n      <td>0</td>\n      <td>600059</td>\n      <td>...</td>\n      <td>Other leisure and sports activities, including...</td>\n      <td>15 years and over</td>\n      <td>All persons</td>\n      <td>All education levels</td>\n      <td>NaN</td>\n      <td>NaN</td>\n      <td>All days</td>\n      <td>Asian</td>\n      <td>Both sexes</td>\n      <td>Average hours per day</td>\n    </tr>\n  </tbody>\n</table>\n<p>8 rows × 23 columns</p>\n</div>",
          "text/plain": "      Unnamed: 0  series_id                       sex_code  race_code  \\\n3478        3478  TUU10101AA01005685                     0          4   \n3703        3703  TUU10101AA01006342                     0          4   \n7303        7303  TUU10101AA01013623                     0          4   \n7472        7472  TUU10101AA01013989                     0          4   \n7592        7592  TUU10101AA01014274                     0          4   \n7701        7701  TUU10101AA01014548                     0          4   \n8424        8424  TUU10101AA01016314                     0          4   \n8448        8448  TUU10101AA01016392                     0          4   \n\n      educ_code  age_code  pertype_code  \\\n3478          0         0             0   \n3703          0         0             0   \n7303          0         0             0   \n7472          0         0             0   \n7592          0         0             0   \n7701          0         0             0   \n8424          0         0             0   \n8448          0         0             0   \n\n                                           series_title  earn_code  \\\n3478     Avg hrs per day - Relaxing and thinking, Asian          0   \n3703  Avg hrs per day - Reading for personal interes...          0   \n7303  Avg hrs per day - Leisure and sports (includes...          0   \n7472  Avg hrs per day - Socializing and communicatin...          0   \n7592               Avg hrs per day - Watching TV, Asian          0   \n7701  Avg hrs per day - Participating in sports, exe...          0   \n8424  Avg hrs per day - Playing games and computer u...          0   \n8448  Avg hrs per day - Other leisure and sports act...          0   \n\n      actcode_code  ...                                       actcode_text  \\\n3478        120301  ...                              Relaxing and thinking   \n3703        120312  ...                      Reading for personal interest   \n7303        600023  ...               Leisure and sports (includes travel)   \n7472        600024  ...                      Socializing and communicating   \n7592        600025  ...                                        Watching TV   \n7701        600027  ...  Participating in sports, exercise, and recreat...   \n8424        600058  ...         Playing games and computer use for leisure   \n8448        600059  ...  Other leisure and sports activities, including...   \n\n               age_text    earn_text             educ_text lfstat_text  \\\n3478  15 years and over  All persons  All education levels         NaN   \n3703  15 years and over  All persons  All education levels         NaN   \n7303  15 years and over  All persons  All education levels         NaN   \n7472  15 years and over  All persons  All education levels         NaN   \n7592  15 years and over  All persons  All education levels         NaN   \n7701  15 years and over  All persons  All education levels         NaN   \n8424  15 years and over  All persons  All education levels         NaN   \n8448  15 years and over  All persons  All education levels         NaN   \n\n     orig_text pertype_text race_text    sex_text          stattype_text  \n3478       NaN     All days     Asian  Both sexes  Average hours per day  \n3703       NaN     All days     Asian  Both sexes  Average hours per day  \n7303       NaN     All days     Asian  Both sexes  Average hours per day  \n7472       NaN     All days     Asian  Both sexes  Average hours per day  \n7592       NaN     All days     Asian  Both sexes  Average hours per day  \n7701       NaN     All days     Asian  Both sexes  Average hours per day  \n8424       NaN     All days     Asian  Both sexes  Average hours per day  \n8448       NaN     All days     Asian  Both sexes  Average hours per day  \n\n[8 rows x 23 columns]"
         },
         "metadata": {},
         "output_type": "display_data"
        }
       ]
      }
     },
     "336fc52ebe284b5e81442f6d4e23c06f": {
      "model_module": "@jupyter-widgets/output",
      "model_module_version": "1.0.0",
      "model_name": "OutputModel",
      "state": {
       "layout": "IPY_MODEL_9bfa305f4de9497e985c6fdf5aa10933",
       "outputs": [
        {
         "data": {
          "text/plain": "8874"
         },
         "metadata": {},
         "output_type": "display_data"
        },
        {
         "name": "stdout",
         "output_type": "stream",
         "text": "33       TUU10101AA01000000            \n34       TUU10101AA01000003            \n35       TUU10101AA01000005            \n36       TUU10101AA01000007            \n37       TUU10101AA01000008            \n                      ...              \n25495    TUU10101QA01014521            \n25496    TUU10101QA01015010            \n25497    TUU10101QA01015349            \n25498    TUU10101QA01015586            \n25499    TUU10101QA01015925            \nName: series_id                     , Length: 8874, dtype: object\n"
        }
       ]
      }
     },
     "339a5cd3d5b34260ba81428f27cf240e": {
      "model_module": "@jupyter-widgets/controls",
      "model_module_version": "1.5.0",
      "model_name": "DescriptionStyleModel",
      "state": {
       "description_width": ""
      }
     },
     "34d3b932049f46e5a539851ff7a38d1a": {
      "model_module": "@jupyter-widgets/base",
      "model_module_version": "1.2.0",
      "model_name": "LayoutModel",
      "state": {}
     },
     "38422a7e217a456b9cd64f0f1d369dd4": {
      "model_module": "@jupyter-widgets/output",
      "model_module_version": "1.0.0",
      "model_name": "OutputModel",
      "state": {
       "layout": "IPY_MODEL_92d28062a654483e84653fde6d8b5e91",
       "outputs": [
        {
         "ename": "KeyError",
         "evalue": "'series_id'",
         "output_type": "error",
         "traceback": [
          "\u001b[1;31m---------------------------------------------------------------------------\u001b[0m",
          "\u001b[1;31mKeyError\u001b[0m                                  Traceback (most recent call last)",
          "\u001b[1;32m~\\AppData\\Local\\Continuum\\anaconda3\\lib\\site-packages\\pandas\\core\\indexes\\base.py\u001b[0m in \u001b[0;36mget_loc\u001b[1;34m(self, key, method, tolerance)\u001b[0m\n\u001b[0;32m   2645\u001b[0m             \u001b[1;32mtry\u001b[0m\u001b[1;33m:\u001b[0m\u001b[1;33m\u001b[0m\u001b[1;33m\u001b[0m\u001b[0m\n\u001b[1;32m-> 2646\u001b[1;33m                 \u001b[1;32mreturn\u001b[0m \u001b[0mself\u001b[0m\u001b[1;33m.\u001b[0m\u001b[0m_engine\u001b[0m\u001b[1;33m.\u001b[0m\u001b[0mget_loc\u001b[0m\u001b[1;33m(\u001b[0m\u001b[0mkey\u001b[0m\u001b[1;33m)\u001b[0m\u001b[1;33m\u001b[0m\u001b[1;33m\u001b[0m\u001b[0m\n\u001b[0m\u001b[0;32m   2647\u001b[0m             \u001b[1;32mexcept\u001b[0m \u001b[0mKeyError\u001b[0m\u001b[1;33m:\u001b[0m\u001b[1;33m\u001b[0m\u001b[1;33m\u001b[0m\u001b[0m\n",
          "\u001b[1;32mpandas\\_libs\\index.pyx\u001b[0m in \u001b[0;36mpandas._libs.index.IndexEngine.get_loc\u001b[1;34m()\u001b[0m\n",
          "\u001b[1;32mpandas\\_libs\\index.pyx\u001b[0m in \u001b[0;36mpandas._libs.index.IndexEngine.get_loc\u001b[1;34m()\u001b[0m\n",
          "\u001b[1;32mpandas\\_libs\\hashtable_class_helper.pxi\u001b[0m in \u001b[0;36mpandas._libs.hashtable.PyObjectHashTable.get_item\u001b[1;34m()\u001b[0m\n",
          "\u001b[1;32mpandas\\_libs\\hashtable_class_helper.pxi\u001b[0m in \u001b[0;36mpandas._libs.hashtable.PyObjectHashTable.get_item\u001b[1;34m()\u001b[0m\n",
          "\u001b[1;31mKeyError\u001b[0m: 'series_id'",
          "\nDuring handling of the above exception, another exception occurred:\n",
          "\u001b[1;31mKeyError\u001b[0m                                  Traceback (most recent call last)",
          "\u001b[1;32m<ipython-input-296-70f2e11aa38d>\u001b[0m in \u001b[0;36mcommon_filtering\u001b[1;34m(stats, gender, eth)\u001b[0m\n\u001b[0;32m     17\u001b[0m         \u001b[0mdisplay\u001b[0m\u001b[1;33m(\u001b[0m\u001b[0mcommon_filter\u001b[0m\u001b[1;33m)\u001b[0m\u001b[1;33m\u001b[0m\u001b[1;33m\u001b[0m\u001b[0m\n\u001b[0;32m     18\u001b[0m     \u001b[1;32mwith\u001b[0m \u001b[0mlist_output\u001b[0m\u001b[1;33m:\u001b[0m\u001b[1;33m\u001b[0m\u001b[1;33m\u001b[0m\u001b[0m\n\u001b[1;32m---> 19\u001b[1;33m         \u001b[0mdisplay\u001b[0m\u001b[1;33m(\u001b[0m\u001b[0mcommon_filter\u001b[0m\u001b[1;33m[\u001b[0m\u001b[1;34m'series_id'\u001b[0m\u001b[1;33m]\u001b[0m\u001b[1;33m)\u001b[0m\u001b[1;33m\u001b[0m\u001b[1;33m\u001b[0m\u001b[0m\n\u001b[0m",
          "\u001b[1;32m~\\AppData\\Local\\Continuum\\anaconda3\\lib\\site-packages\\pandas\\core\\frame.py\u001b[0m in \u001b[0;36m__getitem__\u001b[1;34m(self, key)\u001b[0m\n\u001b[0;32m   2798\u001b[0m             \u001b[1;32mif\u001b[0m \u001b[0mself\u001b[0m\u001b[1;33m.\u001b[0m\u001b[0mcolumns\u001b[0m\u001b[1;33m.\u001b[0m\u001b[0mnlevels\u001b[0m \u001b[1;33m>\u001b[0m \u001b[1;36m1\u001b[0m\u001b[1;33m:\u001b[0m\u001b[1;33m\u001b[0m\u001b[1;33m\u001b[0m\u001b[0m\n\u001b[0;32m   2799\u001b[0m                 \u001b[1;32mreturn\u001b[0m \u001b[0mself\u001b[0m\u001b[1;33m.\u001b[0m\u001b[0m_getitem_multilevel\u001b[0m\u001b[1;33m(\u001b[0m\u001b[0mkey\u001b[0m\u001b[1;33m)\u001b[0m\u001b[1;33m\u001b[0m\u001b[1;33m\u001b[0m\u001b[0m\n\u001b[1;32m-> 2800\u001b[1;33m             \u001b[0mindexer\u001b[0m \u001b[1;33m=\u001b[0m \u001b[0mself\u001b[0m\u001b[1;33m.\u001b[0m\u001b[0mcolumns\u001b[0m\u001b[1;33m.\u001b[0m\u001b[0mget_loc\u001b[0m\u001b[1;33m(\u001b[0m\u001b[0mkey\u001b[0m\u001b[1;33m)\u001b[0m\u001b[1;33m\u001b[0m\u001b[1;33m\u001b[0m\u001b[0m\n\u001b[0m\u001b[0;32m   2801\u001b[0m             \u001b[1;32mif\u001b[0m \u001b[0mis_integer\u001b[0m\u001b[1;33m(\u001b[0m\u001b[0mindexer\u001b[0m\u001b[1;33m)\u001b[0m\u001b[1;33m:\u001b[0m\u001b[1;33m\u001b[0m\u001b[1;33m\u001b[0m\u001b[0m\n\u001b[0;32m   2802\u001b[0m                 \u001b[0mindexer\u001b[0m \u001b[1;33m=\u001b[0m \u001b[1;33m[\u001b[0m\u001b[0mindexer\u001b[0m\u001b[1;33m]\u001b[0m\u001b[1;33m\u001b[0m\u001b[1;33m\u001b[0m\u001b[0m\n",
          "\u001b[1;32m~\\AppData\\Local\\Continuum\\anaconda3\\lib\\site-packages\\pandas\\core\\indexes\\base.py\u001b[0m in \u001b[0;36mget_loc\u001b[1;34m(self, key, method, tolerance)\u001b[0m\n\u001b[0;32m   2646\u001b[0m                 \u001b[1;32mreturn\u001b[0m \u001b[0mself\u001b[0m\u001b[1;33m.\u001b[0m\u001b[0m_engine\u001b[0m\u001b[1;33m.\u001b[0m\u001b[0mget_loc\u001b[0m\u001b[1;33m(\u001b[0m\u001b[0mkey\u001b[0m\u001b[1;33m)\u001b[0m\u001b[1;33m\u001b[0m\u001b[1;33m\u001b[0m\u001b[0m\n\u001b[0;32m   2647\u001b[0m             \u001b[1;32mexcept\u001b[0m \u001b[0mKeyError\u001b[0m\u001b[1;33m:\u001b[0m\u001b[1;33m\u001b[0m\u001b[1;33m\u001b[0m\u001b[0m\n\u001b[1;32m-> 2648\u001b[1;33m                 \u001b[1;32mreturn\u001b[0m \u001b[0mself\u001b[0m\u001b[1;33m.\u001b[0m\u001b[0m_engine\u001b[0m\u001b[1;33m.\u001b[0m\u001b[0mget_loc\u001b[0m\u001b[1;33m(\u001b[0m\u001b[0mself\u001b[0m\u001b[1;33m.\u001b[0m\u001b[0m_maybe_cast_indexer\u001b[0m\u001b[1;33m(\u001b[0m\u001b[0mkey\u001b[0m\u001b[1;33m)\u001b[0m\u001b[1;33m)\u001b[0m\u001b[1;33m\u001b[0m\u001b[1;33m\u001b[0m\u001b[0m\n\u001b[0m\u001b[0;32m   2649\u001b[0m         \u001b[0mindexer\u001b[0m \u001b[1;33m=\u001b[0m \u001b[0mself\u001b[0m\u001b[1;33m.\u001b[0m\u001b[0mget_indexer\u001b[0m\u001b[1;33m(\u001b[0m\u001b[1;33m[\u001b[0m\u001b[0mkey\u001b[0m\u001b[1;33m]\u001b[0m\u001b[1;33m,\u001b[0m \u001b[0mmethod\u001b[0m\u001b[1;33m=\u001b[0m\u001b[0mmethod\u001b[0m\u001b[1;33m,\u001b[0m \u001b[0mtolerance\u001b[0m\u001b[1;33m=\u001b[0m\u001b[0mtolerance\u001b[0m\u001b[1;33m)\u001b[0m\u001b[1;33m\u001b[0m\u001b[1;33m\u001b[0m\u001b[0m\n\u001b[0;32m   2650\u001b[0m         \u001b[1;32mif\u001b[0m \u001b[0mindexer\u001b[0m\u001b[1;33m.\u001b[0m\u001b[0mndim\u001b[0m \u001b[1;33m>\u001b[0m \u001b[1;36m1\u001b[0m \u001b[1;32mor\u001b[0m \u001b[0mindexer\u001b[0m\u001b[1;33m.\u001b[0m\u001b[0msize\u001b[0m \u001b[1;33m>\u001b[0m \u001b[1;36m1\u001b[0m\u001b[1;33m:\u001b[0m\u001b[1;33m\u001b[0m\u001b[1;33m\u001b[0m\u001b[0m\n",
          "\u001b[1;32mpandas\\_libs\\index.pyx\u001b[0m in \u001b[0;36mpandas._libs.index.IndexEngine.get_loc\u001b[1;34m()\u001b[0m\n",
          "\u001b[1;32mpandas\\_libs\\index.pyx\u001b[0m in \u001b[0;36mpandas._libs.index.IndexEngine.get_loc\u001b[1;34m()\u001b[0m\n",
          "\u001b[1;32mpandas\\_libs\\hashtable_class_helper.pxi\u001b[0m in \u001b[0;36mpandas._libs.hashtable.PyObjectHashTable.get_item\u001b[1;34m()\u001b[0m\n",
          "\u001b[1;32mpandas\\_libs\\hashtable_class_helper.pxi\u001b[0m in \u001b[0;36mpandas._libs.hashtable.PyObjectHashTable.get_item\u001b[1;34m()\u001b[0m\n",
          "\u001b[1;31mKeyError\u001b[0m: 'series_id'"
         ]
        }
       ]
      }
     },
     "3877232471f14118a1dbd7e51dc17b21": {
      "model_module": "@jupyter-widgets/base",
      "model_module_version": "1.2.0",
      "model_name": "LayoutModel",
      "state": {}
     },
     "3b6d91f01cba4688be026b0aae30753c": {
      "model_module": "@jupyter-widgets/output",
      "model_module_version": "1.0.0",
      "model_name": "OutputModel",
      "state": {
       "layout": "IPY_MODEL_6b417dea44ea451aa9f2c9a4495b6732",
       "outputs": [
        {
         "data": {
          "text/html": "<div>\n<style scoped>\n    .dataframe tbody tr th:only-of-type {\n        vertical-align: middle;\n    }\n\n    .dataframe tbody tr th {\n        vertical-align: top;\n    }\n\n    .dataframe thead th {\n        text-align: right;\n    }\n</style>\n<table border=\"1\" class=\"dataframe\">\n  <thead>\n    <tr style=\"text-align: right;\">\n      <th></th>\n      <th>Unnamed: 0</th>\n      <th>series_id</th>\n      <th>sex_code</th>\n      <th>race_code</th>\n      <th>educ_code</th>\n      <th>age_code</th>\n      <th>pertype_code</th>\n      <th>series_title</th>\n      <th>earn_code</th>\n      <th>actcode_code</th>\n      <th>...</th>\n      <th>actcode_text</th>\n      <th>age_text</th>\n      <th>earn_text</th>\n      <th>educ_text</th>\n      <th>lfstat_text</th>\n      <th>orig_text</th>\n      <th>pertype_text</th>\n      <th>race_text</th>\n      <th>sex_text</th>\n      <th>stattype_text</th>\n    </tr>\n  </thead>\n  <tbody>\n    <tr>\n      <th>3478</th>\n      <td>3478</td>\n      <td>TUU10101AA01005685</td>\n      <td>0</td>\n      <td>4</td>\n      <td>0</td>\n      <td>0</td>\n      <td>0</td>\n      <td>Avg hrs per day - Relaxing and thinking, Asian</td>\n      <td>0</td>\n      <td>120301</td>\n      <td>...</td>\n      <td>Relaxing and thinking</td>\n      <td>15 years and over</td>\n      <td>All persons</td>\n      <td>All education levels</td>\n      <td>NaN</td>\n      <td>NaN</td>\n      <td>All days</td>\n      <td>Asian</td>\n      <td>Both sexes</td>\n      <td>Average hours per day</td>\n    </tr>\n    <tr>\n      <th>3703</th>\n      <td>3703</td>\n      <td>TUU10101AA01006342</td>\n      <td>0</td>\n      <td>4</td>\n      <td>0</td>\n      <td>0</td>\n      <td>0</td>\n      <td>Avg hrs per day - Reading for personal interes...</td>\n      <td>0</td>\n      <td>120312</td>\n      <td>...</td>\n      <td>Reading for personal interest</td>\n      <td>15 years and over</td>\n      <td>All persons</td>\n      <td>All education levels</td>\n      <td>NaN</td>\n      <td>NaN</td>\n      <td>All days</td>\n      <td>Asian</td>\n      <td>Both sexes</td>\n      <td>Average hours per day</td>\n    </tr>\n    <tr>\n      <th>7303</th>\n      <td>7303</td>\n      <td>TUU10101AA01013623</td>\n      <td>0</td>\n      <td>4</td>\n      <td>0</td>\n      <td>0</td>\n      <td>0</td>\n      <td>Avg hrs per day - Leisure and sports (includes...</td>\n      <td>0</td>\n      <td>600023</td>\n      <td>...</td>\n      <td>Leisure and sports (includes travel)</td>\n      <td>15 years and over</td>\n      <td>All persons</td>\n      <td>All education levels</td>\n      <td>NaN</td>\n      <td>NaN</td>\n      <td>All days</td>\n      <td>Asian</td>\n      <td>Both sexes</td>\n      <td>Average hours per day</td>\n    </tr>\n    <tr>\n      <th>7472</th>\n      <td>7472</td>\n      <td>TUU10101AA01013989</td>\n      <td>0</td>\n      <td>4</td>\n      <td>0</td>\n      <td>0</td>\n      <td>0</td>\n      <td>Avg hrs per day - Socializing and communicatin...</td>\n      <td>0</td>\n      <td>600024</td>\n      <td>...</td>\n      <td>Socializing and communicating</td>\n      <td>15 years and over</td>\n      <td>All persons</td>\n      <td>All education levels</td>\n      <td>NaN</td>\n      <td>NaN</td>\n      <td>All days</td>\n      <td>Asian</td>\n      <td>Both sexes</td>\n      <td>Average hours per day</td>\n    </tr>\n    <tr>\n      <th>7592</th>\n      <td>7592</td>\n      <td>TUU10101AA01014274</td>\n      <td>0</td>\n      <td>4</td>\n      <td>0</td>\n      <td>0</td>\n      <td>0</td>\n      <td>Avg hrs per day - Watching TV, Asian</td>\n      <td>0</td>\n      <td>600025</td>\n      <td>...</td>\n      <td>Watching TV</td>\n      <td>15 years and over</td>\n      <td>All persons</td>\n      <td>All education levels</td>\n      <td>NaN</td>\n      <td>NaN</td>\n      <td>All days</td>\n      <td>Asian</td>\n      <td>Both sexes</td>\n      <td>Average hours per day</td>\n    </tr>\n    <tr>\n      <th>7701</th>\n      <td>7701</td>\n      <td>TUU10101AA01014548</td>\n      <td>0</td>\n      <td>4</td>\n      <td>0</td>\n      <td>0</td>\n      <td>0</td>\n      <td>Avg hrs per day - Participating in sports, exe...</td>\n      <td>0</td>\n      <td>600027</td>\n      <td>...</td>\n      <td>Participating in sports, exercise, and recreat...</td>\n      <td>15 years and over</td>\n      <td>All persons</td>\n      <td>All education levels</td>\n      <td>NaN</td>\n      <td>NaN</td>\n      <td>All days</td>\n      <td>Asian</td>\n      <td>Both sexes</td>\n      <td>Average hours per day</td>\n    </tr>\n    <tr>\n      <th>8424</th>\n      <td>8424</td>\n      <td>TUU10101AA01016314</td>\n      <td>0</td>\n      <td>4</td>\n      <td>0</td>\n      <td>0</td>\n      <td>0</td>\n      <td>Avg hrs per day - Playing games and computer u...</td>\n      <td>0</td>\n      <td>600058</td>\n      <td>...</td>\n      <td>Playing games and computer use for leisure</td>\n      <td>15 years and over</td>\n      <td>All persons</td>\n      <td>All education levels</td>\n      <td>NaN</td>\n      <td>NaN</td>\n      <td>All days</td>\n      <td>Asian</td>\n      <td>Both sexes</td>\n      <td>Average hours per day</td>\n    </tr>\n    <tr>\n      <th>8448</th>\n      <td>8448</td>\n      <td>TUU10101AA01016392</td>\n      <td>0</td>\n      <td>4</td>\n      <td>0</td>\n      <td>0</td>\n      <td>0</td>\n      <td>Avg hrs per day - Other leisure and sports act...</td>\n      <td>0</td>\n      <td>600059</td>\n      <td>...</td>\n      <td>Other leisure and sports activities, including...</td>\n      <td>15 years and over</td>\n      <td>All persons</td>\n      <td>All education levels</td>\n      <td>NaN</td>\n      <td>NaN</td>\n      <td>All days</td>\n      <td>Asian</td>\n      <td>Both sexes</td>\n      <td>Average hours per day</td>\n    </tr>\n  </tbody>\n</table>\n<p>8 rows × 23 columns</p>\n</div>",
          "text/plain": "      Unnamed: 0  series_id                       sex_code  race_code  \\\n3478        3478  TUU10101AA01005685                     0          4   \n3703        3703  TUU10101AA01006342                     0          4   \n7303        7303  TUU10101AA01013623                     0          4   \n7472        7472  TUU10101AA01013989                     0          4   \n7592        7592  TUU10101AA01014274                     0          4   \n7701        7701  TUU10101AA01014548                     0          4   \n8424        8424  TUU10101AA01016314                     0          4   \n8448        8448  TUU10101AA01016392                     0          4   \n\n      educ_code  age_code  pertype_code  \\\n3478          0         0             0   \n3703          0         0             0   \n7303          0         0             0   \n7472          0         0             0   \n7592          0         0             0   \n7701          0         0             0   \n8424          0         0             0   \n8448          0         0             0   \n\n                                           series_title  earn_code  \\\n3478     Avg hrs per day - Relaxing and thinking, Asian          0   \n3703  Avg hrs per day - Reading for personal interes...          0   \n7303  Avg hrs per day - Leisure and sports (includes...          0   \n7472  Avg hrs per day - Socializing and communicatin...          0   \n7592               Avg hrs per day - Watching TV, Asian          0   \n7701  Avg hrs per day - Participating in sports, exe...          0   \n8424  Avg hrs per day - Playing games and computer u...          0   \n8448  Avg hrs per day - Other leisure and sports act...          0   \n\n      actcode_code  ...                                       actcode_text  \\\n3478        120301  ...                              Relaxing and thinking   \n3703        120312  ...                      Reading for personal interest   \n7303        600023  ...               Leisure and sports (includes travel)   \n7472        600024  ...                      Socializing and communicating   \n7592        600025  ...                                        Watching TV   \n7701        600027  ...  Participating in sports, exercise, and recreat...   \n8424        600058  ...         Playing games and computer use for leisure   \n8448        600059  ...  Other leisure and sports activities, including...   \n\n               age_text    earn_text             educ_text lfstat_text  \\\n3478  15 years and over  All persons  All education levels         NaN   \n3703  15 years and over  All persons  All education levels         NaN   \n7303  15 years and over  All persons  All education levels         NaN   \n7472  15 years and over  All persons  All education levels         NaN   \n7592  15 years and over  All persons  All education levels         NaN   \n7701  15 years and over  All persons  All education levels         NaN   \n8424  15 years and over  All persons  All education levels         NaN   \n8448  15 years and over  All persons  All education levels         NaN   \n\n     orig_text pertype_text race_text    sex_text          stattype_text  \n3478       NaN     All days     Asian  Both sexes  Average hours per day  \n3703       NaN     All days     Asian  Both sexes  Average hours per day  \n7303       NaN     All days     Asian  Both sexes  Average hours per day  \n7472       NaN     All days     Asian  Both sexes  Average hours per day  \n7592       NaN     All days     Asian  Both sexes  Average hours per day  \n7701       NaN     All days     Asian  Both sexes  Average hours per day  \n8424       NaN     All days     Asian  Both sexes  Average hours per day  \n8448       NaN     All days     Asian  Both sexes  Average hours per day  \n\n[8 rows x 23 columns]"
         },
         "metadata": {},
         "output_type": "display_data"
        }
       ]
      }
     },
     "3ba76e7c3b6f4e15afa80bbecc8399f2": {
      "model_module": "@jupyter-widgets/controls",
      "model_module_version": "1.5.0",
      "model_name": "DescriptionStyleModel",
      "state": {
       "description_width": ""
      }
     },
     "3bb84d0c86764a68aa7159e64a4d296c": {
      "model_module": "@jupyter-widgets/controls",
      "model_module_version": "1.5.0",
      "model_name": "DropdownModel",
      "state": {
       "_options_labels": [
        "ALL",
        "Both sexes",
        "Men",
        "Women"
       ],
       "description": "Gender:",
       "index": 1,
       "layout": "IPY_MODEL_96092a0e732148138b0e5aa605f58e49",
       "style": "IPY_MODEL_84f329ee0b734c6d934e9f37e14a3ebc"
      }
     },
     "3c65bb7b63ff42c9b08894e879826737": {
      "model_module": "@jupyter-widgets/controls",
      "model_module_version": "1.5.0",
      "model_name": "DescriptionStyleModel",
      "state": {
       "description_width": ""
      }
     },
     "3cd2f379e7624f18a36be7bcaad59d97": {
      "model_module": "@jupyter-widgets/output",
      "model_module_version": "1.0.0",
      "model_name": "OutputModel",
      "state": {
       "layout": "IPY_MODEL_bfce89fa45d140e59ee4a7210991e10a",
       "outputs": [
        {
         "data": {
          "text/html": "<div>\n<style scoped>\n    .dataframe tbody tr th:only-of-type {\n        vertical-align: middle;\n    }\n\n    .dataframe tbody tr th {\n        vertical-align: top;\n    }\n\n    .dataframe thead th {\n        text-align: right;\n    }\n</style>\n<table border=\"1\" class=\"dataframe\">\n  <thead>\n    <tr style=\"text-align: right;\">\n      <th></th>\n      <th>Unnamed: 0</th>\n      <th>series_id</th>\n      <th>sex_code</th>\n      <th>race_code</th>\n      <th>educ_code</th>\n      <th>age_code</th>\n      <th>pertype_code</th>\n      <th>series_title</th>\n      <th>earn_code</th>\n      <th>actcode_code</th>\n      <th>...</th>\n      <th>actcode_text</th>\n      <th>age_text</th>\n      <th>earn_text</th>\n      <th>educ_text</th>\n      <th>lfstat_text</th>\n      <th>orig_text</th>\n      <th>pertype_text</th>\n      <th>race_text</th>\n      <th>sex_text</th>\n      <th>stattype_text</th>\n    </tr>\n  </thead>\n  <tbody>\n    <tr>\n      <th>3477</th>\n      <td>3477</td>\n      <td>TUU10101AA01005684</td>\n      <td>0</td>\n      <td>3</td>\n      <td>0</td>\n      <td>0</td>\n      <td>0</td>\n      <td>Avg hrs per day - Relaxing and thinking, Black...</td>\n      <td>0</td>\n      <td>120301</td>\n      <td>...</td>\n      <td>Relaxing and thinking</td>\n      <td>15 years and over</td>\n      <td>All persons</td>\n      <td>All education levels</td>\n      <td>NaN</td>\n      <td>NaN</td>\n      <td>All days</td>\n      <td>Black or African American</td>\n      <td>Both sexes</td>\n      <td>Average hours per day</td>\n    </tr>\n    <tr>\n      <th>3702</th>\n      <td>3702</td>\n      <td>TUU10101AA01006341</td>\n      <td>0</td>\n      <td>3</td>\n      <td>0</td>\n      <td>0</td>\n      <td>0</td>\n      <td>Avg hrs per day - Reading for personal interes...</td>\n      <td>0</td>\n      <td>120312</td>\n      <td>...</td>\n      <td>Reading for personal interest</td>\n      <td>15 years and over</td>\n      <td>All persons</td>\n      <td>All education levels</td>\n      <td>NaN</td>\n      <td>NaN</td>\n      <td>All days</td>\n      <td>Black or African American</td>\n      <td>Both sexes</td>\n      <td>Average hours per day</td>\n    </tr>\n    <tr>\n      <th>5381</th>\n      <td>5381</td>\n      <td>TUU10101AA01008860</td>\n      <td>0</td>\n      <td>3</td>\n      <td>0</td>\n      <td>0</td>\n      <td>0</td>\n      <td>Avg hrs per day - Personal care activities (in...</td>\n      <td>0</td>\n      <td>600001</td>\n      <td>...</td>\n      <td>Personal care activities (includes travel)</td>\n      <td>15 years and over</td>\n      <td>All persons</td>\n      <td>All education levels</td>\n      <td>NaN</td>\n      <td>NaN</td>\n      <td>All days</td>\n      <td>Black or African American</td>\n      <td>Both sexes</td>\n      <td>Average hours per day</td>\n    </tr>\n    <tr>\n      <th>5544</th>\n      <td>5544</td>\n      <td>TUU10101AA01009412</td>\n      <td>0</td>\n      <td>3</td>\n      <td>0</td>\n      <td>0</td>\n      <td>0</td>\n      <td>Avg hrs per day - Household activities (includ...</td>\n      <td>0</td>\n      <td>600003</td>\n      <td>...</td>\n      <td>Household activities (includes travel)</td>\n      <td>15 years and over</td>\n      <td>All persons</td>\n      <td>All education levels</td>\n      <td>NaN</td>\n      <td>NaN</td>\n      <td>All days</td>\n      <td>Black or African American</td>\n      <td>Both sexes</td>\n      <td>Average hours per day</td>\n    </tr>\n    <tr>\n      <th>5809</th>\n      <td>5809</td>\n      <td>TUU10101AA01010405</td>\n      <td>0</td>\n      <td>3</td>\n      <td>0</td>\n      <td>0</td>\n      <td>0</td>\n      <td>Avg hrs per day - Caring for and helping house...</td>\n      <td>0</td>\n      <td>600007</td>\n      <td>...</td>\n      <td>Caring for and helping household members (incl...</td>\n      <td>15 years and over</td>\n      <td>All persons</td>\n      <td>All education levels</td>\n      <td>NaN</td>\n      <td>NaN</td>\n      <td>All days</td>\n      <td>Black or African American</td>\n      <td>Both sexes</td>\n      <td>Average hours per day</td>\n    </tr>\n    <tr>\n      <th>6176</th>\n      <td>6176</td>\n      <td>TUU10101AA01011205</td>\n      <td>0</td>\n      <td>3</td>\n      <td>0</td>\n      <td>0</td>\n      <td>0</td>\n      <td>Avg hrs per day - Caring for and helping nonho...</td>\n      <td>0</td>\n      <td>600010</td>\n      <td>...</td>\n      <td>Caring for and helping nonhousehold members (i...</td>\n      <td>15 years and over</td>\n      <td>All persons</td>\n      <td>All education levels</td>\n      <td>NaN</td>\n      <td>NaN</td>\n      <td>All days</td>\n      <td>Black or African American</td>\n      <td>Both sexes</td>\n      <td>Average hours per day</td>\n    </tr>\n    <tr>\n      <th>6543</th>\n      <td>6543</td>\n      <td>TUU10101AA01012018</td>\n      <td>0</td>\n      <td>3</td>\n      <td>0</td>\n      <td>0</td>\n      <td>0</td>\n      <td>Avg hrs per day - Working and work-related act...</td>\n      <td>0</td>\n      <td>600013</td>\n      <td>...</td>\n      <td>Working and work-related activities (includes ...</td>\n      <td>15 years and over</td>\n      <td>All persons</td>\n      <td>All education levels</td>\n      <td>NaN</td>\n      <td>NaN</td>\n      <td>All days</td>\n      <td>Black or African American</td>\n      <td>Both sexes</td>\n      <td>Average hours per day</td>\n    </tr>\n    <tr>\n      <th>6706</th>\n      <td>6706</td>\n      <td>TUU10101AA01012366</td>\n      <td>0</td>\n      <td>3</td>\n      <td>0</td>\n      <td>0</td>\n      <td>0</td>\n      <td>Avg hrs per day - Educational activities (incl...</td>\n      <td>0</td>\n      <td>600016</td>\n      <td>...</td>\n      <td>Educational activities (includes travel)</td>\n      <td>15 years and over</td>\n      <td>All persons</td>\n      <td>All education levels</td>\n      <td>NaN</td>\n      <td>NaN</td>\n      <td>All days</td>\n      <td>Black or African American</td>\n      <td>Both sexes</td>\n      <td>Average hours per day</td>\n    </tr>\n    <tr>\n      <th>6869</th>\n      <td>6869</td>\n      <td>TUU10101AA01012683</td>\n      <td>0</td>\n      <td>3</td>\n      <td>0</td>\n      <td>0</td>\n      <td>0</td>\n      <td>Avg hrs per day - Purchasing goods and service...</td>\n      <td>0</td>\n      <td>600018</td>\n      <td>...</td>\n      <td>Purchasing goods and services (includes travel)</td>\n      <td>15 years and over</td>\n      <td>All persons</td>\n      <td>All education levels</td>\n      <td>NaN</td>\n      <td>NaN</td>\n      <td>All days</td>\n      <td>Black or African American</td>\n      <td>Both sexes</td>\n      <td>Average hours per day</td>\n    </tr>\n    <tr>\n      <th>7134</th>\n      <td>7134</td>\n      <td>TUU10101AA01013268</td>\n      <td>0</td>\n      <td>3</td>\n      <td>0</td>\n      <td>0</td>\n      <td>0</td>\n      <td>Avg hrs per day - Eating and drinking (include...</td>\n      <td>0</td>\n      <td>600022</td>\n      <td>...</td>\n      <td>Eating and drinking (includes travel)</td>\n      <td>15 years and over</td>\n      <td>All persons</td>\n      <td>All education levels</td>\n      <td>NaN</td>\n      <td>NaN</td>\n      <td>All days</td>\n      <td>Black or African American</td>\n      <td>Both sexes</td>\n      <td>Average hours per day</td>\n    </tr>\n    <tr>\n      <th>7302</th>\n      <td>7302</td>\n      <td>TUU10101AA01013622</td>\n      <td>0</td>\n      <td>3</td>\n      <td>0</td>\n      <td>0</td>\n      <td>0</td>\n      <td>Avg hrs per day - Leisure and sports (includes...</td>\n      <td>0</td>\n      <td>600023</td>\n      <td>...</td>\n      <td>Leisure and sports (includes travel)</td>\n      <td>15 years and over</td>\n      <td>All persons</td>\n      <td>All education levels</td>\n      <td>NaN</td>\n      <td>NaN</td>\n      <td>All days</td>\n      <td>Black or African American</td>\n      <td>Both sexes</td>\n      <td>Average hours per day</td>\n    </tr>\n    <tr>\n      <th>7471</th>\n      <td>7471</td>\n      <td>TUU10101AA01013988</td>\n      <td>0</td>\n      <td>3</td>\n      <td>0</td>\n      <td>0</td>\n      <td>0</td>\n      <td>Avg hrs per day - Socializing and communicatin...</td>\n      <td>0</td>\n      <td>600024</td>\n      <td>...</td>\n      <td>Socializing and communicating</td>\n      <td>15 years and over</td>\n      <td>All persons</td>\n      <td>All education levels</td>\n      <td>NaN</td>\n      <td>NaN</td>\n      <td>All days</td>\n      <td>Black or African American</td>\n      <td>Both sexes</td>\n      <td>Average hours per day</td>\n    </tr>\n    <tr>\n      <th>7591</th>\n      <td>7591</td>\n      <td>TUU10101AA01014273</td>\n      <td>0</td>\n      <td>3</td>\n      <td>0</td>\n      <td>0</td>\n      <td>0</td>\n      <td>Avg hrs per day - Watching TV, Black or Africa...</td>\n      <td>0</td>\n      <td>600025</td>\n      <td>...</td>\n      <td>Watching TV</td>\n      <td>15 years and over</td>\n      <td>All persons</td>\n      <td>All education levels</td>\n      <td>NaN</td>\n      <td>NaN</td>\n      <td>All days</td>\n      <td>Black or African American</td>\n      <td>Both sexes</td>\n      <td>Average hours per day</td>\n    </tr>\n    <tr>\n      <th>7700</th>\n      <td>7700</td>\n      <td>TUU10101AA01014547</td>\n      <td>0</td>\n      <td>3</td>\n      <td>0</td>\n      <td>0</td>\n      <td>0</td>\n      <td>Avg hrs per day - Participating in sports, exe...</td>\n      <td>0</td>\n      <td>600027</td>\n      <td>...</td>\n      <td>Participating in sports, exercise, and recreat...</td>\n      <td>15 years and over</td>\n      <td>All persons</td>\n      <td>All education levels</td>\n      <td>NaN</td>\n      <td>NaN</td>\n      <td>All days</td>\n      <td>Black or African American</td>\n      <td>Both sexes</td>\n      <td>Average hours per day</td>\n    </tr>\n    <tr>\n      <th>7846</th>\n      <td>7846</td>\n      <td>TUU10101AA01015041</td>\n      <td>0</td>\n      <td>3</td>\n      <td>0</td>\n      <td>0</td>\n      <td>0</td>\n      <td>Avg hrs per day - Organizational, civic, and r...</td>\n      <td>0</td>\n      <td>600030</td>\n      <td>...</td>\n      <td>Organizational, civic, and religious activities</td>\n      <td>15 years and over</td>\n      <td>All persons</td>\n      <td>All education levels</td>\n      <td>NaN</td>\n      <td>NaN</td>\n      <td>All days</td>\n      <td>Black or African American</td>\n      <td>Both sexes</td>\n      <td>Average hours per day</td>\n    </tr>\n    <tr>\n      <th>8111</th>\n      <td>8111</td>\n      <td>TUU10101AA01015617</td>\n      <td>0</td>\n      <td>3</td>\n      <td>0</td>\n      <td>0</td>\n      <td>0</td>\n      <td>Avg hrs per day - Telephone calls, mail, and e...</td>\n      <td>0</td>\n      <td>600033</td>\n      <td>...</td>\n      <td>Telephone calls, mail, and e-mail (includes tr...</td>\n      <td>15 years and over</td>\n      <td>All persons</td>\n      <td>All education levels</td>\n      <td>NaN</td>\n      <td>NaN</td>\n      <td>All days</td>\n      <td>Black or African American</td>\n      <td>Both sexes</td>\n      <td>Average hours per day</td>\n    </tr>\n    <tr>\n      <th>8274</th>\n      <td>8274</td>\n      <td>TUU10101AA01015956</td>\n      <td>0</td>\n      <td>3</td>\n      <td>0</td>\n      <td>0</td>\n      <td>0</td>\n      <td>Avg hrs per day - Other activities, not elsewh...</td>\n      <td>0</td>\n      <td>600034</td>\n      <td>...</td>\n      <td>Other activities, not elsewhere classified (in...</td>\n      <td>15 years and over</td>\n      <td>All persons</td>\n      <td>All education levels</td>\n      <td>NaN</td>\n      <td>NaN</td>\n      <td>All days</td>\n      <td>Black or African American</td>\n      <td>Both sexes</td>\n      <td>Average hours per day</td>\n    </tr>\n    <tr>\n      <th>8423</th>\n      <td>8423</td>\n      <td>TUU10101AA01016313</td>\n      <td>0</td>\n      <td>3</td>\n      <td>0</td>\n      <td>0</td>\n      <td>0</td>\n      <td>Avg hrs per day - Playing games and computer u...</td>\n      <td>0</td>\n      <td>600058</td>\n      <td>...</td>\n      <td>Playing games and computer use for leisure</td>\n      <td>15 years and over</td>\n      <td>All persons</td>\n      <td>All education levels</td>\n      <td>NaN</td>\n      <td>NaN</td>\n      <td>All days</td>\n      <td>Black or African American</td>\n      <td>Both sexes</td>\n      <td>Average hours per day</td>\n    </tr>\n    <tr>\n      <th>8447</th>\n      <td>8447</td>\n      <td>TUU10101AA01016391</td>\n      <td>0</td>\n      <td>3</td>\n      <td>0</td>\n      <td>0</td>\n      <td>0</td>\n      <td>Avg hrs per day - Other leisure and sports act...</td>\n      <td>0</td>\n      <td>600059</td>\n      <td>...</td>\n      <td>Other leisure and sports activities, including...</td>\n      <td>15 years and over</td>\n      <td>All persons</td>\n      <td>All education levels</td>\n      <td>NaN</td>\n      <td>NaN</td>\n      <td>All days</td>\n      <td>Black or African American</td>\n      <td>Both sexes</td>\n      <td>Average hours per day</td>\n    </tr>\n    <tr>\n      <th>9304</th>\n      <td>9304</td>\n      <td>TUU10101AA01020915</td>\n      <td>0</td>\n      <td>3</td>\n      <td>0</td>\n      <td>0</td>\n      <td>16</td>\n      <td>Avg hrs per day - Relaxing and thinking, Weeke...</td>\n      <td>0</td>\n      <td>120301</td>\n      <td>...</td>\n      <td>Relaxing and thinking</td>\n      <td>15 years and over</td>\n      <td>All persons</td>\n      <td>All education levels</td>\n      <td>NaN</td>\n      <td>NaN</td>\n      <td>Weekend days and holidays</td>\n      <td>Black or African American</td>\n      <td>Both sexes</td>\n      <td>Average hours per day</td>\n    </tr>\n    <tr>\n      <th>9305</th>\n      <td>9305</td>\n      <td>TUU10101AA01020916</td>\n      <td>0</td>\n      <td>3</td>\n      <td>0</td>\n      <td>0</td>\n      <td>19</td>\n      <td>Avg hrs per day - Relaxing and thinking, Nonho...</td>\n      <td>0</td>\n      <td>120301</td>\n      <td>...</td>\n      <td>Relaxing and thinking</td>\n      <td>15 years and over</td>\n      <td>All persons</td>\n      <td>All education levels</td>\n      <td>NaN</td>\n      <td>NaN</td>\n      <td>Nonholiday weekdays</td>\n      <td>Black or African American</td>\n      <td>Both sexes</td>\n      <td>Average hours per day</td>\n    </tr>\n    <tr>\n      <th>9451</th>\n      <td>9451</td>\n      <td>TUU10101AA01021653</td>\n      <td>0</td>\n      <td>3</td>\n      <td>0</td>\n      <td>0</td>\n      <td>16</td>\n      <td>Avg hrs per day - Reading for personal interes...</td>\n      <td>0</td>\n      <td>120312</td>\n      <td>...</td>\n      <td>Reading for personal interest</td>\n      <td>15 years and over</td>\n      <td>All persons</td>\n      <td>All education levels</td>\n      <td>NaN</td>\n      <td>NaN</td>\n      <td>Weekend days and holidays</td>\n      <td>Black or African American</td>\n      <td>Both sexes</td>\n      <td>Average hours per day</td>\n    </tr>\n    <tr>\n      <th>9452</th>\n      <td>9452</td>\n      <td>TUU10101AA01021654</td>\n      <td>0</td>\n      <td>3</td>\n      <td>0</td>\n      <td>0</td>\n      <td>19</td>\n      <td>Avg hrs per day - Reading for personal interes...</td>\n      <td>0</td>\n      <td>120312</td>\n      <td>...</td>\n      <td>Reading for personal interest</td>\n      <td>15 years and over</td>\n      <td>All persons</td>\n      <td>All education levels</td>\n      <td>NaN</td>\n      <td>NaN</td>\n      <td>Nonholiday weekdays</td>\n      <td>Black or African American</td>\n      <td>Both sexes</td>\n      <td>Average hours per day</td>\n    </tr>\n    <tr>\n      <th>10094</th>\n      <td>10094</td>\n      <td>TUU10101AA01026588</td>\n      <td>0</td>\n      <td>3</td>\n      <td>0</td>\n      <td>0</td>\n      <td>16</td>\n      <td>Avg hrs per day - Leisure and sports (includes...</td>\n      <td>0</td>\n      <td>600023</td>\n      <td>...</td>\n      <td>Leisure and sports (includes travel)</td>\n      <td>15 years and over</td>\n      <td>All persons</td>\n      <td>All education levels</td>\n      <td>NaN</td>\n      <td>NaN</td>\n      <td>Weekend days and holidays</td>\n      <td>Black or African American</td>\n      <td>Both sexes</td>\n      <td>Average hours per day</td>\n    </tr>\n    <tr>\n      <th>10095</th>\n      <td>10095</td>\n      <td>TUU10101AA01026589</td>\n      <td>0</td>\n      <td>3</td>\n      <td>0</td>\n      <td>0</td>\n      <td>19</td>\n      <td>Avg hrs per day - Leisure and sports (includes...</td>\n      <td>0</td>\n      <td>600023</td>\n      <td>...</td>\n      <td>Leisure and sports (includes travel)</td>\n      <td>15 years and over</td>\n      <td>All persons</td>\n      <td>All education levels</td>\n      <td>NaN</td>\n      <td>NaN</td>\n      <td>Nonholiday weekdays</td>\n      <td>Black or African American</td>\n      <td>Both sexes</td>\n      <td>Average hours per day</td>\n    </tr>\n    <tr>\n      <th>10172</th>\n      <td>10172</td>\n      <td>TUU10101AA01026843</td>\n      <td>0</td>\n      <td>3</td>\n      <td>0</td>\n      <td>0</td>\n      <td>16</td>\n      <td>Avg hrs per day - Socializing and communicatin...</td>\n      <td>0</td>\n      <td>600024</td>\n      <td>...</td>\n      <td>Socializing and communicating</td>\n      <td>15 years and over</td>\n      <td>All persons</td>\n      <td>All education levels</td>\n      <td>NaN</td>\n      <td>NaN</td>\n      <td>Weekend days and holidays</td>\n      <td>Black or African American</td>\n      <td>Both sexes</td>\n      <td>Average hours per day</td>\n    </tr>\n    <tr>\n      <th>10173</th>\n      <td>10173</td>\n      <td>TUU10101AA01026844</td>\n      <td>0</td>\n      <td>3</td>\n      <td>0</td>\n      <td>0</td>\n      <td>19</td>\n      <td>Avg hrs per day - Socializing and communicatin...</td>\n      <td>0</td>\n      <td>600024</td>\n      <td>...</td>\n      <td>Socializing and communicating</td>\n      <td>15 years and over</td>\n      <td>All persons</td>\n      <td>All education levels</td>\n      <td>NaN</td>\n      <td>NaN</td>\n      <td>Nonholiday weekdays</td>\n      <td>Black or African American</td>\n      <td>Both sexes</td>\n      <td>Average hours per day</td>\n    </tr>\n    <tr>\n      <th>10280</th>\n      <td>10280</td>\n      <td>TUU10101AA01027128</td>\n      <td>0</td>\n      <td>3</td>\n      <td>0</td>\n      <td>0</td>\n      <td>16</td>\n      <td>Avg hrs per day - Watching TV, Weekend days an...</td>\n      <td>0</td>\n      <td>600025</td>\n      <td>...</td>\n      <td>Watching TV</td>\n      <td>15 years and over</td>\n      <td>All persons</td>\n      <td>All education levels</td>\n      <td>NaN</td>\n      <td>NaN</td>\n      <td>Weekend days and holidays</td>\n      <td>Black or African American</td>\n      <td>Both sexes</td>\n      <td>Average hours per day</td>\n    </tr>\n    <tr>\n      <th>10281</th>\n      <td>10281</td>\n      <td>TUU10101AA01027129</td>\n      <td>0</td>\n      <td>3</td>\n      <td>0</td>\n      <td>0</td>\n      <td>19</td>\n      <td>Avg hrs per day - Watching TV, Nonholiday week...</td>\n      <td>0</td>\n      <td>600025</td>\n      <td>...</td>\n      <td>Watching TV</td>\n      <td>15 years and over</td>\n      <td>All persons</td>\n      <td>All education levels</td>\n      <td>NaN</td>\n      <td>NaN</td>\n      <td>Nonholiday weekdays</td>\n      <td>Black or African American</td>\n      <td>Both sexes</td>\n      <td>Average hours per day</td>\n    </tr>\n    <tr>\n      <th>10390</th>\n      <td>10390</td>\n      <td>TUU10101AA01027415</td>\n      <td>0</td>\n      <td>3</td>\n      <td>0</td>\n      <td>0</td>\n      <td>16</td>\n      <td>Avg hrs per day - Participating in sports, exe...</td>\n      <td>0</td>\n      <td>600027</td>\n      <td>...</td>\n      <td>Participating in sports, exercise, and recreat...</td>\n      <td>15 years and over</td>\n      <td>All persons</td>\n      <td>All education levels</td>\n      <td>NaN</td>\n      <td>NaN</td>\n      <td>Weekend days and holidays</td>\n      <td>Black or African American</td>\n      <td>Both sexes</td>\n      <td>Average hours per day</td>\n    </tr>\n    <tr>\n      <th>10391</th>\n      <td>10391</td>\n      <td>TUU10101AA01027416</td>\n      <td>0</td>\n      <td>3</td>\n      <td>0</td>\n      <td>0</td>\n      <td>19</td>\n      <td>Avg hrs per day - Participating in sports, exe...</td>\n      <td>0</td>\n      <td>600027</td>\n      <td>...</td>\n      <td>Participating in sports, exercise, and recreat...</td>\n      <td>15 years and over</td>\n      <td>All persons</td>\n      <td>All education levels</td>\n      <td>NaN</td>\n      <td>NaN</td>\n      <td>Nonholiday weekdays</td>\n      <td>Black or African American</td>\n      <td>Both sexes</td>\n      <td>Average hours per day</td>\n    </tr>\n    <tr>\n      <th>10636</th>\n      <td>10636</td>\n      <td>TUU10101AA01028728</td>\n      <td>0</td>\n      <td>3</td>\n      <td>0</td>\n      <td>0</td>\n      <td>16</td>\n      <td>Avg hrs per day - Playing games and computer u...</td>\n      <td>0</td>\n      <td>600058</td>\n      <td>...</td>\n      <td>Playing games and computer use for leisure</td>\n      <td>15 years and over</td>\n      <td>All persons</td>\n      <td>All education levels</td>\n      <td>NaN</td>\n      <td>NaN</td>\n      <td>Weekend days and holidays</td>\n      <td>Black or African American</td>\n      <td>Both sexes</td>\n      <td>Average hours per day</td>\n    </tr>\n    <tr>\n      <th>10637</th>\n      <td>10637</td>\n      <td>TUU10101AA01028729</td>\n      <td>0</td>\n      <td>3</td>\n      <td>0</td>\n      <td>0</td>\n      <td>19</td>\n      <td>Avg hrs per day - Playing games and computer u...</td>\n      <td>0</td>\n      <td>600058</td>\n      <td>...</td>\n      <td>Playing games and computer use for leisure</td>\n      <td>15 years and over</td>\n      <td>All persons</td>\n      <td>All education levels</td>\n      <td>NaN</td>\n      <td>NaN</td>\n      <td>Nonholiday weekdays</td>\n      <td>Black or African American</td>\n      <td>Both sexes</td>\n      <td>Average hours per day</td>\n    </tr>\n    <tr>\n      <th>10712</th>\n      <td>10712</td>\n      <td>TUU10101AA01028814</td>\n      <td>0</td>\n      <td>3</td>\n      <td>0</td>\n      <td>0</td>\n      <td>16</td>\n      <td>Avg hrs per day - Other leisure and sports act...</td>\n      <td>0</td>\n      <td>600059</td>\n      <td>...</td>\n      <td>Other leisure and sports activities, including...</td>\n      <td>15 years and over</td>\n      <td>All persons</td>\n      <td>All education levels</td>\n      <td>NaN</td>\n      <td>NaN</td>\n      <td>Weekend days and holidays</td>\n      <td>Black or African American</td>\n      <td>Both sexes</td>\n      <td>Average hours per day</td>\n    </tr>\n    <tr>\n      <th>10713</th>\n      <td>10713</td>\n      <td>TUU10101AA01028815</td>\n      <td>0</td>\n      <td>3</td>\n      <td>0</td>\n      <td>0</td>\n      <td>19</td>\n      <td>Avg hrs per day - Other leisure and sports act...</td>\n      <td>0</td>\n      <td>600059</td>\n      <td>...</td>\n      <td>Other leisure and sports activities, including...</td>\n      <td>15 years and over</td>\n      <td>All persons</td>\n      <td>All education levels</td>\n      <td>NaN</td>\n      <td>NaN</td>\n      <td>Nonholiday weekdays</td>\n      <td>Black or African American</td>\n      <td>Both sexes</td>\n      <td>Average hours per day</td>\n    </tr>\n  </tbody>\n</table>\n<p>35 rows × 23 columns</p>\n</div>",
          "text/plain": "       Unnamed: 0  series_id                       sex_code  race_code  \\\n3477         3477  TUU10101AA01005684                     0          3   \n3702         3702  TUU10101AA01006341                     0          3   \n5381         5381  TUU10101AA01008860                     0          3   \n5544         5544  TUU10101AA01009412                     0          3   \n5809         5809  TUU10101AA01010405                     0          3   \n6176         6176  TUU10101AA01011205                     0          3   \n6543         6543  TUU10101AA01012018                     0          3   \n6706         6706  TUU10101AA01012366                     0          3   \n6869         6869  TUU10101AA01012683                     0          3   \n7134         7134  TUU10101AA01013268                     0          3   \n7302         7302  TUU10101AA01013622                     0          3   \n7471         7471  TUU10101AA01013988                     0          3   \n7591         7591  TUU10101AA01014273                     0          3   \n7700         7700  TUU10101AA01014547                     0          3   \n7846         7846  TUU10101AA01015041                     0          3   \n8111         8111  TUU10101AA01015617                     0          3   \n8274         8274  TUU10101AA01015956                     0          3   \n8423         8423  TUU10101AA01016313                     0          3   \n8447         8447  TUU10101AA01016391                     0          3   \n9304         9304  TUU10101AA01020915                     0          3   \n9305         9305  TUU10101AA01020916                     0          3   \n9451         9451  TUU10101AA01021653                     0          3   \n9452         9452  TUU10101AA01021654                     0          3   \n10094       10094  TUU10101AA01026588                     0          3   \n10095       10095  TUU10101AA01026589                     0          3   \n10172       10172  TUU10101AA01026843                     0          3   \n10173       10173  TUU10101AA01026844                     0          3   \n10280       10280  TUU10101AA01027128                     0          3   \n10281       10281  TUU10101AA01027129                     0          3   \n10390       10390  TUU10101AA01027415                     0          3   \n10391       10391  TUU10101AA01027416                     0          3   \n10636       10636  TUU10101AA01028728                     0          3   \n10637       10637  TUU10101AA01028729                     0          3   \n10712       10712  TUU10101AA01028814                     0          3   \n10713       10713  TUU10101AA01028815                     0          3   \n\n       educ_code  age_code  pertype_code  \\\n3477           0         0             0   \n3702           0         0             0   \n5381           0         0             0   \n5544           0         0             0   \n5809           0         0             0   \n6176           0         0             0   \n6543           0         0             0   \n6706           0         0             0   \n6869           0         0             0   \n7134           0         0             0   \n7302           0         0             0   \n7471           0         0             0   \n7591           0         0             0   \n7700           0         0             0   \n7846           0         0             0   \n8111           0         0             0   \n8274           0         0             0   \n8423           0         0             0   \n8447           0         0             0   \n9304           0         0            16   \n9305           0         0            19   \n9451           0         0            16   \n9452           0         0            19   \n10094          0         0            16   \n10095          0         0            19   \n10172          0         0            16   \n10173          0         0            19   \n10280          0         0            16   \n10281          0         0            19   \n10390          0         0            16   \n10391          0         0            19   \n10636          0         0            16   \n10637          0         0            19   \n10712          0         0            16   \n10713          0         0            19   \n\n                                            series_title  earn_code  \\\n3477   Avg hrs per day - Relaxing and thinking, Black...          0   \n3702   Avg hrs per day - Reading for personal interes...          0   \n5381   Avg hrs per day - Personal care activities (in...          0   \n5544   Avg hrs per day - Household activities (includ...          0   \n5809   Avg hrs per day - Caring for and helping house...          0   \n6176   Avg hrs per day - Caring for and helping nonho...          0   \n6543   Avg hrs per day - Working and work-related act...          0   \n6706   Avg hrs per day - Educational activities (incl...          0   \n6869   Avg hrs per day - Purchasing goods and service...          0   \n7134   Avg hrs per day - Eating and drinking (include...          0   \n7302   Avg hrs per day - Leisure and sports (includes...          0   \n7471   Avg hrs per day - Socializing and communicatin...          0   \n7591   Avg hrs per day - Watching TV, Black or Africa...          0   \n7700   Avg hrs per day - Participating in sports, exe...          0   \n7846   Avg hrs per day - Organizational, civic, and r...          0   \n8111   Avg hrs per day - Telephone calls, mail, and e...          0   \n8274   Avg hrs per day - Other activities, not elsewh...          0   \n8423   Avg hrs per day - Playing games and computer u...          0   \n8447   Avg hrs per day - Other leisure and sports act...          0   \n9304   Avg hrs per day - Relaxing and thinking, Weeke...          0   \n9305   Avg hrs per day - Relaxing and thinking, Nonho...          0   \n9451   Avg hrs per day - Reading for personal interes...          0   \n9452   Avg hrs per day - Reading for personal interes...          0   \n10094  Avg hrs per day - Leisure and sports (includes...          0   \n10095  Avg hrs per day - Leisure and sports (includes...          0   \n10172  Avg hrs per day - Socializing and communicatin...          0   \n10173  Avg hrs per day - Socializing and communicatin...          0   \n10280  Avg hrs per day - Watching TV, Weekend days an...          0   \n10281  Avg hrs per day - Watching TV, Nonholiday week...          0   \n10390  Avg hrs per day - Participating in sports, exe...          0   \n10391  Avg hrs per day - Participating in sports, exe...          0   \n10636  Avg hrs per day - Playing games and computer u...          0   \n10637  Avg hrs per day - Playing games and computer u...          0   \n10712  Avg hrs per day - Other leisure and sports act...          0   \n10713  Avg hrs per day - Other leisure and sports act...          0   \n\n       actcode_code  ...                                       actcode_text  \\\n3477         120301  ...                              Relaxing and thinking   \n3702         120312  ...                      Reading for personal interest   \n5381         600001  ...         Personal care activities (includes travel)   \n5544         600003  ...             Household activities (includes travel)   \n5809         600007  ...  Caring for and helping household members (incl...   \n6176         600010  ...  Caring for and helping nonhousehold members (i...   \n6543         600013  ...  Working and work-related activities (includes ...   \n6706         600016  ...           Educational activities (includes travel)   \n6869         600018  ...    Purchasing goods and services (includes travel)   \n7134         600022  ...              Eating and drinking (includes travel)   \n7302         600023  ...               Leisure and sports (includes travel)   \n7471         600024  ...                      Socializing and communicating   \n7591         600025  ...                                        Watching TV   \n7700         600027  ...  Participating in sports, exercise, and recreat...   \n7846         600030  ...    Organizational, civic, and religious activities   \n8111         600033  ...  Telephone calls, mail, and e-mail (includes tr...   \n8274         600034  ...  Other activities, not elsewhere classified (in...   \n8423         600058  ...         Playing games and computer use for leisure   \n8447         600059  ...  Other leisure and sports activities, including...   \n9304         120301  ...                              Relaxing and thinking   \n9305         120301  ...                              Relaxing and thinking   \n9451         120312  ...                      Reading for personal interest   \n9452         120312  ...                      Reading for personal interest   \n10094        600023  ...               Leisure and sports (includes travel)   \n10095        600023  ...               Leisure and sports (includes travel)   \n10172        600024  ...                      Socializing and communicating   \n10173        600024  ...                      Socializing and communicating   \n10280        600025  ...                                        Watching TV   \n10281        600025  ...                                        Watching TV   \n10390        600027  ...  Participating in sports, exercise, and recreat...   \n10391        600027  ...  Participating in sports, exercise, and recreat...   \n10636        600058  ...         Playing games and computer use for leisure   \n10637        600058  ...         Playing games and computer use for leisure   \n10712        600059  ...  Other leisure and sports activities, including...   \n10713        600059  ...  Other leisure and sports activities, including...   \n\n                age_text    earn_text             educ_text lfstat_text  \\\n3477   15 years and over  All persons  All education levels         NaN   \n3702   15 years and over  All persons  All education levels         NaN   \n5381   15 years and over  All persons  All education levels         NaN   \n5544   15 years and over  All persons  All education levels         NaN   \n5809   15 years and over  All persons  All education levels         NaN   \n6176   15 years and over  All persons  All education levels         NaN   \n6543   15 years and over  All persons  All education levels         NaN   \n6706   15 years and over  All persons  All education levels         NaN   \n6869   15 years and over  All persons  All education levels         NaN   \n7134   15 years and over  All persons  All education levels         NaN   \n7302   15 years and over  All persons  All education levels         NaN   \n7471   15 years and over  All persons  All education levels         NaN   \n7591   15 years and over  All persons  All education levels         NaN   \n7700   15 years and over  All persons  All education levels         NaN   \n7846   15 years and over  All persons  All education levels         NaN   \n8111   15 years and over  All persons  All education levels         NaN   \n8274   15 years and over  All persons  All education levels         NaN   \n8423   15 years and over  All persons  All education levels         NaN   \n8447   15 years and over  All persons  All education levels         NaN   \n9304   15 years and over  All persons  All education levels         NaN   \n9305   15 years and over  All persons  All education levels         NaN   \n9451   15 years and over  All persons  All education levels         NaN   \n9452   15 years and over  All persons  All education levels         NaN   \n10094  15 years and over  All persons  All education levels         NaN   \n10095  15 years and over  All persons  All education levels         NaN   \n10172  15 years and over  All persons  All education levels         NaN   \n10173  15 years and over  All persons  All education levels         NaN   \n10280  15 years and over  All persons  All education levels         NaN   \n10281  15 years and over  All persons  All education levels         NaN   \n10390  15 years and over  All persons  All education levels         NaN   \n10391  15 years and over  All persons  All education levels         NaN   \n10636  15 years and over  All persons  All education levels         NaN   \n10637  15 years and over  All persons  All education levels         NaN   \n10712  15 years and over  All persons  All education levels         NaN   \n10713  15 years and over  All persons  All education levels         NaN   \n\n      orig_text               pertype_text                  race_text  \\\n3477        NaN                   All days  Black or African American   \n3702        NaN                   All days  Black or African American   \n5381        NaN                   All days  Black or African American   \n5544        NaN                   All days  Black or African American   \n5809        NaN                   All days  Black or African American   \n6176        NaN                   All days  Black or African American   \n6543        NaN                   All days  Black or African American   \n6706        NaN                   All days  Black or African American   \n6869        NaN                   All days  Black or African American   \n7134        NaN                   All days  Black or African American   \n7302        NaN                   All days  Black or African American   \n7471        NaN                   All days  Black or African American   \n7591        NaN                   All days  Black or African American   \n7700        NaN                   All days  Black or African American   \n7846        NaN                   All days  Black or African American   \n8111        NaN                   All days  Black or African American   \n8274        NaN                   All days  Black or African American   \n8423        NaN                   All days  Black or African American   \n8447        NaN                   All days  Black or African American   \n9304        NaN  Weekend days and holidays  Black or African American   \n9305        NaN        Nonholiday weekdays  Black or African American   \n9451        NaN  Weekend days and holidays  Black or African American   \n9452        NaN        Nonholiday weekdays  Black or African American   \n10094       NaN  Weekend days and holidays  Black or African American   \n10095       NaN        Nonholiday weekdays  Black or African American   \n10172       NaN  Weekend days and holidays  Black or African American   \n10173       NaN        Nonholiday weekdays  Black or African American   \n10280       NaN  Weekend days and holidays  Black or African American   \n10281       NaN        Nonholiday weekdays  Black or African American   \n10390       NaN  Weekend days and holidays  Black or African American   \n10391       NaN        Nonholiday weekdays  Black or African American   \n10636       NaN  Weekend days and holidays  Black or African American   \n10637       NaN        Nonholiday weekdays  Black or African American   \n10712       NaN  Weekend days and holidays  Black or African American   \n10713       NaN        Nonholiday weekdays  Black or African American   \n\n         sex_text          stattype_text  \n3477   Both sexes  Average hours per day  \n3702   Both sexes  Average hours per day  \n5381   Both sexes  Average hours per day  \n5544   Both sexes  Average hours per day  \n5809   Both sexes  Average hours per day  \n6176   Both sexes  Average hours per day  \n6543   Both sexes  Average hours per day  \n6706   Both sexes  Average hours per day  \n6869   Both sexes  Average hours per day  \n7134   Both sexes  Average hours per day  \n7302   Both sexes  Average hours per day  \n7471   Both sexes  Average hours per day  \n7591   Both sexes  Average hours per day  \n7700   Both sexes  Average hours per day  \n7846   Both sexes  Average hours per day  \n8111   Both sexes  Average hours per day  \n8274   Both sexes  Average hours per day  \n8423   Both sexes  Average hours per day  \n8447   Both sexes  Average hours per day  \n9304   Both sexes  Average hours per day  \n9305   Both sexes  Average hours per day  \n9451   Both sexes  Average hours per day  \n9452   Both sexes  Average hours per day  \n10094  Both sexes  Average hours per day  \n10095  Both sexes  Average hours per day  \n10172  Both sexes  Average hours per day  \n10173  Both sexes  Average hours per day  \n10280  Both sexes  Average hours per day  \n10281  Both sexes  Average hours per day  \n10390  Both sexes  Average hours per day  \n10391  Both sexes  Average hours per day  \n10636  Both sexes  Average hours per day  \n10637  Both sexes  Average hours per day  \n10712  Both sexes  Average hours per day  \n10713  Both sexes  Average hours per day  \n\n[35 rows x 23 columns]"
         },
         "metadata": {},
         "output_type": "display_data"
        }
       ]
      }
     },
     "3cf54627892d46d5aa7905fcd5d7e28f": {
      "model_module": "@jupyter-widgets/base",
      "model_module_version": "1.2.0",
      "model_name": "LayoutModel",
      "state": {}
     },
     "3e815f26ffa24a64ac6899c6a2d7a54f": {
      "model_module": "@jupyter-widgets/base",
      "model_module_version": "1.2.0",
      "model_name": "LayoutModel",
      "state": {}
     },
     "3f431ea379af476ebd26492cfeef2245": {
      "model_module": "@jupyter-widgets/controls",
      "model_module_version": "1.5.0",
      "model_name": "DropdownModel",
      "state": {
       "_options_labels": [
        "Both sexes",
        "Men",
        "Women"
       ],
       "description": "Gender:",
       "index": 0,
       "layout": "IPY_MODEL_4aeaeca821fc4c81822b386e5eaae62a",
       "style": "IPY_MODEL_2d5853509ec24762a191417a9bf12e29"
      }
     },
     "3f98fa6360d0498a8c45349193eaf83b": {
      "model_module": "@jupyter-widgets/base",
      "model_module_version": "1.2.0",
      "model_name": "LayoutModel",
      "state": {}
     },
     "40316a1b636b4fc0b6d7e7e02d177a9b": {
      "model_module": "@jupyter-widgets/base",
      "model_module_version": "1.2.0",
      "model_name": "LayoutModel",
      "state": {}
     },
     "405f72fda1344766a85f9f73ac0ad5f8": {
      "model_module": "@jupyter-widgets/base",
      "model_module_version": "1.2.0",
      "model_name": "LayoutModel",
      "state": {}
     },
     "40a28d53807342e3a6282bf4b96af0ea": {
      "model_module": "@jupyter-widgets/base",
      "model_module_version": "1.2.0",
      "model_name": "LayoutModel",
      "state": {}
     },
     "41f586944b8540c48b8636c45e279b0f": {
      "model_module": "@jupyter-widgets/controls",
      "model_module_version": "1.5.0",
      "model_name": "DescriptionStyleModel",
      "state": {
       "description_width": ""
      }
     },
     "42c592fea37443b6bbbb9d221fd1598d": {
      "model_module": "@jupyter-widgets/controls",
      "model_module_version": "1.5.0",
      "model_name": "DropdownModel",
      "state": {
       "_options_labels": [
        "ALL",
        "Both sexes",
        "Men",
        "Women"
       ],
       "description": "Gender:",
       "index": 2,
       "layout": "IPY_MODEL_0531959a0f7a46ac9f7231cdf4d0717b",
       "style": "IPY_MODEL_285fe6cfee77420c8bac4d6c8524c6e6"
      }
     },
     "42ea38c379484aea9afbe043b1d271b9": {
      "model_module": "@jupyter-widgets/controls",
      "model_module_version": "1.5.0",
      "model_name": "DescriptionStyleModel",
      "state": {
       "description_width": ""
      }
     },
     "430162483fbe4fbe9d49f28cdc0cdd00": {
      "model_module": "@jupyter-widgets/controls",
      "model_module_version": "1.5.0",
      "model_name": "DescriptionStyleModel",
      "state": {
       "description_width": ""
      }
     },
     "460c5eb4775d4142b507d184fdaf6dad": {
      "model_module": "@jupyter-widgets/output",
      "model_module_version": "1.0.0",
      "model_name": "OutputModel",
      "state": {
       "layout": "IPY_MODEL_1d323cd5b01d45f5a6a22a3828fe941f",
       "outputs": [
        {
         "data": {
          "text/plain": "3482    Avg hrs per day - Relaxing and thinking, Bache...\n3707    Avg hrs per day - Reading for personal interes...\n5398    Avg hrs per day - Personal care activities (in...\n5561    Avg hrs per day - Household activities (includ...\n5826    Avg hrs per day - Caring for and helping house...\n6193    Avg hrs per day - Caring for and helping nonho...\n6560    Avg hrs per day - Working and work-related act...\n6723    Avg hrs per day - Educational activities (incl...\n6886    Avg hrs per day - Purchasing goods and service...\n7151    Avg hrs per day - Eating and drinking (include...\n7320    Avg hrs per day - Leisure and sports (includes...\n7476    Avg hrs per day - Socializing and communicatin...\n7596    Avg hrs per day - Watching TV, Bachelor's degr...\n7705    Avg hrs per day - Participating in sports, exe...\n7863    Avg hrs per day - Organizational, civic, and r...\n8128    Avg hrs per day - Telephone calls, mail, and e...\n8291    Avg hrs per day - Other activities, not elsewh...\n8427    Avg hrs per day - Playing games and computer u...\n8451    Avg hrs per day - Other leisure and sports act...\nName: series_title, dtype: object"
         },
         "metadata": {},
         "output_type": "display_data"
        }
       ]
      }
     },
     "46f4aa1d920d47ee95157371dcc79db5": {
      "model_module": "@jupyter-widgets/controls",
      "model_module_version": "1.5.0",
      "model_name": "DropdownModel",
      "state": {
       "_options_labels": [
        "ALL",
        "All races",
        "Asian",
        "Black or African American",
        "White"
       ],
       "description": "Ethnicity:",
       "index": 2,
       "layout": "IPY_MODEL_e47c30dcd0fa43c3b8d0291d42169fcb",
       "style": "IPY_MODEL_a87e29428049412ab11b48af35da4e58"
      }
     },
     "47af401a5ef24d58bf8df9bb5aa03795": {
      "model_module": "@jupyter-widgets/base",
      "model_module_version": "1.2.0",
      "model_name": "LayoutModel",
      "state": {}
     },
     "47b6a767bba34e5e918ee98baf410669": {
      "model_module": "@jupyter-widgets/base",
      "model_module_version": "1.2.0",
      "model_name": "LayoutModel",
      "state": {}
     },
     "47bf3b08a8cd45c882b3914c1732d4cd": {
      "model_module": "@jupyter-widgets/base",
      "model_module_version": "1.2.0",
      "model_name": "LayoutModel",
      "state": {}
     },
     "48bf6a77de6b428c8f53679411ad0e51": {
      "model_module": "@jupyter-widgets/output",
      "model_module_version": "1.0.0",
      "model_name": "OutputModel",
      "state": {
       "layout": "IPY_MODEL_eb99d61d6aea43dabc96dd0c9b99997d",
       "outputs": [
        {
         "data": {
          "text/html": "<div>\n<style scoped>\n    .dataframe tbody tr th:only-of-type {\n        vertical-align: middle;\n    }\n\n    .dataframe tbody tr th {\n        vertical-align: top;\n    }\n\n    .dataframe thead th {\n        text-align: right;\n    }\n</style>\n<table border=\"1\" class=\"dataframe\">\n  <thead>\n    <tr style=\"text-align: right;\">\n      <th></th>\n      <th>Unnamed: 0</th>\n      <th>series_id</th>\n      <th>sex_code</th>\n      <th>race_code</th>\n      <th>educ_code</th>\n      <th>age_code</th>\n      <th>pertype_code</th>\n      <th>series_title</th>\n      <th>earn_code</th>\n      <th>actcode_code</th>\n      <th>...</th>\n      <th>actcode_text</th>\n      <th>age_text</th>\n      <th>earn_text</th>\n      <th>educ_text</th>\n      <th>lfstat_text</th>\n      <th>orig_text</th>\n      <th>pertype_text</th>\n      <th>race_text</th>\n      <th>sex_text</th>\n      <th>stattype_text</th>\n    </tr>\n  </thead>\n  <tbody>\n    <tr>\n      <th>3478</th>\n      <td>3478</td>\n      <td>TUU10101AA01005685</td>\n      <td>0</td>\n      <td>4</td>\n      <td>0</td>\n      <td>0</td>\n      <td>0</td>\n      <td>Avg hrs per day - Relaxing and thinking, Asian</td>\n      <td>0</td>\n      <td>120301</td>\n      <td>...</td>\n      <td>Relaxing and thinking</td>\n      <td>15 years and over</td>\n      <td>All persons</td>\n      <td>All education levels</td>\n      <td>NaN</td>\n      <td>NaN</td>\n      <td>All days</td>\n      <td>Asian</td>\n      <td>Both sexes</td>\n      <td>Average hours per day</td>\n    </tr>\n    <tr>\n      <th>3703</th>\n      <td>3703</td>\n      <td>TUU10101AA01006342</td>\n      <td>0</td>\n      <td>4</td>\n      <td>0</td>\n      <td>0</td>\n      <td>0</td>\n      <td>Avg hrs per day - Reading for personal interes...</td>\n      <td>0</td>\n      <td>120312</td>\n      <td>...</td>\n      <td>Reading for personal interest</td>\n      <td>15 years and over</td>\n      <td>All persons</td>\n      <td>All education levels</td>\n      <td>NaN</td>\n      <td>NaN</td>\n      <td>All days</td>\n      <td>Asian</td>\n      <td>Both sexes</td>\n      <td>Average hours per day</td>\n    </tr>\n    <tr>\n      <th>7303</th>\n      <td>7303</td>\n      <td>TUU10101AA01013623</td>\n      <td>0</td>\n      <td>4</td>\n      <td>0</td>\n      <td>0</td>\n      <td>0</td>\n      <td>Avg hrs per day - Leisure and sports (includes...</td>\n      <td>0</td>\n      <td>600023</td>\n      <td>...</td>\n      <td>Leisure and sports (includes travel)</td>\n      <td>15 years and over</td>\n      <td>All persons</td>\n      <td>All education levels</td>\n      <td>NaN</td>\n      <td>NaN</td>\n      <td>All days</td>\n      <td>Asian</td>\n      <td>Both sexes</td>\n      <td>Average hours per day</td>\n    </tr>\n    <tr>\n      <th>7472</th>\n      <td>7472</td>\n      <td>TUU10101AA01013989</td>\n      <td>0</td>\n      <td>4</td>\n      <td>0</td>\n      <td>0</td>\n      <td>0</td>\n      <td>Avg hrs per day - Socializing and communicatin...</td>\n      <td>0</td>\n      <td>600024</td>\n      <td>...</td>\n      <td>Socializing and communicating</td>\n      <td>15 years and over</td>\n      <td>All persons</td>\n      <td>All education levels</td>\n      <td>NaN</td>\n      <td>NaN</td>\n      <td>All days</td>\n      <td>Asian</td>\n      <td>Both sexes</td>\n      <td>Average hours per day</td>\n    </tr>\n    <tr>\n      <th>7592</th>\n      <td>7592</td>\n      <td>TUU10101AA01014274</td>\n      <td>0</td>\n      <td>4</td>\n      <td>0</td>\n      <td>0</td>\n      <td>0</td>\n      <td>Avg hrs per day - Watching TV, Asian</td>\n      <td>0</td>\n      <td>600025</td>\n      <td>...</td>\n      <td>Watching TV</td>\n      <td>15 years and over</td>\n      <td>All persons</td>\n      <td>All education levels</td>\n      <td>NaN</td>\n      <td>NaN</td>\n      <td>All days</td>\n      <td>Asian</td>\n      <td>Both sexes</td>\n      <td>Average hours per day</td>\n    </tr>\n    <tr>\n      <th>7701</th>\n      <td>7701</td>\n      <td>TUU10101AA01014548</td>\n      <td>0</td>\n      <td>4</td>\n      <td>0</td>\n      <td>0</td>\n      <td>0</td>\n      <td>Avg hrs per day - Participating in sports, exe...</td>\n      <td>0</td>\n      <td>600027</td>\n      <td>...</td>\n      <td>Participating in sports, exercise, and recreat...</td>\n      <td>15 years and over</td>\n      <td>All persons</td>\n      <td>All education levels</td>\n      <td>NaN</td>\n      <td>NaN</td>\n      <td>All days</td>\n      <td>Asian</td>\n      <td>Both sexes</td>\n      <td>Average hours per day</td>\n    </tr>\n    <tr>\n      <th>8424</th>\n      <td>8424</td>\n      <td>TUU10101AA01016314</td>\n      <td>0</td>\n      <td>4</td>\n      <td>0</td>\n      <td>0</td>\n      <td>0</td>\n      <td>Avg hrs per day - Playing games and computer u...</td>\n      <td>0</td>\n      <td>600058</td>\n      <td>...</td>\n      <td>Playing games and computer use for leisure</td>\n      <td>15 years and over</td>\n      <td>All persons</td>\n      <td>All education levels</td>\n      <td>NaN</td>\n      <td>NaN</td>\n      <td>All days</td>\n      <td>Asian</td>\n      <td>Both sexes</td>\n      <td>Average hours per day</td>\n    </tr>\n    <tr>\n      <th>8448</th>\n      <td>8448</td>\n      <td>TUU10101AA01016392</td>\n      <td>0</td>\n      <td>4</td>\n      <td>0</td>\n      <td>0</td>\n      <td>0</td>\n      <td>Avg hrs per day - Other leisure and sports act...</td>\n      <td>0</td>\n      <td>600059</td>\n      <td>...</td>\n      <td>Other leisure and sports activities, including...</td>\n      <td>15 years and over</td>\n      <td>All persons</td>\n      <td>All education levels</td>\n      <td>NaN</td>\n      <td>NaN</td>\n      <td>All days</td>\n      <td>Asian</td>\n      <td>Both sexes</td>\n      <td>Average hours per day</td>\n    </tr>\n  </tbody>\n</table>\n<p>8 rows × 23 columns</p>\n</div>",
          "text/plain": "      Unnamed: 0  series_id                       sex_code  race_code  \\\n3478        3478  TUU10101AA01005685                     0          4   \n3703        3703  TUU10101AA01006342                     0          4   \n7303        7303  TUU10101AA01013623                     0          4   \n7472        7472  TUU10101AA01013989                     0          4   \n7592        7592  TUU10101AA01014274                     0          4   \n7701        7701  TUU10101AA01014548                     0          4   \n8424        8424  TUU10101AA01016314                     0          4   \n8448        8448  TUU10101AA01016392                     0          4   \n\n      educ_code  age_code  pertype_code  \\\n3478          0         0             0   \n3703          0         0             0   \n7303          0         0             0   \n7472          0         0             0   \n7592          0         0             0   \n7701          0         0             0   \n8424          0         0             0   \n8448          0         0             0   \n\n                                           series_title  earn_code  \\\n3478     Avg hrs per day - Relaxing and thinking, Asian          0   \n3703  Avg hrs per day - Reading for personal interes...          0   \n7303  Avg hrs per day - Leisure and sports (includes...          0   \n7472  Avg hrs per day - Socializing and communicatin...          0   \n7592               Avg hrs per day - Watching TV, Asian          0   \n7701  Avg hrs per day - Participating in sports, exe...          0   \n8424  Avg hrs per day - Playing games and computer u...          0   \n8448  Avg hrs per day - Other leisure and sports act...          0   \n\n      actcode_code  ...                                       actcode_text  \\\n3478        120301  ...                              Relaxing and thinking   \n3703        120312  ...                      Reading for personal interest   \n7303        600023  ...               Leisure and sports (includes travel)   \n7472        600024  ...                      Socializing and communicating   \n7592        600025  ...                                        Watching TV   \n7701        600027  ...  Participating in sports, exercise, and recreat...   \n8424        600058  ...         Playing games and computer use for leisure   \n8448        600059  ...  Other leisure and sports activities, including...   \n\n               age_text    earn_text             educ_text lfstat_text  \\\n3478  15 years and over  All persons  All education levels         NaN   \n3703  15 years and over  All persons  All education levels         NaN   \n7303  15 years and over  All persons  All education levels         NaN   \n7472  15 years and over  All persons  All education levels         NaN   \n7592  15 years and over  All persons  All education levels         NaN   \n7701  15 years and over  All persons  All education levels         NaN   \n8424  15 years and over  All persons  All education levels         NaN   \n8448  15 years and over  All persons  All education levels         NaN   \n\n     orig_text pertype_text race_text    sex_text          stattype_text  \n3478       NaN     All days     Asian  Both sexes  Average hours per day  \n3703       NaN     All days     Asian  Both sexes  Average hours per day  \n7303       NaN     All days     Asian  Both sexes  Average hours per day  \n7472       NaN     All days     Asian  Both sexes  Average hours per day  \n7592       NaN     All days     Asian  Both sexes  Average hours per day  \n7701       NaN     All days     Asian  Both sexes  Average hours per day  \n8424       NaN     All days     Asian  Both sexes  Average hours per day  \n8448       NaN     All days     Asian  Both sexes  Average hours per day  \n\n[8 rows x 23 columns]"
         },
         "metadata": {},
         "output_type": "display_data"
        }
       ]
      }
     },
     "48e151224f5f4e7a878c3e50166e04cb": {
      "model_module": "@jupyter-widgets/controls",
      "model_module_version": "1.5.0",
      "model_name": "DescriptionStyleModel",
      "state": {
       "description_width": ""
      }
     },
     "499262de10bc457598dab32e194d1e30": {
      "model_module": "@jupyter-widgets/output",
      "model_module_version": "1.0.0",
      "model_name": "OutputModel",
      "state": {
       "layout": "IPY_MODEL_64041d25f60b489e96ed4ea26e889ff4",
       "outputs": [
        {
         "data": {
          "text/html": "<div>\n<style scoped>\n    .dataframe tbody tr th:only-of-type {\n        vertical-align: middle;\n    }\n\n    .dataframe tbody tr th {\n        vertical-align: top;\n    }\n\n    .dataframe thead th {\n        text-align: right;\n    }\n</style>\n<table border=\"1\" class=\"dataframe\">\n  <thead>\n    <tr style=\"text-align: right;\">\n      <th></th>\n      <th>Unnamed: 0</th>\n      <th>series_id</th>\n      <th>sex_code</th>\n      <th>race_code</th>\n      <th>educ_code</th>\n      <th>age_code</th>\n      <th>pertype_code</th>\n      <th>series_title</th>\n      <th>earn_code</th>\n      <th>actcode_code</th>\n      <th>...</th>\n      <th>actcode_text</th>\n      <th>age_text</th>\n      <th>earn_text</th>\n      <th>educ_text</th>\n      <th>lfstat_text</th>\n      <th>orig_text</th>\n      <th>pertype_text</th>\n      <th>race_text</th>\n      <th>sex_text</th>\n      <th>stattype_text</th>\n    </tr>\n  </thead>\n  <tbody>\n    <tr>\n      <th>3478</th>\n      <td>3478</td>\n      <td>TUU10101AA01005685</td>\n      <td>0</td>\n      <td>4</td>\n      <td>0</td>\n      <td>0</td>\n      <td>0</td>\n      <td>Avg hrs per day - Relaxing and thinking, Asian</td>\n      <td>0</td>\n      <td>120301</td>\n      <td>...</td>\n      <td>Relaxing and thinking</td>\n      <td>15 years and over</td>\n      <td>All persons</td>\n      <td>All education levels</td>\n      <td>NaN</td>\n      <td>NaN</td>\n      <td>All days</td>\n      <td>Asian</td>\n      <td>Both sexes</td>\n      <td>Average hours per day</td>\n    </tr>\n    <tr>\n      <th>3703</th>\n      <td>3703</td>\n      <td>TUU10101AA01006342</td>\n      <td>0</td>\n      <td>4</td>\n      <td>0</td>\n      <td>0</td>\n      <td>0</td>\n      <td>Avg hrs per day - Reading for personal interes...</td>\n      <td>0</td>\n      <td>120312</td>\n      <td>...</td>\n      <td>Reading for personal interest</td>\n      <td>15 years and over</td>\n      <td>All persons</td>\n      <td>All education levels</td>\n      <td>NaN</td>\n      <td>NaN</td>\n      <td>All days</td>\n      <td>Asian</td>\n      <td>Both sexes</td>\n      <td>Average hours per day</td>\n    </tr>\n    <tr>\n      <th>7303</th>\n      <td>7303</td>\n      <td>TUU10101AA01013623</td>\n      <td>0</td>\n      <td>4</td>\n      <td>0</td>\n      <td>0</td>\n      <td>0</td>\n      <td>Avg hrs per day - Leisure and sports (includes...</td>\n      <td>0</td>\n      <td>600023</td>\n      <td>...</td>\n      <td>Leisure and sports (includes travel)</td>\n      <td>15 years and over</td>\n      <td>All persons</td>\n      <td>All education levels</td>\n      <td>NaN</td>\n      <td>NaN</td>\n      <td>All days</td>\n      <td>Asian</td>\n      <td>Both sexes</td>\n      <td>Average hours per day</td>\n    </tr>\n    <tr>\n      <th>7472</th>\n      <td>7472</td>\n      <td>TUU10101AA01013989</td>\n      <td>0</td>\n      <td>4</td>\n      <td>0</td>\n      <td>0</td>\n      <td>0</td>\n      <td>Avg hrs per day - Socializing and communicatin...</td>\n      <td>0</td>\n      <td>600024</td>\n      <td>...</td>\n      <td>Socializing and communicating</td>\n      <td>15 years and over</td>\n      <td>All persons</td>\n      <td>All education levels</td>\n      <td>NaN</td>\n      <td>NaN</td>\n      <td>All days</td>\n      <td>Asian</td>\n      <td>Both sexes</td>\n      <td>Average hours per day</td>\n    </tr>\n    <tr>\n      <th>7592</th>\n      <td>7592</td>\n      <td>TUU10101AA01014274</td>\n      <td>0</td>\n      <td>4</td>\n      <td>0</td>\n      <td>0</td>\n      <td>0</td>\n      <td>Avg hrs per day - Watching TV, Asian</td>\n      <td>0</td>\n      <td>600025</td>\n      <td>...</td>\n      <td>Watching TV</td>\n      <td>15 years and over</td>\n      <td>All persons</td>\n      <td>All education levels</td>\n      <td>NaN</td>\n      <td>NaN</td>\n      <td>All days</td>\n      <td>Asian</td>\n      <td>Both sexes</td>\n      <td>Average hours per day</td>\n    </tr>\n    <tr>\n      <th>7701</th>\n      <td>7701</td>\n      <td>TUU10101AA01014548</td>\n      <td>0</td>\n      <td>4</td>\n      <td>0</td>\n      <td>0</td>\n      <td>0</td>\n      <td>Avg hrs per day - Participating in sports, exe...</td>\n      <td>0</td>\n      <td>600027</td>\n      <td>...</td>\n      <td>Participating in sports, exercise, and recreat...</td>\n      <td>15 years and over</td>\n      <td>All persons</td>\n      <td>All education levels</td>\n      <td>NaN</td>\n      <td>NaN</td>\n      <td>All days</td>\n      <td>Asian</td>\n      <td>Both sexes</td>\n      <td>Average hours per day</td>\n    </tr>\n    <tr>\n      <th>8424</th>\n      <td>8424</td>\n      <td>TUU10101AA01016314</td>\n      <td>0</td>\n      <td>4</td>\n      <td>0</td>\n      <td>0</td>\n      <td>0</td>\n      <td>Avg hrs per day - Playing games and computer u...</td>\n      <td>0</td>\n      <td>600058</td>\n      <td>...</td>\n      <td>Playing games and computer use for leisure</td>\n      <td>15 years and over</td>\n      <td>All persons</td>\n      <td>All education levels</td>\n      <td>NaN</td>\n      <td>NaN</td>\n      <td>All days</td>\n      <td>Asian</td>\n      <td>Both sexes</td>\n      <td>Average hours per day</td>\n    </tr>\n    <tr>\n      <th>8448</th>\n      <td>8448</td>\n      <td>TUU10101AA01016392</td>\n      <td>0</td>\n      <td>4</td>\n      <td>0</td>\n      <td>0</td>\n      <td>0</td>\n      <td>Avg hrs per day - Other leisure and sports act...</td>\n      <td>0</td>\n      <td>600059</td>\n      <td>...</td>\n      <td>Other leisure and sports activities, including...</td>\n      <td>15 years and over</td>\n      <td>All persons</td>\n      <td>All education levels</td>\n      <td>NaN</td>\n      <td>NaN</td>\n      <td>All days</td>\n      <td>Asian</td>\n      <td>Both sexes</td>\n      <td>Average hours per day</td>\n    </tr>\n  </tbody>\n</table>\n<p>8 rows × 23 columns</p>\n</div>",
          "text/plain": "      Unnamed: 0  series_id                       sex_code  race_code  \\\n3478        3478  TUU10101AA01005685                     0          4   \n3703        3703  TUU10101AA01006342                     0          4   \n7303        7303  TUU10101AA01013623                     0          4   \n7472        7472  TUU10101AA01013989                     0          4   \n7592        7592  TUU10101AA01014274                     0          4   \n7701        7701  TUU10101AA01014548                     0          4   \n8424        8424  TUU10101AA01016314                     0          4   \n8448        8448  TUU10101AA01016392                     0          4   \n\n      educ_code  age_code  pertype_code  \\\n3478          0         0             0   \n3703          0         0             0   \n7303          0         0             0   \n7472          0         0             0   \n7592          0         0             0   \n7701          0         0             0   \n8424          0         0             0   \n8448          0         0             0   \n\n                                           series_title  earn_code  \\\n3478     Avg hrs per day - Relaxing and thinking, Asian          0   \n3703  Avg hrs per day - Reading for personal interes...          0   \n7303  Avg hrs per day - Leisure and sports (includes...          0   \n7472  Avg hrs per day - Socializing and communicatin...          0   \n7592               Avg hrs per day - Watching TV, Asian          0   \n7701  Avg hrs per day - Participating in sports, exe...          0   \n8424  Avg hrs per day - Playing games and computer u...          0   \n8448  Avg hrs per day - Other leisure and sports act...          0   \n\n      actcode_code  ...                                       actcode_text  \\\n3478        120301  ...                              Relaxing and thinking   \n3703        120312  ...                      Reading for personal interest   \n7303        600023  ...               Leisure and sports (includes travel)   \n7472        600024  ...                      Socializing and communicating   \n7592        600025  ...                                        Watching TV   \n7701        600027  ...  Participating in sports, exercise, and recreat...   \n8424        600058  ...         Playing games and computer use for leisure   \n8448        600059  ...  Other leisure and sports activities, including...   \n\n               age_text    earn_text             educ_text lfstat_text  \\\n3478  15 years and over  All persons  All education levels         NaN   \n3703  15 years and over  All persons  All education levels         NaN   \n7303  15 years and over  All persons  All education levels         NaN   \n7472  15 years and over  All persons  All education levels         NaN   \n7592  15 years and over  All persons  All education levels         NaN   \n7701  15 years and over  All persons  All education levels         NaN   \n8424  15 years and over  All persons  All education levels         NaN   \n8448  15 years and over  All persons  All education levels         NaN   \n\n     orig_text pertype_text race_text    sex_text          stattype_text  \n3478       NaN     All days     Asian  Both sexes  Average hours per day  \n3703       NaN     All days     Asian  Both sexes  Average hours per day  \n7303       NaN     All days     Asian  Both sexes  Average hours per day  \n7472       NaN     All days     Asian  Both sexes  Average hours per day  \n7592       NaN     All days     Asian  Both sexes  Average hours per day  \n7701       NaN     All days     Asian  Both sexes  Average hours per day  \n8424       NaN     All days     Asian  Both sexes  Average hours per day  \n8448       NaN     All days     Asian  Both sexes  Average hours per day  \n\n[8 rows x 23 columns]"
         },
         "metadata": {},
         "output_type": "display_data"
        }
       ]
      }
     },
     "4aeaeca821fc4c81822b386e5eaae62a": {
      "model_module": "@jupyter-widgets/base",
      "model_module_version": "1.2.0",
      "model_name": "LayoutModel",
      "state": {}
     },
     "4bb005fbac7240afa8cfde1a7d52870c": {
      "model_module": "@jupyter-widgets/base",
      "model_module_version": "1.2.0",
      "model_name": "LayoutModel",
      "state": {}
     },
     "4c3d7f39aa9743b38f618ee0cf62f592": {
      "model_module": "@jupyter-widgets/base",
      "model_module_version": "1.2.0",
      "model_name": "LayoutModel",
      "state": {}
     },
     "4d64cfc19a074f7d9bbcef31aaae881c": {
      "model_module": "@jupyter-widgets/base",
      "model_module_version": "1.2.0",
      "model_name": "LayoutModel",
      "state": {}
     },
     "4d78d5d455bc482fade89b169c08cf46": {
      "model_module": "@jupyter-widgets/output",
      "model_module_version": "1.0.0",
      "model_name": "OutputModel",
      "state": {
       "layout": "IPY_MODEL_47bf3b08a8cd45c882b3914c1732d4cd"
      }
     },
     "4de8446bba724394bc246013b35a8f20": {
      "model_module": "@jupyter-widgets/base",
      "model_module_version": "1.2.0",
      "model_name": "LayoutModel",
      "state": {}
     },
     "4f088aef6ebe4fda916a7dccaa8b604e": {
      "model_module": "@jupyter-widgets/base",
      "model_module_version": "1.2.0",
      "model_name": "LayoutModel",
      "state": {}
     },
     "4ff7ac49c5ea45fc8d8450868725b5e1": {
      "model_module": "@jupyter-widgets/controls",
      "model_module_version": "1.5.0",
      "model_name": "DropdownModel",
      "state": {
       "_options_labels": [
        "ALL",
        "Average hours per day",
        "Average hours per day for participants in an activity",
        "Number of participants in an activity on an average day (in thousands)",
        "Number of persons (in thousands)",
        "Percent of population engaged in activity on an average day"
       ],
       "index": 0,
       "layout": "IPY_MODEL_e8c90debaee54b818fa67dbdb51fdac3",
       "style": "IPY_MODEL_42ea38c379484aea9afbe043b1d271b9"
      }
     },
     "50d9eeaf7a864c47b247bdca1a2db79e": {
      "model_module": "@jupyter-widgets/base",
      "model_module_version": "1.2.0",
      "model_name": "LayoutModel",
      "state": {}
     },
     "5174d071639a442b9a43d65346b7a505": {
      "model_module": "@jupyter-widgets/output",
      "model_module_version": "1.0.0",
      "model_name": "OutputModel",
      "state": {
       "layout": "IPY_MODEL_a3e460c2846b41708b386f3752666b1b",
       "outputs": [
        {
         "data": {
          "text/html": "<div>\n<style scoped>\n    .dataframe tbody tr th:only-of-type {\n        vertical-align: middle;\n    }\n\n    .dataframe tbody tr th {\n        vertical-align: top;\n    }\n\n    .dataframe thead th {\n        text-align: right;\n    }\n</style>\n<table border=\"1\" class=\"dataframe\">\n  <thead>\n    <tr style=\"text-align: right;\">\n      <th></th>\n      <th>Unnamed: 0</th>\n      <th>series_id</th>\n      <th>sex_code</th>\n      <th>race_code</th>\n      <th>educ_code</th>\n      <th>age_code</th>\n      <th>pertype_code</th>\n      <th>series_title</th>\n      <th>earn_code</th>\n      <th>actcode_code</th>\n      <th>...</th>\n      <th>actcode_text</th>\n      <th>age_text</th>\n      <th>earn_text</th>\n      <th>educ_text</th>\n      <th>lfstat_text</th>\n      <th>orig_text</th>\n      <th>pertype_text</th>\n      <th>race_text</th>\n      <th>sex_text</th>\n      <th>stattype_text</th>\n    </tr>\n  </thead>\n  <tbody>\n    <tr>\n      <th>67</th>\n      <td>67</td>\n      <td>TUU10101AA01000089</td>\n      <td>1</td>\n      <td>0</td>\n      <td>0</td>\n      <td>0</td>\n      <td>0</td>\n      <td>Avg hrs per day - Men</td>\n      <td>0</td>\n      <td>0</td>\n      <td>...</td>\n      <td>Total, all activities</td>\n      <td>15 years and over</td>\n      <td>All persons</td>\n      <td>All education levels</td>\n      <td>NaN</td>\n      <td>NaN</td>\n      <td>All days</td>\n      <td>All races</td>\n      <td>Men</td>\n      <td>Average hours per day</td>\n    </tr>\n    <tr>\n      <th>68</th>\n      <td>68</td>\n      <td>TUU10101AA01000092</td>\n      <td>1</td>\n      <td>0</td>\n      <td>0</td>\n      <td>0</td>\n      <td>16</td>\n      <td>Avg hrs per day - Weekend days and holidays, Men</td>\n      <td>0</td>\n      <td>0</td>\n      <td>...</td>\n      <td>Total, all activities</td>\n      <td>15 years and over</td>\n      <td>All persons</td>\n      <td>All education levels</td>\n      <td>NaN</td>\n      <td>NaN</td>\n      <td>Weekend days and holidays</td>\n      <td>All races</td>\n      <td>Men</td>\n      <td>Average hours per day</td>\n    </tr>\n    <tr>\n      <th>69</th>\n      <td>69</td>\n      <td>TUU10101AA01000094</td>\n      <td>1</td>\n      <td>0</td>\n      <td>0</td>\n      <td>0</td>\n      <td>19</td>\n      <td>Avg hrs per day - Nonholiday weekdays, Men</td>\n      <td>0</td>\n      <td>0</td>\n      <td>...</td>\n      <td>Total, all activities</td>\n      <td>15 years and over</td>\n      <td>All persons</td>\n      <td>All education levels</td>\n      <td>NaN</td>\n      <td>NaN</td>\n      <td>Nonholiday weekdays</td>\n      <td>All races</td>\n      <td>Men</td>\n      <td>Average hours per day</td>\n    </tr>\n    <tr>\n      <th>70</th>\n      <td>70</td>\n      <td>TUU10101AA01000096</td>\n      <td>1</td>\n      <td>0</td>\n      <td>0</td>\n      <td>0</td>\n      <td>0</td>\n      <td>Avg hrs per day - Employed, Men</td>\n      <td>0</td>\n      <td>0</td>\n      <td>...</td>\n      <td>Total, all activities</td>\n      <td>15 years and over</td>\n      <td>All persons</td>\n      <td>All education levels</td>\n      <td>Employed</td>\n      <td>NaN</td>\n      <td>All days</td>\n      <td>All races</td>\n      <td>Men</td>\n      <td>Average hours per day</td>\n    </tr>\n    <tr>\n      <th>71</th>\n      <td>71</td>\n      <td>TUU10101AA01000097</td>\n      <td>1</td>\n      <td>0</td>\n      <td>0</td>\n      <td>0</td>\n      <td>16</td>\n      <td>Avg hrs per day - Weekend days and holidays, E...</td>\n      <td>0</td>\n      <td>0</td>\n      <td>...</td>\n      <td>Total, all activities</td>\n      <td>15 years and over</td>\n      <td>All persons</td>\n      <td>All education levels</td>\n      <td>Employed</td>\n      <td>NaN</td>\n      <td>Weekend days and holidays</td>\n      <td>All races</td>\n      <td>Men</td>\n      <td>Average hours per day</td>\n    </tr>\n    <tr>\n      <th>...</th>\n      <td>...</td>\n      <td>...</td>\n      <td>...</td>\n      <td>...</td>\n      <td>...</td>\n      <td>...</td>\n      <td>...</td>\n      <td>...</td>\n      <td>...</td>\n      <td>...</td>\n      <td>...</td>\n      <td>...</td>\n      <td>...</td>\n      <td>...</td>\n      <td>...</td>\n      <td>...</td>\n      <td>...</td>\n      <td>...</td>\n      <td>...</td>\n      <td>...</td>\n      <td>...</td>\n    </tr>\n    <tr>\n      <th>25459</th>\n      <td>25459</td>\n      <td>TUU10101AA01066654</td>\n      <td>1</td>\n      <td>0</td>\n      <td>0</td>\n      <td>0</td>\n      <td>16</td>\n      <td>Avg hrs per day -  Household and personal mess...</td>\n      <td>0</td>\n      <td>600072</td>\n      <td>...</td>\n      <td>Household and personal messages</td>\n      <td>15 years and over</td>\n      <td>All persons</td>\n      <td>All education levels</td>\n      <td>NaN</td>\n      <td>NaN</td>\n      <td>Weekend days and holidays</td>\n      <td>All races</td>\n      <td>Men</td>\n      <td>Average hours per day</td>\n    </tr>\n    <tr>\n      <th>25460</th>\n      <td>25460</td>\n      <td>TUU10101AA01066655</td>\n      <td>1</td>\n      <td>0</td>\n      <td>0</td>\n      <td>0</td>\n      <td>19</td>\n      <td>Avg hrs per day -  Household and personal mess...</td>\n      <td>0</td>\n      <td>600072</td>\n      <td>...</td>\n      <td>Household and personal messages</td>\n      <td>15 years and over</td>\n      <td>All persons</td>\n      <td>All education levels</td>\n      <td>NaN</td>\n      <td>NaN</td>\n      <td>Nonholiday weekdays</td>\n      <td>All races</td>\n      <td>Men</td>\n      <td>Average hours per day</td>\n    </tr>\n    <tr>\n      <th>25461</th>\n      <td>25461</td>\n      <td>TUU10101AA01066656</td>\n      <td>1</td>\n      <td>0</td>\n      <td>0</td>\n      <td>0</td>\n      <td>0</td>\n      <td>Avg hrs per day -  Household and personal mess...</td>\n      <td>0</td>\n      <td>600072</td>\n      <td>...</td>\n      <td>Household and personal messages</td>\n      <td>15 years and over</td>\n      <td>All persons</td>\n      <td>All education levels</td>\n      <td>NaN</td>\n      <td>NaN</td>\n      <td>All days</td>\n      <td>All races</td>\n      <td>Men</td>\n      <td>Average hours per day</td>\n    </tr>\n    <tr>\n      <th>25462</th>\n      <td>25462</td>\n      <td>TUU10101AA01066657</td>\n      <td>1</td>\n      <td>0</td>\n      <td>0</td>\n      <td>0</td>\n      <td>16</td>\n      <td>Avg hrs per day -  Household and personal mess...</td>\n      <td>0</td>\n      <td>600072</td>\n      <td>...</td>\n      <td>Household and personal messages</td>\n      <td>15 years and over</td>\n      <td>All persons</td>\n      <td>All education levels</td>\n      <td>NaN</td>\n      <td>NaN</td>\n      <td>Weekend days and holidays</td>\n      <td>All races</td>\n      <td>Men</td>\n      <td>Average hours per day</td>\n    </tr>\n    <tr>\n      <th>25463</th>\n      <td>25463</td>\n      <td>TUU10101AA01066658</td>\n      <td>1</td>\n      <td>0</td>\n      <td>0</td>\n      <td>0</td>\n      <td>19</td>\n      <td>Avg hrs per day -  Household and personal mess...</td>\n      <td>0</td>\n      <td>600072</td>\n      <td>...</td>\n      <td>Household and personal messages</td>\n      <td>15 years and over</td>\n      <td>All persons</td>\n      <td>All education levels</td>\n      <td>NaN</td>\n      <td>NaN</td>\n      <td>Nonholiday weekdays</td>\n      <td>All races</td>\n      <td>Men</td>\n      <td>Average hours per day</td>\n    </tr>\n  </tbody>\n</table>\n<p>8224 rows × 23 columns</p>\n</div>",
          "text/plain": "       Unnamed: 0  series_id                       sex_code  race_code  \\\n67             67  TUU10101AA01000089                     1          0   \n68             68  TUU10101AA01000092                     1          0   \n69             69  TUU10101AA01000094                     1          0   \n70             70  TUU10101AA01000096                     1          0   \n71             71  TUU10101AA01000097                     1          0   \n...           ...                             ...       ...        ...   \n25459       25459  TUU10101AA01066654                     1          0   \n25460       25460  TUU10101AA01066655                     1          0   \n25461       25461  TUU10101AA01066656                     1          0   \n25462       25462  TUU10101AA01066657                     1          0   \n25463       25463  TUU10101AA01066658                     1          0   \n\n       educ_code  age_code  pertype_code  \\\n67             0         0             0   \n68             0         0            16   \n69             0         0            19   \n70             0         0             0   \n71             0         0            16   \n...          ...       ...           ...   \n25459          0         0            16   \n25460          0         0            19   \n25461          0         0             0   \n25462          0         0            16   \n25463          0         0            19   \n\n                                            series_title  earn_code  \\\n67                                 Avg hrs per day - Men          0   \n68      Avg hrs per day - Weekend days and holidays, Men          0   \n69            Avg hrs per day - Nonholiday weekdays, Men          0   \n70                       Avg hrs per day - Employed, Men          0   \n71     Avg hrs per day - Weekend days and holidays, E...          0   \n...                                                  ...        ...   \n25459  Avg hrs per day -  Household and personal mess...          0   \n25460  Avg hrs per day -  Household and personal mess...          0   \n25461  Avg hrs per day -  Household and personal mess...          0   \n25462  Avg hrs per day -  Household and personal mess...          0   \n25463  Avg hrs per day -  Household and personal mess...          0   \n\n       actcode_code  ...                     actcode_text           age_text  \\\n67                0  ...            Total, all activities  15 years and over   \n68                0  ...            Total, all activities  15 years and over   \n69                0  ...            Total, all activities  15 years and over   \n70                0  ...            Total, all activities  15 years and over   \n71                0  ...            Total, all activities  15 years and over   \n...             ...  ...                              ...                ...   \n25459        600072  ...  Household and personal messages  15 years and over   \n25460        600072  ...  Household and personal messages  15 years and over   \n25461        600072  ...  Household and personal messages  15 years and over   \n25462        600072  ...  Household and personal messages  15 years and over   \n25463        600072  ...  Household and personal messages  15 years and over   \n\n         earn_text             educ_text lfstat_text orig_text  \\\n67     All persons  All education levels         NaN       NaN   \n68     All persons  All education levels         NaN       NaN   \n69     All persons  All education levels         NaN       NaN   \n70     All persons  All education levels    Employed       NaN   \n71     All persons  All education levels    Employed       NaN   \n...            ...                   ...         ...       ...   \n25459  All persons  All education levels         NaN       NaN   \n25460  All persons  All education levels         NaN       NaN   \n25461  All persons  All education levels         NaN       NaN   \n25462  All persons  All education levels         NaN       NaN   \n25463  All persons  All education levels         NaN       NaN   \n\n                    pertype_text  race_text sex_text          stattype_text  \n67                      All days  All races      Men  Average hours per day  \n68     Weekend days and holidays  All races      Men  Average hours per day  \n69           Nonholiday weekdays  All races      Men  Average hours per day  \n70                      All days  All races      Men  Average hours per day  \n71     Weekend days and holidays  All races      Men  Average hours per day  \n...                          ...        ...      ...                    ...  \n25459  Weekend days and holidays  All races      Men  Average hours per day  \n25460        Nonholiday weekdays  All races      Men  Average hours per day  \n25461                   All days  All races      Men  Average hours per day  \n25462  Weekend days and holidays  All races      Men  Average hours per day  \n25463        Nonholiday weekdays  All races      Men  Average hours per day  \n\n[8224 rows x 23 columns]"
         },
         "metadata": {},
         "output_type": "display_data"
        }
       ]
      }
     },
     "529ccbe5ecf3407b9ad0dee3a596b899": {
      "model_module": "@jupyter-widgets/base",
      "model_module_version": "1.2.0",
      "model_name": "LayoutModel",
      "state": {}
     },
     "537078309c77449b958525c5830f2ada": {
      "model_module": "@jupyter-widgets/base",
      "model_module_version": "1.2.0",
      "model_name": "LayoutModel",
      "state": {}
     },
     "5453b7997a0a4c89a379ad1fe83987ee": {
      "model_module": "@jupyter-widgets/base",
      "model_module_version": "1.2.0",
      "model_name": "LayoutModel",
      "state": {}
     },
     "552b266215f04fadb4c98938e26a3bad": {
      "model_module": "@jupyter-widgets/controls",
      "model_module_version": "1.5.0",
      "model_name": "DescriptionStyleModel",
      "state": {
       "description_width": ""
      }
     },
     "5615f8cac1da4e84b518aee6084e5de3": {
      "model_module": "@jupyter-widgets/output",
      "model_module_version": "1.0.0",
      "model_name": "OutputModel",
      "state": {
       "layout": "IPY_MODEL_0bf5874abcee49918d7b5ff7520dadf0",
       "outputs": [
        {
         "data": {
          "text/plain": "35"
         },
         "metadata": {},
         "output_type": "display_data"
        }
       ]
      }
     },
     "56dffa0d97694f139a5fa43da1ea5268": {
      "model_module": "@jupyter-widgets/controls",
      "model_module_version": "1.5.0",
      "model_name": "DropdownModel",
      "state": {
       "_options_labels": [
        "ALL",
        "Both sexes",
        "Men",
        "Women"
       ],
       "index": 2,
       "layout": "IPY_MODEL_c1ea14a3f9804177a84f2cb721fd45b2",
       "style": "IPY_MODEL_32a847cdf23e41e1bbac118ad05a2376"
      }
     },
     "571ea6ea249945a5a6350e9e40a36912": {
      "model_module": "@jupyter-widgets/controls",
      "model_module_version": "1.5.0",
      "model_name": "DropdownModel",
      "state": {
       "_options_labels": [
        "ALL",
        "Both sexes",
        "Men",
        "Women"
       ],
       "description": "Gender:",
       "index": 1,
       "layout": "IPY_MODEL_b27e8100547d4c268630ea8a7d515b7d",
       "style": "IPY_MODEL_e1f9d2c61cff4495888e2ad0dc0c30fc"
      }
     },
     "5867d011a99243b195aa72d0066d652b": {
      "model_module": "@jupyter-widgets/controls",
      "model_module_version": "1.5.0",
      "model_name": "DropdownModel",
      "state": {
       "_options_labels": [
        "ALL",
        "Both sexes",
        "Men",
        "Women"
       ],
       "description": "Gender:",
       "index": 1,
       "layout": "IPY_MODEL_0cd47908b98c4d819ee3aef9c09b2250",
       "style": "IPY_MODEL_b181bdefe471433f90cd6b08144cf2db"
      }
     },
     "5963a7e57ef046c3b00df7d4079db7ce": {
      "model_module": "@jupyter-widgets/output",
      "model_module_version": "1.0.0",
      "model_name": "OutputModel",
      "state": {
       "layout": "IPY_MODEL_bcd14ec6886c44389699dba9e37c2fb6",
       "outputs": [
        {
         "data": {
          "text/plain": "19"
         },
         "metadata": {},
         "output_type": "display_data"
        }
       ]
      }
     },
     "59b1dd03f7f345bf9e227d62eeadab5f": {
      "model_module": "@jupyter-widgets/controls",
      "model_module_version": "1.5.0",
      "model_name": "DropdownModel",
      "state": {
       "_options_labels": [
        "ALL",
        "All races",
        "Asian",
        "Black or African American",
        "White"
       ],
       "description": "Ethnicity:",
       "index": 1,
       "layout": "IPY_MODEL_59e8dc4b598f43ebb6efccfe23a609fd",
       "style": "IPY_MODEL_8afae245f26e490bbd6c02f58b56dc5a"
      }
     },
     "59e8dc4b598f43ebb6efccfe23a609fd": {
      "model_module": "@jupyter-widgets/base",
      "model_module_version": "1.2.0",
      "model_name": "LayoutModel",
      "state": {}
     },
     "5a37b32a2f0243f4897be8004962bd8f": {
      "model_module": "@jupyter-widgets/controls",
      "model_module_version": "1.5.0",
      "model_name": "DescriptionStyleModel",
      "state": {
       "description_width": ""
      }
     },
     "5a78b26ded3a41c7b9a08a1e5d802cfa": {
      "model_module": "@jupyter-widgets/controls",
      "model_module_version": "1.5.0",
      "model_name": "DescriptionStyleModel",
      "state": {
       "description_width": ""
      }
     },
     "5bbf0bee723c4bae86e1115ad5729c78": {
      "model_module": "@jupyter-widgets/controls",
      "model_module_version": "1.5.0",
      "model_name": "DropdownModel",
      "state": {
       "_options_labels": [
        "ALL",
        "Average hours per day",
        "Average hours per day for participants in an activity",
        "Number of participants in an activity on an average day (in thousands)",
        "Number of persons (in thousands)",
        "Percent of population engaged in activity on an average day"
       ],
       "description": "Stat Type:",
       "index": 1,
       "layout": "IPY_MODEL_9a50c0c896074fdeb273af5c5c99e176",
       "style": "IPY_MODEL_1657dc77418145b19016e8485de45faa"
      }
     },
     "5c1a8eee563043cc8d896f3359012d40": {
      "model_module": "@jupyter-widgets/base",
      "model_module_version": "1.2.0",
      "model_name": "LayoutModel",
      "state": {}
     },
     "5c1c66a3148d48f19bb22e7d6db4b70f": {
      "model_module": "@jupyter-widgets/base",
      "model_module_version": "1.2.0",
      "model_name": "LayoutModel",
      "state": {}
     },
     "5cbde4f1c95146c7a144b9cddea3bb51": {
      "model_module": "@jupyter-widgets/base",
      "model_module_version": "1.2.0",
      "model_name": "LayoutModel",
      "state": {}
     },
     "5d696662395c447c83d4dde24657b5a3": {
      "model_module": "@jupyter-widgets/controls",
      "model_module_version": "1.5.0",
      "model_name": "DropdownModel",
      "state": {
       "_options_labels": [
        "ALL",
        "Average hours per day",
        "Average hours per day for participants in an activity",
        "Number of participants in an activity on an average day (in thousands)",
        "Number of persons (in thousands)",
        "Percent of population engaged in activity on an average day"
       ],
       "index": 1,
       "layout": "IPY_MODEL_781aa9a78b3c4285b4e6b029d6e6616e",
       "style": "IPY_MODEL_10a6fbb0b2264a5aa63eafc194f436a7"
      }
     },
     "5dbb0230a89349b68d3a2559178a8211": {
      "model_module": "@jupyter-widgets/output",
      "model_module_version": "1.0.0",
      "model_name": "OutputModel",
      "state": {
       "layout": "IPY_MODEL_4d64cfc19a074f7d9bbcef31aaae881c"
      }
     },
     "5e3629adb06e48279b98a132d9f7c979": {
      "model_module": "@jupyter-widgets/base",
      "model_module_version": "1.2.0",
      "model_name": "LayoutModel",
      "state": {}
     },
     "5fa3a4881a27486ba051f9cb36c0e051": {
      "model_module": "@jupyter-widgets/controls",
      "model_module_version": "1.5.0",
      "model_name": "DescriptionStyleModel",
      "state": {
       "description_width": ""
      }
     },
     "603984f97a074f8bac1354ca8bba97af": {
      "model_module": "@jupyter-widgets/controls",
      "model_module_version": "1.5.0",
      "model_name": "DropdownModel",
      "state": {
       "_options_labels": [
        "ALL",
        "All races",
        "Asian",
        "Black or African American",
        "White"
       ],
       "description": "Ethnicity:",
       "index": 1,
       "layout": "IPY_MODEL_a2f531fc238044c99096789cfb4f6521",
       "style": "IPY_MODEL_2018c60a325849e3bb0e007f8ab77962"
      }
     },
     "60d62fcd2b7b46eeaf1a12ae996d7ea9": {
      "model_module": "@jupyter-widgets/controls",
      "model_module_version": "1.5.0",
      "model_name": "DescriptionStyleModel",
      "state": {
       "description_width": ""
      }
     },
     "60e675529d6540588d06f86753aec147": {
      "model_module": "@jupyter-widgets/output",
      "model_module_version": "1.0.0",
      "model_name": "OutputModel",
      "state": {
       "layout": "IPY_MODEL_125a45372c524891bf63bedf63b63f86"
      }
     },
     "62cb15ac488b4b8caee4f01c4d41c27e": {
      "model_module": "@jupyter-widgets/controls",
      "model_module_version": "1.5.0",
      "model_name": "DropdownModel",
      "state": {
       "_options_labels": [
        "ALL",
        "Average hours per day",
        "Average hours per day for participants in an activity",
        "Number of participants in an activity on an average day (in thousands)",
        "Number of persons (in thousands)",
        "Percent of population engaged in activity on an average day"
       ],
       "description": "Stat Type:",
       "index": 1,
       "layout": "IPY_MODEL_40a28d53807342e3a6282bf4b96af0ea",
       "style": "IPY_MODEL_a4956f40d866453e91fb11fbb506ef53"
      }
     },
     "62d165f76e474498a908c05ae07bfce3": {
      "model_module": "@jupyter-widgets/controls",
      "model_module_version": "1.5.0",
      "model_name": "DescriptionStyleModel",
      "state": {
       "description_width": ""
      }
     },
     "63477cbc92094fccb6a2c7edf68260d1": {
      "model_module": "@jupyter-widgets/output",
      "model_module_version": "1.0.0",
      "model_name": "OutputModel",
      "state": {
       "layout": "IPY_MODEL_dfa151ba02c848429da412a690c5451a",
       "outputs": [
        {
         "data": {
          "text/plain": "Unnamed: 0                                                                  3478\nseries_id                                         TUU10101AA01005685            \nsex_code                                                                       0\nrace_code                                                                      4\neduc_code                                                                      0\nage_code                                                                       0\npertype_code                                                                   0\nseries_title                      Avg hrs per day - Relaxing and thinking, Asian\nearn_code                                                                      0\nactcode_code                                                              120301\nlfstat_code                                                                    0\norig_code                                                                      0\nstattype_code                                                              10101\nactcode_text                                               Relaxing and thinking\nage_text                                                       15 years and over\nearn_text                                                            All persons\neduc_text                                                   All education levels\nlfstat_text                                                                  NaN\norig_text                                                                    NaN\npertype_text                                                            All days\nrace_text                                                                  Asian\nsex_text                                                              Both sexes\nstattype_text                                              Average hours per day\nName: 3478, dtype: object"
         },
         "metadata": {},
         "output_type": "display_data"
        }
       ]
      }
     },
     "64041d25f60b489e96ed4ea26e889ff4": {
      "model_module": "@jupyter-widgets/base",
      "model_module_version": "1.2.0",
      "model_name": "LayoutModel",
      "state": {}
     },
     "64a4e5fffea54d599d55fd5822ce7e66": {
      "model_module": "@jupyter-widgets/output",
      "model_module_version": "1.0.0",
      "model_name": "OutputModel",
      "state": {
       "layout": "IPY_MODEL_bc26c3a0924f4306aff6d3010a8ba578",
       "outputs": [
        {
         "ename": "TypeError",
         "evalue": "Cannot index by location index with a non-integer key",
         "output_type": "error",
         "traceback": [
          "\u001b[1;31m---------------------------------------------------------------------------\u001b[0m",
          "\u001b[1;31mTypeError\u001b[0m                                 Traceback (most recent call last)",
          "\u001b[1;32m<ipython-input-304-857298792bf5>\u001b[0m in \u001b[0;36mcommon_filtering\u001b[1;34m(stats, gender, eth)\u001b[0m\n\u001b[0;32m     17\u001b[0m         \u001b[0mdisplay\u001b[0m\u001b[1;33m(\u001b[0m\u001b[0mcommon_filter\u001b[0m\u001b[1;33m)\u001b[0m\u001b[1;33m\u001b[0m\u001b[1;33m\u001b[0m\u001b[0m\n\u001b[0;32m     18\u001b[0m     \u001b[1;32mwith\u001b[0m \u001b[0mlist_output\u001b[0m\u001b[1;33m:\u001b[0m\u001b[1;33m\u001b[0m\u001b[1;33m\u001b[0m\u001b[0m\n\u001b[1;32m---> 19\u001b[1;33m         \u001b[0mdisplay\u001b[0m\u001b[1;33m(\u001b[0m\u001b[0mcommon_filter\u001b[0m\u001b[1;33m.\u001b[0m\u001b[0miloc\u001b[0m\u001b[1;33m[\u001b[0m\u001b[1;34m'series_id'\u001b[0m\u001b[1;33m]\u001b[0m\u001b[1;33m)\u001b[0m\u001b[1;33m\u001b[0m\u001b[1;33m\u001b[0m\u001b[0m\n\u001b[0m",
          "\u001b[1;32m~\\AppData\\Local\\Continuum\\anaconda3\\lib\\site-packages\\pandas\\core\\indexing.py\u001b[0m in \u001b[0;36m__getitem__\u001b[1;34m(self, key)\u001b[0m\n\u001b[0;32m   1765\u001b[0m \u001b[1;33m\u001b[0m\u001b[0m\n\u001b[0;32m   1766\u001b[0m             \u001b[0mmaybe_callable\u001b[0m \u001b[1;33m=\u001b[0m \u001b[0mcom\u001b[0m\u001b[1;33m.\u001b[0m\u001b[0mapply_if_callable\u001b[0m\u001b[1;33m(\u001b[0m\u001b[0mkey\u001b[0m\u001b[1;33m,\u001b[0m \u001b[0mself\u001b[0m\u001b[1;33m.\u001b[0m\u001b[0mobj\u001b[0m\u001b[1;33m)\u001b[0m\u001b[1;33m\u001b[0m\u001b[1;33m\u001b[0m\u001b[0m\n\u001b[1;32m-> 1767\u001b[1;33m             \u001b[1;32mreturn\u001b[0m \u001b[0mself\u001b[0m\u001b[1;33m.\u001b[0m\u001b[0m_getitem_axis\u001b[0m\u001b[1;33m(\u001b[0m\u001b[0mmaybe_callable\u001b[0m\u001b[1;33m,\u001b[0m \u001b[0maxis\u001b[0m\u001b[1;33m=\u001b[0m\u001b[0maxis\u001b[0m\u001b[1;33m)\u001b[0m\u001b[1;33m\u001b[0m\u001b[1;33m\u001b[0m\u001b[0m\n\u001b[0m\u001b[0;32m   1768\u001b[0m \u001b[1;33m\u001b[0m\u001b[0m\n\u001b[0;32m   1769\u001b[0m     \u001b[1;32mdef\u001b[0m \u001b[0m_is_scalar_access\u001b[0m\u001b[1;33m(\u001b[0m\u001b[0mself\u001b[0m\u001b[1;33m,\u001b[0m \u001b[0mkey\u001b[0m\u001b[1;33m:\u001b[0m \u001b[0mTuple\u001b[0m\u001b[1;33m)\u001b[0m\u001b[1;33m:\u001b[0m\u001b[1;33m\u001b[0m\u001b[1;33m\u001b[0m\u001b[0m\n",
          "\u001b[1;32m~\\AppData\\Local\\Continuum\\anaconda3\\lib\\site-packages\\pandas\\core\\indexing.py\u001b[0m in \u001b[0;36m_getitem_axis\u001b[1;34m(self, key, axis)\u001b[0m\n\u001b[0;32m   2132\u001b[0m             \u001b[0mkey\u001b[0m \u001b[1;33m=\u001b[0m \u001b[0mitem_from_zerodim\u001b[0m\u001b[1;33m(\u001b[0m\u001b[0mkey\u001b[0m\u001b[1;33m)\u001b[0m\u001b[1;33m\u001b[0m\u001b[1;33m\u001b[0m\u001b[0m\n\u001b[0;32m   2133\u001b[0m             \u001b[1;32mif\u001b[0m \u001b[1;32mnot\u001b[0m \u001b[0mis_integer\u001b[0m\u001b[1;33m(\u001b[0m\u001b[0mkey\u001b[0m\u001b[1;33m)\u001b[0m\u001b[1;33m:\u001b[0m\u001b[1;33m\u001b[0m\u001b[1;33m\u001b[0m\u001b[0m\n\u001b[1;32m-> 2134\u001b[1;33m                 \u001b[1;32mraise\u001b[0m \u001b[0mTypeError\u001b[0m\u001b[1;33m(\u001b[0m\u001b[1;34m\"Cannot index by location index with a non-integer key\"\u001b[0m\u001b[1;33m)\u001b[0m\u001b[1;33m\u001b[0m\u001b[1;33m\u001b[0m\u001b[0m\n\u001b[0m\u001b[0;32m   2135\u001b[0m \u001b[1;33m\u001b[0m\u001b[0m\n\u001b[0;32m   2136\u001b[0m             \u001b[1;31m# validate the location\u001b[0m\u001b[1;33m\u001b[0m\u001b[1;33m\u001b[0m\u001b[1;33m\u001b[0m\u001b[0m\n",
          "\u001b[1;31mTypeError\u001b[0m: Cannot index by location index with a non-integer key"
         ]
        }
       ]
      }
     },
     "64e9ed3cf5c049d2849fdb1fc3248d19": {
      "model_module": "@jupyter-widgets/base",
      "model_module_version": "1.2.0",
      "model_name": "LayoutModel",
      "state": {}
     },
     "653c3654bf8a4f8f82a6dc19cfb85574": {
      "model_module": "@jupyter-widgets/controls",
      "model_module_version": "1.5.0",
      "model_name": "DropdownModel",
      "state": {
       "_options_labels": [
        "ALL",
        "Average hours per day",
        "Average hours per day for participants in an activity",
        "Number of participants in an activity on an average day (in thousands)",
        "Number of persons (in thousands)",
        "Percent of population engaged in activity on an average day"
       ],
       "index": 1,
       "layout": "IPY_MODEL_5e3629adb06e48279b98a132d9f7c979",
       "style": "IPY_MODEL_a92ef0b089654b5da4bbfb68c45dd998"
      }
     },
     "66b1315422df4704b52d74dde8cfa2c2": {
      "model_module": "@jupyter-widgets/controls",
      "model_module_version": "1.5.0",
      "model_name": "DropdownModel",
      "state": {
       "_options_labels": [
        "ALL",
        "Average hours per day",
        "Average hours per day for participants in an activity",
        "Number of participants in an activity on an average day (in thousands)",
        "Number of persons (in thousands)",
        "Percent of population engaged in activity on an average day"
       ],
       "description": "Stat Type:",
       "index": 1,
       "layout": "IPY_MODEL_30fb2414493d44d7b9653f151821c35e",
       "style": "IPY_MODEL_e08200cba00d4e2c9425f9de6915128f"
      }
     },
     "66d8ea37bbf34196aa167f3c0ee95d56": {
      "model_module": "@jupyter-widgets/controls",
      "model_module_version": "1.5.0",
      "model_name": "DescriptionStyleModel",
      "state": {
       "description_width": ""
      }
     },
     "69b3c0d8694e4f68a68acae09402da48": {
      "model_module": "@jupyter-widgets/output",
      "model_module_version": "1.0.0",
      "model_name": "OutputModel",
      "state": {
       "layout": "IPY_MODEL_5c1a8eee563043cc8d896f3359012d40",
       "outputs": [
        {
         "data": {
          "text/plain": "19"
         },
         "metadata": {},
         "output_type": "display_data"
        }
       ]
      }
     },
     "6a07dbf7b6254042bec5855ab38f02f5": {
      "model_module": "@jupyter-widgets/controls",
      "model_module_version": "1.5.0",
      "model_name": "DescriptionStyleModel",
      "state": {
       "description_width": ""
      }
     },
     "6a4de5e73f1942fbad52dd18f1992b87": {
      "model_module": "@jupyter-widgets/base",
      "model_module_version": "1.2.0",
      "model_name": "LayoutModel",
      "state": {}
     },
     "6b417dea44ea451aa9f2c9a4495b6732": {
      "model_module": "@jupyter-widgets/base",
      "model_module_version": "1.2.0",
      "model_name": "LayoutModel",
      "state": {}
     },
     "6bc0fc1d7e1b422097d279952097fdc8": {
      "model_module": "@jupyter-widgets/output",
      "model_module_version": "1.0.0",
      "model_name": "OutputModel",
      "state": {
       "layout": "IPY_MODEL_9c9f7e6057e6406e8e5891ebb4867ab9"
      }
     },
     "6c3a94d331f84c88a24ea6e98de1e059": {
      "model_module": "@jupyter-widgets/base",
      "model_module_version": "1.2.0",
      "model_name": "LayoutModel",
      "state": {}
     },
     "6e5fafeade8e40db97faa6ef3f0a3a08": {
      "model_module": "@jupyter-widgets/controls",
      "model_module_version": "1.5.0",
      "model_name": "DropdownModel",
      "state": {
       "_options_labels": [
        "All races",
        "Asian",
        "Black or African American",
        "White"
       ],
       "description": "Ethnicity:",
       "index": 0,
       "layout": "IPY_MODEL_9f1532ac5f68463b8a4042c672b28764",
       "style": "IPY_MODEL_5a37b32a2f0243f4897be8004962bd8f"
      }
     },
     "6fae7fe977a64d90a757b34e0d14621c": {
      "model_module": "@jupyter-widgets/controls",
      "model_module_version": "1.5.0",
      "model_name": "DescriptionStyleModel",
      "state": {
       "description_width": ""
      }
     },
     "6fbe0af32d33417dbd5baef9c2e2fc80": {
      "model_module": "@jupyter-widgets/controls",
      "model_module_version": "1.5.0",
      "model_name": "DescriptionStyleModel",
      "state": {
       "description_width": ""
      }
     },
     "71d3a5d63a3b4562b489d2be87c8aaf0": {
      "model_module": "@jupyter-widgets/base",
      "model_module_version": "1.2.0",
      "model_name": "LayoutModel",
      "state": {}
     },
     "7346b2ca46af46a1af1524967f5c182c": {
      "model_module": "@jupyter-widgets/base",
      "model_module_version": "1.2.0",
      "model_name": "LayoutModel",
      "state": {}
     },
     "7414825e33874ed99656f719686c5031": {
      "model_module": "@jupyter-widgets/controls",
      "model_module_version": "1.5.0",
      "model_name": "DescriptionStyleModel",
      "state": {
       "description_width": ""
      }
     },
     "7541d73d0ae1458b88c23f053095fc93": {
      "model_module": "@jupyter-widgets/controls",
      "model_module_version": "1.5.0",
      "model_name": "DescriptionStyleModel",
      "state": {
       "description_width": ""
      }
     },
     "76412ffae26044b480b26f7e7c124be5": {
      "model_module": "@jupyter-widgets/base",
      "model_module_version": "1.2.0",
      "model_name": "LayoutModel",
      "state": {}
     },
     "768ab73e809a48d09b129e4b97973426": {
      "model_module": "@jupyter-widgets/base",
      "model_module_version": "1.2.0",
      "model_name": "LayoutModel",
      "state": {}
     },
     "775d04d48b1c4d9ab69591b54022a05a": {
      "model_module": "@jupyter-widgets/output",
      "model_module_version": "1.0.0",
      "model_name": "OutputModel",
      "state": {
       "layout": "IPY_MODEL_71d3a5d63a3b4562b489d2be87c8aaf0",
       "outputs": [
        {
         "ename": "KeyError",
         "evalue": "'series_id'",
         "output_type": "error",
         "traceback": [
          "\u001b[1;31m---------------------------------------------------------------------------\u001b[0m",
          "\u001b[1;31mKeyError\u001b[0m                                  Traceback (most recent call last)",
          "\u001b[1;32m~\\AppData\\Local\\Continuum\\anaconda3\\lib\\site-packages\\pandas\\core\\indexes\\base.py\u001b[0m in \u001b[0;36mget_loc\u001b[1;34m(self, key, method, tolerance)\u001b[0m\n\u001b[0;32m   2645\u001b[0m             \u001b[1;32mtry\u001b[0m\u001b[1;33m:\u001b[0m\u001b[1;33m\u001b[0m\u001b[1;33m\u001b[0m\u001b[0m\n\u001b[1;32m-> 2646\u001b[1;33m                 \u001b[1;32mreturn\u001b[0m \u001b[0mself\u001b[0m\u001b[1;33m.\u001b[0m\u001b[0m_engine\u001b[0m\u001b[1;33m.\u001b[0m\u001b[0mget_loc\u001b[0m\u001b[1;33m(\u001b[0m\u001b[0mkey\u001b[0m\u001b[1;33m)\u001b[0m\u001b[1;33m\u001b[0m\u001b[1;33m\u001b[0m\u001b[0m\n\u001b[0m\u001b[0;32m   2647\u001b[0m             \u001b[1;32mexcept\u001b[0m \u001b[0mKeyError\u001b[0m\u001b[1;33m:\u001b[0m\u001b[1;33m\u001b[0m\u001b[1;33m\u001b[0m\u001b[0m\n",
          "\u001b[1;32mpandas\\_libs\\index.pyx\u001b[0m in \u001b[0;36mpandas._libs.index.IndexEngine.get_loc\u001b[1;34m()\u001b[0m\n",
          "\u001b[1;32mpandas\\_libs\\index.pyx\u001b[0m in \u001b[0;36mpandas._libs.index.IndexEngine.get_loc\u001b[1;34m()\u001b[0m\n",
          "\u001b[1;32mpandas\\_libs\\index_class_helper.pxi\u001b[0m in \u001b[0;36mpandas._libs.index.Int64Engine._check_type\u001b[1;34m()\u001b[0m\n",
          "\u001b[1;31mKeyError\u001b[0m: 'series_id'",
          "\nDuring handling of the above exception, another exception occurred:\n",
          "\u001b[1;31mKeyError\u001b[0m                                  Traceback (most recent call last)",
          "\u001b[1;32m<ipython-input-311-3aa66a91f1d2>\u001b[0m in \u001b[0;36mcommon_filtering\u001b[1;34m(stats, gender, eth)\u001b[0m\n\u001b[0;32m     17\u001b[0m         \u001b[0mdisplay\u001b[0m\u001b[1;33m(\u001b[0m\u001b[0mcommon_filter\u001b[0m\u001b[1;33m)\u001b[0m\u001b[1;33m\u001b[0m\u001b[1;33m\u001b[0m\u001b[0m\n\u001b[0;32m     18\u001b[0m     \u001b[1;32mwith\u001b[0m \u001b[0mlist_output\u001b[0m\u001b[1;33m:\u001b[0m\u001b[1;33m\u001b[0m\u001b[1;33m\u001b[0m\u001b[0m\n\u001b[1;32m---> 19\u001b[1;33m         \u001b[0mdisplay\u001b[0m\u001b[1;33m(\u001b[0m\u001b[0mcommon_filter\u001b[0m\u001b[1;33m.\u001b[0m\u001b[0mloc\u001b[0m\u001b[1;33m[\u001b[0m\u001b[1;34m'series_id'\u001b[0m\u001b[1;33m]\u001b[0m\u001b[1;33m)\u001b[0m\u001b[1;33m\u001b[0m\u001b[1;33m\u001b[0m\u001b[0m\n\u001b[0m",
          "\u001b[1;32m~\\AppData\\Local\\Continuum\\anaconda3\\lib\\site-packages\\pandas\\core\\indexing.py\u001b[0m in \u001b[0;36m__getitem__\u001b[1;34m(self, key)\u001b[0m\n\u001b[0;32m   1765\u001b[0m \u001b[1;33m\u001b[0m\u001b[0m\n\u001b[0;32m   1766\u001b[0m             \u001b[0mmaybe_callable\u001b[0m \u001b[1;33m=\u001b[0m \u001b[0mcom\u001b[0m\u001b[1;33m.\u001b[0m\u001b[0mapply_if_callable\u001b[0m\u001b[1;33m(\u001b[0m\u001b[0mkey\u001b[0m\u001b[1;33m,\u001b[0m \u001b[0mself\u001b[0m\u001b[1;33m.\u001b[0m\u001b[0mobj\u001b[0m\u001b[1;33m)\u001b[0m\u001b[1;33m\u001b[0m\u001b[1;33m\u001b[0m\u001b[0m\n\u001b[1;32m-> 1767\u001b[1;33m             \u001b[1;32mreturn\u001b[0m \u001b[0mself\u001b[0m\u001b[1;33m.\u001b[0m\u001b[0m_getitem_axis\u001b[0m\u001b[1;33m(\u001b[0m\u001b[0mmaybe_callable\u001b[0m\u001b[1;33m,\u001b[0m \u001b[0maxis\u001b[0m\u001b[1;33m=\u001b[0m\u001b[0maxis\u001b[0m\u001b[1;33m)\u001b[0m\u001b[1;33m\u001b[0m\u001b[1;33m\u001b[0m\u001b[0m\n\u001b[0m\u001b[0;32m   1768\u001b[0m \u001b[1;33m\u001b[0m\u001b[0m\n\u001b[0;32m   1769\u001b[0m     \u001b[1;32mdef\u001b[0m \u001b[0m_is_scalar_access\u001b[0m\u001b[1;33m(\u001b[0m\u001b[0mself\u001b[0m\u001b[1;33m,\u001b[0m \u001b[0mkey\u001b[0m\u001b[1;33m:\u001b[0m \u001b[0mTuple\u001b[0m\u001b[1;33m)\u001b[0m\u001b[1;33m:\u001b[0m\u001b[1;33m\u001b[0m\u001b[1;33m\u001b[0m\u001b[0m\n",
          "\u001b[1;32m~\\AppData\\Local\\Continuum\\anaconda3\\lib\\site-packages\\pandas\\core\\indexing.py\u001b[0m in \u001b[0;36m_getitem_axis\u001b[1;34m(self, key, axis)\u001b[0m\n\u001b[0;32m   1962\u001b[0m         \u001b[1;31m# fall thru to straight lookup\u001b[0m\u001b[1;33m\u001b[0m\u001b[1;33m\u001b[0m\u001b[1;33m\u001b[0m\u001b[0m\n\u001b[0;32m   1963\u001b[0m         \u001b[0mself\u001b[0m\u001b[1;33m.\u001b[0m\u001b[0m_validate_key\u001b[0m\u001b[1;33m(\u001b[0m\u001b[0mkey\u001b[0m\u001b[1;33m,\u001b[0m \u001b[0maxis\u001b[0m\u001b[1;33m)\u001b[0m\u001b[1;33m\u001b[0m\u001b[1;33m\u001b[0m\u001b[0m\n\u001b[1;32m-> 1964\u001b[1;33m         \u001b[1;32mreturn\u001b[0m \u001b[0mself\u001b[0m\u001b[1;33m.\u001b[0m\u001b[0m_get_label\u001b[0m\u001b[1;33m(\u001b[0m\u001b[0mkey\u001b[0m\u001b[1;33m,\u001b[0m \u001b[0maxis\u001b[0m\u001b[1;33m=\u001b[0m\u001b[0maxis\u001b[0m\u001b[1;33m)\u001b[0m\u001b[1;33m\u001b[0m\u001b[1;33m\u001b[0m\u001b[0m\n\u001b[0m\u001b[0;32m   1965\u001b[0m \u001b[1;33m\u001b[0m\u001b[0m\n\u001b[0;32m   1966\u001b[0m \u001b[1;33m\u001b[0m\u001b[0m\n",
          "\u001b[1;32m~\\AppData\\Local\\Continuum\\anaconda3\\lib\\site-packages\\pandas\\core\\indexing.py\u001b[0m in \u001b[0;36m_get_label\u001b[1;34m(self, label, axis)\u001b[0m\n\u001b[0;32m    622\u001b[0m             \u001b[1;32mraise\u001b[0m \u001b[0mIndexingError\u001b[0m\u001b[1;33m(\u001b[0m\u001b[1;34m\"no slices here, handle elsewhere\"\u001b[0m\u001b[1;33m)\u001b[0m\u001b[1;33m\u001b[0m\u001b[1;33m\u001b[0m\u001b[0m\n\u001b[0;32m    623\u001b[0m \u001b[1;33m\u001b[0m\u001b[0m\n\u001b[1;32m--> 624\u001b[1;33m         \u001b[1;32mreturn\u001b[0m \u001b[0mself\u001b[0m\u001b[1;33m.\u001b[0m\u001b[0mobj\u001b[0m\u001b[1;33m.\u001b[0m\u001b[0m_xs\u001b[0m\u001b[1;33m(\u001b[0m\u001b[0mlabel\u001b[0m\u001b[1;33m,\u001b[0m \u001b[0maxis\u001b[0m\u001b[1;33m=\u001b[0m\u001b[0maxis\u001b[0m\u001b[1;33m)\u001b[0m\u001b[1;33m\u001b[0m\u001b[1;33m\u001b[0m\u001b[0m\n\u001b[0m\u001b[0;32m    625\u001b[0m \u001b[1;33m\u001b[0m\u001b[0m\n\u001b[0;32m    626\u001b[0m     \u001b[1;32mdef\u001b[0m \u001b[0m_get_loc\u001b[0m\u001b[1;33m(\u001b[0m\u001b[0mself\u001b[0m\u001b[1;33m,\u001b[0m \u001b[0mkey\u001b[0m\u001b[1;33m:\u001b[0m \u001b[0mint\u001b[0m\u001b[1;33m,\u001b[0m \u001b[0maxis\u001b[0m\u001b[1;33m:\u001b[0m \u001b[0mint\u001b[0m\u001b[1;33m)\u001b[0m\u001b[1;33m:\u001b[0m\u001b[1;33m\u001b[0m\u001b[1;33m\u001b[0m\u001b[0m\n",
          "\u001b[1;32m~\\AppData\\Local\\Continuum\\anaconda3\\lib\\site-packages\\pandas\\core\\generic.py\u001b[0m in \u001b[0;36mxs\u001b[1;34m(self, key, axis, level, drop_level)\u001b[0m\n\u001b[0;32m   3535\u001b[0m             \u001b[0mloc\u001b[0m\u001b[1;33m,\u001b[0m \u001b[0mnew_index\u001b[0m \u001b[1;33m=\u001b[0m \u001b[0mself\u001b[0m\u001b[1;33m.\u001b[0m\u001b[0mindex\u001b[0m\u001b[1;33m.\u001b[0m\u001b[0mget_loc_level\u001b[0m\u001b[1;33m(\u001b[0m\u001b[0mkey\u001b[0m\u001b[1;33m,\u001b[0m \u001b[0mdrop_level\u001b[0m\u001b[1;33m=\u001b[0m\u001b[0mdrop_level\u001b[0m\u001b[1;33m)\u001b[0m\u001b[1;33m\u001b[0m\u001b[1;33m\u001b[0m\u001b[0m\n\u001b[0;32m   3536\u001b[0m         \u001b[1;32melse\u001b[0m\u001b[1;33m:\u001b[0m\u001b[1;33m\u001b[0m\u001b[1;33m\u001b[0m\u001b[0m\n\u001b[1;32m-> 3537\u001b[1;33m             \u001b[0mloc\u001b[0m \u001b[1;33m=\u001b[0m \u001b[0mself\u001b[0m\u001b[1;33m.\u001b[0m\u001b[0mindex\u001b[0m\u001b[1;33m.\u001b[0m\u001b[0mget_loc\u001b[0m\u001b[1;33m(\u001b[0m\u001b[0mkey\u001b[0m\u001b[1;33m)\u001b[0m\u001b[1;33m\u001b[0m\u001b[1;33m\u001b[0m\u001b[0m\n\u001b[0m\u001b[0;32m   3538\u001b[0m \u001b[1;33m\u001b[0m\u001b[0m\n\u001b[0;32m   3539\u001b[0m             \u001b[1;32mif\u001b[0m \u001b[0misinstance\u001b[0m\u001b[1;33m(\u001b[0m\u001b[0mloc\u001b[0m\u001b[1;33m,\u001b[0m \u001b[0mnp\u001b[0m\u001b[1;33m.\u001b[0m\u001b[0mndarray\u001b[0m\u001b[1;33m)\u001b[0m\u001b[1;33m:\u001b[0m\u001b[1;33m\u001b[0m\u001b[1;33m\u001b[0m\u001b[0m\n",
          "\u001b[1;32m~\\AppData\\Local\\Continuum\\anaconda3\\lib\\site-packages\\pandas\\core\\indexes\\base.py\u001b[0m in \u001b[0;36mget_loc\u001b[1;34m(self, key, method, tolerance)\u001b[0m\n\u001b[0;32m   2646\u001b[0m                 \u001b[1;32mreturn\u001b[0m \u001b[0mself\u001b[0m\u001b[1;33m.\u001b[0m\u001b[0m_engine\u001b[0m\u001b[1;33m.\u001b[0m\u001b[0mget_loc\u001b[0m\u001b[1;33m(\u001b[0m\u001b[0mkey\u001b[0m\u001b[1;33m)\u001b[0m\u001b[1;33m\u001b[0m\u001b[1;33m\u001b[0m\u001b[0m\n\u001b[0;32m   2647\u001b[0m             \u001b[1;32mexcept\u001b[0m \u001b[0mKeyError\u001b[0m\u001b[1;33m:\u001b[0m\u001b[1;33m\u001b[0m\u001b[1;33m\u001b[0m\u001b[0m\n\u001b[1;32m-> 2648\u001b[1;33m                 \u001b[1;32mreturn\u001b[0m \u001b[0mself\u001b[0m\u001b[1;33m.\u001b[0m\u001b[0m_engine\u001b[0m\u001b[1;33m.\u001b[0m\u001b[0mget_loc\u001b[0m\u001b[1;33m(\u001b[0m\u001b[0mself\u001b[0m\u001b[1;33m.\u001b[0m\u001b[0m_maybe_cast_indexer\u001b[0m\u001b[1;33m(\u001b[0m\u001b[0mkey\u001b[0m\u001b[1;33m)\u001b[0m\u001b[1;33m)\u001b[0m\u001b[1;33m\u001b[0m\u001b[1;33m\u001b[0m\u001b[0m\n\u001b[0m\u001b[0;32m   2649\u001b[0m         \u001b[0mindexer\u001b[0m \u001b[1;33m=\u001b[0m \u001b[0mself\u001b[0m\u001b[1;33m.\u001b[0m\u001b[0mget_indexer\u001b[0m\u001b[1;33m(\u001b[0m\u001b[1;33m[\u001b[0m\u001b[0mkey\u001b[0m\u001b[1;33m]\u001b[0m\u001b[1;33m,\u001b[0m \u001b[0mmethod\u001b[0m\u001b[1;33m=\u001b[0m\u001b[0mmethod\u001b[0m\u001b[1;33m,\u001b[0m \u001b[0mtolerance\u001b[0m\u001b[1;33m=\u001b[0m\u001b[0mtolerance\u001b[0m\u001b[1;33m)\u001b[0m\u001b[1;33m\u001b[0m\u001b[1;33m\u001b[0m\u001b[0m\n\u001b[0;32m   2650\u001b[0m         \u001b[1;32mif\u001b[0m \u001b[0mindexer\u001b[0m\u001b[1;33m.\u001b[0m\u001b[0mndim\u001b[0m \u001b[1;33m>\u001b[0m \u001b[1;36m1\u001b[0m \u001b[1;32mor\u001b[0m \u001b[0mindexer\u001b[0m\u001b[1;33m.\u001b[0m\u001b[0msize\u001b[0m \u001b[1;33m>\u001b[0m \u001b[1;36m1\u001b[0m\u001b[1;33m:\u001b[0m\u001b[1;33m\u001b[0m\u001b[1;33m\u001b[0m\u001b[0m\n",
          "\u001b[1;32mpandas\\_libs\\index.pyx\u001b[0m in \u001b[0;36mpandas._libs.index.IndexEngine.get_loc\u001b[1;34m()\u001b[0m\n",
          "\u001b[1;32mpandas\\_libs\\index.pyx\u001b[0m in \u001b[0;36mpandas._libs.index.IndexEngine.get_loc\u001b[1;34m()\u001b[0m\n",
          "\u001b[1;32mpandas\\_libs\\index_class_helper.pxi\u001b[0m in \u001b[0;36mpandas._libs.index.Int64Engine._check_type\u001b[1;34m()\u001b[0m\n",
          "\u001b[1;31mKeyError\u001b[0m: 'series_id'"
         ]
        }
       ]
      }
     },
     "781aa9a78b3c4285b4e6b029d6e6616e": {
      "model_module": "@jupyter-widgets/base",
      "model_module_version": "1.2.0",
      "model_name": "LayoutModel",
      "state": {}
     },
     "79d2ba1fd2644fe794294c18e439410d": {
      "model_module": "@jupyter-widgets/base",
      "model_module_version": "1.2.0",
      "model_name": "LayoutModel",
      "state": {}
     },
     "7b771127383f4e5b9306a420a6ac91be": {
      "model_module": "@jupyter-widgets/output",
      "model_module_version": "1.0.0",
      "model_name": "OutputModel",
      "state": {
       "layout": "IPY_MODEL_e182143f7b734412a5ac9259e9b7c993",
       "outputs": [
        {
         "data": {
          "text/plain": "12"
         },
         "metadata": {},
         "output_type": "display_data"
        }
       ]
      }
     },
     "7bb312f7f1104bd694d8df5314a15ea8": {
      "model_module": "@jupyter-widgets/controls",
      "model_module_version": "1.5.0",
      "model_name": "DescriptionStyleModel",
      "state": {
       "description_width": ""
      }
     },
     "7bde266a35324376989f7ff77ec64762": {
      "model_module": "@jupyter-widgets/controls",
      "model_module_version": "1.5.0",
      "model_name": "DropdownModel",
      "state": {
       "_options_labels": [
        "ALL",
        "Average hours per day",
        "Average hours per day for participants in an activity",
        "Number of participants in an activity on an average day (in thousands)",
        "Number of persons (in thousands)",
        "Percent of population engaged in activity on an average day"
       ],
       "description": "Stat Type:",
       "index": 1,
       "layout": "IPY_MODEL_4f088aef6ebe4fda916a7dccaa8b604e",
       "style": "IPY_MODEL_c65bac9289984baaa84dcf0b81079b9d"
      }
     },
     "7c3506b5dde44f53847867ba7a4b08b3": {
      "model_module": "@jupyter-widgets/base",
      "model_module_version": "1.2.0",
      "model_name": "LayoutModel",
      "state": {}
     },
     "7d76830d7ef345ec867350c2bccc3c44": {
      "model_module": "@jupyter-widgets/controls",
      "model_module_version": "1.5.0",
      "model_name": "DropdownModel",
      "state": {
       "_options_labels": [
        "ALL",
        "All races",
        "Asian",
        "Black or African American",
        "White"
       ],
       "description": "Ethnicity:",
       "index": 4,
       "layout": "IPY_MODEL_1b7b75fc4c254898a3ee96a7a0b8fae2",
       "style": "IPY_MODEL_c48535461886417aaf9e111b5a898222"
      }
     },
     "7e3c63fec2344256b329adb5eed8f719": {
      "model_module": "@jupyter-widgets/base",
      "model_module_version": "1.2.0",
      "model_name": "LayoutModel",
      "state": {}
     },
     "7ec3b5db38e74a9aae4b293ce71d4413": {
      "model_module": "@jupyter-widgets/controls",
      "model_module_version": "1.5.0",
      "model_name": "DropdownModel",
      "state": {
       "_options_labels": [
        "ALL",
        "Both sexes",
        "Men",
        "Women"
       ],
       "index": 1,
       "layout": "IPY_MODEL_e3e50502eb944cc196f4a9e49f3066e9",
       "style": "IPY_MODEL_66d8ea37bbf34196aa167f3c0ee95d56"
      }
     },
     "8244b88be17d4de38ec427b65d6615f5": {
      "model_module": "@jupyter-widgets/controls",
      "model_module_version": "1.5.0",
      "model_name": "DescriptionStyleModel",
      "state": {
       "description_width": ""
      }
     },
     "8364c465032a44ffaab73895a682ebe5": {
      "model_module": "@jupyter-widgets/base",
      "model_module_version": "1.2.0",
      "model_name": "LayoutModel",
      "state": {}
     },
     "84f329ee0b734c6d934e9f37e14a3ebc": {
      "model_module": "@jupyter-widgets/controls",
      "model_module_version": "1.5.0",
      "model_name": "DescriptionStyleModel",
      "state": {
       "description_width": ""
      }
     },
     "8722bcadfb3942fa87d11ded08c49631": {
      "model_module": "@jupyter-widgets/base",
      "model_module_version": "1.2.0",
      "model_name": "LayoutModel",
      "state": {}
     },
     "87cc409cced241749c3a7cd03eae772e": {
      "model_module": "@jupyter-widgets/output",
      "model_module_version": "1.0.0",
      "model_name": "OutputModel",
      "state": {
       "layout": "IPY_MODEL_a8bb9083b9ec4432a54c462c7134d541"
      }
     },
     "892760fe02c1487c8345e3224122c305": {
      "model_module": "@jupyter-widgets/base",
      "model_module_version": "1.2.0",
      "model_name": "LayoutModel",
      "state": {}
     },
     "8a44404881d44eeba9f31d0b01190c16": {
      "model_module": "@jupyter-widgets/base",
      "model_module_version": "1.2.0",
      "model_name": "LayoutModel",
      "state": {}
     },
     "8afae245f26e490bbd6c02f58b56dc5a": {
      "model_module": "@jupyter-widgets/controls",
      "model_module_version": "1.5.0",
      "model_name": "DescriptionStyleModel",
      "state": {
       "description_width": ""
      }
     },
     "8b66b2faa83f46358dea2204882ce4a6": {
      "model_module": "@jupyter-widgets/base",
      "model_module_version": "1.2.0",
      "model_name": "LayoutModel",
      "state": {}
     },
     "8c064b7e3115475498457076bf531ee1": {
      "model_module": "@jupyter-widgets/base",
      "model_module_version": "1.2.0",
      "model_name": "LayoutModel",
      "state": {}
     },
     "8d7771c6791744d58bd0e769d2f4db11": {
      "model_module": "@jupyter-widgets/output",
      "model_module_version": "1.0.0",
      "model_name": "OutputModel",
      "state": {
       "layout": "IPY_MODEL_c5900d471211421a8f1fa0b29472b7ff",
       "outputs": [
        {
         "data": {
          "text/html": "<div>\n<style scoped>\n    .dataframe tbody tr th:only-of-type {\n        vertical-align: middle;\n    }\n\n    .dataframe tbody tr th {\n        vertical-align: top;\n    }\n\n    .dataframe thead th {\n        text-align: right;\n    }\n</style>\n<table border=\"1\" class=\"dataframe\">\n  <thead>\n    <tr style=\"text-align: right;\">\n      <th></th>\n      <th>Unnamed: 0</th>\n      <th>series_id</th>\n      <th>sex_code</th>\n      <th>race_code</th>\n      <th>educ_code</th>\n      <th>age_code</th>\n      <th>pertype_code</th>\n      <th>series_title</th>\n      <th>earn_code</th>\n      <th>actcode_code</th>\n      <th>...</th>\n      <th>actcode_text</th>\n      <th>age_text</th>\n      <th>earn_text</th>\n      <th>educ_text</th>\n      <th>lfstat_text</th>\n      <th>orig_text</th>\n      <th>pertype_text</th>\n      <th>race_text</th>\n      <th>sex_text</th>\n      <th>stattype_text</th>\n    </tr>\n  </thead>\n  <tbody>\n    <tr>\n      <th>5438</th>\n      <td>5438</td>\n      <td>TUU10101AA01008976</td>\n      <td>1</td>\n      <td>3</td>\n      <td>0</td>\n      <td>0</td>\n      <td>0</td>\n      <td>Avg hrs per day - Personal care activities (in...</td>\n      <td>0</td>\n      <td>600001</td>\n      <td>...</td>\n      <td>Personal care activities (includes travel)</td>\n      <td>15 years and over</td>\n      <td>All persons</td>\n      <td>All education levels</td>\n      <td>NaN</td>\n      <td>NaN</td>\n      <td>All days</td>\n      <td>Black or African American</td>\n      <td>Men</td>\n      <td>Average hours per day</td>\n    </tr>\n    <tr>\n      <th>5601</th>\n      <td>5601</td>\n      <td>TUU10101AA01009528</td>\n      <td>1</td>\n      <td>3</td>\n      <td>0</td>\n      <td>0</td>\n      <td>0</td>\n      <td>Avg hrs per day - Household activities (includ...</td>\n      <td>0</td>\n      <td>600003</td>\n      <td>...</td>\n      <td>Household activities (includes travel)</td>\n      <td>15 years and over</td>\n      <td>All persons</td>\n      <td>All education levels</td>\n      <td>NaN</td>\n      <td>NaN</td>\n      <td>All days</td>\n      <td>Black or African American</td>\n      <td>Men</td>\n      <td>Average hours per day</td>\n    </tr>\n    <tr>\n      <th>5866</th>\n      <td>5866</td>\n      <td>TUU10101AA01010518</td>\n      <td>1</td>\n      <td>3</td>\n      <td>0</td>\n      <td>0</td>\n      <td>0</td>\n      <td>Avg hrs per day - Caring for and helping house...</td>\n      <td>0</td>\n      <td>600007</td>\n      <td>...</td>\n      <td>Caring for and helping household members (incl...</td>\n      <td>15 years and over</td>\n      <td>All persons</td>\n      <td>All education levels</td>\n      <td>NaN</td>\n      <td>NaN</td>\n      <td>All days</td>\n      <td>Black or African American</td>\n      <td>Men</td>\n      <td>Average hours per day</td>\n    </tr>\n    <tr>\n      <th>6233</th>\n      <td>6233</td>\n      <td>TUU10101AA01011318</td>\n      <td>1</td>\n      <td>3</td>\n      <td>0</td>\n      <td>0</td>\n      <td>0</td>\n      <td>Avg hrs per day - Caring for and helping nonho...</td>\n      <td>0</td>\n      <td>600010</td>\n      <td>...</td>\n      <td>Caring for and helping nonhousehold members (i...</td>\n      <td>15 years and over</td>\n      <td>All persons</td>\n      <td>All education levels</td>\n      <td>NaN</td>\n      <td>NaN</td>\n      <td>All days</td>\n      <td>Black or African American</td>\n      <td>Men</td>\n      <td>Average hours per day</td>\n    </tr>\n    <tr>\n      <th>6600</th>\n      <td>6600</td>\n      <td>TUU10101AA01012134</td>\n      <td>1</td>\n      <td>3</td>\n      <td>0</td>\n      <td>0</td>\n      <td>0</td>\n      <td>Avg hrs per day - Working and work-related act...</td>\n      <td>0</td>\n      <td>600013</td>\n      <td>...</td>\n      <td>Working and work-related activities (includes ...</td>\n      <td>15 years and over</td>\n      <td>All persons</td>\n      <td>All education levels</td>\n      <td>NaN</td>\n      <td>NaN</td>\n      <td>All days</td>\n      <td>Black or African American</td>\n      <td>Men</td>\n      <td>Average hours per day</td>\n    </tr>\n    <tr>\n      <th>6763</th>\n      <td>6763</td>\n      <td>TUU10101AA01012474</td>\n      <td>1</td>\n      <td>3</td>\n      <td>0</td>\n      <td>0</td>\n      <td>0</td>\n      <td>Avg hrs per day - Educational activities (incl...</td>\n      <td>0</td>\n      <td>600016</td>\n      <td>...</td>\n      <td>Educational activities (includes travel)</td>\n      <td>15 years and over</td>\n      <td>All persons</td>\n      <td>All education levels</td>\n      <td>NaN</td>\n      <td>NaN</td>\n      <td>All days</td>\n      <td>Black or African American</td>\n      <td>Men</td>\n      <td>Average hours per day</td>\n    </tr>\n    <tr>\n      <th>6926</th>\n      <td>6926</td>\n      <td>TUU10101AA01012799</td>\n      <td>1</td>\n      <td>3</td>\n      <td>0</td>\n      <td>0</td>\n      <td>0</td>\n      <td>Avg hrs per day - Purchasing goods and service...</td>\n      <td>0</td>\n      <td>600018</td>\n      <td>...</td>\n      <td>Purchasing goods and services (includes travel)</td>\n      <td>15 years and over</td>\n      <td>All persons</td>\n      <td>All education levels</td>\n      <td>NaN</td>\n      <td>NaN</td>\n      <td>All days</td>\n      <td>Black or African American</td>\n      <td>Men</td>\n      <td>Average hours per day</td>\n    </tr>\n    <tr>\n      <th>7191</th>\n      <td>7191</td>\n      <td>TUU10101AA01013384</td>\n      <td>1</td>\n      <td>3</td>\n      <td>0</td>\n      <td>0</td>\n      <td>0</td>\n      <td>Avg hrs per day - Eating and drinking (include...</td>\n      <td>0</td>\n      <td>600022</td>\n      <td>...</td>\n      <td>Eating and drinking (includes travel)</td>\n      <td>15 years and over</td>\n      <td>All persons</td>\n      <td>All education levels</td>\n      <td>NaN</td>\n      <td>NaN</td>\n      <td>All days</td>\n      <td>Black or African American</td>\n      <td>Men</td>\n      <td>Average hours per day</td>\n    </tr>\n    <tr>\n      <th>7360</th>\n      <td>7360</td>\n      <td>TUU10101AA01013744</td>\n      <td>1</td>\n      <td>3</td>\n      <td>0</td>\n      <td>0</td>\n      <td>0</td>\n      <td>Avg hrs per day - Leisure and sports (includes...</td>\n      <td>0</td>\n      <td>600023</td>\n      <td>...</td>\n      <td>Leisure and sports (includes travel)</td>\n      <td>15 years and over</td>\n      <td>All persons</td>\n      <td>All education levels</td>\n      <td>NaN</td>\n      <td>NaN</td>\n      <td>All days</td>\n      <td>Black or African American</td>\n      <td>Men</td>\n      <td>Average hours per day</td>\n    </tr>\n    <tr>\n      <th>7903</th>\n      <td>7903</td>\n      <td>TUU10101AA01015154</td>\n      <td>1</td>\n      <td>3</td>\n      <td>0</td>\n      <td>0</td>\n      <td>0</td>\n      <td>Avg hrs per day - Organizational, civic, and r...</td>\n      <td>0</td>\n      <td>600030</td>\n      <td>...</td>\n      <td>Organizational, civic, and religious activities</td>\n      <td>15 years and over</td>\n      <td>All persons</td>\n      <td>All education levels</td>\n      <td>NaN</td>\n      <td>NaN</td>\n      <td>All days</td>\n      <td>Black or African American</td>\n      <td>Men</td>\n      <td>Average hours per day</td>\n    </tr>\n    <tr>\n      <th>8168</th>\n      <td>8168</td>\n      <td>TUU10101AA01015730</td>\n      <td>1</td>\n      <td>3</td>\n      <td>0</td>\n      <td>0</td>\n      <td>0</td>\n      <td>Avg hrs per day - Telephone calls, mail, and e...</td>\n      <td>0</td>\n      <td>600033</td>\n      <td>...</td>\n      <td>Telephone calls, mail, and e-mail (includes tr...</td>\n      <td>15 years and over</td>\n      <td>All persons</td>\n      <td>All education levels</td>\n      <td>NaN</td>\n      <td>NaN</td>\n      <td>All days</td>\n      <td>Black or African American</td>\n      <td>Men</td>\n      <td>Average hours per day</td>\n    </tr>\n    <tr>\n      <th>8331</th>\n      <td>8331</td>\n      <td>TUU10101AA01016069</td>\n      <td>1</td>\n      <td>3</td>\n      <td>0</td>\n      <td>0</td>\n      <td>0</td>\n      <td>Avg hrs per day - Other activities, not elsewh...</td>\n      <td>0</td>\n      <td>600034</td>\n      <td>...</td>\n      <td>Other activities, not elsewhere classified (in...</td>\n      <td>15 years and over</td>\n      <td>All persons</td>\n      <td>All education levels</td>\n      <td>NaN</td>\n      <td>NaN</td>\n      <td>All days</td>\n      <td>Black or African American</td>\n      <td>Men</td>\n      <td>Average hours per day</td>\n    </tr>\n  </tbody>\n</table>\n<p>12 rows × 23 columns</p>\n</div>",
          "text/plain": "      Unnamed: 0  series_id                       sex_code  race_code  \\\n5438        5438  TUU10101AA01008976                     1          3   \n5601        5601  TUU10101AA01009528                     1          3   \n5866        5866  TUU10101AA01010518                     1          3   \n6233        6233  TUU10101AA01011318                     1          3   \n6600        6600  TUU10101AA01012134                     1          3   \n6763        6763  TUU10101AA01012474                     1          3   \n6926        6926  TUU10101AA01012799                     1          3   \n7191        7191  TUU10101AA01013384                     1          3   \n7360        7360  TUU10101AA01013744                     1          3   \n7903        7903  TUU10101AA01015154                     1          3   \n8168        8168  TUU10101AA01015730                     1          3   \n8331        8331  TUU10101AA01016069                     1          3   \n\n      educ_code  age_code  pertype_code  \\\n5438          0         0             0   \n5601          0         0             0   \n5866          0         0             0   \n6233          0         0             0   \n6600          0         0             0   \n6763          0         0             0   \n6926          0         0             0   \n7191          0         0             0   \n7360          0         0             0   \n7903          0         0             0   \n8168          0         0             0   \n8331          0         0             0   \n\n                                           series_title  earn_code  \\\n5438  Avg hrs per day - Personal care activities (in...          0   \n5601  Avg hrs per day - Household activities (includ...          0   \n5866  Avg hrs per day - Caring for and helping house...          0   \n6233  Avg hrs per day - Caring for and helping nonho...          0   \n6600  Avg hrs per day - Working and work-related act...          0   \n6763  Avg hrs per day - Educational activities (incl...          0   \n6926  Avg hrs per day - Purchasing goods and service...          0   \n7191  Avg hrs per day - Eating and drinking (include...          0   \n7360  Avg hrs per day - Leisure and sports (includes...          0   \n7903  Avg hrs per day - Organizational, civic, and r...          0   \n8168  Avg hrs per day - Telephone calls, mail, and e...          0   \n8331  Avg hrs per day - Other activities, not elsewh...          0   \n\n      actcode_code  ...                                       actcode_text  \\\n5438        600001  ...         Personal care activities (includes travel)   \n5601        600003  ...             Household activities (includes travel)   \n5866        600007  ...  Caring for and helping household members (incl...   \n6233        600010  ...  Caring for and helping nonhousehold members (i...   \n6600        600013  ...  Working and work-related activities (includes ...   \n6763        600016  ...           Educational activities (includes travel)   \n6926        600018  ...    Purchasing goods and services (includes travel)   \n7191        600022  ...              Eating and drinking (includes travel)   \n7360        600023  ...               Leisure and sports (includes travel)   \n7903        600030  ...    Organizational, civic, and religious activities   \n8168        600033  ...  Telephone calls, mail, and e-mail (includes tr...   \n8331        600034  ...  Other activities, not elsewhere classified (in...   \n\n               age_text    earn_text             educ_text lfstat_text  \\\n5438  15 years and over  All persons  All education levels         NaN   \n5601  15 years and over  All persons  All education levels         NaN   \n5866  15 years and over  All persons  All education levels         NaN   \n6233  15 years and over  All persons  All education levels         NaN   \n6600  15 years and over  All persons  All education levels         NaN   \n6763  15 years and over  All persons  All education levels         NaN   \n6926  15 years and over  All persons  All education levels         NaN   \n7191  15 years and over  All persons  All education levels         NaN   \n7360  15 years and over  All persons  All education levels         NaN   \n7903  15 years and over  All persons  All education levels         NaN   \n8168  15 years and over  All persons  All education levels         NaN   \n8331  15 years and over  All persons  All education levels         NaN   \n\n     orig_text pertype_text                  race_text sex_text  \\\n5438       NaN     All days  Black or African American      Men   \n5601       NaN     All days  Black or African American      Men   \n5866       NaN     All days  Black or African American      Men   \n6233       NaN     All days  Black or African American      Men   \n6600       NaN     All days  Black or African American      Men   \n6763       NaN     All days  Black or African American      Men   \n6926       NaN     All days  Black or African American      Men   \n7191       NaN     All days  Black or African American      Men   \n7360       NaN     All days  Black or African American      Men   \n7903       NaN     All days  Black or African American      Men   \n8168       NaN     All days  Black or African American      Men   \n8331       NaN     All days  Black or African American      Men   \n\n              stattype_text  \n5438  Average hours per day  \n5601  Average hours per day  \n5866  Average hours per day  \n6233  Average hours per day  \n6600  Average hours per day  \n6763  Average hours per day  \n6926  Average hours per day  \n7191  Average hours per day  \n7360  Average hours per day  \n7903  Average hours per day  \n8168  Average hours per day  \n8331  Average hours per day  \n\n[12 rows x 23 columns]"
         },
         "metadata": {},
         "output_type": "display_data"
        }
       ]
      }
     },
     "8e0b36597f50455eb67302d168126a2b": {
      "model_module": "@jupyter-widgets/controls",
      "model_module_version": "1.5.0",
      "model_name": "DropdownModel",
      "state": {
       "_options_labels": [
        "ALL",
        "Average hours per day",
        "Average hours per day for participants in an activity",
        "Number of participants in an activity on an average day (in thousands)",
        "Number of persons (in thousands)",
        "Percent of population engaged in activity on an average day"
       ],
       "description": "Stat Type:",
       "index": 1,
       "layout": "IPY_MODEL_2d4a1fe81bd14aee85eeedae547dde44",
       "style": "IPY_MODEL_6fae7fe977a64d90a757b34e0d14621c"
      }
     },
     "8e356c005c5e4aff8e313c46b5fb1ad4": {
      "model_module": "@jupyter-widgets/base",
      "model_module_version": "1.2.0",
      "model_name": "LayoutModel",
      "state": {}
     },
     "8e6837d91dfc4ff2b2c0b097a0525c19": {
      "model_module": "@jupyter-widgets/base",
      "model_module_version": "1.2.0",
      "model_name": "LayoutModel",
      "state": {}
     },
     "8ec7190e60fd4715834c4c3122f4decd": {
      "model_module": "@jupyter-widgets/controls",
      "model_module_version": "1.5.0",
      "model_name": "DropdownModel",
      "state": {
       "_options_labels": [
        "ALL",
        "Average hours per day",
        "Average hours per day for participants in an activity",
        "Number of participants in an activity on an average day (in thousands)",
        "Number of persons (in thousands)",
        "Percent of population engaged in activity on an average day"
       ],
       "description": "Stat Type:",
       "index": 1,
       "layout": "IPY_MODEL_8e356c005c5e4aff8e313c46b5fb1ad4",
       "style": "IPY_MODEL_ade5a2018ec0444d9e69913ea55db3b4"
      }
     },
     "913c380f68894daeb037dd9a2e1e0e4b": {
      "model_module": "@jupyter-widgets/controls",
      "model_module_version": "1.5.0",
      "model_name": "DropdownModel",
      "state": {
       "_options_labels": [
        "All days",
        "Nonholiday weekdays",
        "Weekdays",
        "Weekend days and holidays"
       ],
       "description": "Days:",
       "index": 0,
       "layout": "IPY_MODEL_47b6a767bba34e5e918ee98baf410669",
       "style": "IPY_MODEL_2e7eb165a4d24ef199d8f9b8099b7940"
      }
     },
     "91ba16d2a6984ee0bf2c665dc970b5ed": {
      "model_module": "@jupyter-widgets/base",
      "model_module_version": "1.2.0",
      "model_name": "LayoutModel",
      "state": {}
     },
     "927a951b5e7143a6a61537f40b5ea17d": {
      "model_module": "@jupyter-widgets/output",
      "model_module_version": "1.0.0",
      "model_name": "OutputModel",
      "state": {
       "layout": "IPY_MODEL_d20637a938b34cf8b22940727a68b298",
       "outputs": [
        {
         "data": {
          "text/plain": "8"
         },
         "metadata": {},
         "output_type": "display_data"
        }
       ]
      }
     },
     "92d28062a654483e84653fde6d8b5e91": {
      "model_module": "@jupyter-widgets/base",
      "model_module_version": "1.2.0",
      "model_name": "LayoutModel",
      "state": {}
     },
     "936cb7c5d85740c8903b3009fe4563bd": {
      "model_module": "@jupyter-widgets/output",
      "model_module_version": "1.0.0",
      "model_name": "OutputModel",
      "state": {
       "layout": "IPY_MODEL_4bb005fbac7240afa8cfde1a7d52870c",
       "outputs": [
        {
         "data": {
          "text/plain": "3477     TUU10101AA01005684            \n3702     TUU10101AA01006341            \n5381     TUU10101AA01008860            \n5544     TUU10101AA01009412            \n5809     TUU10101AA01010405            \n6176     TUU10101AA01011205            \n6543     TUU10101AA01012018            \n6706     TUU10101AA01012366            \n6869     TUU10101AA01012683            \n7134     TUU10101AA01013268            \n7302     TUU10101AA01013622            \n7471     TUU10101AA01013988            \n7591     TUU10101AA01014273            \n7700     TUU10101AA01014547            \n7846     TUU10101AA01015041            \n8111     TUU10101AA01015617            \n8274     TUU10101AA01015956            \n8423     TUU10101AA01016313            \n8447     TUU10101AA01016391            \n9304     TUU10101AA01020915            \n9305     TUU10101AA01020916            \n9451     TUU10101AA01021653            \n9452     TUU10101AA01021654            \n10094    TUU10101AA01026588            \n10095    TUU10101AA01026589            \n10172    TUU10101AA01026843            \n10173    TUU10101AA01026844            \n10280    TUU10101AA01027128            \n10281    TUU10101AA01027129            \n10390    TUU10101AA01027415            \n10391    TUU10101AA01027416            \n10636    TUU10101AA01028728            \n10637    TUU10101AA01028729            \n10712    TUU10101AA01028814            \n10713    TUU10101AA01028815            \nName: series_id                     , dtype: object"
         },
         "metadata": {},
         "output_type": "display_data"
        }
       ]
      }
     },
     "938bdef9868c42d09991188a4664ca64": {
      "model_module": "@jupyter-widgets/base",
      "model_module_version": "1.2.0",
      "model_name": "LayoutModel",
      "state": {}
     },
     "9435ec3341b141259a0f2513b0ea06f7": {
      "model_module": "@jupyter-widgets/output",
      "model_module_version": "1.0.0",
      "model_name": "OutputModel",
      "state": {
       "layout": "IPY_MODEL_50d9eeaf7a864c47b247bdca1a2db79e",
       "outputs": [
        {
         "data": {
          "text/html": "<div>\n<style scoped>\n    .dataframe tbody tr th:only-of-type {\n        vertical-align: middle;\n    }\n\n    .dataframe tbody tr th {\n        vertical-align: top;\n    }\n\n    .dataframe thead th {\n        text-align: right;\n    }\n</style>\n<table border=\"1\" class=\"dataframe\">\n  <thead>\n    <tr style=\"text-align: right;\">\n      <th></th>\n      <th>Unnamed: 0</th>\n      <th>series_id</th>\n      <th>sex_code</th>\n      <th>race_code</th>\n      <th>educ_code</th>\n      <th>age_code</th>\n      <th>pertype_code</th>\n      <th>series_title</th>\n      <th>earn_code</th>\n      <th>actcode_code</th>\n      <th>...</th>\n      <th>actcode_text</th>\n      <th>age_text</th>\n      <th>earn_text</th>\n      <th>educ_text</th>\n      <th>lfstat_text</th>\n      <th>orig_text</th>\n      <th>pertype_text</th>\n      <th>race_text</th>\n      <th>sex_text</th>\n      <th>stattype_text</th>\n    </tr>\n  </thead>\n  <tbody>\n    <tr>\n      <th>3478</th>\n      <td>3478</td>\n      <td>TUU10101AA01005685</td>\n      <td>0</td>\n      <td>4</td>\n      <td>0</td>\n      <td>0</td>\n      <td>0</td>\n      <td>Avg hrs per day - Relaxing and thinking, Asian</td>\n      <td>0</td>\n      <td>120301</td>\n      <td>...</td>\n      <td>Relaxing and thinking</td>\n      <td>15 years and over</td>\n      <td>All persons</td>\n      <td>All education levels</td>\n      <td>NaN</td>\n      <td>NaN</td>\n      <td>All days</td>\n      <td>Asian</td>\n      <td>Both sexes</td>\n      <td>Average hours per day</td>\n    </tr>\n    <tr>\n      <th>3703</th>\n      <td>3703</td>\n      <td>TUU10101AA01006342</td>\n      <td>0</td>\n      <td>4</td>\n      <td>0</td>\n      <td>0</td>\n      <td>0</td>\n      <td>Avg hrs per day - Reading for personal interes...</td>\n      <td>0</td>\n      <td>120312</td>\n      <td>...</td>\n      <td>Reading for personal interest</td>\n      <td>15 years and over</td>\n      <td>All persons</td>\n      <td>All education levels</td>\n      <td>NaN</td>\n      <td>NaN</td>\n      <td>All days</td>\n      <td>Asian</td>\n      <td>Both sexes</td>\n      <td>Average hours per day</td>\n    </tr>\n    <tr>\n      <th>7303</th>\n      <td>7303</td>\n      <td>TUU10101AA01013623</td>\n      <td>0</td>\n      <td>4</td>\n      <td>0</td>\n      <td>0</td>\n      <td>0</td>\n      <td>Avg hrs per day - Leisure and sports (includes...</td>\n      <td>0</td>\n      <td>600023</td>\n      <td>...</td>\n      <td>Leisure and sports (includes travel)</td>\n      <td>15 years and over</td>\n      <td>All persons</td>\n      <td>All education levels</td>\n      <td>NaN</td>\n      <td>NaN</td>\n      <td>All days</td>\n      <td>Asian</td>\n      <td>Both sexes</td>\n      <td>Average hours per day</td>\n    </tr>\n    <tr>\n      <th>7472</th>\n      <td>7472</td>\n      <td>TUU10101AA01013989</td>\n      <td>0</td>\n      <td>4</td>\n      <td>0</td>\n      <td>0</td>\n      <td>0</td>\n      <td>Avg hrs per day - Socializing and communicatin...</td>\n      <td>0</td>\n      <td>600024</td>\n      <td>...</td>\n      <td>Socializing and communicating</td>\n      <td>15 years and over</td>\n      <td>All persons</td>\n      <td>All education levels</td>\n      <td>NaN</td>\n      <td>NaN</td>\n      <td>All days</td>\n      <td>Asian</td>\n      <td>Both sexes</td>\n      <td>Average hours per day</td>\n    </tr>\n    <tr>\n      <th>7592</th>\n      <td>7592</td>\n      <td>TUU10101AA01014274</td>\n      <td>0</td>\n      <td>4</td>\n      <td>0</td>\n      <td>0</td>\n      <td>0</td>\n      <td>Avg hrs per day - Watching TV, Asian</td>\n      <td>0</td>\n      <td>600025</td>\n      <td>...</td>\n      <td>Watching TV</td>\n      <td>15 years and over</td>\n      <td>All persons</td>\n      <td>All education levels</td>\n      <td>NaN</td>\n      <td>NaN</td>\n      <td>All days</td>\n      <td>Asian</td>\n      <td>Both sexes</td>\n      <td>Average hours per day</td>\n    </tr>\n    <tr>\n      <th>7701</th>\n      <td>7701</td>\n      <td>TUU10101AA01014548</td>\n      <td>0</td>\n      <td>4</td>\n      <td>0</td>\n      <td>0</td>\n      <td>0</td>\n      <td>Avg hrs per day - Participating in sports, exe...</td>\n      <td>0</td>\n      <td>600027</td>\n      <td>...</td>\n      <td>Participating in sports, exercise, and recreat...</td>\n      <td>15 years and over</td>\n      <td>All persons</td>\n      <td>All education levels</td>\n      <td>NaN</td>\n      <td>NaN</td>\n      <td>All days</td>\n      <td>Asian</td>\n      <td>Both sexes</td>\n      <td>Average hours per day</td>\n    </tr>\n    <tr>\n      <th>8424</th>\n      <td>8424</td>\n      <td>TUU10101AA01016314</td>\n      <td>0</td>\n      <td>4</td>\n      <td>0</td>\n      <td>0</td>\n      <td>0</td>\n      <td>Avg hrs per day - Playing games and computer u...</td>\n      <td>0</td>\n      <td>600058</td>\n      <td>...</td>\n      <td>Playing games and computer use for leisure</td>\n      <td>15 years and over</td>\n      <td>All persons</td>\n      <td>All education levels</td>\n      <td>NaN</td>\n      <td>NaN</td>\n      <td>All days</td>\n      <td>Asian</td>\n      <td>Both sexes</td>\n      <td>Average hours per day</td>\n    </tr>\n    <tr>\n      <th>8448</th>\n      <td>8448</td>\n      <td>TUU10101AA01016392</td>\n      <td>0</td>\n      <td>4</td>\n      <td>0</td>\n      <td>0</td>\n      <td>0</td>\n      <td>Avg hrs per day - Other leisure and sports act...</td>\n      <td>0</td>\n      <td>600059</td>\n      <td>...</td>\n      <td>Other leisure and sports activities, including...</td>\n      <td>15 years and over</td>\n      <td>All persons</td>\n      <td>All education levels</td>\n      <td>NaN</td>\n      <td>NaN</td>\n      <td>All days</td>\n      <td>Asian</td>\n      <td>Both sexes</td>\n      <td>Average hours per day</td>\n    </tr>\n  </tbody>\n</table>\n<p>8 rows × 23 columns</p>\n</div>",
          "text/plain": "      Unnamed: 0  series_id                       sex_code  race_code  \\\n3478        3478  TUU10101AA01005685                     0          4   \n3703        3703  TUU10101AA01006342                     0          4   \n7303        7303  TUU10101AA01013623                     0          4   \n7472        7472  TUU10101AA01013989                     0          4   \n7592        7592  TUU10101AA01014274                     0          4   \n7701        7701  TUU10101AA01014548                     0          4   \n8424        8424  TUU10101AA01016314                     0          4   \n8448        8448  TUU10101AA01016392                     0          4   \n\n      educ_code  age_code  pertype_code  \\\n3478          0         0             0   \n3703          0         0             0   \n7303          0         0             0   \n7472          0         0             0   \n7592          0         0             0   \n7701          0         0             0   \n8424          0         0             0   \n8448          0         0             0   \n\n                                           series_title  earn_code  \\\n3478     Avg hrs per day - Relaxing and thinking, Asian          0   \n3703  Avg hrs per day - Reading for personal interes...          0   \n7303  Avg hrs per day - Leisure and sports (includes...          0   \n7472  Avg hrs per day - Socializing and communicatin...          0   \n7592               Avg hrs per day - Watching TV, Asian          0   \n7701  Avg hrs per day - Participating in sports, exe...          0   \n8424  Avg hrs per day - Playing games and computer u...          0   \n8448  Avg hrs per day - Other leisure and sports act...          0   \n\n      actcode_code  ...                                       actcode_text  \\\n3478        120301  ...                              Relaxing and thinking   \n3703        120312  ...                      Reading for personal interest   \n7303        600023  ...               Leisure and sports (includes travel)   \n7472        600024  ...                      Socializing and communicating   \n7592        600025  ...                                        Watching TV   \n7701        600027  ...  Participating in sports, exercise, and recreat...   \n8424        600058  ...         Playing games and computer use for leisure   \n8448        600059  ...  Other leisure and sports activities, including...   \n\n               age_text    earn_text             educ_text lfstat_text  \\\n3478  15 years and over  All persons  All education levels         NaN   \n3703  15 years and over  All persons  All education levels         NaN   \n7303  15 years and over  All persons  All education levels         NaN   \n7472  15 years and over  All persons  All education levels         NaN   \n7592  15 years and over  All persons  All education levels         NaN   \n7701  15 years and over  All persons  All education levels         NaN   \n8424  15 years and over  All persons  All education levels         NaN   \n8448  15 years and over  All persons  All education levels         NaN   \n\n     orig_text pertype_text race_text    sex_text          stattype_text  \n3478       NaN     All days     Asian  Both sexes  Average hours per day  \n3703       NaN     All days     Asian  Both sexes  Average hours per day  \n7303       NaN     All days     Asian  Both sexes  Average hours per day  \n7472       NaN     All days     Asian  Both sexes  Average hours per day  \n7592       NaN     All days     Asian  Both sexes  Average hours per day  \n7701       NaN     All days     Asian  Both sexes  Average hours per day  \n8424       NaN     All days     Asian  Both sexes  Average hours per day  \n8448       NaN     All days     Asian  Both sexes  Average hours per day  \n\n[8 rows x 23 columns]"
         },
         "metadata": {},
         "output_type": "display_data"
        }
       ]
      }
     },
     "944ed2913fb24d169201873fbf2d6467": {
      "model_module": "@jupyter-widgets/controls",
      "model_module_version": "1.5.0",
      "model_name": "DescriptionStyleModel",
      "state": {
       "description_width": ""
      }
     },
     "94bcffab87be486594804e6fe2074fdb": {
      "model_module": "@jupyter-widgets/controls",
      "model_module_version": "1.5.0",
      "model_name": "DescriptionStyleModel",
      "state": {
       "description_width": ""
      }
     },
     "96092a0e732148138b0e5aa605f58e49": {
      "model_module": "@jupyter-widgets/base",
      "model_module_version": "1.2.0",
      "model_name": "LayoutModel",
      "state": {}
     },
     "96ece6604c71488c8e327c1a84ddbb6b": {
      "model_module": "@jupyter-widgets/base",
      "model_module_version": "1.2.0",
      "model_name": "LayoutModel",
      "state": {}
     },
     "9759170237d340f59dba25771ed05932": {
      "model_module": "@jupyter-widgets/controls",
      "model_module_version": "1.5.0",
      "model_name": "DescriptionStyleModel",
      "state": {
       "description_width": ""
      }
     },
     "98c6c2f8702b4bbb85976f84b81fcb8a": {
      "model_module": "@jupyter-widgets/controls",
      "model_module_version": "1.5.0",
      "model_name": "DropdownModel",
      "state": {
       "_options_labels": [
        "ALL",
        "Both sexes",
        "Men",
        "Women"
       ],
       "description": "Gender:",
       "index": 1,
       "layout": "IPY_MODEL_dbca968c789f4c1e92424c216a483199",
       "style": "IPY_MODEL_60d62fcd2b7b46eeaf1a12ae996d7ea9"
      }
     },
     "99573cf8598948f4ab57e01541a227d0": {
      "model_module": "@jupyter-widgets/controls",
      "model_module_version": "1.5.0",
      "model_name": "DropdownModel",
      "state": {
       "_options_labels": [
        "ALL",
        "Both sexes",
        "Men",
        "Women"
       ],
       "description": "Gender:",
       "index": 1,
       "layout": "IPY_MODEL_8364c465032a44ffaab73895a682ebe5",
       "style": "IPY_MODEL_fc8ce8bcf24c43e6a5bbdac237ddad66"
      }
     },
     "996b57203e1b460fb40ba6e8c49c5b43": {
      "model_module": "@jupyter-widgets/output",
      "model_module_version": "1.0.0",
      "model_name": "OutputModel",
      "state": {
       "layout": "IPY_MODEL_058ba74b73444938863fdd984427c6dc",
       "outputs": [
        {
         "data": {
          "text/plain": "35"
         },
         "metadata": {},
         "output_type": "display_data"
        }
       ]
      }
     },
     "9a50c0c896074fdeb273af5c5c99e176": {
      "model_module": "@jupyter-widgets/base",
      "model_module_version": "1.2.0",
      "model_name": "LayoutModel",
      "state": {}
     },
     "9abbe934f41c484cb9bfed55424c51ce": {
      "model_module": "@jupyter-widgets/controls",
      "model_module_version": "1.5.0",
      "model_name": "DropdownModel",
      "state": {
       "_options_labels": [
        "ALL",
        "Average hours per day",
        "Average hours per day for participants in an activity",
        "Number of participants in an activity on an average day (in thousands)",
        "Number of persons (in thousands)",
        "Percent of population engaged in activity on an average day"
       ],
       "description": "Stat Type:",
       "index": 1,
       "layout": "IPY_MODEL_40316a1b636b4fc0b6d7e7e02d177a9b",
       "style": "IPY_MODEL_3c65bb7b63ff42c9b08894e879826737"
      }
     },
     "9abee46390a24d308c92aab874dbba82": {
      "model_module": "@jupyter-widgets/controls",
      "model_module_version": "1.5.0",
      "model_name": "DropdownModel",
      "state": {
       "_options_labels": [
        "All races",
        "Asian",
        "Black or African American",
        "White"
       ],
       "description": "Ethnicity:",
       "index": 0,
       "layout": "IPY_MODEL_b2643c39a26040a9b589b60fff0440cc",
       "style": "IPY_MODEL_6a07dbf7b6254042bec5855ab38f02f5"
      }
     },
     "9bfa305f4de9497e985c6fdf5aa10933": {
      "model_module": "@jupyter-widgets/base",
      "model_module_version": "1.2.0",
      "model_name": "LayoutModel",
      "state": {}
     },
     "9c5e1a26ca6740b5947501ebee97d45c": {
      "model_module": "@jupyter-widgets/base",
      "model_module_version": "1.2.0",
      "model_name": "LayoutModel",
      "state": {}
     },
     "9c9f7e6057e6406e8e5891ebb4867ab9": {
      "model_module": "@jupyter-widgets/base",
      "model_module_version": "1.2.0",
      "model_name": "LayoutModel",
      "state": {}
     },
     "9cac7220b227436b877ce9bde8c6c7db": {
      "model_module": "@jupyter-widgets/controls",
      "model_module_version": "1.5.0",
      "model_name": "DropdownModel",
      "state": {
       "_options_labels": [
        "All races",
        "Asian",
        "Black or African American",
        "White"
       ],
       "description": "Ethnicity:",
       "index": 0,
       "layout": "IPY_MODEL_de221fb6c8ef442b899416abc3240510",
       "style": "IPY_MODEL_62d165f76e474498a908c05ae07bfce3"
      }
     },
     "9f1532ac5f68463b8a4042c672b28764": {
      "model_module": "@jupyter-widgets/base",
      "model_module_version": "1.2.0",
      "model_name": "LayoutModel",
      "state": {}
     },
     "a042af98b68b41ebbe39a3912e2ca6ae": {
      "model_module": "@jupyter-widgets/controls",
      "model_module_version": "1.5.0",
      "model_name": "DropdownModel",
      "state": {
       "_options_labels": [
        "ALL",
        "Average hours per day",
        "Average hours per day for participants in an activity",
        "Number of participants in an activity on an average day (in thousands)",
        "Number of persons (in thousands)",
        "Percent of population engaged in activity on an average day"
       ],
       "index": 1,
       "layout": "IPY_MODEL_020c4694632d4cd6990ac6173b6d8693",
       "style": "IPY_MODEL_2171f86683a24ac2b55eb9a1076f47d7"
      }
     },
     "a0a927701e3448efb7288359ca10bf3d": {
      "model_module": "@jupyter-widgets/controls",
      "model_module_version": "1.5.0",
      "model_name": "DescriptionStyleModel",
      "state": {
       "description_width": ""
      }
     },
     "a2f531fc238044c99096789cfb4f6521": {
      "model_module": "@jupyter-widgets/base",
      "model_module_version": "1.2.0",
      "model_name": "LayoutModel",
      "state": {}
     },
     "a34aeff708c2429fa8bc2f6deee190e7": {
      "model_module": "@jupyter-widgets/controls",
      "model_module_version": "1.5.0",
      "model_name": "DescriptionStyleModel",
      "state": {
       "description_width": ""
      }
     },
     "a3e460c2846b41708b386f3752666b1b": {
      "model_module": "@jupyter-widgets/base",
      "model_module_version": "1.2.0",
      "model_name": "LayoutModel",
      "state": {}
     },
     "a4030cbe359442a1a54432c8d97f2c98": {
      "model_module": "@jupyter-widgets/controls",
      "model_module_version": "1.5.0",
      "model_name": "DropdownModel",
      "state": {
       "_options_labels": [
        "Average hours per day",
        "Average hours per day for participants in an activity",
        "Number of participants in an activity on an average day (in thousands)",
        "Number of persons (in thousands)",
        "Percent of population engaged in activity on an average day"
       ],
       "description": "Stat Type:",
       "index": 0,
       "layout": "IPY_MODEL_7e3c63fec2344256b329adb5eed8f719",
       "style": "IPY_MODEL_ae24375b6b284d30b85a43a825e154b7"
      }
     },
     "a43546c5fe6641899348d79bec190047": {
      "model_module": "@jupyter-widgets/controls",
      "model_module_version": "1.5.0",
      "model_name": "DropdownModel",
      "state": {
       "_options_labels": [
        "ALL",
        "Average hours per day",
        "Average hours per day for participants in an activity",
        "Number of participants in an activity on an average day (in thousands)",
        "Number of persons (in thousands)",
        "Percent of population engaged in activity on an average day"
       ],
       "description": "Stat Type:",
       "index": 1,
       "layout": "IPY_MODEL_cc74df140afa4ea39e75b0ef128c1cdf",
       "style": "IPY_MODEL_c42229b89e034b2cbf31f09941caea05"
      }
     },
     "a492f85b46614d01ac8e79c8585f947b": {
      "model_module": "@jupyter-widgets/controls",
      "model_module_version": "1.5.0",
      "model_name": "DescriptionStyleModel",
      "state": {
       "description_width": ""
      }
     },
     "a4956f40d866453e91fb11fbb506ef53": {
      "model_module": "@jupyter-widgets/controls",
      "model_module_version": "1.5.0",
      "model_name": "DescriptionStyleModel",
      "state": {
       "description_width": ""
      }
     },
     "a53aa49c145e4160b27ef7a0123b98bf": {
      "model_module": "@jupyter-widgets/base",
      "model_module_version": "1.2.0",
      "model_name": "LayoutModel",
      "state": {}
     },
     "a5af4c820d46441aa6ce1d182f209cf3": {
      "model_module": "@jupyter-widgets/output",
      "model_module_version": "1.0.0",
      "model_name": "OutputModel",
      "state": {
       "layout": "IPY_MODEL_a53aa49c145e4160b27ef7a0123b98bf"
      }
     },
     "a87e29428049412ab11b48af35da4e58": {
      "model_module": "@jupyter-widgets/controls",
      "model_module_version": "1.5.0",
      "model_name": "DescriptionStyleModel",
      "state": {
       "description_width": ""
      }
     },
     "a895cabc492446e3a55191d46ecc8410": {
      "model_module": "@jupyter-widgets/base",
      "model_module_version": "1.2.0",
      "model_name": "LayoutModel",
      "state": {}
     },
     "a8bb9083b9ec4432a54c462c7134d541": {
      "model_module": "@jupyter-widgets/base",
      "model_module_version": "1.2.0",
      "model_name": "LayoutModel",
      "state": {}
     },
     "a92ef0b089654b5da4bbfb68c45dd998": {
      "model_module": "@jupyter-widgets/controls",
      "model_module_version": "1.5.0",
      "model_name": "DescriptionStyleModel",
      "state": {
       "description_width": ""
      }
     },
     "a9ac47e3f10743f292649cdca6d66f3f": {
      "model_module": "@jupyter-widgets/base",
      "model_module_version": "1.2.0",
      "model_name": "LayoutModel",
      "state": {}
     },
     "acace3e3fda24d2286650dca91c1f8ca": {
      "model_module": "@jupyter-widgets/controls",
      "model_module_version": "1.5.0",
      "model_name": "DropdownModel",
      "state": {
       "_options_labels": [
        "ALL",
        "Both sexes",
        "Men",
        "Women"
       ],
       "description": "Gender:",
       "index": 0,
       "layout": "IPY_MODEL_dcf3493bae9444fb96d6b86216cadf73",
       "style": "IPY_MODEL_94bcffab87be486594804e6fe2074fdb"
      }
     },
     "ade5a2018ec0444d9e69913ea55db3b4": {
      "model_module": "@jupyter-widgets/controls",
      "model_module_version": "1.5.0",
      "model_name": "DescriptionStyleModel",
      "state": {
       "description_width": ""
      }
     },
     "ae24375b6b284d30b85a43a825e154b7": {
      "model_module": "@jupyter-widgets/controls",
      "model_module_version": "1.5.0",
      "model_name": "DescriptionStyleModel",
      "state": {
       "description_width": ""
      }
     },
     "b11965fdc3b14ba493bea1383d60ac04": {
      "model_module": "@jupyter-widgets/output",
      "model_module_version": "1.0.0",
      "model_name": "OutputModel",
      "state": {
       "layout": "IPY_MODEL_20930c4eb4d643c398e0dd9ba8244c14",
       "outputs": [
        {
         "data": {
          "text/html": "<div>\n<style scoped>\n    .dataframe tbody tr th:only-of-type {\n        vertical-align: middle;\n    }\n\n    .dataframe tbody tr th {\n        vertical-align: top;\n    }\n\n    .dataframe thead th {\n        text-align: right;\n    }\n</style>\n<table border=\"1\" class=\"dataframe\">\n  <thead>\n    <tr style=\"text-align: right;\">\n      <th></th>\n      <th>Unnamed: 0</th>\n      <th>series_id</th>\n      <th>sex_code</th>\n      <th>race_code</th>\n      <th>educ_code</th>\n      <th>age_code</th>\n      <th>pertype_code</th>\n      <th>series_title</th>\n      <th>earn_code</th>\n      <th>actcode_code</th>\n      <th>...</th>\n      <th>actcode_text</th>\n      <th>age_text</th>\n      <th>earn_text</th>\n      <th>educ_text</th>\n      <th>lfstat_text</th>\n      <th>orig_text</th>\n      <th>pertype_text</th>\n      <th>race_text</th>\n      <th>sex_text</th>\n      <th>stattype_text</th>\n    </tr>\n  </thead>\n  <tbody>\n    <tr>\n      <th>67</th>\n      <td>67</td>\n      <td>TUU10101AA01000089</td>\n      <td>1</td>\n      <td>0</td>\n      <td>0</td>\n      <td>0</td>\n      <td>0</td>\n      <td>Avg hrs per day - Men</td>\n      <td>0</td>\n      <td>0</td>\n      <td>...</td>\n      <td>Total, all activities</td>\n      <td>15 years and over</td>\n      <td>All persons</td>\n      <td>All education levels</td>\n      <td>NaN</td>\n      <td>NaN</td>\n      <td>All days</td>\n      <td>All races</td>\n      <td>Men</td>\n      <td>Average hours per day</td>\n    </tr>\n    <tr>\n      <th>68</th>\n      <td>68</td>\n      <td>TUU10101AA01000092</td>\n      <td>1</td>\n      <td>0</td>\n      <td>0</td>\n      <td>0</td>\n      <td>16</td>\n      <td>Avg hrs per day - Weekend days and holidays, Men</td>\n      <td>0</td>\n      <td>0</td>\n      <td>...</td>\n      <td>Total, all activities</td>\n      <td>15 years and over</td>\n      <td>All persons</td>\n      <td>All education levels</td>\n      <td>NaN</td>\n      <td>NaN</td>\n      <td>Weekend days and holidays</td>\n      <td>All races</td>\n      <td>Men</td>\n      <td>Average hours per day</td>\n    </tr>\n    <tr>\n      <th>69</th>\n      <td>69</td>\n      <td>TUU10101AA01000094</td>\n      <td>1</td>\n      <td>0</td>\n      <td>0</td>\n      <td>0</td>\n      <td>19</td>\n      <td>Avg hrs per day - Nonholiday weekdays, Men</td>\n      <td>0</td>\n      <td>0</td>\n      <td>...</td>\n      <td>Total, all activities</td>\n      <td>15 years and over</td>\n      <td>All persons</td>\n      <td>All education levels</td>\n      <td>NaN</td>\n      <td>NaN</td>\n      <td>Nonholiday weekdays</td>\n      <td>All races</td>\n      <td>Men</td>\n      <td>Average hours per day</td>\n    </tr>\n    <tr>\n      <th>70</th>\n      <td>70</td>\n      <td>TUU10101AA01000096</td>\n      <td>1</td>\n      <td>0</td>\n      <td>0</td>\n      <td>0</td>\n      <td>0</td>\n      <td>Avg hrs per day - Employed, Men</td>\n      <td>0</td>\n      <td>0</td>\n      <td>...</td>\n      <td>Total, all activities</td>\n      <td>15 years and over</td>\n      <td>All persons</td>\n      <td>All education levels</td>\n      <td>Employed</td>\n      <td>NaN</td>\n      <td>All days</td>\n      <td>All races</td>\n      <td>Men</td>\n      <td>Average hours per day</td>\n    </tr>\n    <tr>\n      <th>71</th>\n      <td>71</td>\n      <td>TUU10101AA01000097</td>\n      <td>1</td>\n      <td>0</td>\n      <td>0</td>\n      <td>0</td>\n      <td>16</td>\n      <td>Avg hrs per day - Weekend days and holidays, E...</td>\n      <td>0</td>\n      <td>0</td>\n      <td>...</td>\n      <td>Total, all activities</td>\n      <td>15 years and over</td>\n      <td>All persons</td>\n      <td>All education levels</td>\n      <td>Employed</td>\n      <td>NaN</td>\n      <td>Weekend days and holidays</td>\n      <td>All races</td>\n      <td>Men</td>\n      <td>Average hours per day</td>\n    </tr>\n    <tr>\n      <th>...</th>\n      <td>...</td>\n      <td>...</td>\n      <td>...</td>\n      <td>...</td>\n      <td>...</td>\n      <td>...</td>\n      <td>...</td>\n      <td>...</td>\n      <td>...</td>\n      <td>...</td>\n      <td>...</td>\n      <td>...</td>\n      <td>...</td>\n      <td>...</td>\n      <td>...</td>\n      <td>...</td>\n      <td>...</td>\n      <td>...</td>\n      <td>...</td>\n      <td>...</td>\n      <td>...</td>\n    </tr>\n    <tr>\n      <th>25459</th>\n      <td>25459</td>\n      <td>TUU10101AA01066654</td>\n      <td>1</td>\n      <td>0</td>\n      <td>0</td>\n      <td>0</td>\n      <td>16</td>\n      <td>Avg hrs per day -  Household and personal mess...</td>\n      <td>0</td>\n      <td>600072</td>\n      <td>...</td>\n      <td>Household and personal messages</td>\n      <td>15 years and over</td>\n      <td>All persons</td>\n      <td>All education levels</td>\n      <td>NaN</td>\n      <td>NaN</td>\n      <td>Weekend days and holidays</td>\n      <td>All races</td>\n      <td>Men</td>\n      <td>Average hours per day</td>\n    </tr>\n    <tr>\n      <th>25460</th>\n      <td>25460</td>\n      <td>TUU10101AA01066655</td>\n      <td>1</td>\n      <td>0</td>\n      <td>0</td>\n      <td>0</td>\n      <td>19</td>\n      <td>Avg hrs per day -  Household and personal mess...</td>\n      <td>0</td>\n      <td>600072</td>\n      <td>...</td>\n      <td>Household and personal messages</td>\n      <td>15 years and over</td>\n      <td>All persons</td>\n      <td>All education levels</td>\n      <td>NaN</td>\n      <td>NaN</td>\n      <td>Nonholiday weekdays</td>\n      <td>All races</td>\n      <td>Men</td>\n      <td>Average hours per day</td>\n    </tr>\n    <tr>\n      <th>25461</th>\n      <td>25461</td>\n      <td>TUU10101AA01066656</td>\n      <td>1</td>\n      <td>0</td>\n      <td>0</td>\n      <td>0</td>\n      <td>0</td>\n      <td>Avg hrs per day -  Household and personal mess...</td>\n      <td>0</td>\n      <td>600072</td>\n      <td>...</td>\n      <td>Household and personal messages</td>\n      <td>15 years and over</td>\n      <td>All persons</td>\n      <td>All education levels</td>\n      <td>NaN</td>\n      <td>NaN</td>\n      <td>All days</td>\n      <td>All races</td>\n      <td>Men</td>\n      <td>Average hours per day</td>\n    </tr>\n    <tr>\n      <th>25462</th>\n      <td>25462</td>\n      <td>TUU10101AA01066657</td>\n      <td>1</td>\n      <td>0</td>\n      <td>0</td>\n      <td>0</td>\n      <td>16</td>\n      <td>Avg hrs per day -  Household and personal mess...</td>\n      <td>0</td>\n      <td>600072</td>\n      <td>...</td>\n      <td>Household and personal messages</td>\n      <td>15 years and over</td>\n      <td>All persons</td>\n      <td>All education levels</td>\n      <td>NaN</td>\n      <td>NaN</td>\n      <td>Weekend days and holidays</td>\n      <td>All races</td>\n      <td>Men</td>\n      <td>Average hours per day</td>\n    </tr>\n    <tr>\n      <th>25463</th>\n      <td>25463</td>\n      <td>TUU10101AA01066658</td>\n      <td>1</td>\n      <td>0</td>\n      <td>0</td>\n      <td>0</td>\n      <td>19</td>\n      <td>Avg hrs per day -  Household and personal mess...</td>\n      <td>0</td>\n      <td>600072</td>\n      <td>...</td>\n      <td>Household and personal messages</td>\n      <td>15 years and over</td>\n      <td>All persons</td>\n      <td>All education levels</td>\n      <td>NaN</td>\n      <td>NaN</td>\n      <td>Nonholiday weekdays</td>\n      <td>All races</td>\n      <td>Men</td>\n      <td>Average hours per day</td>\n    </tr>\n  </tbody>\n</table>\n<p>8248 rows × 23 columns</p>\n</div>",
          "text/plain": "       Unnamed: 0  series_id                       sex_code  race_code  \\\n67             67  TUU10101AA01000089                     1          0   \n68             68  TUU10101AA01000092                     1          0   \n69             69  TUU10101AA01000094                     1          0   \n70             70  TUU10101AA01000096                     1          0   \n71             71  TUU10101AA01000097                     1          0   \n...           ...                             ...       ...        ...   \n25459       25459  TUU10101AA01066654                     1          0   \n25460       25460  TUU10101AA01066655                     1          0   \n25461       25461  TUU10101AA01066656                     1          0   \n25462       25462  TUU10101AA01066657                     1          0   \n25463       25463  TUU10101AA01066658                     1          0   \n\n       educ_code  age_code  pertype_code  \\\n67             0         0             0   \n68             0         0            16   \n69             0         0            19   \n70             0         0             0   \n71             0         0            16   \n...          ...       ...           ...   \n25459          0         0            16   \n25460          0         0            19   \n25461          0         0             0   \n25462          0         0            16   \n25463          0         0            19   \n\n                                            series_title  earn_code  \\\n67                                 Avg hrs per day - Men          0   \n68      Avg hrs per day - Weekend days and holidays, Men          0   \n69            Avg hrs per day - Nonholiday weekdays, Men          0   \n70                       Avg hrs per day - Employed, Men          0   \n71     Avg hrs per day - Weekend days and holidays, E...          0   \n...                                                  ...        ...   \n25459  Avg hrs per day -  Household and personal mess...          0   \n25460  Avg hrs per day -  Household and personal mess...          0   \n25461  Avg hrs per day -  Household and personal mess...          0   \n25462  Avg hrs per day -  Household and personal mess...          0   \n25463  Avg hrs per day -  Household and personal mess...          0   \n\n       actcode_code  ...                     actcode_text           age_text  \\\n67                0  ...            Total, all activities  15 years and over   \n68                0  ...            Total, all activities  15 years and over   \n69                0  ...            Total, all activities  15 years and over   \n70                0  ...            Total, all activities  15 years and over   \n71                0  ...            Total, all activities  15 years and over   \n...             ...  ...                              ...                ...   \n25459        600072  ...  Household and personal messages  15 years and over   \n25460        600072  ...  Household and personal messages  15 years and over   \n25461        600072  ...  Household and personal messages  15 years and over   \n25462        600072  ...  Household and personal messages  15 years and over   \n25463        600072  ...  Household and personal messages  15 years and over   \n\n         earn_text             educ_text lfstat_text orig_text  \\\n67     All persons  All education levels         NaN       NaN   \n68     All persons  All education levels         NaN       NaN   \n69     All persons  All education levels         NaN       NaN   \n70     All persons  All education levels    Employed       NaN   \n71     All persons  All education levels    Employed       NaN   \n...            ...                   ...         ...       ...   \n25459  All persons  All education levels         NaN       NaN   \n25460  All persons  All education levels         NaN       NaN   \n25461  All persons  All education levels         NaN       NaN   \n25462  All persons  All education levels         NaN       NaN   \n25463  All persons  All education levels         NaN       NaN   \n\n                    pertype_text  race_text sex_text          stattype_text  \n67                      All days  All races      Men  Average hours per day  \n68     Weekend days and holidays  All races      Men  Average hours per day  \n69           Nonholiday weekdays  All races      Men  Average hours per day  \n70                      All days  All races      Men  Average hours per day  \n71     Weekend days and holidays  All races      Men  Average hours per day  \n...                          ...        ...      ...                    ...  \n25459  Weekend days and holidays  All races      Men  Average hours per day  \n25460        Nonholiday weekdays  All races      Men  Average hours per day  \n25461                   All days  All races      Men  Average hours per day  \n25462  Weekend days and holidays  All races      Men  Average hours per day  \n25463        Nonholiday weekdays  All races      Men  Average hours per day  \n\n[8248 rows x 23 columns]"
         },
         "metadata": {},
         "output_type": "display_data"
        }
       ]
      }
     },
     "b11c552d2cc54222b96f2e4c00f44b78": {
      "model_module": "@jupyter-widgets/controls",
      "model_module_version": "1.5.0",
      "model_name": "DropdownModel",
      "state": {
       "_options_labels": [
        "Advanced degree",
        "All education levels",
        "Bachelor's degree and higher",
        "Bachelor's degree only",
        "High school graduates, no college",
        "Less than a high school diploma",
        "Some college or associate degree"
       ],
       "description": "Education: Only works with 25 or older in the Ages selector",
       "index": 2,
       "layout": "IPY_MODEL_f59dbc37bb0d4fe49999190da2f13ab8",
       "style": "IPY_MODEL_fa5ab64834fc47229667fd5ea55a1f3d"
      }
     },
     "b181bdefe471433f90cd6b08144cf2db": {
      "model_module": "@jupyter-widgets/controls",
      "model_module_version": "1.5.0",
      "model_name": "DescriptionStyleModel",
      "state": {
       "description_width": ""
      }
     },
     "b23b45255887490891e35874d6c28c44": {
      "model_module": "@jupyter-widgets/controls",
      "model_module_version": "1.5.0",
      "model_name": "DropdownModel",
      "state": {
       "_options_labels": [
        "ALL",
        "Average hours per day",
        "Average hours per day for participants in an activity",
        "Number of participants in an activity on an average day (in thousands)",
        "Number of persons (in thousands)",
        "Percent of population engaged in activity on an average day"
       ],
       "index": 1,
       "layout": "IPY_MODEL_f7f651ecb8464e239fff3ae02599de3f",
       "style": "IPY_MODEL_7541d73d0ae1458b88c23f053095fc93"
      }
     },
     "b2643c39a26040a9b589b60fff0440cc": {
      "model_module": "@jupyter-widgets/base",
      "model_module_version": "1.2.0",
      "model_name": "LayoutModel",
      "state": {}
     },
     "b27e8100547d4c268630ea8a7d515b7d": {
      "model_module": "@jupyter-widgets/base",
      "model_module_version": "1.2.0",
      "model_name": "LayoutModel",
      "state": {}
     },
     "b623aae4f3c94d2b8f0d2f6c4335b446": {
      "model_module": "@jupyter-widgets/base",
      "model_module_version": "1.2.0",
      "model_name": "LayoutModel",
      "state": {}
     },
     "b702b14d2b5747678d98503c57a423fe": {
      "model_module": "@jupyter-widgets/controls",
      "model_module_version": "1.5.0",
      "model_name": "DescriptionStyleModel",
      "state": {
       "description_width": ""
      }
     },
     "b70aa4bbd0bc4474b77ea82e01577b99": {
      "model_module": "@jupyter-widgets/controls",
      "model_module_version": "1.5.0",
      "model_name": "DropdownModel",
      "state": {
       "_options_labels": [
        "ALL",
        "Both sexes",
        "Men",
        "Women"
       ],
       "description": "Gender:",
       "index": 1,
       "layout": "IPY_MODEL_2f1f23bb38ec4e5b81077bbf3ac3467d",
       "style": "IPY_MODEL_8244b88be17d4de38ec427b65d6615f5"
      }
     },
     "b8828192c43d4d07a0fbc41c5260331b": {
      "model_module": "@jupyter-widgets/controls",
      "model_module_version": "1.5.0",
      "model_name": "DescriptionStyleModel",
      "state": {
       "description_width": ""
      }
     },
     "babb365cd5794875a1db5c83b7561a5c": {
      "model_module": "@jupyter-widgets/controls",
      "model_module_version": "1.5.0",
      "model_name": "DropdownModel",
      "state": {
       "_options_labels": [
        "ALL",
        "All races",
        "Asian",
        "Black or African American",
        "White"
       ],
       "description": "Ethnicity:",
       "index": 2,
       "layout": "IPY_MODEL_e7176da70a5142c2a16b9bb89ef50b8e",
       "style": "IPY_MODEL_41f586944b8540c48b8636c45e279b0f"
      }
     },
     "babcc9ccf6f94e6f9878c90cde52dbf6": {
      "model_module": "@jupyter-widgets/output",
      "model_module_version": "1.0.0",
      "model_name": "OutputModel",
      "state": {
       "layout": "IPY_MODEL_892760fe02c1487c8345e3224122c305",
       "outputs": [
        {
         "data": {
          "text/plain": "pandas.core.series.Series"
         },
         "metadata": {},
         "output_type": "display_data"
        }
       ]
      }
     },
     "bc26c3a0924f4306aff6d3010a8ba578": {
      "model_module": "@jupyter-widgets/base",
      "model_module_version": "1.2.0",
      "model_name": "LayoutModel",
      "state": {}
     },
     "bcbe1632936f40a985cdcd5330e5f8f5": {
      "model_module": "@jupyter-widgets/base",
      "model_module_version": "1.2.0",
      "model_name": "LayoutModel",
      "state": {}
     },
     "bcd14ec6886c44389699dba9e37c2fb6": {
      "model_module": "@jupyter-widgets/base",
      "model_module_version": "1.2.0",
      "model_name": "LayoutModel",
      "state": {}
     },
     "bd0e5031150449f8bfbaa3368b9a966f": {
      "model_module": "@jupyter-widgets/base",
      "model_module_version": "1.2.0",
      "model_name": "LayoutModel",
      "state": {}
     },
     "bea757ab8d614118b3743addd1212a87": {
      "model_module": "@jupyter-widgets/base",
      "model_module_version": "1.2.0",
      "model_name": "LayoutModel",
      "state": {}
     },
     "bf348a1d8f5f42d6ad006e3cf062cb5c": {
      "model_module": "@jupyter-widgets/controls",
      "model_module_version": "1.5.0",
      "model_name": "DescriptionStyleModel",
      "state": {
       "description_width": ""
      }
     },
     "bfce89fa45d140e59ee4a7210991e10a": {
      "model_module": "@jupyter-widgets/base",
      "model_module_version": "1.2.0",
      "model_name": "LayoutModel",
      "state": {}
     },
     "c013c5bf297548719a903846ab3dd33f": {
      "model_module": "@jupyter-widgets/output",
      "model_module_version": "1.0.0",
      "model_name": "OutputModel",
      "state": {
       "layout": "IPY_MODEL_6a4de5e73f1942fbad52dd18f1992b87"
      }
     },
     "c1ea14a3f9804177a84f2cb721fd45b2": {
      "model_module": "@jupyter-widgets/base",
      "model_module_version": "1.2.0",
      "model_name": "LayoutModel",
      "state": {}
     },
     "c42229b89e034b2cbf31f09941caea05": {
      "model_module": "@jupyter-widgets/controls",
      "model_module_version": "1.5.0",
      "model_name": "DescriptionStyleModel",
      "state": {
       "description_width": ""
      }
     },
     "c48535461886417aaf9e111b5a898222": {
      "model_module": "@jupyter-widgets/controls",
      "model_module_version": "1.5.0",
      "model_name": "DescriptionStyleModel",
      "state": {
       "description_width": ""
      }
     },
     "c5900d471211421a8f1fa0b29472b7ff": {
      "model_module": "@jupyter-widgets/base",
      "model_module_version": "1.2.0",
      "model_name": "LayoutModel",
      "state": {}
     },
     "c65bac9289984baaa84dcf0b81079b9d": {
      "model_module": "@jupyter-widgets/controls",
      "model_module_version": "1.5.0",
      "model_name": "DescriptionStyleModel",
      "state": {
       "description_width": ""
      }
     },
     "c6b7d575017743ad8bf52d03696b033e": {
      "model_module": "@jupyter-widgets/controls",
      "model_module_version": "1.5.0",
      "model_name": "DropdownModel",
      "state": {
       "_options_labels": [
        "ALL",
        "Both sexes",
        "Men",
        "Women"
       ],
       "description": "Gender:",
       "index": 3,
       "layout": "IPY_MODEL_405f72fda1344766a85f9f73ac0ad5f8",
       "style": "IPY_MODEL_0d3f60852f384e96922965d7eb953765"
      }
     },
     "c7312c963bd240929f7f6ef6b56e51a4": {
      "model_module": "@jupyter-widgets/base",
      "model_module_version": "1.2.0",
      "model_name": "LayoutModel",
      "state": {}
     },
     "c78011e0629044beb485d43560d6a8dd": {
      "model_module": "@jupyter-widgets/output",
      "model_module_version": "1.0.0",
      "model_name": "OutputModel",
      "state": {
       "layout": "IPY_MODEL_134196e2f3c943fbb59babf5d2656b89",
       "outputs": [
        {
         "ename": "TypeError",
         "evalue": "'numpy.ndarray' object is not callable",
         "output_type": "error",
         "traceback": [
          "\u001b[1;31m---------------------------------------------------------------------------\u001b[0m",
          "\u001b[1;31mTypeError\u001b[0m                                 Traceback (most recent call last)",
          "\u001b[1;32m<ipython-input-345-c59e3d77cb92>\u001b[0m in \u001b[0;36mcommon_filtering\u001b[1;34m(stats, gender, eth)\u001b[0m\n\u001b[0;32m     17\u001b[0m         \u001b[0mdisplay\u001b[0m\u001b[1;33m(\u001b[0m\u001b[0mcommon_filter\u001b[0m\u001b[1;33m)\u001b[0m\u001b[1;33m\u001b[0m\u001b[1;33m\u001b[0m\u001b[0m\n\u001b[0;32m     18\u001b[0m     \u001b[1;32mwith\u001b[0m \u001b[0mlist_output\u001b[0m\u001b[1;33m:\u001b[0m\u001b[1;33m\u001b[0m\u001b[1;33m\u001b[0m\u001b[0m\n\u001b[1;32m---> 19\u001b[1;33m         \u001b[0mdisplay\u001b[0m\u001b[1;33m(\u001b[0m\u001b[0mcommon_filter\u001b[0m\u001b[1;33m.\u001b[0m\u001b[0miloc\u001b[0m\u001b[1;33m[\u001b[0m\u001b[1;33m:\u001b[0m\u001b[1;33m,\u001b[0m\u001b[1;36m1\u001b[0m\u001b[1;33m]\u001b[0m\u001b[1;33m.\u001b[0m\u001b[0mvalues\u001b[0m\u001b[1;33m(\u001b[0m\u001b[1;33m)\u001b[0m\u001b[1;33m)\u001b[0m\u001b[1;33m\u001b[0m\u001b[1;33m\u001b[0m\u001b[0m\n\u001b[0m",
          "\u001b[1;31mTypeError\u001b[0m: 'numpy.ndarray' object is not callable"
         ]
        }
       ]
      }
     },
     "c821ef98e5e241a6b04d6fcaa56bcd64": {
      "model_module": "@jupyter-widgets/controls",
      "model_module_version": "1.5.0",
      "model_name": "DropdownModel",
      "state": {
       "_options_labels": [
        "ALL",
        "Average hours per day",
        "Average hours per day for participants in an activity",
        "Number of participants in an activity on an average day (in thousands)",
        "Number of persons (in thousands)",
        "Percent of population engaged in activity on an average day"
       ],
       "description": "Stat Type:",
       "index": 1,
       "layout": "IPY_MODEL_e54b3e4a081b40998afbdc3d8aa22096",
       "style": "IPY_MODEL_d787787472494a288d210179c789af05"
      }
     },
     "c8f5da772ae94f499ec08276cdfd055c": {
      "model_module": "@jupyter-widgets/controls",
      "model_module_version": "1.5.0",
      "model_name": "DropdownModel",
      "state": {
       "_options_labels": [
        "ALL",
        "All races",
        "Asian",
        "Black or African American",
        "White"
       ],
       "description": "Ethnicity:",
       "index": 1,
       "layout": "IPY_MODEL_1735ff0e2deb4effb6d11b40abc5f5e5",
       "style": "IPY_MODEL_ff308e4e4d104dc6a2c685625e8757a7"
      }
     },
     "c99f9b3a7213457a897a6b7235c6a6ff": {
      "model_module": "@jupyter-widgets/output",
      "model_module_version": "1.0.0",
      "model_name": "OutputModel",
      "state": {
       "layout": "IPY_MODEL_fbfd3ca337cc447fb073ac4bbf8f7e80",
       "outputs": [
        {
         "data": {
          "text/html": "<div>\n<style scoped>\n    .dataframe tbody tr th:only-of-type {\n        vertical-align: middle;\n    }\n\n    .dataframe tbody tr th {\n        vertical-align: top;\n    }\n\n    .dataframe thead th {\n        text-align: right;\n    }\n</style>\n<table border=\"1\" class=\"dataframe\">\n  <thead>\n    <tr style=\"text-align: right;\">\n      <th></th>\n      <th>Unnamed: 0</th>\n      <th>series_id</th>\n      <th>sex_code</th>\n      <th>race_code</th>\n      <th>educ_code</th>\n      <th>age_code</th>\n      <th>pertype_code</th>\n      <th>series_title</th>\n      <th>earn_code</th>\n      <th>actcode_code</th>\n      <th>...</th>\n      <th>actcode_text</th>\n      <th>age_text</th>\n      <th>earn_text</th>\n      <th>educ_text</th>\n      <th>lfstat_text</th>\n      <th>orig_text</th>\n      <th>pertype_text</th>\n      <th>race_text</th>\n      <th>sex_text</th>\n      <th>stattype_text</th>\n    </tr>\n  </thead>\n  <tbody>\n    <tr>\n      <th>33</th>\n      <td>33</td>\n      <td>TUU10101AA01000000</td>\n      <td>0</td>\n      <td>0</td>\n      <td>0</td>\n      <td>0</td>\n      <td>0</td>\n      <td>Avg hrs per day</td>\n      <td>0</td>\n      <td>0</td>\n      <td>...</td>\n      <td>Total, all activities</td>\n      <td>15 years and over</td>\n      <td>All persons</td>\n      <td>All education levels</td>\n      <td>NaN</td>\n      <td>NaN</td>\n      <td>All days</td>\n      <td>All races</td>\n      <td>Both sexes</td>\n      <td>Average hours per day</td>\n    </tr>\n    <tr>\n      <th>34</th>\n      <td>34</td>\n      <td>TUU10101AA01000003</td>\n      <td>0</td>\n      <td>0</td>\n      <td>0</td>\n      <td>0</td>\n      <td>16</td>\n      <td>Avg hrs per day - Weekend days and holidays</td>\n      <td>0</td>\n      <td>0</td>\n      <td>...</td>\n      <td>Total, all activities</td>\n      <td>15 years and over</td>\n      <td>All persons</td>\n      <td>All education levels</td>\n      <td>NaN</td>\n      <td>NaN</td>\n      <td>Weekend days and holidays</td>\n      <td>All races</td>\n      <td>Both sexes</td>\n      <td>Average hours per day</td>\n    </tr>\n    <tr>\n      <th>35</th>\n      <td>35</td>\n      <td>TUU10101AA01000005</td>\n      <td>0</td>\n      <td>0</td>\n      <td>0</td>\n      <td>0</td>\n      <td>19</td>\n      <td>Avg hrs per day - Nonholiday weekdays</td>\n      <td>0</td>\n      <td>0</td>\n      <td>...</td>\n      <td>Total, all activities</td>\n      <td>15 years and over</td>\n      <td>All persons</td>\n      <td>All education levels</td>\n      <td>NaN</td>\n      <td>NaN</td>\n      <td>Nonholiday weekdays</td>\n      <td>All races</td>\n      <td>Both sexes</td>\n      <td>Average hours per day</td>\n    </tr>\n    <tr>\n      <th>36</th>\n      <td>36</td>\n      <td>TUU10101AA01000007</td>\n      <td>0</td>\n      <td>0</td>\n      <td>0</td>\n      <td>0</td>\n      <td>0</td>\n      <td>Avg hrs per day - Employed</td>\n      <td>0</td>\n      <td>0</td>\n      <td>...</td>\n      <td>Total, all activities</td>\n      <td>15 years and over</td>\n      <td>All persons</td>\n      <td>All education levels</td>\n      <td>Employed</td>\n      <td>NaN</td>\n      <td>All days</td>\n      <td>All races</td>\n      <td>Both sexes</td>\n      <td>Average hours per day</td>\n    </tr>\n    <tr>\n      <th>37</th>\n      <td>37</td>\n      <td>TUU10101AA01000008</td>\n      <td>0</td>\n      <td>0</td>\n      <td>0</td>\n      <td>0</td>\n      <td>16</td>\n      <td>Avg hrs per day - Weekend days and holidays, E...</td>\n      <td>0</td>\n      <td>0</td>\n      <td>...</td>\n      <td>Total, all activities</td>\n      <td>15 years and over</td>\n      <td>All persons</td>\n      <td>All education levels</td>\n      <td>Employed</td>\n      <td>NaN</td>\n      <td>Weekend days and holidays</td>\n      <td>All races</td>\n      <td>Both sexes</td>\n      <td>Average hours per day</td>\n    </tr>\n    <tr>\n      <th>...</th>\n      <td>...</td>\n      <td>...</td>\n      <td>...</td>\n      <td>...</td>\n      <td>...</td>\n      <td>...</td>\n      <td>...</td>\n      <td>...</td>\n      <td>...</td>\n      <td>...</td>\n      <td>...</td>\n      <td>...</td>\n      <td>...</td>\n      <td>...</td>\n      <td>...</td>\n      <td>...</td>\n      <td>...</td>\n      <td>...</td>\n      <td>...</td>\n      <td>...</td>\n      <td>...</td>\n    </tr>\n    <tr>\n      <th>25495</th>\n      <td>25495</td>\n      <td>TUU10101QA01014521</td>\n      <td>0</td>\n      <td>0</td>\n      <td>0</td>\n      <td>0</td>\n      <td>0</td>\n      <td>Avg hrs per day - Participating in sports, exe...</td>\n      <td>0</td>\n      <td>600027</td>\n      <td>...</td>\n      <td>Participating in sports, exercise, and recreat...</td>\n      <td>15 years and over</td>\n      <td>All persons</td>\n      <td>All education levels</td>\n      <td>NaN</td>\n      <td>NaN</td>\n      <td>All days</td>\n      <td>All races</td>\n      <td>Both sexes</td>\n      <td>Average hours per day</td>\n    </tr>\n    <tr>\n      <th>25496</th>\n      <td>25496</td>\n      <td>TUU10101QA01015010</td>\n      <td>0</td>\n      <td>0</td>\n      <td>0</td>\n      <td>0</td>\n      <td>0</td>\n      <td>Avg hrs per day - Organizational, civic, and r...</td>\n      <td>0</td>\n      <td>600030</td>\n      <td>...</td>\n      <td>Organizational, civic, and religious activities</td>\n      <td>15 years and over</td>\n      <td>All persons</td>\n      <td>All education levels</td>\n      <td>NaN</td>\n      <td>NaN</td>\n      <td>All days</td>\n      <td>All races</td>\n      <td>Both sexes</td>\n      <td>Average hours per day</td>\n    </tr>\n    <tr>\n      <th>25497</th>\n      <td>25497</td>\n      <td>TUU10101QA01015349</td>\n      <td>0</td>\n      <td>0</td>\n      <td>0</td>\n      <td>0</td>\n      <td>0</td>\n      <td>Avg hrs per day - Volunteering (organizational...</td>\n      <td>0</td>\n      <td>600032</td>\n      <td>...</td>\n      <td>Volunteering (organizational and civic activit...</td>\n      <td>15 years and over</td>\n      <td>All persons</td>\n      <td>All education levels</td>\n      <td>NaN</td>\n      <td>NaN</td>\n      <td>All days</td>\n      <td>All races</td>\n      <td>Both sexes</td>\n      <td>Average hours per day</td>\n    </tr>\n    <tr>\n      <th>25498</th>\n      <td>25498</td>\n      <td>TUU10101QA01015586</td>\n      <td>0</td>\n      <td>0</td>\n      <td>0</td>\n      <td>0</td>\n      <td>0</td>\n      <td>Avg hrs per day - Telephone calls, mail, and e...</td>\n      <td>0</td>\n      <td>600033</td>\n      <td>...</td>\n      <td>Telephone calls, mail, and e-mail (includes tr...</td>\n      <td>15 years and over</td>\n      <td>All persons</td>\n      <td>All education levels</td>\n      <td>NaN</td>\n      <td>NaN</td>\n      <td>All days</td>\n      <td>All races</td>\n      <td>Both sexes</td>\n      <td>Average hours per day</td>\n    </tr>\n    <tr>\n      <th>25499</th>\n      <td>25499</td>\n      <td>TUU10101QA01015925</td>\n      <td>0</td>\n      <td>0</td>\n      <td>0</td>\n      <td>0</td>\n      <td>0</td>\n      <td>Avg hrs per day - Other activities, not elsewh...</td>\n      <td>0</td>\n      <td>600034</td>\n      <td>...</td>\n      <td>Other activities, not elsewhere classified (in...</td>\n      <td>15 years and over</td>\n      <td>All persons</td>\n      <td>All education levels</td>\n      <td>NaN</td>\n      <td>NaN</td>\n      <td>All days</td>\n      <td>All races</td>\n      <td>Both sexes</td>\n      <td>Average hours per day</td>\n    </tr>\n  </tbody>\n</table>\n<p>8874 rows × 23 columns</p>\n</div>",
          "text/plain": "       Unnamed: 0  series_id                       sex_code  race_code  \\\n33             33  TUU10101AA01000000                     0          0   \n34             34  TUU10101AA01000003                     0          0   \n35             35  TUU10101AA01000005                     0          0   \n36             36  TUU10101AA01000007                     0          0   \n37             37  TUU10101AA01000008                     0          0   \n...           ...                             ...       ...        ...   \n25495       25495  TUU10101QA01014521                     0          0   \n25496       25496  TUU10101QA01015010                     0          0   \n25497       25497  TUU10101QA01015349                     0          0   \n25498       25498  TUU10101QA01015586                     0          0   \n25499       25499  TUU10101QA01015925                     0          0   \n\n       educ_code  age_code  pertype_code  \\\n33             0         0             0   \n34             0         0            16   \n35             0         0            19   \n36             0         0             0   \n37             0         0            16   \n...          ...       ...           ...   \n25495          0         0             0   \n25496          0         0             0   \n25497          0         0             0   \n25498          0         0             0   \n25499          0         0             0   \n\n                                            series_title  earn_code  \\\n33                                       Avg hrs per day          0   \n34           Avg hrs per day - Weekend days and holidays          0   \n35                 Avg hrs per day - Nonholiday weekdays          0   \n36                            Avg hrs per day - Employed          0   \n37     Avg hrs per day - Weekend days and holidays, E...          0   \n...                                                  ...        ...   \n25495  Avg hrs per day - Participating in sports, exe...          0   \n25496  Avg hrs per day - Organizational, civic, and r...          0   \n25497  Avg hrs per day - Volunteering (organizational...          0   \n25498  Avg hrs per day - Telephone calls, mail, and e...          0   \n25499  Avg hrs per day - Other activities, not elsewh...          0   \n\n       actcode_code  ...                                       actcode_text  \\\n33                0  ...                              Total, all activities   \n34                0  ...                              Total, all activities   \n35                0  ...                              Total, all activities   \n36                0  ...                              Total, all activities   \n37                0  ...                              Total, all activities   \n...             ...  ...                                                ...   \n25495        600027  ...  Participating in sports, exercise, and recreat...   \n25496        600030  ...    Organizational, civic, and religious activities   \n25497        600032  ...  Volunteering (organizational and civic activit...   \n25498        600033  ...  Telephone calls, mail, and e-mail (includes tr...   \n25499        600034  ...  Other activities, not elsewhere classified (in...   \n\n                age_text    earn_text             educ_text lfstat_text  \\\n33     15 years and over  All persons  All education levels         NaN   \n34     15 years and over  All persons  All education levels         NaN   \n35     15 years and over  All persons  All education levels         NaN   \n36     15 years and over  All persons  All education levels    Employed   \n37     15 years and over  All persons  All education levels    Employed   \n...                  ...          ...                   ...         ...   \n25495  15 years and over  All persons  All education levels         NaN   \n25496  15 years and over  All persons  All education levels         NaN   \n25497  15 years and over  All persons  All education levels         NaN   \n25498  15 years and over  All persons  All education levels         NaN   \n25499  15 years and over  All persons  All education levels         NaN   \n\n      orig_text               pertype_text  race_text    sex_text  \\\n33          NaN                   All days  All races  Both sexes   \n34          NaN  Weekend days and holidays  All races  Both sexes   \n35          NaN        Nonholiday weekdays  All races  Both sexes   \n36          NaN                   All days  All races  Both sexes   \n37          NaN  Weekend days and holidays  All races  Both sexes   \n...         ...                        ...        ...         ...   \n25495       NaN                   All days  All races  Both sexes   \n25496       NaN                   All days  All races  Both sexes   \n25497       NaN                   All days  All races  Both sexes   \n25498       NaN                   All days  All races  Both sexes   \n25499       NaN                   All days  All races  Both sexes   \n\n               stattype_text  \n33     Average hours per day  \n34     Average hours per day  \n35     Average hours per day  \n36     Average hours per day  \n37     Average hours per day  \n...                      ...  \n25495  Average hours per day  \n25496  Average hours per day  \n25497  Average hours per day  \n25498  Average hours per day  \n25499  Average hours per day  \n\n[8874 rows x 23 columns]"
         },
         "metadata": {},
         "output_type": "display_data"
        }
       ]
      }
     },
     "ca6d96ad060643de93d56fb7e4f9ca0b": {
      "model_module": "@jupyter-widgets/controls",
      "model_module_version": "1.5.0",
      "model_name": "DescriptionStyleModel",
      "state": {
       "description_width": ""
      }
     },
     "cae82fe812504a6ca79b3ca179144888": {
      "model_module": "@jupyter-widgets/controls",
      "model_module_version": "1.5.0",
      "model_name": "DropdownModel",
      "state": {
       "_options_labels": [
        "ALL",
        "Both sexes",
        "Men",
        "Women"
       ],
       "index": 1,
       "layout": "IPY_MODEL_7c3506b5dde44f53847867ba7a4b08b3",
       "style": "IPY_MODEL_0e4636b43719447b95aa8bfd3770f77b"
      }
     },
     "cb0386bff92b43b7b2dd3d48f1ed7e4c": {
      "model_module": "@jupyter-widgets/base",
      "model_module_version": "1.2.0",
      "model_name": "LayoutModel",
      "state": {}
     },
     "cb48e52115b9416fa7d77fbc3a381307": {
      "model_module": "@jupyter-widgets/controls",
      "model_module_version": "1.5.0",
      "model_name": "DescriptionStyleModel",
      "state": {
       "description_width": ""
      }
     },
     "cb95af670fe043a7b55cae65551fac13": {
      "model_module": "@jupyter-widgets/controls",
      "model_module_version": "1.5.0",
      "model_name": "DropdownModel",
      "state": {
       "_options_labels": [
        "ALL",
        "All races",
        "Asian",
        "Black or African American",
        "White"
       ],
       "description": "Ethnicity:",
       "index": 3,
       "layout": "IPY_MODEL_bd0e5031150449f8bfbaa3368b9a966f",
       "style": "IPY_MODEL_6fbe0af32d33417dbd5baef9c2e2fc80"
      }
     },
     "cc64690b433d4cf08164fd23ba287909": {
      "model_module": "@jupyter-widgets/controls",
      "model_module_version": "1.5.0",
      "model_name": "DescriptionStyleModel",
      "state": {
       "description_width": ""
      }
     },
     "cc74df140afa4ea39e75b0ef128c1cdf": {
      "model_module": "@jupyter-widgets/base",
      "model_module_version": "1.2.0",
      "model_name": "LayoutModel",
      "state": {}
     },
     "ccdaee9d7fd64eae9d70f93c8a1fc521": {
      "model_module": "@jupyter-widgets/output",
      "model_module_version": "1.0.0",
      "model_name": "OutputModel",
      "state": {
       "layout": "IPY_MODEL_3cf54627892d46d5aa7905fcd5d7e28f",
       "outputs": [
        {
         "data": {
          "text/plain": "8"
         },
         "metadata": {},
         "output_type": "display_data"
        }
       ]
      }
     },
     "cdb8953fde874cdd8cb57cc86bf89308": {
      "model_module": "@jupyter-widgets/controls",
      "model_module_version": "1.5.0",
      "model_name": "DropdownModel",
      "state": {
       "_options_labels": [
        "All days",
        "Nonholiday weekdays",
        "Weekdays",
        "Weekend days and holidays"
       ],
       "description": "Days:",
       "index": 0,
       "layout": "IPY_MODEL_17ad0f7809744d2ab19cc30d1a981bd1",
       "style": "IPY_MODEL_e67bf6523d3b450fb9fc116ad8627e8f"
      }
     },
     "cde41ecf68c240c4b988c66bd71d3047": {
      "model_module": "@jupyter-widgets/base",
      "model_module_version": "1.2.0",
      "model_name": "LayoutModel",
      "state": {}
     },
     "d035d27ac3114cd4bb2afa763ae9442b": {
      "model_module": "@jupyter-widgets/base",
      "model_module_version": "1.2.0",
      "model_name": "LayoutModel",
      "state": {}
     },
     "d0c8a9f659d0461eac12194d6a4efa43": {
      "model_module": "@jupyter-widgets/output",
      "model_module_version": "1.0.0",
      "model_name": "OutputModel",
      "state": {
       "layout": "IPY_MODEL_9c5e1a26ca6740b5947501ebee97d45c",
       "outputs": [
        {
         "data": {
          "text/html": "<div>\n<style scoped>\n    .dataframe tbody tr th:only-of-type {\n        vertical-align: middle;\n    }\n\n    .dataframe tbody tr th {\n        vertical-align: top;\n    }\n\n    .dataframe thead th {\n        text-align: right;\n    }\n</style>\n<table border=\"1\" class=\"dataframe\">\n  <thead>\n    <tr style=\"text-align: right;\">\n      <th></th>\n      <th>Unnamed: 0</th>\n      <th>series_id</th>\n      <th>sex_code</th>\n      <th>race_code</th>\n      <th>educ_code</th>\n      <th>age_code</th>\n      <th>pertype_code</th>\n      <th>series_title</th>\n      <th>earn_code</th>\n      <th>actcode_code</th>\n      <th>...</th>\n      <th>actcode_text</th>\n      <th>age_text</th>\n      <th>earn_text</th>\n      <th>educ_text</th>\n      <th>lfstat_text</th>\n      <th>orig_text</th>\n      <th>pertype_text</th>\n      <th>race_text</th>\n      <th>sex_text</th>\n      <th>stattype_text</th>\n    </tr>\n  </thead>\n  <tbody>\n    <tr>\n      <th>5490</th>\n      <td>5490</td>\n      <td>TUU10101AA01009091</td>\n      <td>2</td>\n      <td>1</td>\n      <td>0</td>\n      <td>0</td>\n      <td>0</td>\n      <td>Avg hrs per day - Personal care activities (in...</td>\n      <td>0</td>\n      <td>600001</td>\n      <td>...</td>\n      <td>Personal care activities (includes travel)</td>\n      <td>15 years and over</td>\n      <td>All persons</td>\n      <td>All education levels</td>\n      <td>NaN</td>\n      <td>NaN</td>\n      <td>All days</td>\n      <td>White</td>\n      <td>Women</td>\n      <td>Average hours per day</td>\n    </tr>\n    <tr>\n      <th>5653</th>\n      <td>5653</td>\n      <td>TUU10101AA01009643</td>\n      <td>2</td>\n      <td>1</td>\n      <td>0</td>\n      <td>0</td>\n      <td>0</td>\n      <td>Avg hrs per day - Household activities (includ...</td>\n      <td>0</td>\n      <td>600003</td>\n      <td>...</td>\n      <td>Household activities (includes travel)</td>\n      <td>15 years and over</td>\n      <td>All persons</td>\n      <td>All education levels</td>\n      <td>NaN</td>\n      <td>NaN</td>\n      <td>All days</td>\n      <td>White</td>\n      <td>Women</td>\n      <td>Average hours per day</td>\n    </tr>\n    <tr>\n      <th>5918</th>\n      <td>5918</td>\n      <td>TUU10101AA01010630</td>\n      <td>2</td>\n      <td>1</td>\n      <td>0</td>\n      <td>0</td>\n      <td>0</td>\n      <td>Avg hrs per day - Caring for and helping house...</td>\n      <td>0</td>\n      <td>600007</td>\n      <td>...</td>\n      <td>Caring for and helping household members (incl...</td>\n      <td>15 years and over</td>\n      <td>All persons</td>\n      <td>All education levels</td>\n      <td>NaN</td>\n      <td>NaN</td>\n      <td>All days</td>\n      <td>White</td>\n      <td>Women</td>\n      <td>Average hours per day</td>\n    </tr>\n    <tr>\n      <th>6285</th>\n      <td>6285</td>\n      <td>TUU10101AA01011430</td>\n      <td>2</td>\n      <td>1</td>\n      <td>0</td>\n      <td>0</td>\n      <td>0</td>\n      <td>Avg hrs per day - Caring for and helping nonho...</td>\n      <td>0</td>\n      <td>600010</td>\n      <td>...</td>\n      <td>Caring for and helping nonhousehold members (i...</td>\n      <td>15 years and over</td>\n      <td>All persons</td>\n      <td>All education levels</td>\n      <td>NaN</td>\n      <td>NaN</td>\n      <td>All days</td>\n      <td>White</td>\n      <td>Women</td>\n      <td>Average hours per day</td>\n    </tr>\n    <tr>\n      <th>6652</th>\n      <td>6652</td>\n      <td>TUU10101AA01012249</td>\n      <td>2</td>\n      <td>1</td>\n      <td>0</td>\n      <td>0</td>\n      <td>0</td>\n      <td>Avg hrs per day - Working and work-related act...</td>\n      <td>0</td>\n      <td>600013</td>\n      <td>...</td>\n      <td>Working and work-related activities (includes ...</td>\n      <td>15 years and over</td>\n      <td>All persons</td>\n      <td>All education levels</td>\n      <td>NaN</td>\n      <td>NaN</td>\n      <td>All days</td>\n      <td>White</td>\n      <td>Women</td>\n      <td>Average hours per day</td>\n    </tr>\n    <tr>\n      <th>6815</th>\n      <td>6815</td>\n      <td>TUU10101AA01012574</td>\n      <td>2</td>\n      <td>1</td>\n      <td>0</td>\n      <td>0</td>\n      <td>0</td>\n      <td>Avg hrs per day - Educational activities (incl...</td>\n      <td>0</td>\n      <td>600016</td>\n      <td>...</td>\n      <td>Educational activities (includes travel)</td>\n      <td>15 years and over</td>\n      <td>All persons</td>\n      <td>All education levels</td>\n      <td>NaN</td>\n      <td>NaN</td>\n      <td>All days</td>\n      <td>White</td>\n      <td>Women</td>\n      <td>Average hours per day</td>\n    </tr>\n    <tr>\n      <th>6978</th>\n      <td>6978</td>\n      <td>TUU10101AA01012914</td>\n      <td>2</td>\n      <td>1</td>\n      <td>0</td>\n      <td>0</td>\n      <td>0</td>\n      <td>Avg hrs per day - Purchasing goods and service...</td>\n      <td>0</td>\n      <td>600018</td>\n      <td>...</td>\n      <td>Purchasing goods and services (includes travel)</td>\n      <td>15 years and over</td>\n      <td>All persons</td>\n      <td>All education levels</td>\n      <td>NaN</td>\n      <td>NaN</td>\n      <td>All days</td>\n      <td>White</td>\n      <td>Women</td>\n      <td>Average hours per day</td>\n    </tr>\n    <tr>\n      <th>7243</th>\n      <td>7243</td>\n      <td>TUU10101AA01013499</td>\n      <td>2</td>\n      <td>1</td>\n      <td>0</td>\n      <td>0</td>\n      <td>0</td>\n      <td>Avg hrs per day - Eating and drinking (include...</td>\n      <td>0</td>\n      <td>600022</td>\n      <td>...</td>\n      <td>Eating and drinking (includes travel)</td>\n      <td>15 years and over</td>\n      <td>All persons</td>\n      <td>All education levels</td>\n      <td>NaN</td>\n      <td>NaN</td>\n      <td>All days</td>\n      <td>White</td>\n      <td>Women</td>\n      <td>Average hours per day</td>\n    </tr>\n    <tr>\n      <th>7412</th>\n      <td>7412</td>\n      <td>TUU10101AA01013865</td>\n      <td>2</td>\n      <td>1</td>\n      <td>0</td>\n      <td>0</td>\n      <td>0</td>\n      <td>Avg hrs per day - Leisure and sports (includes...</td>\n      <td>0</td>\n      <td>600023</td>\n      <td>...</td>\n      <td>Leisure and sports (includes travel)</td>\n      <td>15 years and over</td>\n      <td>All persons</td>\n      <td>All education levels</td>\n      <td>NaN</td>\n      <td>NaN</td>\n      <td>All days</td>\n      <td>White</td>\n      <td>Women</td>\n      <td>Average hours per day</td>\n    </tr>\n    <tr>\n      <th>7955</th>\n      <td>7955</td>\n      <td>TUU10101AA01015266</td>\n      <td>2</td>\n      <td>1</td>\n      <td>0</td>\n      <td>0</td>\n      <td>0</td>\n      <td>Avg hrs per day - Organizational, civic, and r...</td>\n      <td>0</td>\n      <td>600030</td>\n      <td>...</td>\n      <td>Organizational, civic, and religious activities</td>\n      <td>15 years and over</td>\n      <td>All persons</td>\n      <td>All education levels</td>\n      <td>NaN</td>\n      <td>NaN</td>\n      <td>All days</td>\n      <td>White</td>\n      <td>Women</td>\n      <td>Average hours per day</td>\n    </tr>\n    <tr>\n      <th>8220</th>\n      <td>8220</td>\n      <td>TUU10101AA01015842</td>\n      <td>2</td>\n      <td>1</td>\n      <td>0</td>\n      <td>0</td>\n      <td>0</td>\n      <td>Avg hrs per day - Telephone calls, mail, and e...</td>\n      <td>0</td>\n      <td>600033</td>\n      <td>...</td>\n      <td>Telephone calls, mail, and e-mail (includes tr...</td>\n      <td>15 years and over</td>\n      <td>All persons</td>\n      <td>All education levels</td>\n      <td>NaN</td>\n      <td>NaN</td>\n      <td>All days</td>\n      <td>White</td>\n      <td>Women</td>\n      <td>Average hours per day</td>\n    </tr>\n    <tr>\n      <th>8383</th>\n      <td>8383</td>\n      <td>TUU10101AA01016181</td>\n      <td>2</td>\n      <td>1</td>\n      <td>0</td>\n      <td>0</td>\n      <td>0</td>\n      <td>Avg hrs per day - Other activities, not elsewh...</td>\n      <td>0</td>\n      <td>600034</td>\n      <td>...</td>\n      <td>Other activities, not elsewhere classified (in...</td>\n      <td>15 years and over</td>\n      <td>All persons</td>\n      <td>All education levels</td>\n      <td>NaN</td>\n      <td>NaN</td>\n      <td>All days</td>\n      <td>White</td>\n      <td>Women</td>\n      <td>Average hours per day</td>\n    </tr>\n  </tbody>\n</table>\n<p>12 rows × 23 columns</p>\n</div>",
          "text/plain": "      Unnamed: 0  series_id                       sex_code  race_code  \\\n5490        5490  TUU10101AA01009091                     2          1   \n5653        5653  TUU10101AA01009643                     2          1   \n5918        5918  TUU10101AA01010630                     2          1   \n6285        6285  TUU10101AA01011430                     2          1   \n6652        6652  TUU10101AA01012249                     2          1   \n6815        6815  TUU10101AA01012574                     2          1   \n6978        6978  TUU10101AA01012914                     2          1   \n7243        7243  TUU10101AA01013499                     2          1   \n7412        7412  TUU10101AA01013865                     2          1   \n7955        7955  TUU10101AA01015266                     2          1   \n8220        8220  TUU10101AA01015842                     2          1   \n8383        8383  TUU10101AA01016181                     2          1   \n\n      educ_code  age_code  pertype_code  \\\n5490          0         0             0   \n5653          0         0             0   \n5918          0         0             0   \n6285          0         0             0   \n6652          0         0             0   \n6815          0         0             0   \n6978          0         0             0   \n7243          0         0             0   \n7412          0         0             0   \n7955          0         0             0   \n8220          0         0             0   \n8383          0         0             0   \n\n                                           series_title  earn_code  \\\n5490  Avg hrs per day - Personal care activities (in...          0   \n5653  Avg hrs per day - Household activities (includ...          0   \n5918  Avg hrs per day - Caring for and helping house...          0   \n6285  Avg hrs per day - Caring for and helping nonho...          0   \n6652  Avg hrs per day - Working and work-related act...          0   \n6815  Avg hrs per day - Educational activities (incl...          0   \n6978  Avg hrs per day - Purchasing goods and service...          0   \n7243  Avg hrs per day - Eating and drinking (include...          0   \n7412  Avg hrs per day - Leisure and sports (includes...          0   \n7955  Avg hrs per day - Organizational, civic, and r...          0   \n8220  Avg hrs per day - Telephone calls, mail, and e...          0   \n8383  Avg hrs per day - Other activities, not elsewh...          0   \n\n      actcode_code  ...                                       actcode_text  \\\n5490        600001  ...         Personal care activities (includes travel)   \n5653        600003  ...             Household activities (includes travel)   \n5918        600007  ...  Caring for and helping household members (incl...   \n6285        600010  ...  Caring for and helping nonhousehold members (i...   \n6652        600013  ...  Working and work-related activities (includes ...   \n6815        600016  ...           Educational activities (includes travel)   \n6978        600018  ...    Purchasing goods and services (includes travel)   \n7243        600022  ...              Eating and drinking (includes travel)   \n7412        600023  ...               Leisure and sports (includes travel)   \n7955        600030  ...    Organizational, civic, and religious activities   \n8220        600033  ...  Telephone calls, mail, and e-mail (includes tr...   \n8383        600034  ...  Other activities, not elsewhere classified (in...   \n\n               age_text    earn_text             educ_text lfstat_text  \\\n5490  15 years and over  All persons  All education levels         NaN   \n5653  15 years and over  All persons  All education levels         NaN   \n5918  15 years and over  All persons  All education levels         NaN   \n6285  15 years and over  All persons  All education levels         NaN   \n6652  15 years and over  All persons  All education levels         NaN   \n6815  15 years and over  All persons  All education levels         NaN   \n6978  15 years and over  All persons  All education levels         NaN   \n7243  15 years and over  All persons  All education levels         NaN   \n7412  15 years and over  All persons  All education levels         NaN   \n7955  15 years and over  All persons  All education levels         NaN   \n8220  15 years and over  All persons  All education levels         NaN   \n8383  15 years and over  All persons  All education levels         NaN   \n\n     orig_text pertype_text race_text sex_text          stattype_text  \n5490       NaN     All days     White    Women  Average hours per day  \n5653       NaN     All days     White    Women  Average hours per day  \n5918       NaN     All days     White    Women  Average hours per day  \n6285       NaN     All days     White    Women  Average hours per day  \n6652       NaN     All days     White    Women  Average hours per day  \n6815       NaN     All days     White    Women  Average hours per day  \n6978       NaN     All days     White    Women  Average hours per day  \n7243       NaN     All days     White    Women  Average hours per day  \n7412       NaN     All days     White    Women  Average hours per day  \n7955       NaN     All days     White    Women  Average hours per day  \n8220       NaN     All days     White    Women  Average hours per day  \n8383       NaN     All days     White    Women  Average hours per day  \n\n[12 rows x 23 columns]"
         },
         "metadata": {},
         "output_type": "display_data"
        }
       ]
      }
     },
     "d20637a938b34cf8b22940727a68b298": {
      "model_module": "@jupyter-widgets/base",
      "model_module_version": "1.2.0",
      "model_name": "LayoutModel",
      "state": {}
     },
     "d2e4dea1a7e048a28beda1d84b38efb1": {
      "model_module": "@jupyter-widgets/base",
      "model_module_version": "1.2.0",
      "model_name": "LayoutModel",
      "state": {}
     },
     "d37939f83c3b4924b512a9fa248ec1bc": {
      "model_module": "@jupyter-widgets/controls",
      "model_module_version": "1.5.0",
      "model_name": "DropdownModel",
      "state": {
       "_options_labels": [
        "Average hours per day",
        "Average hours per day for participants in an activity",
        "Number of participants in an activity on an average day (in thousands)",
        "Number of persons (in thousands)",
        "Percent of population engaged in activity on an average day"
       ],
       "description": "Stat Type:",
       "index": 0,
       "layout": "IPY_MODEL_194781b3f9e64f98950a8396889469b3",
       "style": "IPY_MODEL_a492f85b46614d01ac8e79c8585f947b"
      }
     },
     "d3f32b5d7f244af7980bd30ded7d02e0": {
      "model_module": "@jupyter-widgets/controls",
      "model_module_version": "1.5.0",
      "model_name": "DropdownModel",
      "state": {
       "_options_labels": [
        "ALL",
        "Average hours per day",
        "Average hours per day for participants in an activity",
        "Number of participants in an activity on an average day (in thousands)",
        "Number of persons (in thousands)",
        "Percent of population engaged in activity on an average day"
       ],
       "description": "Stat Type:",
       "index": 1,
       "layout": "IPY_MODEL_c7312c963bd240929f7f6ef6b56e51a4",
       "style": "IPY_MODEL_cc64690b433d4cf08164fd23ba287909"
      }
     },
     "d58ff6718c944ab5acce3fcbd1b18c9d": {
      "model_module": "@jupyter-widgets/controls",
      "model_module_version": "1.5.0",
      "model_name": "DescriptionStyleModel",
      "state": {
       "description_width": ""
      }
     },
     "d5cbffb099164bf8868af69285efc7b5": {
      "model_module": "@jupyter-widgets/controls",
      "model_module_version": "1.5.0",
      "model_name": "DropdownModel",
      "state": {
       "_options_labels": [
        "15 to 19 years",
        "15 to 24 years",
        "15 years and over",
        "18 years and over",
        "20 to 24 years",
        "25 to 34 years",
        "25 to 54 years",
        "25 years and over",
        "35 to 44 years",
        "45 to 54 years",
        "55 to 64 years",
        "65 to 74 years",
        "65 years and over",
        "75 years and over"
       ],
       "description": "Ages:",
       "index": 7,
       "layout": "IPY_MODEL_df02eb35d8af4f03b8c6cdc5827a27f6",
       "style": "IPY_MODEL_16fb4573448f4e02b6dc8d07be03fe52"
      }
     },
     "d6d4e874da9e464ba5d50783392fe367": {
      "model_module": "@jupyter-widgets/output",
      "model_module_version": "1.0.0",
      "model_name": "OutputModel",
      "state": {
       "layout": "IPY_MODEL_8b66b2faa83f46358dea2204882ce4a6"
      }
     },
     "d6fedfa21b0c4f699961c895e2783452": {
      "model_module": "@jupyter-widgets/controls",
      "model_module_version": "1.5.0",
      "model_name": "DropdownModel",
      "state": {
       "_options_labels": [
        "ALL",
        "All races",
        "Asian",
        "Black or African American",
        "White"
       ],
       "description": "Ethnicity:",
       "index": 2,
       "layout": "IPY_MODEL_8a44404881d44eeba9f31d0b01190c16",
       "style": "IPY_MODEL_5fa3a4881a27486ba051f9cb36c0e051"
      }
     },
     "d787787472494a288d210179c789af05": {
      "model_module": "@jupyter-widgets/controls",
      "model_module_version": "1.5.0",
      "model_name": "DescriptionStyleModel",
      "state": {
       "description_width": ""
      }
     },
     "d8135b5d30784d24b7f737b2c990f6b6": {
      "model_module": "@jupyter-widgets/controls",
      "model_module_version": "1.5.0",
      "model_name": "DropdownModel",
      "state": {
       "_options_labels": [
        "ALL",
        "Both sexes",
        "Men",
        "Women"
       ],
       "description": "Gender:",
       "index": 1,
       "layout": "IPY_MODEL_3877232471f14118a1dbd7e51dc17b21",
       "style": "IPY_MODEL_a0a927701e3448efb7288359ca10bf3d"
      }
     },
     "d8a5f97e55194e1788ace5a7c0c4cfdc": {
      "model_module": "@jupyter-widgets/base",
      "model_module_version": "1.2.0",
      "model_name": "LayoutModel",
      "state": {}
     },
     "d908b7ae729944af8909cba291f503a3": {
      "model_module": "@jupyter-widgets/controls",
      "model_module_version": "1.5.0",
      "model_name": "DropdownModel",
      "state": {
       "_options_labels": [
        "ALL",
        "Average hours per day",
        "Average hours per day for participants in an activity",
        "Number of participants in an activity on an average day (in thousands)",
        "Number of persons (in thousands)",
        "Percent of population engaged in activity on an average day"
       ],
       "description": "Stat Type:",
       "index": 1,
       "layout": "IPY_MODEL_159b743817364d668488eedd6b1423bb",
       "style": "IPY_MODEL_339a5cd3d5b34260ba81428f27cf240e"
      }
     },
     "da917db05b9846dbb138b63ae9d9d547": {
      "model_module": "@jupyter-widgets/controls",
      "model_module_version": "1.5.0",
      "model_name": "DropdownModel",
      "state": {
       "_options_labels": [
        "ALL",
        "Both sexes",
        "Men",
        "Women"
       ],
       "description": "Gender:",
       "index": 1,
       "layout": "IPY_MODEL_fe0d346ee4d84feaa486dfa5e7a1dc3b",
       "style": "IPY_MODEL_ca6d96ad060643de93d56fb7e4f9ca0b"
      }
     },
     "dbca968c789f4c1e92424c216a483199": {
      "model_module": "@jupyter-widgets/base",
      "model_module_version": "1.2.0",
      "model_name": "LayoutModel",
      "state": {}
     },
     "dc5444f08aca4d84833b9812f18e1bca": {
      "model_module": "@jupyter-widgets/base",
      "model_module_version": "1.2.0",
      "model_name": "LayoutModel",
      "state": {}
     },
     "dc5c30270a7c482eb4783213c0ecb274": {
      "model_module": "@jupyter-widgets/controls",
      "model_module_version": "1.5.0",
      "model_name": "DescriptionStyleModel",
      "state": {
       "description_width": ""
      }
     },
     "dcf3493bae9444fb96d6b86216cadf73": {
      "model_module": "@jupyter-widgets/base",
      "model_module_version": "1.2.0",
      "model_name": "LayoutModel",
      "state": {}
     },
     "dd788d83593543f8b8c37aea85f92c1f": {
      "model_module": "@jupyter-widgets/controls",
      "model_module_version": "1.5.0",
      "model_name": "DescriptionStyleModel",
      "state": {
       "description_width": ""
      }
     },
     "dddd086f543f4a8cbab1b82d1f8b7816": {
      "model_module": "@jupyter-widgets/output",
      "model_module_version": "1.0.0",
      "model_name": "OutputModel",
      "state": {
       "layout": "IPY_MODEL_79d2ba1fd2644fe794294c18e439410d",
       "outputs": [
        {
         "data": {
          "text/html": "<div>\n<style scoped>\n    .dataframe tbody tr th:only-of-type {\n        vertical-align: middle;\n    }\n\n    .dataframe tbody tr th {\n        vertical-align: top;\n    }\n\n    .dataframe thead th {\n        text-align: right;\n    }\n</style>\n<table border=\"1\" class=\"dataframe\">\n  <thead>\n    <tr style=\"text-align: right;\">\n      <th></th>\n      <th>Unnamed: 0</th>\n      <th>series_id</th>\n      <th>sex_code</th>\n      <th>race_code</th>\n      <th>educ_code</th>\n      <th>age_code</th>\n      <th>pertype_code</th>\n      <th>series_title</th>\n      <th>earn_code</th>\n      <th>actcode_code</th>\n      <th>...</th>\n      <th>actcode_text</th>\n      <th>age_text</th>\n      <th>earn_text</th>\n      <th>educ_text</th>\n      <th>lfstat_text</th>\n      <th>orig_text</th>\n      <th>pertype_text</th>\n      <th>race_text</th>\n      <th>sex_text</th>\n      <th>stattype_text</th>\n    </tr>\n  </thead>\n  <tbody>\n    <tr>\n      <th>3477</th>\n      <td>3477</td>\n      <td>TUU10101AA01005684</td>\n      <td>0</td>\n      <td>3</td>\n      <td>0</td>\n      <td>0</td>\n      <td>0</td>\n      <td>Avg hrs per day - Relaxing and thinking, Black...</td>\n      <td>0</td>\n      <td>120301</td>\n      <td>...</td>\n      <td>Relaxing and thinking</td>\n      <td>15 years and over</td>\n      <td>All persons</td>\n      <td>All education levels</td>\n      <td>NaN</td>\n      <td>NaN</td>\n      <td>All days</td>\n      <td>Black or African American</td>\n      <td>Both sexes</td>\n      <td>Average hours per day</td>\n    </tr>\n    <tr>\n      <th>3702</th>\n      <td>3702</td>\n      <td>TUU10101AA01006341</td>\n      <td>0</td>\n      <td>3</td>\n      <td>0</td>\n      <td>0</td>\n      <td>0</td>\n      <td>Avg hrs per day - Reading for personal interes...</td>\n      <td>0</td>\n      <td>120312</td>\n      <td>...</td>\n      <td>Reading for personal interest</td>\n      <td>15 years and over</td>\n      <td>All persons</td>\n      <td>All education levels</td>\n      <td>NaN</td>\n      <td>NaN</td>\n      <td>All days</td>\n      <td>Black or African American</td>\n      <td>Both sexes</td>\n      <td>Average hours per day</td>\n    </tr>\n    <tr>\n      <th>5381</th>\n      <td>5381</td>\n      <td>TUU10101AA01008860</td>\n      <td>0</td>\n      <td>3</td>\n      <td>0</td>\n      <td>0</td>\n      <td>0</td>\n      <td>Avg hrs per day - Personal care activities (in...</td>\n      <td>0</td>\n      <td>600001</td>\n      <td>...</td>\n      <td>Personal care activities (includes travel)</td>\n      <td>15 years and over</td>\n      <td>All persons</td>\n      <td>All education levels</td>\n      <td>NaN</td>\n      <td>NaN</td>\n      <td>All days</td>\n      <td>Black or African American</td>\n      <td>Both sexes</td>\n      <td>Average hours per day</td>\n    </tr>\n    <tr>\n      <th>5544</th>\n      <td>5544</td>\n      <td>TUU10101AA01009412</td>\n      <td>0</td>\n      <td>3</td>\n      <td>0</td>\n      <td>0</td>\n      <td>0</td>\n      <td>Avg hrs per day - Household activities (includ...</td>\n      <td>0</td>\n      <td>600003</td>\n      <td>...</td>\n      <td>Household activities (includes travel)</td>\n      <td>15 years and over</td>\n      <td>All persons</td>\n      <td>All education levels</td>\n      <td>NaN</td>\n      <td>NaN</td>\n      <td>All days</td>\n      <td>Black or African American</td>\n      <td>Both sexes</td>\n      <td>Average hours per day</td>\n    </tr>\n    <tr>\n      <th>5809</th>\n      <td>5809</td>\n      <td>TUU10101AA01010405</td>\n      <td>0</td>\n      <td>3</td>\n      <td>0</td>\n      <td>0</td>\n      <td>0</td>\n      <td>Avg hrs per day - Caring for and helping house...</td>\n      <td>0</td>\n      <td>600007</td>\n      <td>...</td>\n      <td>Caring for and helping household members (incl...</td>\n      <td>15 years and over</td>\n      <td>All persons</td>\n      <td>All education levels</td>\n      <td>NaN</td>\n      <td>NaN</td>\n      <td>All days</td>\n      <td>Black or African American</td>\n      <td>Both sexes</td>\n      <td>Average hours per day</td>\n    </tr>\n    <tr>\n      <th>6176</th>\n      <td>6176</td>\n      <td>TUU10101AA01011205</td>\n      <td>0</td>\n      <td>3</td>\n      <td>0</td>\n      <td>0</td>\n      <td>0</td>\n      <td>Avg hrs per day - Caring for and helping nonho...</td>\n      <td>0</td>\n      <td>600010</td>\n      <td>...</td>\n      <td>Caring for and helping nonhousehold members (i...</td>\n      <td>15 years and over</td>\n      <td>All persons</td>\n      <td>All education levels</td>\n      <td>NaN</td>\n      <td>NaN</td>\n      <td>All days</td>\n      <td>Black or African American</td>\n      <td>Both sexes</td>\n      <td>Average hours per day</td>\n    </tr>\n    <tr>\n      <th>6543</th>\n      <td>6543</td>\n      <td>TUU10101AA01012018</td>\n      <td>0</td>\n      <td>3</td>\n      <td>0</td>\n      <td>0</td>\n      <td>0</td>\n      <td>Avg hrs per day - Working and work-related act...</td>\n      <td>0</td>\n      <td>600013</td>\n      <td>...</td>\n      <td>Working and work-related activities (includes ...</td>\n      <td>15 years and over</td>\n      <td>All persons</td>\n      <td>All education levels</td>\n      <td>NaN</td>\n      <td>NaN</td>\n      <td>All days</td>\n      <td>Black or African American</td>\n      <td>Both sexes</td>\n      <td>Average hours per day</td>\n    </tr>\n    <tr>\n      <th>6706</th>\n      <td>6706</td>\n      <td>TUU10101AA01012366</td>\n      <td>0</td>\n      <td>3</td>\n      <td>0</td>\n      <td>0</td>\n      <td>0</td>\n      <td>Avg hrs per day - Educational activities (incl...</td>\n      <td>0</td>\n      <td>600016</td>\n      <td>...</td>\n      <td>Educational activities (includes travel)</td>\n      <td>15 years and over</td>\n      <td>All persons</td>\n      <td>All education levels</td>\n      <td>NaN</td>\n      <td>NaN</td>\n      <td>All days</td>\n      <td>Black or African American</td>\n      <td>Both sexes</td>\n      <td>Average hours per day</td>\n    </tr>\n    <tr>\n      <th>6869</th>\n      <td>6869</td>\n      <td>TUU10101AA01012683</td>\n      <td>0</td>\n      <td>3</td>\n      <td>0</td>\n      <td>0</td>\n      <td>0</td>\n      <td>Avg hrs per day - Purchasing goods and service...</td>\n      <td>0</td>\n      <td>600018</td>\n      <td>...</td>\n      <td>Purchasing goods and services (includes travel)</td>\n      <td>15 years and over</td>\n      <td>All persons</td>\n      <td>All education levels</td>\n      <td>NaN</td>\n      <td>NaN</td>\n      <td>All days</td>\n      <td>Black or African American</td>\n      <td>Both sexes</td>\n      <td>Average hours per day</td>\n    </tr>\n    <tr>\n      <th>7134</th>\n      <td>7134</td>\n      <td>TUU10101AA01013268</td>\n      <td>0</td>\n      <td>3</td>\n      <td>0</td>\n      <td>0</td>\n      <td>0</td>\n      <td>Avg hrs per day - Eating and drinking (include...</td>\n      <td>0</td>\n      <td>600022</td>\n      <td>...</td>\n      <td>Eating and drinking (includes travel)</td>\n      <td>15 years and over</td>\n      <td>All persons</td>\n      <td>All education levels</td>\n      <td>NaN</td>\n      <td>NaN</td>\n      <td>All days</td>\n      <td>Black or African American</td>\n      <td>Both sexes</td>\n      <td>Average hours per day</td>\n    </tr>\n    <tr>\n      <th>7302</th>\n      <td>7302</td>\n      <td>TUU10101AA01013622</td>\n      <td>0</td>\n      <td>3</td>\n      <td>0</td>\n      <td>0</td>\n      <td>0</td>\n      <td>Avg hrs per day - Leisure and sports (includes...</td>\n      <td>0</td>\n      <td>600023</td>\n      <td>...</td>\n      <td>Leisure and sports (includes travel)</td>\n      <td>15 years and over</td>\n      <td>All persons</td>\n      <td>All education levels</td>\n      <td>NaN</td>\n      <td>NaN</td>\n      <td>All days</td>\n      <td>Black or African American</td>\n      <td>Both sexes</td>\n      <td>Average hours per day</td>\n    </tr>\n    <tr>\n      <th>7471</th>\n      <td>7471</td>\n      <td>TUU10101AA01013988</td>\n      <td>0</td>\n      <td>3</td>\n      <td>0</td>\n      <td>0</td>\n      <td>0</td>\n      <td>Avg hrs per day - Socializing and communicatin...</td>\n      <td>0</td>\n      <td>600024</td>\n      <td>...</td>\n      <td>Socializing and communicating</td>\n      <td>15 years and over</td>\n      <td>All persons</td>\n      <td>All education levels</td>\n      <td>NaN</td>\n      <td>NaN</td>\n      <td>All days</td>\n      <td>Black or African American</td>\n      <td>Both sexes</td>\n      <td>Average hours per day</td>\n    </tr>\n    <tr>\n      <th>7591</th>\n      <td>7591</td>\n      <td>TUU10101AA01014273</td>\n      <td>0</td>\n      <td>3</td>\n      <td>0</td>\n      <td>0</td>\n      <td>0</td>\n      <td>Avg hrs per day - Watching TV, Black or Africa...</td>\n      <td>0</td>\n      <td>600025</td>\n      <td>...</td>\n      <td>Watching TV</td>\n      <td>15 years and over</td>\n      <td>All persons</td>\n      <td>All education levels</td>\n      <td>NaN</td>\n      <td>NaN</td>\n      <td>All days</td>\n      <td>Black or African American</td>\n      <td>Both sexes</td>\n      <td>Average hours per day</td>\n    </tr>\n    <tr>\n      <th>7700</th>\n      <td>7700</td>\n      <td>TUU10101AA01014547</td>\n      <td>0</td>\n      <td>3</td>\n      <td>0</td>\n      <td>0</td>\n      <td>0</td>\n      <td>Avg hrs per day - Participating in sports, exe...</td>\n      <td>0</td>\n      <td>600027</td>\n      <td>...</td>\n      <td>Participating in sports, exercise, and recreat...</td>\n      <td>15 years and over</td>\n      <td>All persons</td>\n      <td>All education levels</td>\n      <td>NaN</td>\n      <td>NaN</td>\n      <td>All days</td>\n      <td>Black or African American</td>\n      <td>Both sexes</td>\n      <td>Average hours per day</td>\n    </tr>\n    <tr>\n      <th>7846</th>\n      <td>7846</td>\n      <td>TUU10101AA01015041</td>\n      <td>0</td>\n      <td>3</td>\n      <td>0</td>\n      <td>0</td>\n      <td>0</td>\n      <td>Avg hrs per day - Organizational, civic, and r...</td>\n      <td>0</td>\n      <td>600030</td>\n      <td>...</td>\n      <td>Organizational, civic, and religious activities</td>\n      <td>15 years and over</td>\n      <td>All persons</td>\n      <td>All education levels</td>\n      <td>NaN</td>\n      <td>NaN</td>\n      <td>All days</td>\n      <td>Black or African American</td>\n      <td>Both sexes</td>\n      <td>Average hours per day</td>\n    </tr>\n    <tr>\n      <th>8111</th>\n      <td>8111</td>\n      <td>TUU10101AA01015617</td>\n      <td>0</td>\n      <td>3</td>\n      <td>0</td>\n      <td>0</td>\n      <td>0</td>\n      <td>Avg hrs per day - Telephone calls, mail, and e...</td>\n      <td>0</td>\n      <td>600033</td>\n      <td>...</td>\n      <td>Telephone calls, mail, and e-mail (includes tr...</td>\n      <td>15 years and over</td>\n      <td>All persons</td>\n      <td>All education levels</td>\n      <td>NaN</td>\n      <td>NaN</td>\n      <td>All days</td>\n      <td>Black or African American</td>\n      <td>Both sexes</td>\n      <td>Average hours per day</td>\n    </tr>\n    <tr>\n      <th>8274</th>\n      <td>8274</td>\n      <td>TUU10101AA01015956</td>\n      <td>0</td>\n      <td>3</td>\n      <td>0</td>\n      <td>0</td>\n      <td>0</td>\n      <td>Avg hrs per day - Other activities, not elsewh...</td>\n      <td>0</td>\n      <td>600034</td>\n      <td>...</td>\n      <td>Other activities, not elsewhere classified (in...</td>\n      <td>15 years and over</td>\n      <td>All persons</td>\n      <td>All education levels</td>\n      <td>NaN</td>\n      <td>NaN</td>\n      <td>All days</td>\n      <td>Black or African American</td>\n      <td>Both sexes</td>\n      <td>Average hours per day</td>\n    </tr>\n    <tr>\n      <th>8423</th>\n      <td>8423</td>\n      <td>TUU10101AA01016313</td>\n      <td>0</td>\n      <td>3</td>\n      <td>0</td>\n      <td>0</td>\n      <td>0</td>\n      <td>Avg hrs per day - Playing games and computer u...</td>\n      <td>0</td>\n      <td>600058</td>\n      <td>...</td>\n      <td>Playing games and computer use for leisure</td>\n      <td>15 years and over</td>\n      <td>All persons</td>\n      <td>All education levels</td>\n      <td>NaN</td>\n      <td>NaN</td>\n      <td>All days</td>\n      <td>Black or African American</td>\n      <td>Both sexes</td>\n      <td>Average hours per day</td>\n    </tr>\n    <tr>\n      <th>8447</th>\n      <td>8447</td>\n      <td>TUU10101AA01016391</td>\n      <td>0</td>\n      <td>3</td>\n      <td>0</td>\n      <td>0</td>\n      <td>0</td>\n      <td>Avg hrs per day - Other leisure and sports act...</td>\n      <td>0</td>\n      <td>600059</td>\n      <td>...</td>\n      <td>Other leisure and sports activities, including...</td>\n      <td>15 years and over</td>\n      <td>All persons</td>\n      <td>All education levels</td>\n      <td>NaN</td>\n      <td>NaN</td>\n      <td>All days</td>\n      <td>Black or African American</td>\n      <td>Both sexes</td>\n      <td>Average hours per day</td>\n    </tr>\n    <tr>\n      <th>9304</th>\n      <td>9304</td>\n      <td>TUU10101AA01020915</td>\n      <td>0</td>\n      <td>3</td>\n      <td>0</td>\n      <td>0</td>\n      <td>16</td>\n      <td>Avg hrs per day - Relaxing and thinking, Weeke...</td>\n      <td>0</td>\n      <td>120301</td>\n      <td>...</td>\n      <td>Relaxing and thinking</td>\n      <td>15 years and over</td>\n      <td>All persons</td>\n      <td>All education levels</td>\n      <td>NaN</td>\n      <td>NaN</td>\n      <td>Weekend days and holidays</td>\n      <td>Black or African American</td>\n      <td>Both sexes</td>\n      <td>Average hours per day</td>\n    </tr>\n    <tr>\n      <th>9305</th>\n      <td>9305</td>\n      <td>TUU10101AA01020916</td>\n      <td>0</td>\n      <td>3</td>\n      <td>0</td>\n      <td>0</td>\n      <td>19</td>\n      <td>Avg hrs per day - Relaxing and thinking, Nonho...</td>\n      <td>0</td>\n      <td>120301</td>\n      <td>...</td>\n      <td>Relaxing and thinking</td>\n      <td>15 years and over</td>\n      <td>All persons</td>\n      <td>All education levels</td>\n      <td>NaN</td>\n      <td>NaN</td>\n      <td>Nonholiday weekdays</td>\n      <td>Black or African American</td>\n      <td>Both sexes</td>\n      <td>Average hours per day</td>\n    </tr>\n    <tr>\n      <th>9451</th>\n      <td>9451</td>\n      <td>TUU10101AA01021653</td>\n      <td>0</td>\n      <td>3</td>\n      <td>0</td>\n      <td>0</td>\n      <td>16</td>\n      <td>Avg hrs per day - Reading for personal interes...</td>\n      <td>0</td>\n      <td>120312</td>\n      <td>...</td>\n      <td>Reading for personal interest</td>\n      <td>15 years and over</td>\n      <td>All persons</td>\n      <td>All education levels</td>\n      <td>NaN</td>\n      <td>NaN</td>\n      <td>Weekend days and holidays</td>\n      <td>Black or African American</td>\n      <td>Both sexes</td>\n      <td>Average hours per day</td>\n    </tr>\n    <tr>\n      <th>9452</th>\n      <td>9452</td>\n      <td>TUU10101AA01021654</td>\n      <td>0</td>\n      <td>3</td>\n      <td>0</td>\n      <td>0</td>\n      <td>19</td>\n      <td>Avg hrs per day - Reading for personal interes...</td>\n      <td>0</td>\n      <td>120312</td>\n      <td>...</td>\n      <td>Reading for personal interest</td>\n      <td>15 years and over</td>\n      <td>All persons</td>\n      <td>All education levels</td>\n      <td>NaN</td>\n      <td>NaN</td>\n      <td>Nonholiday weekdays</td>\n      <td>Black or African American</td>\n      <td>Both sexes</td>\n      <td>Average hours per day</td>\n    </tr>\n    <tr>\n      <th>10094</th>\n      <td>10094</td>\n      <td>TUU10101AA01026588</td>\n      <td>0</td>\n      <td>3</td>\n      <td>0</td>\n      <td>0</td>\n      <td>16</td>\n      <td>Avg hrs per day - Leisure and sports (includes...</td>\n      <td>0</td>\n      <td>600023</td>\n      <td>...</td>\n      <td>Leisure and sports (includes travel)</td>\n      <td>15 years and over</td>\n      <td>All persons</td>\n      <td>All education levels</td>\n      <td>NaN</td>\n      <td>NaN</td>\n      <td>Weekend days and holidays</td>\n      <td>Black or African American</td>\n      <td>Both sexes</td>\n      <td>Average hours per day</td>\n    </tr>\n    <tr>\n      <th>10095</th>\n      <td>10095</td>\n      <td>TUU10101AA01026589</td>\n      <td>0</td>\n      <td>3</td>\n      <td>0</td>\n      <td>0</td>\n      <td>19</td>\n      <td>Avg hrs per day - Leisure and sports (includes...</td>\n      <td>0</td>\n      <td>600023</td>\n      <td>...</td>\n      <td>Leisure and sports (includes travel)</td>\n      <td>15 years and over</td>\n      <td>All persons</td>\n      <td>All education levels</td>\n      <td>NaN</td>\n      <td>NaN</td>\n      <td>Nonholiday weekdays</td>\n      <td>Black or African American</td>\n      <td>Both sexes</td>\n      <td>Average hours per day</td>\n    </tr>\n    <tr>\n      <th>10172</th>\n      <td>10172</td>\n      <td>TUU10101AA01026843</td>\n      <td>0</td>\n      <td>3</td>\n      <td>0</td>\n      <td>0</td>\n      <td>16</td>\n      <td>Avg hrs per day - Socializing and communicatin...</td>\n      <td>0</td>\n      <td>600024</td>\n      <td>...</td>\n      <td>Socializing and communicating</td>\n      <td>15 years and over</td>\n      <td>All persons</td>\n      <td>All education levels</td>\n      <td>NaN</td>\n      <td>NaN</td>\n      <td>Weekend days and holidays</td>\n      <td>Black or African American</td>\n      <td>Both sexes</td>\n      <td>Average hours per day</td>\n    </tr>\n    <tr>\n      <th>10173</th>\n      <td>10173</td>\n      <td>TUU10101AA01026844</td>\n      <td>0</td>\n      <td>3</td>\n      <td>0</td>\n      <td>0</td>\n      <td>19</td>\n      <td>Avg hrs per day - Socializing and communicatin...</td>\n      <td>0</td>\n      <td>600024</td>\n      <td>...</td>\n      <td>Socializing and communicating</td>\n      <td>15 years and over</td>\n      <td>All persons</td>\n      <td>All education levels</td>\n      <td>NaN</td>\n      <td>NaN</td>\n      <td>Nonholiday weekdays</td>\n      <td>Black or African American</td>\n      <td>Both sexes</td>\n      <td>Average hours per day</td>\n    </tr>\n    <tr>\n      <th>10280</th>\n      <td>10280</td>\n      <td>TUU10101AA01027128</td>\n      <td>0</td>\n      <td>3</td>\n      <td>0</td>\n      <td>0</td>\n      <td>16</td>\n      <td>Avg hrs per day - Watching TV, Weekend days an...</td>\n      <td>0</td>\n      <td>600025</td>\n      <td>...</td>\n      <td>Watching TV</td>\n      <td>15 years and over</td>\n      <td>All persons</td>\n      <td>All education levels</td>\n      <td>NaN</td>\n      <td>NaN</td>\n      <td>Weekend days and holidays</td>\n      <td>Black or African American</td>\n      <td>Both sexes</td>\n      <td>Average hours per day</td>\n    </tr>\n    <tr>\n      <th>10281</th>\n      <td>10281</td>\n      <td>TUU10101AA01027129</td>\n      <td>0</td>\n      <td>3</td>\n      <td>0</td>\n      <td>0</td>\n      <td>19</td>\n      <td>Avg hrs per day - Watching TV, Nonholiday week...</td>\n      <td>0</td>\n      <td>600025</td>\n      <td>...</td>\n      <td>Watching TV</td>\n      <td>15 years and over</td>\n      <td>All persons</td>\n      <td>All education levels</td>\n      <td>NaN</td>\n      <td>NaN</td>\n      <td>Nonholiday weekdays</td>\n      <td>Black or African American</td>\n      <td>Both sexes</td>\n      <td>Average hours per day</td>\n    </tr>\n    <tr>\n      <th>10390</th>\n      <td>10390</td>\n      <td>TUU10101AA01027415</td>\n      <td>0</td>\n      <td>3</td>\n      <td>0</td>\n      <td>0</td>\n      <td>16</td>\n      <td>Avg hrs per day - Participating in sports, exe...</td>\n      <td>0</td>\n      <td>600027</td>\n      <td>...</td>\n      <td>Participating in sports, exercise, and recreat...</td>\n      <td>15 years and over</td>\n      <td>All persons</td>\n      <td>All education levels</td>\n      <td>NaN</td>\n      <td>NaN</td>\n      <td>Weekend days and holidays</td>\n      <td>Black or African American</td>\n      <td>Both sexes</td>\n      <td>Average hours per day</td>\n    </tr>\n    <tr>\n      <th>10391</th>\n      <td>10391</td>\n      <td>TUU10101AA01027416</td>\n      <td>0</td>\n      <td>3</td>\n      <td>0</td>\n      <td>0</td>\n      <td>19</td>\n      <td>Avg hrs per day - Participating in sports, exe...</td>\n      <td>0</td>\n      <td>600027</td>\n      <td>...</td>\n      <td>Participating in sports, exercise, and recreat...</td>\n      <td>15 years and over</td>\n      <td>All persons</td>\n      <td>All education levels</td>\n      <td>NaN</td>\n      <td>NaN</td>\n      <td>Nonholiday weekdays</td>\n      <td>Black or African American</td>\n      <td>Both sexes</td>\n      <td>Average hours per day</td>\n    </tr>\n    <tr>\n      <th>10636</th>\n      <td>10636</td>\n      <td>TUU10101AA01028728</td>\n      <td>0</td>\n      <td>3</td>\n      <td>0</td>\n      <td>0</td>\n      <td>16</td>\n      <td>Avg hrs per day - Playing games and computer u...</td>\n      <td>0</td>\n      <td>600058</td>\n      <td>...</td>\n      <td>Playing games and computer use for leisure</td>\n      <td>15 years and over</td>\n      <td>All persons</td>\n      <td>All education levels</td>\n      <td>NaN</td>\n      <td>NaN</td>\n      <td>Weekend days and holidays</td>\n      <td>Black or African American</td>\n      <td>Both sexes</td>\n      <td>Average hours per day</td>\n    </tr>\n    <tr>\n      <th>10637</th>\n      <td>10637</td>\n      <td>TUU10101AA01028729</td>\n      <td>0</td>\n      <td>3</td>\n      <td>0</td>\n      <td>0</td>\n      <td>19</td>\n      <td>Avg hrs per day - Playing games and computer u...</td>\n      <td>0</td>\n      <td>600058</td>\n      <td>...</td>\n      <td>Playing games and computer use for leisure</td>\n      <td>15 years and over</td>\n      <td>All persons</td>\n      <td>All education levels</td>\n      <td>NaN</td>\n      <td>NaN</td>\n      <td>Nonholiday weekdays</td>\n      <td>Black or African American</td>\n      <td>Both sexes</td>\n      <td>Average hours per day</td>\n    </tr>\n    <tr>\n      <th>10712</th>\n      <td>10712</td>\n      <td>TUU10101AA01028814</td>\n      <td>0</td>\n      <td>3</td>\n      <td>0</td>\n      <td>0</td>\n      <td>16</td>\n      <td>Avg hrs per day - Other leisure and sports act...</td>\n      <td>0</td>\n      <td>600059</td>\n      <td>...</td>\n      <td>Other leisure and sports activities, including...</td>\n      <td>15 years and over</td>\n      <td>All persons</td>\n      <td>All education levels</td>\n      <td>NaN</td>\n      <td>NaN</td>\n      <td>Weekend days and holidays</td>\n      <td>Black or African American</td>\n      <td>Both sexes</td>\n      <td>Average hours per day</td>\n    </tr>\n    <tr>\n      <th>10713</th>\n      <td>10713</td>\n      <td>TUU10101AA01028815</td>\n      <td>0</td>\n      <td>3</td>\n      <td>0</td>\n      <td>0</td>\n      <td>19</td>\n      <td>Avg hrs per day - Other leisure and sports act...</td>\n      <td>0</td>\n      <td>600059</td>\n      <td>...</td>\n      <td>Other leisure and sports activities, including...</td>\n      <td>15 years and over</td>\n      <td>All persons</td>\n      <td>All education levels</td>\n      <td>NaN</td>\n      <td>NaN</td>\n      <td>Nonholiday weekdays</td>\n      <td>Black or African American</td>\n      <td>Both sexes</td>\n      <td>Average hours per day</td>\n    </tr>\n  </tbody>\n</table>\n<p>35 rows × 23 columns</p>\n</div>",
          "text/plain": "       Unnamed: 0  series_id                       sex_code  race_code  \\\n3477         3477  TUU10101AA01005684                     0          3   \n3702         3702  TUU10101AA01006341                     0          3   \n5381         5381  TUU10101AA01008860                     0          3   \n5544         5544  TUU10101AA01009412                     0          3   \n5809         5809  TUU10101AA01010405                     0          3   \n6176         6176  TUU10101AA01011205                     0          3   \n6543         6543  TUU10101AA01012018                     0          3   \n6706         6706  TUU10101AA01012366                     0          3   \n6869         6869  TUU10101AA01012683                     0          3   \n7134         7134  TUU10101AA01013268                     0          3   \n7302         7302  TUU10101AA01013622                     0          3   \n7471         7471  TUU10101AA01013988                     0          3   \n7591         7591  TUU10101AA01014273                     0          3   \n7700         7700  TUU10101AA01014547                     0          3   \n7846         7846  TUU10101AA01015041                     0          3   \n8111         8111  TUU10101AA01015617                     0          3   \n8274         8274  TUU10101AA01015956                     0          3   \n8423         8423  TUU10101AA01016313                     0          3   \n8447         8447  TUU10101AA01016391                     0          3   \n9304         9304  TUU10101AA01020915                     0          3   \n9305         9305  TUU10101AA01020916                     0          3   \n9451         9451  TUU10101AA01021653                     0          3   \n9452         9452  TUU10101AA01021654                     0          3   \n10094       10094  TUU10101AA01026588                     0          3   \n10095       10095  TUU10101AA01026589                     0          3   \n10172       10172  TUU10101AA01026843                     0          3   \n10173       10173  TUU10101AA01026844                     0          3   \n10280       10280  TUU10101AA01027128                     0          3   \n10281       10281  TUU10101AA01027129                     0          3   \n10390       10390  TUU10101AA01027415                     0          3   \n10391       10391  TUU10101AA01027416                     0          3   \n10636       10636  TUU10101AA01028728                     0          3   \n10637       10637  TUU10101AA01028729                     0          3   \n10712       10712  TUU10101AA01028814                     0          3   \n10713       10713  TUU10101AA01028815                     0          3   \n\n       educ_code  age_code  pertype_code  \\\n3477           0         0             0   \n3702           0         0             0   \n5381           0         0             0   \n5544           0         0             0   \n5809           0         0             0   \n6176           0         0             0   \n6543           0         0             0   \n6706           0         0             0   \n6869           0         0             0   \n7134           0         0             0   \n7302           0         0             0   \n7471           0         0             0   \n7591           0         0             0   \n7700           0         0             0   \n7846           0         0             0   \n8111           0         0             0   \n8274           0         0             0   \n8423           0         0             0   \n8447           0         0             0   \n9304           0         0            16   \n9305           0         0            19   \n9451           0         0            16   \n9452           0         0            19   \n10094          0         0            16   \n10095          0         0            19   \n10172          0         0            16   \n10173          0         0            19   \n10280          0         0            16   \n10281          0         0            19   \n10390          0         0            16   \n10391          0         0            19   \n10636          0         0            16   \n10637          0         0            19   \n10712          0         0            16   \n10713          0         0            19   \n\n                                            series_title  earn_code  \\\n3477   Avg hrs per day - Relaxing and thinking, Black...          0   \n3702   Avg hrs per day - Reading for personal interes...          0   \n5381   Avg hrs per day - Personal care activities (in...          0   \n5544   Avg hrs per day - Household activities (includ...          0   \n5809   Avg hrs per day - Caring for and helping house...          0   \n6176   Avg hrs per day - Caring for and helping nonho...          0   \n6543   Avg hrs per day - Working and work-related act...          0   \n6706   Avg hrs per day - Educational activities (incl...          0   \n6869   Avg hrs per day - Purchasing goods and service...          0   \n7134   Avg hrs per day - Eating and drinking (include...          0   \n7302   Avg hrs per day - Leisure and sports (includes...          0   \n7471   Avg hrs per day - Socializing and communicatin...          0   \n7591   Avg hrs per day - Watching TV, Black or Africa...          0   \n7700   Avg hrs per day - Participating in sports, exe...          0   \n7846   Avg hrs per day - Organizational, civic, and r...          0   \n8111   Avg hrs per day - Telephone calls, mail, and e...          0   \n8274   Avg hrs per day - Other activities, not elsewh...          0   \n8423   Avg hrs per day - Playing games and computer u...          0   \n8447   Avg hrs per day - Other leisure and sports act...          0   \n9304   Avg hrs per day - Relaxing and thinking, Weeke...          0   \n9305   Avg hrs per day - Relaxing and thinking, Nonho...          0   \n9451   Avg hrs per day - Reading for personal interes...          0   \n9452   Avg hrs per day - Reading for personal interes...          0   \n10094  Avg hrs per day - Leisure and sports (includes...          0   \n10095  Avg hrs per day - Leisure and sports (includes...          0   \n10172  Avg hrs per day - Socializing and communicatin...          0   \n10173  Avg hrs per day - Socializing and communicatin...          0   \n10280  Avg hrs per day - Watching TV, Weekend days an...          0   \n10281  Avg hrs per day - Watching TV, Nonholiday week...          0   \n10390  Avg hrs per day - Participating in sports, exe...          0   \n10391  Avg hrs per day - Participating in sports, exe...          0   \n10636  Avg hrs per day - Playing games and computer u...          0   \n10637  Avg hrs per day - Playing games and computer u...          0   \n10712  Avg hrs per day - Other leisure and sports act...          0   \n10713  Avg hrs per day - Other leisure and sports act...          0   \n\n       actcode_code  ...                                       actcode_text  \\\n3477         120301  ...                              Relaxing and thinking   \n3702         120312  ...                      Reading for personal interest   \n5381         600001  ...         Personal care activities (includes travel)   \n5544         600003  ...             Household activities (includes travel)   \n5809         600007  ...  Caring for and helping household members (incl...   \n6176         600010  ...  Caring for and helping nonhousehold members (i...   \n6543         600013  ...  Working and work-related activities (includes ...   \n6706         600016  ...           Educational activities (includes travel)   \n6869         600018  ...    Purchasing goods and services (includes travel)   \n7134         600022  ...              Eating and drinking (includes travel)   \n7302         600023  ...               Leisure and sports (includes travel)   \n7471         600024  ...                      Socializing and communicating   \n7591         600025  ...                                        Watching TV   \n7700         600027  ...  Participating in sports, exercise, and recreat...   \n7846         600030  ...    Organizational, civic, and religious activities   \n8111         600033  ...  Telephone calls, mail, and e-mail (includes tr...   \n8274         600034  ...  Other activities, not elsewhere classified (in...   \n8423         600058  ...         Playing games and computer use for leisure   \n8447         600059  ...  Other leisure and sports activities, including...   \n9304         120301  ...                              Relaxing and thinking   \n9305         120301  ...                              Relaxing and thinking   \n9451         120312  ...                      Reading for personal interest   \n9452         120312  ...                      Reading for personal interest   \n10094        600023  ...               Leisure and sports (includes travel)   \n10095        600023  ...               Leisure and sports (includes travel)   \n10172        600024  ...                      Socializing and communicating   \n10173        600024  ...                      Socializing and communicating   \n10280        600025  ...                                        Watching TV   \n10281        600025  ...                                        Watching TV   \n10390        600027  ...  Participating in sports, exercise, and recreat...   \n10391        600027  ...  Participating in sports, exercise, and recreat...   \n10636        600058  ...         Playing games and computer use for leisure   \n10637        600058  ...         Playing games and computer use for leisure   \n10712        600059  ...  Other leisure and sports activities, including...   \n10713        600059  ...  Other leisure and sports activities, including...   \n\n                age_text    earn_text             educ_text lfstat_text  \\\n3477   15 years and over  All persons  All education levels         NaN   \n3702   15 years and over  All persons  All education levels         NaN   \n5381   15 years and over  All persons  All education levels         NaN   \n5544   15 years and over  All persons  All education levels         NaN   \n5809   15 years and over  All persons  All education levels         NaN   \n6176   15 years and over  All persons  All education levels         NaN   \n6543   15 years and over  All persons  All education levels         NaN   \n6706   15 years and over  All persons  All education levels         NaN   \n6869   15 years and over  All persons  All education levels         NaN   \n7134   15 years and over  All persons  All education levels         NaN   \n7302   15 years and over  All persons  All education levels         NaN   \n7471   15 years and over  All persons  All education levels         NaN   \n7591   15 years and over  All persons  All education levels         NaN   \n7700   15 years and over  All persons  All education levels         NaN   \n7846   15 years and over  All persons  All education levels         NaN   \n8111   15 years and over  All persons  All education levels         NaN   \n8274   15 years and over  All persons  All education levels         NaN   \n8423   15 years and over  All persons  All education levels         NaN   \n8447   15 years and over  All persons  All education levels         NaN   \n9304   15 years and over  All persons  All education levels         NaN   \n9305   15 years and over  All persons  All education levels         NaN   \n9451   15 years and over  All persons  All education levels         NaN   \n9452   15 years and over  All persons  All education levels         NaN   \n10094  15 years and over  All persons  All education levels         NaN   \n10095  15 years and over  All persons  All education levels         NaN   \n10172  15 years and over  All persons  All education levels         NaN   \n10173  15 years and over  All persons  All education levels         NaN   \n10280  15 years and over  All persons  All education levels         NaN   \n10281  15 years and over  All persons  All education levels         NaN   \n10390  15 years and over  All persons  All education levels         NaN   \n10391  15 years and over  All persons  All education levels         NaN   \n10636  15 years and over  All persons  All education levels         NaN   \n10637  15 years and over  All persons  All education levels         NaN   \n10712  15 years and over  All persons  All education levels         NaN   \n10713  15 years and over  All persons  All education levels         NaN   \n\n      orig_text               pertype_text                  race_text  \\\n3477        NaN                   All days  Black or African American   \n3702        NaN                   All days  Black or African American   \n5381        NaN                   All days  Black or African American   \n5544        NaN                   All days  Black or African American   \n5809        NaN                   All days  Black or African American   \n6176        NaN                   All days  Black or African American   \n6543        NaN                   All days  Black or African American   \n6706        NaN                   All days  Black or African American   \n6869        NaN                   All days  Black or African American   \n7134        NaN                   All days  Black or African American   \n7302        NaN                   All days  Black or African American   \n7471        NaN                   All days  Black or African American   \n7591        NaN                   All days  Black or African American   \n7700        NaN                   All days  Black or African American   \n7846        NaN                   All days  Black or African American   \n8111        NaN                   All days  Black or African American   \n8274        NaN                   All days  Black or African American   \n8423        NaN                   All days  Black or African American   \n8447        NaN                   All days  Black or African American   \n9304        NaN  Weekend days and holidays  Black or African American   \n9305        NaN        Nonholiday weekdays  Black or African American   \n9451        NaN  Weekend days and holidays  Black or African American   \n9452        NaN        Nonholiday weekdays  Black or African American   \n10094       NaN  Weekend days and holidays  Black or African American   \n10095       NaN        Nonholiday weekdays  Black or African American   \n10172       NaN  Weekend days and holidays  Black or African American   \n10173       NaN        Nonholiday weekdays  Black or African American   \n10280       NaN  Weekend days and holidays  Black or African American   \n10281       NaN        Nonholiday weekdays  Black or African American   \n10390       NaN  Weekend days and holidays  Black or African American   \n10391       NaN        Nonholiday weekdays  Black or African American   \n10636       NaN  Weekend days and holidays  Black or African American   \n10637       NaN        Nonholiday weekdays  Black or African American   \n10712       NaN  Weekend days and holidays  Black or African American   \n10713       NaN        Nonholiday weekdays  Black or African American   \n\n         sex_text          stattype_text  \n3477   Both sexes  Average hours per day  \n3702   Both sexes  Average hours per day  \n5381   Both sexes  Average hours per day  \n5544   Both sexes  Average hours per day  \n5809   Both sexes  Average hours per day  \n6176   Both sexes  Average hours per day  \n6543   Both sexes  Average hours per day  \n6706   Both sexes  Average hours per day  \n6869   Both sexes  Average hours per day  \n7134   Both sexes  Average hours per day  \n7302   Both sexes  Average hours per day  \n7471   Both sexes  Average hours per day  \n7591   Both sexes  Average hours per day  \n7700   Both sexes  Average hours per day  \n7846   Both sexes  Average hours per day  \n8111   Both sexes  Average hours per day  \n8274   Both sexes  Average hours per day  \n8423   Both sexes  Average hours per day  \n8447   Both sexes  Average hours per day  \n9304   Both sexes  Average hours per day  \n9305   Both sexes  Average hours per day  \n9451   Both sexes  Average hours per day  \n9452   Both sexes  Average hours per day  \n10094  Both sexes  Average hours per day  \n10095  Both sexes  Average hours per day  \n10172  Both sexes  Average hours per day  \n10173  Both sexes  Average hours per day  \n10280  Both sexes  Average hours per day  \n10281  Both sexes  Average hours per day  \n10390  Both sexes  Average hours per day  \n10391  Both sexes  Average hours per day  \n10636  Both sexes  Average hours per day  \n10637  Both sexes  Average hours per day  \n10712  Both sexes  Average hours per day  \n10713  Both sexes  Average hours per day  \n\n[35 rows x 23 columns]"
         },
         "metadata": {},
         "output_type": "display_data"
        }
       ]
      }
     },
     "de221fb6c8ef442b899416abc3240510": {
      "model_module": "@jupyter-widgets/base",
      "model_module_version": "1.2.0",
      "model_name": "LayoutModel",
      "state": {}
     },
     "de41b1e210f14a549c2b4a5ef602ddcb": {
      "model_module": "@jupyter-widgets/output",
      "model_module_version": "1.0.0",
      "model_name": "OutputModel",
      "state": {
       "layout": "IPY_MODEL_1dd6c78ccaf84edaa6469b1c947a7808"
      }
     },
     "df02eb35d8af4f03b8c6cdc5827a27f6": {
      "model_module": "@jupyter-widgets/base",
      "model_module_version": "1.2.0",
      "model_name": "LayoutModel",
      "state": {}
     },
     "dfa151ba02c848429da412a690c5451a": {
      "model_module": "@jupyter-widgets/base",
      "model_module_version": "1.2.0",
      "model_name": "LayoutModel",
      "state": {}
     },
     "e0543790ae3f4a23bce6043820a18288": {
      "model_module": "@jupyter-widgets/controls",
      "model_module_version": "1.5.0",
      "model_name": "DropdownModel",
      "state": {
       "_options_labels": [
        "Both sexes",
        "Men",
        "Women"
       ],
       "description": "Gender:",
       "index": 0,
       "layout": "IPY_MODEL_3f98fa6360d0498a8c45349193eaf83b",
       "style": "IPY_MODEL_063cf112564741f98e3387fffee35ff1"
      }
     },
     "e08200cba00d4e2c9425f9de6915128f": {
      "model_module": "@jupyter-widgets/controls",
      "model_module_version": "1.5.0",
      "model_name": "DescriptionStyleModel",
      "state": {
       "description_width": ""
      }
     },
     "e082ee1a51ba4e82bc6d3669735d3163": {
      "model_module": "@jupyter-widgets/controls",
      "model_module_version": "1.5.0",
      "model_name": "DescriptionStyleModel",
      "state": {
       "description_width": ""
      }
     },
     "e182143f7b734412a5ac9259e9b7c993": {
      "model_module": "@jupyter-widgets/base",
      "model_module_version": "1.2.0",
      "model_name": "LayoutModel",
      "state": {}
     },
     "e1ca58ac60a64f1692a45ea382ce9669": {
      "model_module": "@jupyter-widgets/controls",
      "model_module_version": "1.5.0",
      "model_name": "DropdownModel",
      "state": {
       "_options_labels": [
        "ALL",
        "All races",
        "Asian",
        "Black or African American",
        "White"
       ],
       "description": "Ethnicity:",
       "index": 2,
       "layout": "IPY_MODEL_0993ca1ae0ec4c0a911e5a77a79ae560",
       "style": "IPY_MODEL_d58ff6718c944ab5acce3fcbd1b18c9d"
      }
     },
     "e1f9d2c61cff4495888e2ad0dc0c30fc": {
      "model_module": "@jupyter-widgets/controls",
      "model_module_version": "1.5.0",
      "model_name": "DescriptionStyleModel",
      "state": {
       "description_width": ""
      }
     },
     "e3e50502eb944cc196f4a9e49f3066e9": {
      "model_module": "@jupyter-widgets/base",
      "model_module_version": "1.2.0",
      "model_name": "LayoutModel",
      "state": {}
     },
     "e47c30dcd0fa43c3b8d0291d42169fcb": {
      "model_module": "@jupyter-widgets/base",
      "model_module_version": "1.2.0",
      "model_name": "LayoutModel",
      "state": {}
     },
     "e510f016ef3c48039f3f9b79a4ec8f66": {
      "model_module": "@jupyter-widgets/controls",
      "model_module_version": "1.5.0",
      "model_name": "DropdownModel",
      "state": {
       "_options_labels": [
        "ALL",
        "Average hours per day",
        "Average hours per day for participants in an activity",
        "Number of participants in an activity on an average day (in thousands)",
        "Number of persons (in thousands)",
        "Percent of population engaged in activity on an average day"
       ],
       "description": "Stat Type:",
       "index": 1,
       "layout": "IPY_MODEL_b623aae4f3c94d2b8f0d2f6c4335b446",
       "style": "IPY_MODEL_3ba76e7c3b6f4e15afa80bbecc8399f2"
      }
     },
     "e54b3e4a081b40998afbdc3d8aa22096": {
      "model_module": "@jupyter-widgets/base",
      "model_module_version": "1.2.0",
      "model_name": "LayoutModel",
      "state": {}
     },
     "e586e2f62588490eb3103b4712014666": {
      "model_module": "@jupyter-widgets/output",
      "model_module_version": "1.0.0",
      "model_name": "OutputModel",
      "state": {
       "layout": "IPY_MODEL_e953aede888a441d9b6d628ce23fa51f",
       "outputs": [
        {
         "data": {
          "text/html": "<div>\n<style scoped>\n    .dataframe tbody tr th:only-of-type {\n        vertical-align: middle;\n    }\n\n    .dataframe tbody tr th {\n        vertical-align: top;\n    }\n\n    .dataframe thead th {\n        text-align: right;\n    }\n</style>\n<table border=\"1\" class=\"dataframe\">\n  <thead>\n    <tr style=\"text-align: right;\">\n      <th></th>\n      <th>Unnamed: 0</th>\n      <th>series_id</th>\n      <th>sex_code</th>\n      <th>race_code</th>\n      <th>educ_code</th>\n      <th>age_code</th>\n      <th>pertype_code</th>\n      <th>series_title</th>\n      <th>earn_code</th>\n      <th>actcode_code</th>\n      <th>...</th>\n      <th>actcode_text</th>\n      <th>age_text</th>\n      <th>earn_text</th>\n      <th>educ_text</th>\n      <th>lfstat_text</th>\n      <th>orig_text</th>\n      <th>pertype_text</th>\n      <th>race_text</th>\n      <th>sex_text</th>\n      <th>stattype_text</th>\n    </tr>\n  </thead>\n  <tbody>\n    <tr>\n      <th>3477</th>\n      <td>3477</td>\n      <td>TUU10101AA01005684</td>\n      <td>0</td>\n      <td>3</td>\n      <td>0</td>\n      <td>0</td>\n      <td>0</td>\n      <td>Avg hrs per day - Relaxing and thinking, Black...</td>\n      <td>0</td>\n      <td>120301</td>\n      <td>...</td>\n      <td>Relaxing and thinking</td>\n      <td>15 years and over</td>\n      <td>All persons</td>\n      <td>All education levels</td>\n      <td>NaN</td>\n      <td>NaN</td>\n      <td>All days</td>\n      <td>Black or African American</td>\n      <td>Both sexes</td>\n      <td>Average hours per day</td>\n    </tr>\n    <tr>\n      <th>3702</th>\n      <td>3702</td>\n      <td>TUU10101AA01006341</td>\n      <td>0</td>\n      <td>3</td>\n      <td>0</td>\n      <td>0</td>\n      <td>0</td>\n      <td>Avg hrs per day - Reading for personal interes...</td>\n      <td>0</td>\n      <td>120312</td>\n      <td>...</td>\n      <td>Reading for personal interest</td>\n      <td>15 years and over</td>\n      <td>All persons</td>\n      <td>All education levels</td>\n      <td>NaN</td>\n      <td>NaN</td>\n      <td>All days</td>\n      <td>Black or African American</td>\n      <td>Both sexes</td>\n      <td>Average hours per day</td>\n    </tr>\n    <tr>\n      <th>5381</th>\n      <td>5381</td>\n      <td>TUU10101AA01008860</td>\n      <td>0</td>\n      <td>3</td>\n      <td>0</td>\n      <td>0</td>\n      <td>0</td>\n      <td>Avg hrs per day - Personal care activities (in...</td>\n      <td>0</td>\n      <td>600001</td>\n      <td>...</td>\n      <td>Personal care activities (includes travel)</td>\n      <td>15 years and over</td>\n      <td>All persons</td>\n      <td>All education levels</td>\n      <td>NaN</td>\n      <td>NaN</td>\n      <td>All days</td>\n      <td>Black or African American</td>\n      <td>Both sexes</td>\n      <td>Average hours per day</td>\n    </tr>\n    <tr>\n      <th>5544</th>\n      <td>5544</td>\n      <td>TUU10101AA01009412</td>\n      <td>0</td>\n      <td>3</td>\n      <td>0</td>\n      <td>0</td>\n      <td>0</td>\n      <td>Avg hrs per day - Household activities (includ...</td>\n      <td>0</td>\n      <td>600003</td>\n      <td>...</td>\n      <td>Household activities (includes travel)</td>\n      <td>15 years and over</td>\n      <td>All persons</td>\n      <td>All education levels</td>\n      <td>NaN</td>\n      <td>NaN</td>\n      <td>All days</td>\n      <td>Black or African American</td>\n      <td>Both sexes</td>\n      <td>Average hours per day</td>\n    </tr>\n    <tr>\n      <th>5809</th>\n      <td>5809</td>\n      <td>TUU10101AA01010405</td>\n      <td>0</td>\n      <td>3</td>\n      <td>0</td>\n      <td>0</td>\n      <td>0</td>\n      <td>Avg hrs per day - Caring for and helping house...</td>\n      <td>0</td>\n      <td>600007</td>\n      <td>...</td>\n      <td>Caring for and helping household members (incl...</td>\n      <td>15 years and over</td>\n      <td>All persons</td>\n      <td>All education levels</td>\n      <td>NaN</td>\n      <td>NaN</td>\n      <td>All days</td>\n      <td>Black or African American</td>\n      <td>Both sexes</td>\n      <td>Average hours per day</td>\n    </tr>\n    <tr>\n      <th>6176</th>\n      <td>6176</td>\n      <td>TUU10101AA01011205</td>\n      <td>0</td>\n      <td>3</td>\n      <td>0</td>\n      <td>0</td>\n      <td>0</td>\n      <td>Avg hrs per day - Caring for and helping nonho...</td>\n      <td>0</td>\n      <td>600010</td>\n      <td>...</td>\n      <td>Caring for and helping nonhousehold members (i...</td>\n      <td>15 years and over</td>\n      <td>All persons</td>\n      <td>All education levels</td>\n      <td>NaN</td>\n      <td>NaN</td>\n      <td>All days</td>\n      <td>Black or African American</td>\n      <td>Both sexes</td>\n      <td>Average hours per day</td>\n    </tr>\n    <tr>\n      <th>6543</th>\n      <td>6543</td>\n      <td>TUU10101AA01012018</td>\n      <td>0</td>\n      <td>3</td>\n      <td>0</td>\n      <td>0</td>\n      <td>0</td>\n      <td>Avg hrs per day - Working and work-related act...</td>\n      <td>0</td>\n      <td>600013</td>\n      <td>...</td>\n      <td>Working and work-related activities (includes ...</td>\n      <td>15 years and over</td>\n      <td>All persons</td>\n      <td>All education levels</td>\n      <td>NaN</td>\n      <td>NaN</td>\n      <td>All days</td>\n      <td>Black or African American</td>\n      <td>Both sexes</td>\n      <td>Average hours per day</td>\n    </tr>\n    <tr>\n      <th>6706</th>\n      <td>6706</td>\n      <td>TUU10101AA01012366</td>\n      <td>0</td>\n      <td>3</td>\n      <td>0</td>\n      <td>0</td>\n      <td>0</td>\n      <td>Avg hrs per day - Educational activities (incl...</td>\n      <td>0</td>\n      <td>600016</td>\n      <td>...</td>\n      <td>Educational activities (includes travel)</td>\n      <td>15 years and over</td>\n      <td>All persons</td>\n      <td>All education levels</td>\n      <td>NaN</td>\n      <td>NaN</td>\n      <td>All days</td>\n      <td>Black or African American</td>\n      <td>Both sexes</td>\n      <td>Average hours per day</td>\n    </tr>\n    <tr>\n      <th>6869</th>\n      <td>6869</td>\n      <td>TUU10101AA01012683</td>\n      <td>0</td>\n      <td>3</td>\n      <td>0</td>\n      <td>0</td>\n      <td>0</td>\n      <td>Avg hrs per day - Purchasing goods and service...</td>\n      <td>0</td>\n      <td>600018</td>\n      <td>...</td>\n      <td>Purchasing goods and services (includes travel)</td>\n      <td>15 years and over</td>\n      <td>All persons</td>\n      <td>All education levels</td>\n      <td>NaN</td>\n      <td>NaN</td>\n      <td>All days</td>\n      <td>Black or African American</td>\n      <td>Both sexes</td>\n      <td>Average hours per day</td>\n    </tr>\n    <tr>\n      <th>7134</th>\n      <td>7134</td>\n      <td>TUU10101AA01013268</td>\n      <td>0</td>\n      <td>3</td>\n      <td>0</td>\n      <td>0</td>\n      <td>0</td>\n      <td>Avg hrs per day - Eating and drinking (include...</td>\n      <td>0</td>\n      <td>600022</td>\n      <td>...</td>\n      <td>Eating and drinking (includes travel)</td>\n      <td>15 years and over</td>\n      <td>All persons</td>\n      <td>All education levels</td>\n      <td>NaN</td>\n      <td>NaN</td>\n      <td>All days</td>\n      <td>Black or African American</td>\n      <td>Both sexes</td>\n      <td>Average hours per day</td>\n    </tr>\n    <tr>\n      <th>7302</th>\n      <td>7302</td>\n      <td>TUU10101AA01013622</td>\n      <td>0</td>\n      <td>3</td>\n      <td>0</td>\n      <td>0</td>\n      <td>0</td>\n      <td>Avg hrs per day - Leisure and sports (includes...</td>\n      <td>0</td>\n      <td>600023</td>\n      <td>...</td>\n      <td>Leisure and sports (includes travel)</td>\n      <td>15 years and over</td>\n      <td>All persons</td>\n      <td>All education levels</td>\n      <td>NaN</td>\n      <td>NaN</td>\n      <td>All days</td>\n      <td>Black or African American</td>\n      <td>Both sexes</td>\n      <td>Average hours per day</td>\n    </tr>\n    <tr>\n      <th>7471</th>\n      <td>7471</td>\n      <td>TUU10101AA01013988</td>\n      <td>0</td>\n      <td>3</td>\n      <td>0</td>\n      <td>0</td>\n      <td>0</td>\n      <td>Avg hrs per day - Socializing and communicatin...</td>\n      <td>0</td>\n      <td>600024</td>\n      <td>...</td>\n      <td>Socializing and communicating</td>\n      <td>15 years and over</td>\n      <td>All persons</td>\n      <td>All education levels</td>\n      <td>NaN</td>\n      <td>NaN</td>\n      <td>All days</td>\n      <td>Black or African American</td>\n      <td>Both sexes</td>\n      <td>Average hours per day</td>\n    </tr>\n    <tr>\n      <th>7591</th>\n      <td>7591</td>\n      <td>TUU10101AA01014273</td>\n      <td>0</td>\n      <td>3</td>\n      <td>0</td>\n      <td>0</td>\n      <td>0</td>\n      <td>Avg hrs per day - Watching TV, Black or Africa...</td>\n      <td>0</td>\n      <td>600025</td>\n      <td>...</td>\n      <td>Watching TV</td>\n      <td>15 years and over</td>\n      <td>All persons</td>\n      <td>All education levels</td>\n      <td>NaN</td>\n      <td>NaN</td>\n      <td>All days</td>\n      <td>Black or African American</td>\n      <td>Both sexes</td>\n      <td>Average hours per day</td>\n    </tr>\n    <tr>\n      <th>7700</th>\n      <td>7700</td>\n      <td>TUU10101AA01014547</td>\n      <td>0</td>\n      <td>3</td>\n      <td>0</td>\n      <td>0</td>\n      <td>0</td>\n      <td>Avg hrs per day - Participating in sports, exe...</td>\n      <td>0</td>\n      <td>600027</td>\n      <td>...</td>\n      <td>Participating in sports, exercise, and recreat...</td>\n      <td>15 years and over</td>\n      <td>All persons</td>\n      <td>All education levels</td>\n      <td>NaN</td>\n      <td>NaN</td>\n      <td>All days</td>\n      <td>Black or African American</td>\n      <td>Both sexes</td>\n      <td>Average hours per day</td>\n    </tr>\n    <tr>\n      <th>7846</th>\n      <td>7846</td>\n      <td>TUU10101AA01015041</td>\n      <td>0</td>\n      <td>3</td>\n      <td>0</td>\n      <td>0</td>\n      <td>0</td>\n      <td>Avg hrs per day - Organizational, civic, and r...</td>\n      <td>0</td>\n      <td>600030</td>\n      <td>...</td>\n      <td>Organizational, civic, and religious activities</td>\n      <td>15 years and over</td>\n      <td>All persons</td>\n      <td>All education levels</td>\n      <td>NaN</td>\n      <td>NaN</td>\n      <td>All days</td>\n      <td>Black or African American</td>\n      <td>Both sexes</td>\n      <td>Average hours per day</td>\n    </tr>\n    <tr>\n      <th>8111</th>\n      <td>8111</td>\n      <td>TUU10101AA01015617</td>\n      <td>0</td>\n      <td>3</td>\n      <td>0</td>\n      <td>0</td>\n      <td>0</td>\n      <td>Avg hrs per day - Telephone calls, mail, and e...</td>\n      <td>0</td>\n      <td>600033</td>\n      <td>...</td>\n      <td>Telephone calls, mail, and e-mail (includes tr...</td>\n      <td>15 years and over</td>\n      <td>All persons</td>\n      <td>All education levels</td>\n      <td>NaN</td>\n      <td>NaN</td>\n      <td>All days</td>\n      <td>Black or African American</td>\n      <td>Both sexes</td>\n      <td>Average hours per day</td>\n    </tr>\n    <tr>\n      <th>8274</th>\n      <td>8274</td>\n      <td>TUU10101AA01015956</td>\n      <td>0</td>\n      <td>3</td>\n      <td>0</td>\n      <td>0</td>\n      <td>0</td>\n      <td>Avg hrs per day - Other activities, not elsewh...</td>\n      <td>0</td>\n      <td>600034</td>\n      <td>...</td>\n      <td>Other activities, not elsewhere classified (in...</td>\n      <td>15 years and over</td>\n      <td>All persons</td>\n      <td>All education levels</td>\n      <td>NaN</td>\n      <td>NaN</td>\n      <td>All days</td>\n      <td>Black or African American</td>\n      <td>Both sexes</td>\n      <td>Average hours per day</td>\n    </tr>\n    <tr>\n      <th>8423</th>\n      <td>8423</td>\n      <td>TUU10101AA01016313</td>\n      <td>0</td>\n      <td>3</td>\n      <td>0</td>\n      <td>0</td>\n      <td>0</td>\n      <td>Avg hrs per day - Playing games and computer u...</td>\n      <td>0</td>\n      <td>600058</td>\n      <td>...</td>\n      <td>Playing games and computer use for leisure</td>\n      <td>15 years and over</td>\n      <td>All persons</td>\n      <td>All education levels</td>\n      <td>NaN</td>\n      <td>NaN</td>\n      <td>All days</td>\n      <td>Black or African American</td>\n      <td>Both sexes</td>\n      <td>Average hours per day</td>\n    </tr>\n    <tr>\n      <th>8447</th>\n      <td>8447</td>\n      <td>TUU10101AA01016391</td>\n      <td>0</td>\n      <td>3</td>\n      <td>0</td>\n      <td>0</td>\n      <td>0</td>\n      <td>Avg hrs per day - Other leisure and sports act...</td>\n      <td>0</td>\n      <td>600059</td>\n      <td>...</td>\n      <td>Other leisure and sports activities, including...</td>\n      <td>15 years and over</td>\n      <td>All persons</td>\n      <td>All education levels</td>\n      <td>NaN</td>\n      <td>NaN</td>\n      <td>All days</td>\n      <td>Black or African American</td>\n      <td>Both sexes</td>\n      <td>Average hours per day</td>\n    </tr>\n    <tr>\n      <th>9304</th>\n      <td>9304</td>\n      <td>TUU10101AA01020915</td>\n      <td>0</td>\n      <td>3</td>\n      <td>0</td>\n      <td>0</td>\n      <td>16</td>\n      <td>Avg hrs per day - Relaxing and thinking, Weeke...</td>\n      <td>0</td>\n      <td>120301</td>\n      <td>...</td>\n      <td>Relaxing and thinking</td>\n      <td>15 years and over</td>\n      <td>All persons</td>\n      <td>All education levels</td>\n      <td>NaN</td>\n      <td>NaN</td>\n      <td>Weekend days and holidays</td>\n      <td>Black or African American</td>\n      <td>Both sexes</td>\n      <td>Average hours per day</td>\n    </tr>\n    <tr>\n      <th>9305</th>\n      <td>9305</td>\n      <td>TUU10101AA01020916</td>\n      <td>0</td>\n      <td>3</td>\n      <td>0</td>\n      <td>0</td>\n      <td>19</td>\n      <td>Avg hrs per day - Relaxing and thinking, Nonho...</td>\n      <td>0</td>\n      <td>120301</td>\n      <td>...</td>\n      <td>Relaxing and thinking</td>\n      <td>15 years and over</td>\n      <td>All persons</td>\n      <td>All education levels</td>\n      <td>NaN</td>\n      <td>NaN</td>\n      <td>Nonholiday weekdays</td>\n      <td>Black or African American</td>\n      <td>Both sexes</td>\n      <td>Average hours per day</td>\n    </tr>\n    <tr>\n      <th>9451</th>\n      <td>9451</td>\n      <td>TUU10101AA01021653</td>\n      <td>0</td>\n      <td>3</td>\n      <td>0</td>\n      <td>0</td>\n      <td>16</td>\n      <td>Avg hrs per day - Reading for personal interes...</td>\n      <td>0</td>\n      <td>120312</td>\n      <td>...</td>\n      <td>Reading for personal interest</td>\n      <td>15 years and over</td>\n      <td>All persons</td>\n      <td>All education levels</td>\n      <td>NaN</td>\n      <td>NaN</td>\n      <td>Weekend days and holidays</td>\n      <td>Black or African American</td>\n      <td>Both sexes</td>\n      <td>Average hours per day</td>\n    </tr>\n    <tr>\n      <th>9452</th>\n      <td>9452</td>\n      <td>TUU10101AA01021654</td>\n      <td>0</td>\n      <td>3</td>\n      <td>0</td>\n      <td>0</td>\n      <td>19</td>\n      <td>Avg hrs per day - Reading for personal interes...</td>\n      <td>0</td>\n      <td>120312</td>\n      <td>...</td>\n      <td>Reading for personal interest</td>\n      <td>15 years and over</td>\n      <td>All persons</td>\n      <td>All education levels</td>\n      <td>NaN</td>\n      <td>NaN</td>\n      <td>Nonholiday weekdays</td>\n      <td>Black or African American</td>\n      <td>Both sexes</td>\n      <td>Average hours per day</td>\n    </tr>\n    <tr>\n      <th>10094</th>\n      <td>10094</td>\n      <td>TUU10101AA01026588</td>\n      <td>0</td>\n      <td>3</td>\n      <td>0</td>\n      <td>0</td>\n      <td>16</td>\n      <td>Avg hrs per day - Leisure and sports (includes...</td>\n      <td>0</td>\n      <td>600023</td>\n      <td>...</td>\n      <td>Leisure and sports (includes travel)</td>\n      <td>15 years and over</td>\n      <td>All persons</td>\n      <td>All education levels</td>\n      <td>NaN</td>\n      <td>NaN</td>\n      <td>Weekend days and holidays</td>\n      <td>Black or African American</td>\n      <td>Both sexes</td>\n      <td>Average hours per day</td>\n    </tr>\n    <tr>\n      <th>10095</th>\n      <td>10095</td>\n      <td>TUU10101AA01026589</td>\n      <td>0</td>\n      <td>3</td>\n      <td>0</td>\n      <td>0</td>\n      <td>19</td>\n      <td>Avg hrs per day - Leisure and sports (includes...</td>\n      <td>0</td>\n      <td>600023</td>\n      <td>...</td>\n      <td>Leisure and sports (includes travel)</td>\n      <td>15 years and over</td>\n      <td>All persons</td>\n      <td>All education levels</td>\n      <td>NaN</td>\n      <td>NaN</td>\n      <td>Nonholiday weekdays</td>\n      <td>Black or African American</td>\n      <td>Both sexes</td>\n      <td>Average hours per day</td>\n    </tr>\n    <tr>\n      <th>10172</th>\n      <td>10172</td>\n      <td>TUU10101AA01026843</td>\n      <td>0</td>\n      <td>3</td>\n      <td>0</td>\n      <td>0</td>\n      <td>16</td>\n      <td>Avg hrs per day - Socializing and communicatin...</td>\n      <td>0</td>\n      <td>600024</td>\n      <td>...</td>\n      <td>Socializing and communicating</td>\n      <td>15 years and over</td>\n      <td>All persons</td>\n      <td>All education levels</td>\n      <td>NaN</td>\n      <td>NaN</td>\n      <td>Weekend days and holidays</td>\n      <td>Black or African American</td>\n      <td>Both sexes</td>\n      <td>Average hours per day</td>\n    </tr>\n    <tr>\n      <th>10173</th>\n      <td>10173</td>\n      <td>TUU10101AA01026844</td>\n      <td>0</td>\n      <td>3</td>\n      <td>0</td>\n      <td>0</td>\n      <td>19</td>\n      <td>Avg hrs per day - Socializing and communicatin...</td>\n      <td>0</td>\n      <td>600024</td>\n      <td>...</td>\n      <td>Socializing and communicating</td>\n      <td>15 years and over</td>\n      <td>All persons</td>\n      <td>All education levels</td>\n      <td>NaN</td>\n      <td>NaN</td>\n      <td>Nonholiday weekdays</td>\n      <td>Black or African American</td>\n      <td>Both sexes</td>\n      <td>Average hours per day</td>\n    </tr>\n    <tr>\n      <th>10280</th>\n      <td>10280</td>\n      <td>TUU10101AA01027128</td>\n      <td>0</td>\n      <td>3</td>\n      <td>0</td>\n      <td>0</td>\n      <td>16</td>\n      <td>Avg hrs per day - Watching TV, Weekend days an...</td>\n      <td>0</td>\n      <td>600025</td>\n      <td>...</td>\n      <td>Watching TV</td>\n      <td>15 years and over</td>\n      <td>All persons</td>\n      <td>All education levels</td>\n      <td>NaN</td>\n      <td>NaN</td>\n      <td>Weekend days and holidays</td>\n      <td>Black or African American</td>\n      <td>Both sexes</td>\n      <td>Average hours per day</td>\n    </tr>\n    <tr>\n      <th>10281</th>\n      <td>10281</td>\n      <td>TUU10101AA01027129</td>\n      <td>0</td>\n      <td>3</td>\n      <td>0</td>\n      <td>0</td>\n      <td>19</td>\n      <td>Avg hrs per day - Watching TV, Nonholiday week...</td>\n      <td>0</td>\n      <td>600025</td>\n      <td>...</td>\n      <td>Watching TV</td>\n      <td>15 years and over</td>\n      <td>All persons</td>\n      <td>All education levels</td>\n      <td>NaN</td>\n      <td>NaN</td>\n      <td>Nonholiday weekdays</td>\n      <td>Black or African American</td>\n      <td>Both sexes</td>\n      <td>Average hours per day</td>\n    </tr>\n    <tr>\n      <th>10390</th>\n      <td>10390</td>\n      <td>TUU10101AA01027415</td>\n      <td>0</td>\n      <td>3</td>\n      <td>0</td>\n      <td>0</td>\n      <td>16</td>\n      <td>Avg hrs per day - Participating in sports, exe...</td>\n      <td>0</td>\n      <td>600027</td>\n      <td>...</td>\n      <td>Participating in sports, exercise, and recreat...</td>\n      <td>15 years and over</td>\n      <td>All persons</td>\n      <td>All education levels</td>\n      <td>NaN</td>\n      <td>NaN</td>\n      <td>Weekend days and holidays</td>\n      <td>Black or African American</td>\n      <td>Both sexes</td>\n      <td>Average hours per day</td>\n    </tr>\n    <tr>\n      <th>10391</th>\n      <td>10391</td>\n      <td>TUU10101AA01027416</td>\n      <td>0</td>\n      <td>3</td>\n      <td>0</td>\n      <td>0</td>\n      <td>19</td>\n      <td>Avg hrs per day - Participating in sports, exe...</td>\n      <td>0</td>\n      <td>600027</td>\n      <td>...</td>\n      <td>Participating in sports, exercise, and recreat...</td>\n      <td>15 years and over</td>\n      <td>All persons</td>\n      <td>All education levels</td>\n      <td>NaN</td>\n      <td>NaN</td>\n      <td>Nonholiday weekdays</td>\n      <td>Black or African American</td>\n      <td>Both sexes</td>\n      <td>Average hours per day</td>\n    </tr>\n    <tr>\n      <th>10636</th>\n      <td>10636</td>\n      <td>TUU10101AA01028728</td>\n      <td>0</td>\n      <td>3</td>\n      <td>0</td>\n      <td>0</td>\n      <td>16</td>\n      <td>Avg hrs per day - Playing games and computer u...</td>\n      <td>0</td>\n      <td>600058</td>\n      <td>...</td>\n      <td>Playing games and computer use for leisure</td>\n      <td>15 years and over</td>\n      <td>All persons</td>\n      <td>All education levels</td>\n      <td>NaN</td>\n      <td>NaN</td>\n      <td>Weekend days and holidays</td>\n      <td>Black or African American</td>\n      <td>Both sexes</td>\n      <td>Average hours per day</td>\n    </tr>\n    <tr>\n      <th>10637</th>\n      <td>10637</td>\n      <td>TUU10101AA01028729</td>\n      <td>0</td>\n      <td>3</td>\n      <td>0</td>\n      <td>0</td>\n      <td>19</td>\n      <td>Avg hrs per day - Playing games and computer u...</td>\n      <td>0</td>\n      <td>600058</td>\n      <td>...</td>\n      <td>Playing games and computer use for leisure</td>\n      <td>15 years and over</td>\n      <td>All persons</td>\n      <td>All education levels</td>\n      <td>NaN</td>\n      <td>NaN</td>\n      <td>Nonholiday weekdays</td>\n      <td>Black or African American</td>\n      <td>Both sexes</td>\n      <td>Average hours per day</td>\n    </tr>\n    <tr>\n      <th>10712</th>\n      <td>10712</td>\n      <td>TUU10101AA01028814</td>\n      <td>0</td>\n      <td>3</td>\n      <td>0</td>\n      <td>0</td>\n      <td>16</td>\n      <td>Avg hrs per day - Other leisure and sports act...</td>\n      <td>0</td>\n      <td>600059</td>\n      <td>...</td>\n      <td>Other leisure and sports activities, including...</td>\n      <td>15 years and over</td>\n      <td>All persons</td>\n      <td>All education levels</td>\n      <td>NaN</td>\n      <td>NaN</td>\n      <td>Weekend days and holidays</td>\n      <td>Black or African American</td>\n      <td>Both sexes</td>\n      <td>Average hours per day</td>\n    </tr>\n    <tr>\n      <th>10713</th>\n      <td>10713</td>\n      <td>TUU10101AA01028815</td>\n      <td>0</td>\n      <td>3</td>\n      <td>0</td>\n      <td>0</td>\n      <td>19</td>\n      <td>Avg hrs per day - Other leisure and sports act...</td>\n      <td>0</td>\n      <td>600059</td>\n      <td>...</td>\n      <td>Other leisure and sports activities, including...</td>\n      <td>15 years and over</td>\n      <td>All persons</td>\n      <td>All education levels</td>\n      <td>NaN</td>\n      <td>NaN</td>\n      <td>Nonholiday weekdays</td>\n      <td>Black or African American</td>\n      <td>Both sexes</td>\n      <td>Average hours per day</td>\n    </tr>\n  </tbody>\n</table>\n<p>35 rows × 23 columns</p>\n</div>",
          "text/plain": "       Unnamed: 0  series_id                       sex_code  race_code  \\\n3477         3477  TUU10101AA01005684                     0          3   \n3702         3702  TUU10101AA01006341                     0          3   \n5381         5381  TUU10101AA01008860                     0          3   \n5544         5544  TUU10101AA01009412                     0          3   \n5809         5809  TUU10101AA01010405                     0          3   \n6176         6176  TUU10101AA01011205                     0          3   \n6543         6543  TUU10101AA01012018                     0          3   \n6706         6706  TUU10101AA01012366                     0          3   \n6869         6869  TUU10101AA01012683                     0          3   \n7134         7134  TUU10101AA01013268                     0          3   \n7302         7302  TUU10101AA01013622                     0          3   \n7471         7471  TUU10101AA01013988                     0          3   \n7591         7591  TUU10101AA01014273                     0          3   \n7700         7700  TUU10101AA01014547                     0          3   \n7846         7846  TUU10101AA01015041                     0          3   \n8111         8111  TUU10101AA01015617                     0          3   \n8274         8274  TUU10101AA01015956                     0          3   \n8423         8423  TUU10101AA01016313                     0          3   \n8447         8447  TUU10101AA01016391                     0          3   \n9304         9304  TUU10101AA01020915                     0          3   \n9305         9305  TUU10101AA01020916                     0          3   \n9451         9451  TUU10101AA01021653                     0          3   \n9452         9452  TUU10101AA01021654                     0          3   \n10094       10094  TUU10101AA01026588                     0          3   \n10095       10095  TUU10101AA01026589                     0          3   \n10172       10172  TUU10101AA01026843                     0          3   \n10173       10173  TUU10101AA01026844                     0          3   \n10280       10280  TUU10101AA01027128                     0          3   \n10281       10281  TUU10101AA01027129                     0          3   \n10390       10390  TUU10101AA01027415                     0          3   \n10391       10391  TUU10101AA01027416                     0          3   \n10636       10636  TUU10101AA01028728                     0          3   \n10637       10637  TUU10101AA01028729                     0          3   \n10712       10712  TUU10101AA01028814                     0          3   \n10713       10713  TUU10101AA01028815                     0          3   \n\n       educ_code  age_code  pertype_code  \\\n3477           0         0             0   \n3702           0         0             0   \n5381           0         0             0   \n5544           0         0             0   \n5809           0         0             0   \n6176           0         0             0   \n6543           0         0             0   \n6706           0         0             0   \n6869           0         0             0   \n7134           0         0             0   \n7302           0         0             0   \n7471           0         0             0   \n7591           0         0             0   \n7700           0         0             0   \n7846           0         0             0   \n8111           0         0             0   \n8274           0         0             0   \n8423           0         0             0   \n8447           0         0             0   \n9304           0         0            16   \n9305           0         0            19   \n9451           0         0            16   \n9452           0         0            19   \n10094          0         0            16   \n10095          0         0            19   \n10172          0         0            16   \n10173          0         0            19   \n10280          0         0            16   \n10281          0         0            19   \n10390          0         0            16   \n10391          0         0            19   \n10636          0         0            16   \n10637          0         0            19   \n10712          0         0            16   \n10713          0         0            19   \n\n                                            series_title  earn_code  \\\n3477   Avg hrs per day - Relaxing and thinking, Black...          0   \n3702   Avg hrs per day - Reading for personal interes...          0   \n5381   Avg hrs per day - Personal care activities (in...          0   \n5544   Avg hrs per day - Household activities (includ...          0   \n5809   Avg hrs per day - Caring for and helping house...          0   \n6176   Avg hrs per day - Caring for and helping nonho...          0   \n6543   Avg hrs per day - Working and work-related act...          0   \n6706   Avg hrs per day - Educational activities (incl...          0   \n6869   Avg hrs per day - Purchasing goods and service...          0   \n7134   Avg hrs per day - Eating and drinking (include...          0   \n7302   Avg hrs per day - Leisure and sports (includes...          0   \n7471   Avg hrs per day - Socializing and communicatin...          0   \n7591   Avg hrs per day - Watching TV, Black or Africa...          0   \n7700   Avg hrs per day - Participating in sports, exe...          0   \n7846   Avg hrs per day - Organizational, civic, and r...          0   \n8111   Avg hrs per day - Telephone calls, mail, and e...          0   \n8274   Avg hrs per day - Other activities, not elsewh...          0   \n8423   Avg hrs per day - Playing games and computer u...          0   \n8447   Avg hrs per day - Other leisure and sports act...          0   \n9304   Avg hrs per day - Relaxing and thinking, Weeke...          0   \n9305   Avg hrs per day - Relaxing and thinking, Nonho...          0   \n9451   Avg hrs per day - Reading for personal interes...          0   \n9452   Avg hrs per day - Reading for personal interes...          0   \n10094  Avg hrs per day - Leisure and sports (includes...          0   \n10095  Avg hrs per day - Leisure and sports (includes...          0   \n10172  Avg hrs per day - Socializing and communicatin...          0   \n10173  Avg hrs per day - Socializing and communicatin...          0   \n10280  Avg hrs per day - Watching TV, Weekend days an...          0   \n10281  Avg hrs per day - Watching TV, Nonholiday week...          0   \n10390  Avg hrs per day - Participating in sports, exe...          0   \n10391  Avg hrs per day - Participating in sports, exe...          0   \n10636  Avg hrs per day - Playing games and computer u...          0   \n10637  Avg hrs per day - Playing games and computer u...          0   \n10712  Avg hrs per day - Other leisure and sports act...          0   \n10713  Avg hrs per day - Other leisure and sports act...          0   \n\n       actcode_code  ...                                       actcode_text  \\\n3477         120301  ...                              Relaxing and thinking   \n3702         120312  ...                      Reading for personal interest   \n5381         600001  ...         Personal care activities (includes travel)   \n5544         600003  ...             Household activities (includes travel)   \n5809         600007  ...  Caring for and helping household members (incl...   \n6176         600010  ...  Caring for and helping nonhousehold members (i...   \n6543         600013  ...  Working and work-related activities (includes ...   \n6706         600016  ...           Educational activities (includes travel)   \n6869         600018  ...    Purchasing goods and services (includes travel)   \n7134         600022  ...              Eating and drinking (includes travel)   \n7302         600023  ...               Leisure and sports (includes travel)   \n7471         600024  ...                      Socializing and communicating   \n7591         600025  ...                                        Watching TV   \n7700         600027  ...  Participating in sports, exercise, and recreat...   \n7846         600030  ...    Organizational, civic, and religious activities   \n8111         600033  ...  Telephone calls, mail, and e-mail (includes tr...   \n8274         600034  ...  Other activities, not elsewhere classified (in...   \n8423         600058  ...         Playing games and computer use for leisure   \n8447         600059  ...  Other leisure and sports activities, including...   \n9304         120301  ...                              Relaxing and thinking   \n9305         120301  ...                              Relaxing and thinking   \n9451         120312  ...                      Reading for personal interest   \n9452         120312  ...                      Reading for personal interest   \n10094        600023  ...               Leisure and sports (includes travel)   \n10095        600023  ...               Leisure and sports (includes travel)   \n10172        600024  ...                      Socializing and communicating   \n10173        600024  ...                      Socializing and communicating   \n10280        600025  ...                                        Watching TV   \n10281        600025  ...                                        Watching TV   \n10390        600027  ...  Participating in sports, exercise, and recreat...   \n10391        600027  ...  Participating in sports, exercise, and recreat...   \n10636        600058  ...         Playing games and computer use for leisure   \n10637        600058  ...         Playing games and computer use for leisure   \n10712        600059  ...  Other leisure and sports activities, including...   \n10713        600059  ...  Other leisure and sports activities, including...   \n\n                age_text    earn_text             educ_text lfstat_text  \\\n3477   15 years and over  All persons  All education levels         NaN   \n3702   15 years and over  All persons  All education levels         NaN   \n5381   15 years and over  All persons  All education levels         NaN   \n5544   15 years and over  All persons  All education levels         NaN   \n5809   15 years and over  All persons  All education levels         NaN   \n6176   15 years and over  All persons  All education levels         NaN   \n6543   15 years and over  All persons  All education levels         NaN   \n6706   15 years and over  All persons  All education levels         NaN   \n6869   15 years and over  All persons  All education levels         NaN   \n7134   15 years and over  All persons  All education levels         NaN   \n7302   15 years and over  All persons  All education levels         NaN   \n7471   15 years and over  All persons  All education levels         NaN   \n7591   15 years and over  All persons  All education levels         NaN   \n7700   15 years and over  All persons  All education levels         NaN   \n7846   15 years and over  All persons  All education levels         NaN   \n8111   15 years and over  All persons  All education levels         NaN   \n8274   15 years and over  All persons  All education levels         NaN   \n8423   15 years and over  All persons  All education levels         NaN   \n8447   15 years and over  All persons  All education levels         NaN   \n9304   15 years and over  All persons  All education levels         NaN   \n9305   15 years and over  All persons  All education levels         NaN   \n9451   15 years and over  All persons  All education levels         NaN   \n9452   15 years and over  All persons  All education levels         NaN   \n10094  15 years and over  All persons  All education levels         NaN   \n10095  15 years and over  All persons  All education levels         NaN   \n10172  15 years and over  All persons  All education levels         NaN   \n10173  15 years and over  All persons  All education levels         NaN   \n10280  15 years and over  All persons  All education levels         NaN   \n10281  15 years and over  All persons  All education levels         NaN   \n10390  15 years and over  All persons  All education levels         NaN   \n10391  15 years and over  All persons  All education levels         NaN   \n10636  15 years and over  All persons  All education levels         NaN   \n10637  15 years and over  All persons  All education levels         NaN   \n10712  15 years and over  All persons  All education levels         NaN   \n10713  15 years and over  All persons  All education levels         NaN   \n\n      orig_text               pertype_text                  race_text  \\\n3477        NaN                   All days  Black or African American   \n3702        NaN                   All days  Black or African American   \n5381        NaN                   All days  Black or African American   \n5544        NaN                   All days  Black or African American   \n5809        NaN                   All days  Black or African American   \n6176        NaN                   All days  Black or African American   \n6543        NaN                   All days  Black or African American   \n6706        NaN                   All days  Black or African American   \n6869        NaN                   All days  Black or African American   \n7134        NaN                   All days  Black or African American   \n7302        NaN                   All days  Black or African American   \n7471        NaN                   All days  Black or African American   \n7591        NaN                   All days  Black or African American   \n7700        NaN                   All days  Black or African American   \n7846        NaN                   All days  Black or African American   \n8111        NaN                   All days  Black or African American   \n8274        NaN                   All days  Black or African American   \n8423        NaN                   All days  Black or African American   \n8447        NaN                   All days  Black or African American   \n9304        NaN  Weekend days and holidays  Black or African American   \n9305        NaN        Nonholiday weekdays  Black or African American   \n9451        NaN  Weekend days and holidays  Black or African American   \n9452        NaN        Nonholiday weekdays  Black or African American   \n10094       NaN  Weekend days and holidays  Black or African American   \n10095       NaN        Nonholiday weekdays  Black or African American   \n10172       NaN  Weekend days and holidays  Black or African American   \n10173       NaN        Nonholiday weekdays  Black or African American   \n10280       NaN  Weekend days and holidays  Black or African American   \n10281       NaN        Nonholiday weekdays  Black or African American   \n10390       NaN  Weekend days and holidays  Black or African American   \n10391       NaN        Nonholiday weekdays  Black or African American   \n10636       NaN  Weekend days and holidays  Black or African American   \n10637       NaN        Nonholiday weekdays  Black or African American   \n10712       NaN  Weekend days and holidays  Black or African American   \n10713       NaN        Nonholiday weekdays  Black or African American   \n\n         sex_text          stattype_text  \n3477   Both sexes  Average hours per day  \n3702   Both sexes  Average hours per day  \n5381   Both sexes  Average hours per day  \n5544   Both sexes  Average hours per day  \n5809   Both sexes  Average hours per day  \n6176   Both sexes  Average hours per day  \n6543   Both sexes  Average hours per day  \n6706   Both sexes  Average hours per day  \n6869   Both sexes  Average hours per day  \n7134   Both sexes  Average hours per day  \n7302   Both sexes  Average hours per day  \n7471   Both sexes  Average hours per day  \n7591   Both sexes  Average hours per day  \n7700   Both sexes  Average hours per day  \n7846   Both sexes  Average hours per day  \n8111   Both sexes  Average hours per day  \n8274   Both sexes  Average hours per day  \n8423   Both sexes  Average hours per day  \n8447   Both sexes  Average hours per day  \n9304   Both sexes  Average hours per day  \n9305   Both sexes  Average hours per day  \n9451   Both sexes  Average hours per day  \n9452   Both sexes  Average hours per day  \n10094  Both sexes  Average hours per day  \n10095  Both sexes  Average hours per day  \n10172  Both sexes  Average hours per day  \n10173  Both sexes  Average hours per day  \n10280  Both sexes  Average hours per day  \n10281  Both sexes  Average hours per day  \n10390  Both sexes  Average hours per day  \n10391  Both sexes  Average hours per day  \n10636  Both sexes  Average hours per day  \n10637  Both sexes  Average hours per day  \n10712  Both sexes  Average hours per day  \n10713  Both sexes  Average hours per day  \n\n[35 rows x 23 columns]"
         },
         "metadata": {},
         "output_type": "display_data"
        }
       ]
      }
     },
     "e6315f0edc4c4bea868f2394f4678ff6": {
      "model_module": "@jupyter-widgets/controls",
      "model_module_version": "1.5.0",
      "model_name": "DropdownModel",
      "state": {
       "_options_labels": [
        "Average hours per day",
        "Average hours per day for participants in an activity",
        "Number of participants in an activity on an average day (in thousands)",
        "Number of persons (in thousands)",
        "Percent of population engaged in activity on an average day"
       ],
       "description": "Stat Type:",
       "index": 0,
       "layout": "IPY_MODEL_107ec545f0834622a22fc08d4915cccb",
       "style": "IPY_MODEL_eeca6d4f25ac4c16866fa11fff21837a"
      }
     },
     "e67bf6523d3b450fb9fc116ad8627e8f": {
      "model_module": "@jupyter-widgets/controls",
      "model_module_version": "1.5.0",
      "model_name": "DescriptionStyleModel",
      "state": {
       "description_width": ""
      }
     },
     "e7176da70a5142c2a16b9bb89ef50b8e": {
      "model_module": "@jupyter-widgets/base",
      "model_module_version": "1.2.0",
      "model_name": "LayoutModel",
      "state": {}
     },
     "e82d07bf864745c6b67e3c07dae61a84": {
      "model_module": "@jupyter-widgets/controls",
      "model_module_version": "1.5.0",
      "model_name": "DropdownModel",
      "state": {
       "_options_labels": [
        "ALL",
        "Both sexes",
        "Men",
        "Women"
       ],
       "description": "Gender:",
       "index": 1,
       "layout": "IPY_MODEL_768ab73e809a48d09b129e4b97973426",
       "style": "IPY_MODEL_bf348a1d8f5f42d6ad006e3cf062cb5c"
      }
     },
     "e8c90debaee54b818fa67dbdb51fdac3": {
      "model_module": "@jupyter-widgets/base",
      "model_module_version": "1.2.0",
      "model_name": "LayoutModel",
      "state": {}
     },
     "e90fcdf210e847f6ad47e475ed896e76": {
      "model_module": "@jupyter-widgets/controls",
      "model_module_version": "1.5.0",
      "model_name": "DropdownModel",
      "state": {
       "_options_labels": [
        "ALL",
        "Average hours per day",
        "Average hours per day for participants in an activity",
        "Number of participants in an activity on an average day (in thousands)",
        "Number of persons (in thousands)",
        "Percent of population engaged in activity on an average day"
       ],
       "description": "Stat Type:",
       "index": 1,
       "layout": "IPY_MODEL_8e6837d91dfc4ff2b2c0b097a0525c19",
       "style": "IPY_MODEL_b8828192c43d4d07a0fbc41c5260331b"
      }
     },
     "e953aede888a441d9b6d628ce23fa51f": {
      "model_module": "@jupyter-widgets/base",
      "model_module_version": "1.2.0",
      "model_name": "LayoutModel",
      "state": {}
     },
     "ea46499890b6493f97ab5e0dc743d33c": {
      "model_module": "@jupyter-widgets/controls",
      "model_module_version": "1.5.0",
      "model_name": "DescriptionStyleModel",
      "state": {
       "description_width": ""
      }
     },
     "eb8ec8c3452a48f8b821bfd8591ad07d": {
      "model_module": "@jupyter-widgets/controls",
      "model_module_version": "1.5.0",
      "model_name": "DropdownModel",
      "state": {
       "_options_labels": [
        "ALL",
        "All races",
        "Asian",
        "Black or African American",
        "White"
       ],
       "description": "Ethnicity:",
       "index": 2,
       "layout": "IPY_MODEL_5453b7997a0a4c89a379ad1fe83987ee",
       "style": "IPY_MODEL_dc5c30270a7c482eb4783213c0ecb274"
      }
     },
     "eb99d61d6aea43dabc96dd0c9b99997d": {
      "model_module": "@jupyter-widgets/base",
      "model_module_version": "1.2.0",
      "model_name": "LayoutModel",
      "state": {}
     },
     "ed1d05e40c5e42de9ce0dac07da4f6a6": {
      "model_module": "@jupyter-widgets/output",
      "model_module_version": "1.0.0",
      "model_name": "OutputModel",
      "state": {
       "layout": "IPY_MODEL_34d3b932049f46e5a539851ff7a38d1a",
       "outputs": [
        {
         "data": {
          "text/html": "<div>\n<style scoped>\n    .dataframe tbody tr th:only-of-type {\n        vertical-align: middle;\n    }\n\n    .dataframe tbody tr th {\n        vertical-align: top;\n    }\n\n    .dataframe thead th {\n        text-align: right;\n    }\n</style>\n<table border=\"1\" class=\"dataframe\">\n  <thead>\n    <tr style=\"text-align: right;\">\n      <th></th>\n      <th>Unnamed: 0</th>\n      <th>series_id</th>\n      <th>sex_code</th>\n      <th>race_code</th>\n      <th>educ_code</th>\n      <th>age_code</th>\n      <th>pertype_code</th>\n      <th>series_title</th>\n      <th>earn_code</th>\n      <th>actcode_code</th>\n      <th>...</th>\n      <th>actcode_text</th>\n      <th>age_text</th>\n      <th>earn_text</th>\n      <th>educ_text</th>\n      <th>lfstat_text</th>\n      <th>orig_text</th>\n      <th>pertype_text</th>\n      <th>race_text</th>\n      <th>sex_text</th>\n      <th>stattype_text</th>\n    </tr>\n  </thead>\n  <tbody>\n    <tr>\n      <th>5438</th>\n      <td>5438</td>\n      <td>TUU10101AA01008976</td>\n      <td>1</td>\n      <td>3</td>\n      <td>0</td>\n      <td>0</td>\n      <td>0</td>\n      <td>Avg hrs per day - Personal care activities (in...</td>\n      <td>0</td>\n      <td>600001</td>\n      <td>...</td>\n      <td>Personal care activities (includes travel)</td>\n      <td>15 years and over</td>\n      <td>All persons</td>\n      <td>All education levels</td>\n      <td>NaN</td>\n      <td>NaN</td>\n      <td>All days</td>\n      <td>Black or African American</td>\n      <td>Men</td>\n      <td>Average hours per day</td>\n    </tr>\n    <tr>\n      <th>5601</th>\n      <td>5601</td>\n      <td>TUU10101AA01009528</td>\n      <td>1</td>\n      <td>3</td>\n      <td>0</td>\n      <td>0</td>\n      <td>0</td>\n      <td>Avg hrs per day - Household activities (includ...</td>\n      <td>0</td>\n      <td>600003</td>\n      <td>...</td>\n      <td>Household activities (includes travel)</td>\n      <td>15 years and over</td>\n      <td>All persons</td>\n      <td>All education levels</td>\n      <td>NaN</td>\n      <td>NaN</td>\n      <td>All days</td>\n      <td>Black or African American</td>\n      <td>Men</td>\n      <td>Average hours per day</td>\n    </tr>\n    <tr>\n      <th>5866</th>\n      <td>5866</td>\n      <td>TUU10101AA01010518</td>\n      <td>1</td>\n      <td>3</td>\n      <td>0</td>\n      <td>0</td>\n      <td>0</td>\n      <td>Avg hrs per day - Caring for and helping house...</td>\n      <td>0</td>\n      <td>600007</td>\n      <td>...</td>\n      <td>Caring for and helping household members (incl...</td>\n      <td>15 years and over</td>\n      <td>All persons</td>\n      <td>All education levels</td>\n      <td>NaN</td>\n      <td>NaN</td>\n      <td>All days</td>\n      <td>Black or African American</td>\n      <td>Men</td>\n      <td>Average hours per day</td>\n    </tr>\n    <tr>\n      <th>6233</th>\n      <td>6233</td>\n      <td>TUU10101AA01011318</td>\n      <td>1</td>\n      <td>3</td>\n      <td>0</td>\n      <td>0</td>\n      <td>0</td>\n      <td>Avg hrs per day - Caring for and helping nonho...</td>\n      <td>0</td>\n      <td>600010</td>\n      <td>...</td>\n      <td>Caring for and helping nonhousehold members (i...</td>\n      <td>15 years and over</td>\n      <td>All persons</td>\n      <td>All education levels</td>\n      <td>NaN</td>\n      <td>NaN</td>\n      <td>All days</td>\n      <td>Black or African American</td>\n      <td>Men</td>\n      <td>Average hours per day</td>\n    </tr>\n    <tr>\n      <th>6600</th>\n      <td>6600</td>\n      <td>TUU10101AA01012134</td>\n      <td>1</td>\n      <td>3</td>\n      <td>0</td>\n      <td>0</td>\n      <td>0</td>\n      <td>Avg hrs per day - Working and work-related act...</td>\n      <td>0</td>\n      <td>600013</td>\n      <td>...</td>\n      <td>Working and work-related activities (includes ...</td>\n      <td>15 years and over</td>\n      <td>All persons</td>\n      <td>All education levels</td>\n      <td>NaN</td>\n      <td>NaN</td>\n      <td>All days</td>\n      <td>Black or African American</td>\n      <td>Men</td>\n      <td>Average hours per day</td>\n    </tr>\n    <tr>\n      <th>6763</th>\n      <td>6763</td>\n      <td>TUU10101AA01012474</td>\n      <td>1</td>\n      <td>3</td>\n      <td>0</td>\n      <td>0</td>\n      <td>0</td>\n      <td>Avg hrs per day - Educational activities (incl...</td>\n      <td>0</td>\n      <td>600016</td>\n      <td>...</td>\n      <td>Educational activities (includes travel)</td>\n      <td>15 years and over</td>\n      <td>All persons</td>\n      <td>All education levels</td>\n      <td>NaN</td>\n      <td>NaN</td>\n      <td>All days</td>\n      <td>Black or African American</td>\n      <td>Men</td>\n      <td>Average hours per day</td>\n    </tr>\n    <tr>\n      <th>6926</th>\n      <td>6926</td>\n      <td>TUU10101AA01012799</td>\n      <td>1</td>\n      <td>3</td>\n      <td>0</td>\n      <td>0</td>\n      <td>0</td>\n      <td>Avg hrs per day - Purchasing goods and service...</td>\n      <td>0</td>\n      <td>600018</td>\n      <td>...</td>\n      <td>Purchasing goods and services (includes travel)</td>\n      <td>15 years and over</td>\n      <td>All persons</td>\n      <td>All education levels</td>\n      <td>NaN</td>\n      <td>NaN</td>\n      <td>All days</td>\n      <td>Black or African American</td>\n      <td>Men</td>\n      <td>Average hours per day</td>\n    </tr>\n    <tr>\n      <th>7191</th>\n      <td>7191</td>\n      <td>TUU10101AA01013384</td>\n      <td>1</td>\n      <td>3</td>\n      <td>0</td>\n      <td>0</td>\n      <td>0</td>\n      <td>Avg hrs per day - Eating and drinking (include...</td>\n      <td>0</td>\n      <td>600022</td>\n      <td>...</td>\n      <td>Eating and drinking (includes travel)</td>\n      <td>15 years and over</td>\n      <td>All persons</td>\n      <td>All education levels</td>\n      <td>NaN</td>\n      <td>NaN</td>\n      <td>All days</td>\n      <td>Black or African American</td>\n      <td>Men</td>\n      <td>Average hours per day</td>\n    </tr>\n    <tr>\n      <th>7360</th>\n      <td>7360</td>\n      <td>TUU10101AA01013744</td>\n      <td>1</td>\n      <td>3</td>\n      <td>0</td>\n      <td>0</td>\n      <td>0</td>\n      <td>Avg hrs per day - Leisure and sports (includes...</td>\n      <td>0</td>\n      <td>600023</td>\n      <td>...</td>\n      <td>Leisure and sports (includes travel)</td>\n      <td>15 years and over</td>\n      <td>All persons</td>\n      <td>All education levels</td>\n      <td>NaN</td>\n      <td>NaN</td>\n      <td>All days</td>\n      <td>Black or African American</td>\n      <td>Men</td>\n      <td>Average hours per day</td>\n    </tr>\n    <tr>\n      <th>7903</th>\n      <td>7903</td>\n      <td>TUU10101AA01015154</td>\n      <td>1</td>\n      <td>3</td>\n      <td>0</td>\n      <td>0</td>\n      <td>0</td>\n      <td>Avg hrs per day - Organizational, civic, and r...</td>\n      <td>0</td>\n      <td>600030</td>\n      <td>...</td>\n      <td>Organizational, civic, and religious activities</td>\n      <td>15 years and over</td>\n      <td>All persons</td>\n      <td>All education levels</td>\n      <td>NaN</td>\n      <td>NaN</td>\n      <td>All days</td>\n      <td>Black or African American</td>\n      <td>Men</td>\n      <td>Average hours per day</td>\n    </tr>\n    <tr>\n      <th>8168</th>\n      <td>8168</td>\n      <td>TUU10101AA01015730</td>\n      <td>1</td>\n      <td>3</td>\n      <td>0</td>\n      <td>0</td>\n      <td>0</td>\n      <td>Avg hrs per day - Telephone calls, mail, and e...</td>\n      <td>0</td>\n      <td>600033</td>\n      <td>...</td>\n      <td>Telephone calls, mail, and e-mail (includes tr...</td>\n      <td>15 years and over</td>\n      <td>All persons</td>\n      <td>All education levels</td>\n      <td>NaN</td>\n      <td>NaN</td>\n      <td>All days</td>\n      <td>Black or African American</td>\n      <td>Men</td>\n      <td>Average hours per day</td>\n    </tr>\n    <tr>\n      <th>8331</th>\n      <td>8331</td>\n      <td>TUU10101AA01016069</td>\n      <td>1</td>\n      <td>3</td>\n      <td>0</td>\n      <td>0</td>\n      <td>0</td>\n      <td>Avg hrs per day - Other activities, not elsewh...</td>\n      <td>0</td>\n      <td>600034</td>\n      <td>...</td>\n      <td>Other activities, not elsewhere classified (in...</td>\n      <td>15 years and over</td>\n      <td>All persons</td>\n      <td>All education levels</td>\n      <td>NaN</td>\n      <td>NaN</td>\n      <td>All days</td>\n      <td>Black or African American</td>\n      <td>Men</td>\n      <td>Average hours per day</td>\n    </tr>\n  </tbody>\n</table>\n<p>12 rows × 23 columns</p>\n</div>",
          "text/plain": "      Unnamed: 0  series_id                       sex_code  race_code  \\\n5438        5438  TUU10101AA01008976                     1          3   \n5601        5601  TUU10101AA01009528                     1          3   \n5866        5866  TUU10101AA01010518                     1          3   \n6233        6233  TUU10101AA01011318                     1          3   \n6600        6600  TUU10101AA01012134                     1          3   \n6763        6763  TUU10101AA01012474                     1          3   \n6926        6926  TUU10101AA01012799                     1          3   \n7191        7191  TUU10101AA01013384                     1          3   \n7360        7360  TUU10101AA01013744                     1          3   \n7903        7903  TUU10101AA01015154                     1          3   \n8168        8168  TUU10101AA01015730                     1          3   \n8331        8331  TUU10101AA01016069                     1          3   \n\n      educ_code  age_code  pertype_code  \\\n5438          0         0             0   \n5601          0         0             0   \n5866          0         0             0   \n6233          0         0             0   \n6600          0         0             0   \n6763          0         0             0   \n6926          0         0             0   \n7191          0         0             0   \n7360          0         0             0   \n7903          0         0             0   \n8168          0         0             0   \n8331          0         0             0   \n\n                                           series_title  earn_code  \\\n5438  Avg hrs per day - Personal care activities (in...          0   \n5601  Avg hrs per day - Household activities (includ...          0   \n5866  Avg hrs per day - Caring for and helping house...          0   \n6233  Avg hrs per day - Caring for and helping nonho...          0   \n6600  Avg hrs per day - Working and work-related act...          0   \n6763  Avg hrs per day - Educational activities (incl...          0   \n6926  Avg hrs per day - Purchasing goods and service...          0   \n7191  Avg hrs per day - Eating and drinking (include...          0   \n7360  Avg hrs per day - Leisure and sports (includes...          0   \n7903  Avg hrs per day - Organizational, civic, and r...          0   \n8168  Avg hrs per day - Telephone calls, mail, and e...          0   \n8331  Avg hrs per day - Other activities, not elsewh...          0   \n\n      actcode_code  ...                                       actcode_text  \\\n5438        600001  ...         Personal care activities (includes travel)   \n5601        600003  ...             Household activities (includes travel)   \n5866        600007  ...  Caring for and helping household members (incl...   \n6233        600010  ...  Caring for and helping nonhousehold members (i...   \n6600        600013  ...  Working and work-related activities (includes ...   \n6763        600016  ...           Educational activities (includes travel)   \n6926        600018  ...    Purchasing goods and services (includes travel)   \n7191        600022  ...              Eating and drinking (includes travel)   \n7360        600023  ...               Leisure and sports (includes travel)   \n7903        600030  ...    Organizational, civic, and religious activities   \n8168        600033  ...  Telephone calls, mail, and e-mail (includes tr...   \n8331        600034  ...  Other activities, not elsewhere classified (in...   \n\n               age_text    earn_text             educ_text lfstat_text  \\\n5438  15 years and over  All persons  All education levels         NaN   \n5601  15 years and over  All persons  All education levels         NaN   \n5866  15 years and over  All persons  All education levels         NaN   \n6233  15 years and over  All persons  All education levels         NaN   \n6600  15 years and over  All persons  All education levels         NaN   \n6763  15 years and over  All persons  All education levels         NaN   \n6926  15 years and over  All persons  All education levels         NaN   \n7191  15 years and over  All persons  All education levels         NaN   \n7360  15 years and over  All persons  All education levels         NaN   \n7903  15 years and over  All persons  All education levels         NaN   \n8168  15 years and over  All persons  All education levels         NaN   \n8331  15 years and over  All persons  All education levels         NaN   \n\n     orig_text pertype_text                  race_text sex_text  \\\n5438       NaN     All days  Black or African American      Men   \n5601       NaN     All days  Black or African American      Men   \n5866       NaN     All days  Black or African American      Men   \n6233       NaN     All days  Black or African American      Men   \n6600       NaN     All days  Black or African American      Men   \n6763       NaN     All days  Black or African American      Men   \n6926       NaN     All days  Black or African American      Men   \n7191       NaN     All days  Black or African American      Men   \n7360       NaN     All days  Black or African American      Men   \n7903       NaN     All days  Black or African American      Men   \n8168       NaN     All days  Black or African American      Men   \n8331       NaN     All days  Black or African American      Men   \n\n              stattype_text  \n5438  Average hours per day  \n5601  Average hours per day  \n5866  Average hours per day  \n6233  Average hours per day  \n6600  Average hours per day  \n6763  Average hours per day  \n6926  Average hours per day  \n7191  Average hours per day  \n7360  Average hours per day  \n7903  Average hours per day  \n8168  Average hours per day  \n8331  Average hours per day  \n\n[12 rows x 23 columns]"
         },
         "metadata": {},
         "output_type": "display_data"
        }
       ]
      }
     },
     "ee3fcfb600b84546a2915701a25124bc": {
      "model_module": "@jupyter-widgets/controls",
      "model_module_version": "1.5.0",
      "model_name": "DropdownModel",
      "state": {
       "_options_labels": [
        "ALL",
        "Average hours per day",
        "Average hours per day for participants in an activity",
        "Number of participants in an activity on an average day (in thousands)",
        "Number of persons (in thousands)",
        "Percent of population engaged in activity on an average day"
       ],
       "description": "Stat Type:",
       "index": 1,
       "layout": "IPY_MODEL_a895cabc492446e3a55191d46ecc8410",
       "style": "IPY_MODEL_2cefb51bdcf84c3aab6fa46229e8d32f"
      }
     },
     "eeca6d4f25ac4c16866fa11fff21837a": {
      "model_module": "@jupyter-widgets/controls",
      "model_module_version": "1.5.0",
      "model_name": "DescriptionStyleModel",
      "state": {
       "description_width": ""
      }
     },
     "f105375d5d2947b78b8e6265166d1ed2": {
      "model_module": "@jupyter-widgets/controls",
      "model_module_version": "1.5.0",
      "model_name": "DropdownModel",
      "state": {
       "_options_labels": [
        "15 to 19 years",
        "15 to 24 years",
        "15 years and over",
        "18 years and over",
        "20 to 24 years",
        "25 to 34 years",
        "25 to 54 years",
        "25 years and over",
        "35 to 44 years",
        "45 to 54 years",
        "55 to 64 years",
        "65 to 74 years",
        "65 years and over",
        "75 years and over"
       ],
       "description": "Ages:",
       "index": 7,
       "layout": "IPY_MODEL_5cbde4f1c95146c7a144b9cddea3bb51",
       "style": "IPY_MODEL_b702b14d2b5747678d98503c57a423fe"
      }
     },
     "f32a450c4085462c958bc44ef414082e": {
      "model_module": "@jupyter-widgets/output",
      "model_module_version": "1.0.0",
      "model_name": "OutputModel",
      "state": {
       "layout": "IPY_MODEL_938bdef9868c42d09991188a4664ca64",
       "outputs": [
        {
         "data": {
          "text/html": "<div>\n<style scoped>\n    .dataframe tbody tr th:only-of-type {\n        vertical-align: middle;\n    }\n\n    .dataframe tbody tr th {\n        vertical-align: top;\n    }\n\n    .dataframe thead th {\n        text-align: right;\n    }\n</style>\n<table border=\"1\" class=\"dataframe\">\n  <thead>\n    <tr style=\"text-align: right;\">\n      <th></th>\n      <th>Unnamed: 0</th>\n      <th>series_id</th>\n      <th>sex_code</th>\n      <th>race_code</th>\n      <th>educ_code</th>\n      <th>age_code</th>\n      <th>pertype_code</th>\n      <th>series_title</th>\n      <th>earn_code</th>\n      <th>actcode_code</th>\n      <th>...</th>\n      <th>actcode_text</th>\n      <th>age_text</th>\n      <th>earn_text</th>\n      <th>educ_text</th>\n      <th>lfstat_text</th>\n      <th>orig_text</th>\n      <th>pertype_text</th>\n      <th>race_text</th>\n      <th>sex_text</th>\n      <th>stattype_text</th>\n    </tr>\n  </thead>\n  <tbody>\n    <tr>\n      <th>33</th>\n      <td>33</td>\n      <td>TUU10101AA01000000</td>\n      <td>0</td>\n      <td>0</td>\n      <td>0</td>\n      <td>0</td>\n      <td>0</td>\n      <td>Avg hrs per day</td>\n      <td>0</td>\n      <td>0</td>\n      <td>...</td>\n      <td>Total, all activities</td>\n      <td>15 years and over</td>\n      <td>All persons</td>\n      <td>All education levels</td>\n      <td>NaN</td>\n      <td>NaN</td>\n      <td>All days</td>\n      <td>All races</td>\n      <td>Both sexes</td>\n      <td>Average hours per day</td>\n    </tr>\n    <tr>\n      <th>34</th>\n      <td>34</td>\n      <td>TUU10101AA01000003</td>\n      <td>0</td>\n      <td>0</td>\n      <td>0</td>\n      <td>0</td>\n      <td>16</td>\n      <td>Avg hrs per day - Weekend days and holidays</td>\n      <td>0</td>\n      <td>0</td>\n      <td>...</td>\n      <td>Total, all activities</td>\n      <td>15 years and over</td>\n      <td>All persons</td>\n      <td>All education levels</td>\n      <td>NaN</td>\n      <td>NaN</td>\n      <td>Weekend days and holidays</td>\n      <td>All races</td>\n      <td>Both sexes</td>\n      <td>Average hours per day</td>\n    </tr>\n    <tr>\n      <th>35</th>\n      <td>35</td>\n      <td>TUU10101AA01000005</td>\n      <td>0</td>\n      <td>0</td>\n      <td>0</td>\n      <td>0</td>\n      <td>19</td>\n      <td>Avg hrs per day - Nonholiday weekdays</td>\n      <td>0</td>\n      <td>0</td>\n      <td>...</td>\n      <td>Total, all activities</td>\n      <td>15 years and over</td>\n      <td>All persons</td>\n      <td>All education levels</td>\n      <td>NaN</td>\n      <td>NaN</td>\n      <td>Nonholiday weekdays</td>\n      <td>All races</td>\n      <td>Both sexes</td>\n      <td>Average hours per day</td>\n    </tr>\n    <tr>\n      <th>36</th>\n      <td>36</td>\n      <td>TUU10101AA01000007</td>\n      <td>0</td>\n      <td>0</td>\n      <td>0</td>\n      <td>0</td>\n      <td>0</td>\n      <td>Avg hrs per day - Employed</td>\n      <td>0</td>\n      <td>0</td>\n      <td>...</td>\n      <td>Total, all activities</td>\n      <td>15 years and over</td>\n      <td>All persons</td>\n      <td>All education levels</td>\n      <td>Employed</td>\n      <td>NaN</td>\n      <td>All days</td>\n      <td>All races</td>\n      <td>Both sexes</td>\n      <td>Average hours per day</td>\n    </tr>\n    <tr>\n      <th>37</th>\n      <td>37</td>\n      <td>TUU10101AA01000008</td>\n      <td>0</td>\n      <td>0</td>\n      <td>0</td>\n      <td>0</td>\n      <td>16</td>\n      <td>Avg hrs per day - Weekend days and holidays, E...</td>\n      <td>0</td>\n      <td>0</td>\n      <td>...</td>\n      <td>Total, all activities</td>\n      <td>15 years and over</td>\n      <td>All persons</td>\n      <td>All education levels</td>\n      <td>Employed</td>\n      <td>NaN</td>\n      <td>Weekend days and holidays</td>\n      <td>All races</td>\n      <td>Both sexes</td>\n      <td>Average hours per day</td>\n    </tr>\n    <tr>\n      <th>...</th>\n      <td>...</td>\n      <td>...</td>\n      <td>...</td>\n      <td>...</td>\n      <td>...</td>\n      <td>...</td>\n      <td>...</td>\n      <td>...</td>\n      <td>...</td>\n      <td>...</td>\n      <td>...</td>\n      <td>...</td>\n      <td>...</td>\n      <td>...</td>\n      <td>...</td>\n      <td>...</td>\n      <td>...</td>\n      <td>...</td>\n      <td>...</td>\n      <td>...</td>\n      <td>...</td>\n    </tr>\n    <tr>\n      <th>25495</th>\n      <td>25495</td>\n      <td>TUU10101QA01014521</td>\n      <td>0</td>\n      <td>0</td>\n      <td>0</td>\n      <td>0</td>\n      <td>0</td>\n      <td>Avg hrs per day - Participating in sports, exe...</td>\n      <td>0</td>\n      <td>600027</td>\n      <td>...</td>\n      <td>Participating in sports, exercise, and recreat...</td>\n      <td>15 years and over</td>\n      <td>All persons</td>\n      <td>All education levels</td>\n      <td>NaN</td>\n      <td>NaN</td>\n      <td>All days</td>\n      <td>All races</td>\n      <td>Both sexes</td>\n      <td>Average hours per day</td>\n    </tr>\n    <tr>\n      <th>25496</th>\n      <td>25496</td>\n      <td>TUU10101QA01015010</td>\n      <td>0</td>\n      <td>0</td>\n      <td>0</td>\n      <td>0</td>\n      <td>0</td>\n      <td>Avg hrs per day - Organizational, civic, and r...</td>\n      <td>0</td>\n      <td>600030</td>\n      <td>...</td>\n      <td>Organizational, civic, and religious activities</td>\n      <td>15 years and over</td>\n      <td>All persons</td>\n      <td>All education levels</td>\n      <td>NaN</td>\n      <td>NaN</td>\n      <td>All days</td>\n      <td>All races</td>\n      <td>Both sexes</td>\n      <td>Average hours per day</td>\n    </tr>\n    <tr>\n      <th>25497</th>\n      <td>25497</td>\n      <td>TUU10101QA01015349</td>\n      <td>0</td>\n      <td>0</td>\n      <td>0</td>\n      <td>0</td>\n      <td>0</td>\n      <td>Avg hrs per day - Volunteering (organizational...</td>\n      <td>0</td>\n      <td>600032</td>\n      <td>...</td>\n      <td>Volunteering (organizational and civic activit...</td>\n      <td>15 years and over</td>\n      <td>All persons</td>\n      <td>All education levels</td>\n      <td>NaN</td>\n      <td>NaN</td>\n      <td>All days</td>\n      <td>All races</td>\n      <td>Both sexes</td>\n      <td>Average hours per day</td>\n    </tr>\n    <tr>\n      <th>25498</th>\n      <td>25498</td>\n      <td>TUU10101QA01015586</td>\n      <td>0</td>\n      <td>0</td>\n      <td>0</td>\n      <td>0</td>\n      <td>0</td>\n      <td>Avg hrs per day - Telephone calls, mail, and e...</td>\n      <td>0</td>\n      <td>600033</td>\n      <td>...</td>\n      <td>Telephone calls, mail, and e-mail (includes tr...</td>\n      <td>15 years and over</td>\n      <td>All persons</td>\n      <td>All education levels</td>\n      <td>NaN</td>\n      <td>NaN</td>\n      <td>All days</td>\n      <td>All races</td>\n      <td>Both sexes</td>\n      <td>Average hours per day</td>\n    </tr>\n    <tr>\n      <th>25499</th>\n      <td>25499</td>\n      <td>TUU10101QA01015925</td>\n      <td>0</td>\n      <td>0</td>\n      <td>0</td>\n      <td>0</td>\n      <td>0</td>\n      <td>Avg hrs per day - Other activities, not elsewh...</td>\n      <td>0</td>\n      <td>600034</td>\n      <td>...</td>\n      <td>Other activities, not elsewhere classified (in...</td>\n      <td>15 years and over</td>\n      <td>All persons</td>\n      <td>All education levels</td>\n      <td>NaN</td>\n      <td>NaN</td>\n      <td>All days</td>\n      <td>All races</td>\n      <td>Both sexes</td>\n      <td>Average hours per day</td>\n    </tr>\n  </tbody>\n</table>\n<p>8952 rows × 23 columns</p>\n</div>",
          "text/plain": "       Unnamed: 0  series_id                       sex_code  race_code  \\\n33             33  TUU10101AA01000000                     0          0   \n34             34  TUU10101AA01000003                     0          0   \n35             35  TUU10101AA01000005                     0          0   \n36             36  TUU10101AA01000007                     0          0   \n37             37  TUU10101AA01000008                     0          0   \n...           ...                             ...       ...        ...   \n25495       25495  TUU10101QA01014521                     0          0   \n25496       25496  TUU10101QA01015010                     0          0   \n25497       25497  TUU10101QA01015349                     0          0   \n25498       25498  TUU10101QA01015586                     0          0   \n25499       25499  TUU10101QA01015925                     0          0   \n\n       educ_code  age_code  pertype_code  \\\n33             0         0             0   \n34             0         0            16   \n35             0         0            19   \n36             0         0             0   \n37             0         0            16   \n...          ...       ...           ...   \n25495          0         0             0   \n25496          0         0             0   \n25497          0         0             0   \n25498          0         0             0   \n25499          0         0             0   \n\n                                            series_title  earn_code  \\\n33                                       Avg hrs per day          0   \n34           Avg hrs per day - Weekend days and holidays          0   \n35                 Avg hrs per day - Nonholiday weekdays          0   \n36                            Avg hrs per day - Employed          0   \n37     Avg hrs per day - Weekend days and holidays, E...          0   \n...                                                  ...        ...   \n25495  Avg hrs per day - Participating in sports, exe...          0   \n25496  Avg hrs per day - Organizational, civic, and r...          0   \n25497  Avg hrs per day - Volunteering (organizational...          0   \n25498  Avg hrs per day - Telephone calls, mail, and e...          0   \n25499  Avg hrs per day - Other activities, not elsewh...          0   \n\n       actcode_code  ...                                       actcode_text  \\\n33                0  ...                              Total, all activities   \n34                0  ...                              Total, all activities   \n35                0  ...                              Total, all activities   \n36                0  ...                              Total, all activities   \n37                0  ...                              Total, all activities   \n...             ...  ...                                                ...   \n25495        600027  ...  Participating in sports, exercise, and recreat...   \n25496        600030  ...    Organizational, civic, and religious activities   \n25497        600032  ...  Volunteering (organizational and civic activit...   \n25498        600033  ...  Telephone calls, mail, and e-mail (includes tr...   \n25499        600034  ...  Other activities, not elsewhere classified (in...   \n\n                age_text    earn_text             educ_text lfstat_text  \\\n33     15 years and over  All persons  All education levels         NaN   \n34     15 years and over  All persons  All education levels         NaN   \n35     15 years and over  All persons  All education levels         NaN   \n36     15 years and over  All persons  All education levels    Employed   \n37     15 years and over  All persons  All education levels    Employed   \n...                  ...          ...                   ...         ...   \n25495  15 years and over  All persons  All education levels         NaN   \n25496  15 years and over  All persons  All education levels         NaN   \n25497  15 years and over  All persons  All education levels         NaN   \n25498  15 years and over  All persons  All education levels         NaN   \n25499  15 years and over  All persons  All education levels         NaN   \n\n      orig_text               pertype_text  race_text    sex_text  \\\n33          NaN                   All days  All races  Both sexes   \n34          NaN  Weekend days and holidays  All races  Both sexes   \n35          NaN        Nonholiday weekdays  All races  Both sexes   \n36          NaN                   All days  All races  Both sexes   \n37          NaN  Weekend days and holidays  All races  Both sexes   \n...         ...                        ...        ...         ...   \n25495       NaN                   All days  All races  Both sexes   \n25496       NaN                   All days  All races  Both sexes   \n25497       NaN                   All days  All races  Both sexes   \n25498       NaN                   All days  All races  Both sexes   \n25499       NaN                   All days  All races  Both sexes   \n\n               stattype_text  \n33     Average hours per day  \n34     Average hours per day  \n35     Average hours per day  \n36     Average hours per day  \n37     Average hours per day  \n...                      ...  \n25495  Average hours per day  \n25496  Average hours per day  \n25497  Average hours per day  \n25498  Average hours per day  \n25499  Average hours per day  \n\n[8952 rows x 23 columns]"
         },
         "metadata": {},
         "output_type": "display_data"
        }
       ]
      }
     },
     "f4b9a8538ef84112beb79585f8d6cae3": {
      "model_module": "@jupyter-widgets/controls",
      "model_module_version": "1.5.0",
      "model_name": "DropdownModel",
      "state": {
       "_options_labels": [
        "ALL",
        "All races",
        "Asian",
        "Black or African American",
        "White"
       ],
       "description": "Ethnicity:",
       "index": 1,
       "layout": "IPY_MODEL_47af401a5ef24d58bf8df9bb5aa03795",
       "style": "IPY_MODEL_430162483fbe4fbe9d49f28cdc0cdd00"
      }
     },
     "f59dbc37bb0d4fe49999190da2f13ab8": {
      "model_module": "@jupyter-widgets/base",
      "model_module_version": "1.2.0",
      "model_name": "LayoutModel",
      "state": {}
     },
     "f5b1e905d8e34b36b1c9b504049719ad": {
      "model_module": "@jupyter-widgets/controls",
      "model_module_version": "1.5.0",
      "model_name": "DescriptionStyleModel",
      "state": {
       "description_width": ""
      }
     },
     "f7a142570a114d67aca556841b74e9d0": {
      "model_module": "@jupyter-widgets/output",
      "model_module_version": "1.0.0",
      "model_name": "OutputModel",
      "state": {
       "layout": "IPY_MODEL_304794c3efb44009ad0a7229e68064c7",
       "outputs": [
        {
         "data": {
          "text/html": "<div>\n<style scoped>\n    .dataframe tbody tr th:only-of-type {\n        vertical-align: middle;\n    }\n\n    .dataframe tbody tr th {\n        vertical-align: top;\n    }\n\n    .dataframe thead th {\n        text-align: right;\n    }\n</style>\n<table border=\"1\" class=\"dataframe\">\n  <thead>\n    <tr style=\"text-align: right;\">\n      <th></th>\n      <th>Unnamed: 0</th>\n      <th>series_id</th>\n      <th>sex_code</th>\n      <th>race_code</th>\n      <th>educ_code</th>\n      <th>age_code</th>\n      <th>pertype_code</th>\n      <th>series_title</th>\n      <th>earn_code</th>\n      <th>actcode_code</th>\n      <th>...</th>\n      <th>actcode_text</th>\n      <th>age_text</th>\n      <th>earn_text</th>\n      <th>educ_text</th>\n      <th>lfstat_text</th>\n      <th>orig_text</th>\n      <th>pertype_text</th>\n      <th>race_text</th>\n      <th>sex_text</th>\n      <th>stattype_text</th>\n    </tr>\n  </thead>\n  <tbody>\n    <tr>\n      <th>33</th>\n      <td>33</td>\n      <td>TUU10101AA01000000</td>\n      <td>0</td>\n      <td>0</td>\n      <td>0</td>\n      <td>0</td>\n      <td>0</td>\n      <td>Avg hrs per day</td>\n      <td>0</td>\n      <td>0</td>\n      <td>...</td>\n      <td>Total, all activities</td>\n      <td>15 years and over</td>\n      <td>All persons</td>\n      <td>All education levels</td>\n      <td>NaN</td>\n      <td>NaN</td>\n      <td>All days</td>\n      <td>All races</td>\n      <td>Both sexes</td>\n      <td>Average hours per day</td>\n    </tr>\n    <tr>\n      <th>34</th>\n      <td>34</td>\n      <td>TUU10101AA01000003</td>\n      <td>0</td>\n      <td>0</td>\n      <td>0</td>\n      <td>0</td>\n      <td>16</td>\n      <td>Avg hrs per day - Weekend days and holidays</td>\n      <td>0</td>\n      <td>0</td>\n      <td>...</td>\n      <td>Total, all activities</td>\n      <td>15 years and over</td>\n      <td>All persons</td>\n      <td>All education levels</td>\n      <td>NaN</td>\n      <td>NaN</td>\n      <td>Weekend days and holidays</td>\n      <td>All races</td>\n      <td>Both sexes</td>\n      <td>Average hours per day</td>\n    </tr>\n    <tr>\n      <th>35</th>\n      <td>35</td>\n      <td>TUU10101AA01000005</td>\n      <td>0</td>\n      <td>0</td>\n      <td>0</td>\n      <td>0</td>\n      <td>19</td>\n      <td>Avg hrs per day - Nonholiday weekdays</td>\n      <td>0</td>\n      <td>0</td>\n      <td>...</td>\n      <td>Total, all activities</td>\n      <td>15 years and over</td>\n      <td>All persons</td>\n      <td>All education levels</td>\n      <td>NaN</td>\n      <td>NaN</td>\n      <td>Nonholiday weekdays</td>\n      <td>All races</td>\n      <td>Both sexes</td>\n      <td>Average hours per day</td>\n    </tr>\n    <tr>\n      <th>36</th>\n      <td>36</td>\n      <td>TUU10101AA01000007</td>\n      <td>0</td>\n      <td>0</td>\n      <td>0</td>\n      <td>0</td>\n      <td>0</td>\n      <td>Avg hrs per day - Employed</td>\n      <td>0</td>\n      <td>0</td>\n      <td>...</td>\n      <td>Total, all activities</td>\n      <td>15 years and over</td>\n      <td>All persons</td>\n      <td>All education levels</td>\n      <td>Employed</td>\n      <td>NaN</td>\n      <td>All days</td>\n      <td>All races</td>\n      <td>Both sexes</td>\n      <td>Average hours per day</td>\n    </tr>\n    <tr>\n      <th>37</th>\n      <td>37</td>\n      <td>TUU10101AA01000008</td>\n      <td>0</td>\n      <td>0</td>\n      <td>0</td>\n      <td>0</td>\n      <td>16</td>\n      <td>Avg hrs per day - Weekend days and holidays, E...</td>\n      <td>0</td>\n      <td>0</td>\n      <td>...</td>\n      <td>Total, all activities</td>\n      <td>15 years and over</td>\n      <td>All persons</td>\n      <td>All education levels</td>\n      <td>Employed</td>\n      <td>NaN</td>\n      <td>Weekend days and holidays</td>\n      <td>All races</td>\n      <td>Both sexes</td>\n      <td>Average hours per day</td>\n    </tr>\n    <tr>\n      <th>...</th>\n      <td>...</td>\n      <td>...</td>\n      <td>...</td>\n      <td>...</td>\n      <td>...</td>\n      <td>...</td>\n      <td>...</td>\n      <td>...</td>\n      <td>...</td>\n      <td>...</td>\n      <td>...</td>\n      <td>...</td>\n      <td>...</td>\n      <td>...</td>\n      <td>...</td>\n      <td>...</td>\n      <td>...</td>\n      <td>...</td>\n      <td>...</td>\n      <td>...</td>\n      <td>...</td>\n    </tr>\n    <tr>\n      <th>25495</th>\n      <td>25495</td>\n      <td>TUU10101QA01014521</td>\n      <td>0</td>\n      <td>0</td>\n      <td>0</td>\n      <td>0</td>\n      <td>0</td>\n      <td>Avg hrs per day - Participating in sports, exe...</td>\n      <td>0</td>\n      <td>600027</td>\n      <td>...</td>\n      <td>Participating in sports, exercise, and recreat...</td>\n      <td>15 years and over</td>\n      <td>All persons</td>\n      <td>All education levels</td>\n      <td>NaN</td>\n      <td>NaN</td>\n      <td>All days</td>\n      <td>All races</td>\n      <td>Both sexes</td>\n      <td>Average hours per day</td>\n    </tr>\n    <tr>\n      <th>25496</th>\n      <td>25496</td>\n      <td>TUU10101QA01015010</td>\n      <td>0</td>\n      <td>0</td>\n      <td>0</td>\n      <td>0</td>\n      <td>0</td>\n      <td>Avg hrs per day - Organizational, civic, and r...</td>\n      <td>0</td>\n      <td>600030</td>\n      <td>...</td>\n      <td>Organizational, civic, and religious activities</td>\n      <td>15 years and over</td>\n      <td>All persons</td>\n      <td>All education levels</td>\n      <td>NaN</td>\n      <td>NaN</td>\n      <td>All days</td>\n      <td>All races</td>\n      <td>Both sexes</td>\n      <td>Average hours per day</td>\n    </tr>\n    <tr>\n      <th>25497</th>\n      <td>25497</td>\n      <td>TUU10101QA01015349</td>\n      <td>0</td>\n      <td>0</td>\n      <td>0</td>\n      <td>0</td>\n      <td>0</td>\n      <td>Avg hrs per day - Volunteering (organizational...</td>\n      <td>0</td>\n      <td>600032</td>\n      <td>...</td>\n      <td>Volunteering (organizational and civic activit...</td>\n      <td>15 years and over</td>\n      <td>All persons</td>\n      <td>All education levels</td>\n      <td>NaN</td>\n      <td>NaN</td>\n      <td>All days</td>\n      <td>All races</td>\n      <td>Both sexes</td>\n      <td>Average hours per day</td>\n    </tr>\n    <tr>\n      <th>25498</th>\n      <td>25498</td>\n      <td>TUU10101QA01015586</td>\n      <td>0</td>\n      <td>0</td>\n      <td>0</td>\n      <td>0</td>\n      <td>0</td>\n      <td>Avg hrs per day - Telephone calls, mail, and e...</td>\n      <td>0</td>\n      <td>600033</td>\n      <td>...</td>\n      <td>Telephone calls, mail, and e-mail (includes tr...</td>\n      <td>15 years and over</td>\n      <td>All persons</td>\n      <td>All education levels</td>\n      <td>NaN</td>\n      <td>NaN</td>\n      <td>All days</td>\n      <td>All races</td>\n      <td>Both sexes</td>\n      <td>Average hours per day</td>\n    </tr>\n    <tr>\n      <th>25499</th>\n      <td>25499</td>\n      <td>TUU10101QA01015925</td>\n      <td>0</td>\n      <td>0</td>\n      <td>0</td>\n      <td>0</td>\n      <td>0</td>\n      <td>Avg hrs per day - Other activities, not elsewh...</td>\n      <td>0</td>\n      <td>600034</td>\n      <td>...</td>\n      <td>Other activities, not elsewhere classified (in...</td>\n      <td>15 years and over</td>\n      <td>All persons</td>\n      <td>All education levels</td>\n      <td>NaN</td>\n      <td>NaN</td>\n      <td>All days</td>\n      <td>All races</td>\n      <td>Both sexes</td>\n      <td>Average hours per day</td>\n    </tr>\n  </tbody>\n</table>\n<p>25467 rows × 23 columns</p>\n</div>",
          "text/plain": "       Unnamed: 0  series_id                       sex_code  race_code  \\\n33             33  TUU10101AA01000000                     0          0   \n34             34  TUU10101AA01000003                     0          0   \n35             35  TUU10101AA01000005                     0          0   \n36             36  TUU10101AA01000007                     0          0   \n37             37  TUU10101AA01000008                     0          0   \n...           ...                             ...       ...        ...   \n25495       25495  TUU10101QA01014521                     0          0   \n25496       25496  TUU10101QA01015010                     0          0   \n25497       25497  TUU10101QA01015349                     0          0   \n25498       25498  TUU10101QA01015586                     0          0   \n25499       25499  TUU10101QA01015925                     0          0   \n\n       educ_code  age_code  pertype_code  \\\n33             0         0             0   \n34             0         0            16   \n35             0         0            19   \n36             0         0             0   \n37             0         0            16   \n...          ...       ...           ...   \n25495          0         0             0   \n25496          0         0             0   \n25497          0         0             0   \n25498          0         0             0   \n25499          0         0             0   \n\n                                            series_title  earn_code  \\\n33                                       Avg hrs per day          0   \n34           Avg hrs per day - Weekend days and holidays          0   \n35                 Avg hrs per day - Nonholiday weekdays          0   \n36                            Avg hrs per day - Employed          0   \n37     Avg hrs per day - Weekend days and holidays, E...          0   \n...                                                  ...        ...   \n25495  Avg hrs per day - Participating in sports, exe...          0   \n25496  Avg hrs per day - Organizational, civic, and r...          0   \n25497  Avg hrs per day - Volunteering (organizational...          0   \n25498  Avg hrs per day - Telephone calls, mail, and e...          0   \n25499  Avg hrs per day - Other activities, not elsewh...          0   \n\n       actcode_code  ...                                       actcode_text  \\\n33                0  ...                              Total, all activities   \n34                0  ...                              Total, all activities   \n35                0  ...                              Total, all activities   \n36                0  ...                              Total, all activities   \n37                0  ...                              Total, all activities   \n...             ...  ...                                                ...   \n25495        600027  ...  Participating in sports, exercise, and recreat...   \n25496        600030  ...    Organizational, civic, and religious activities   \n25497        600032  ...  Volunteering (organizational and civic activit...   \n25498        600033  ...  Telephone calls, mail, and e-mail (includes tr...   \n25499        600034  ...  Other activities, not elsewhere classified (in...   \n\n                age_text    earn_text             educ_text lfstat_text  \\\n33     15 years and over  All persons  All education levels         NaN   \n34     15 years and over  All persons  All education levels         NaN   \n35     15 years and over  All persons  All education levels         NaN   \n36     15 years and over  All persons  All education levels    Employed   \n37     15 years and over  All persons  All education levels    Employed   \n...                  ...          ...                   ...         ...   \n25495  15 years and over  All persons  All education levels         NaN   \n25496  15 years and over  All persons  All education levels         NaN   \n25497  15 years and over  All persons  All education levels         NaN   \n25498  15 years and over  All persons  All education levels         NaN   \n25499  15 years and over  All persons  All education levels         NaN   \n\n      orig_text               pertype_text  race_text    sex_text  \\\n33          NaN                   All days  All races  Both sexes   \n34          NaN  Weekend days and holidays  All races  Both sexes   \n35          NaN        Nonholiday weekdays  All races  Both sexes   \n36          NaN                   All days  All races  Both sexes   \n37          NaN  Weekend days and holidays  All races  Both sexes   \n...         ...                        ...        ...         ...   \n25495       NaN                   All days  All races  Both sexes   \n25496       NaN                   All days  All races  Both sexes   \n25497       NaN                   All days  All races  Both sexes   \n25498       NaN                   All days  All races  Both sexes   \n25499       NaN                   All days  All races  Both sexes   \n\n               stattype_text  \n33     Average hours per day  \n34     Average hours per day  \n35     Average hours per day  \n36     Average hours per day  \n37     Average hours per day  \n...                      ...  \n25495  Average hours per day  \n25496  Average hours per day  \n25497  Average hours per day  \n25498  Average hours per day  \n25499  Average hours per day  \n\n[25467 rows x 23 columns]"
         },
         "metadata": {},
         "output_type": "display_data"
        }
       ]
      }
     },
     "f7f651ecb8464e239fff3ae02599de3f": {
      "model_module": "@jupyter-widgets/base",
      "model_module_version": "1.2.0",
      "model_name": "LayoutModel",
      "state": {}
     },
     "f81dc255e38f4cf0bead25fdd5e287d7": {
      "model_module": "@jupyter-widgets/controls",
      "model_module_version": "1.5.0",
      "model_name": "DropdownModel",
      "state": {
       "_options_labels": [
        "ALL",
        "Both sexes",
        "Men",
        "Women"
       ],
       "description": "Gender:",
       "index": 1,
       "layout": "IPY_MODEL_0c56a9615fc14d54ae49202e515d8153",
       "style": "IPY_MODEL_179f5abd5da14a669ac120f4029cd4a4"
      }
     },
     "f9e8941b18b648428c09181558438d48": {
      "model_module": "@jupyter-widgets/output",
      "model_module_version": "1.0.0",
      "model_name": "OutputModel",
      "state": {
       "layout": "IPY_MODEL_5c1c66a3148d48f19bb22e7d6db4b70f",
       "outputs": [
        {
         "data": {
          "text/html": "<div>\n<style scoped>\n    .dataframe tbody tr th:only-of-type {\n        vertical-align: middle;\n    }\n\n    .dataframe tbody tr th {\n        vertical-align: top;\n    }\n\n    .dataframe thead th {\n        text-align: right;\n    }\n</style>\n<table border=\"1\" class=\"dataframe\">\n  <thead>\n    <tr style=\"text-align: right;\">\n      <th></th>\n      <th>Unnamed: 0</th>\n      <th>series_id</th>\n      <th>sex_code</th>\n      <th>race_code</th>\n      <th>educ_code</th>\n      <th>age_code</th>\n      <th>pertype_code</th>\n      <th>series_title</th>\n      <th>earn_code</th>\n      <th>actcode_code</th>\n      <th>...</th>\n      <th>actcode_text</th>\n      <th>age_text</th>\n      <th>earn_text</th>\n      <th>educ_text</th>\n      <th>lfstat_text</th>\n      <th>orig_text</th>\n      <th>pertype_text</th>\n      <th>race_text</th>\n      <th>sex_text</th>\n      <th>stattype_text</th>\n    </tr>\n  </thead>\n  <tbody>\n    <tr>\n      <th>33</th>\n      <td>33</td>\n      <td>TUU10101AA01000000</td>\n      <td>0</td>\n      <td>0</td>\n      <td>0</td>\n      <td>0</td>\n      <td>0</td>\n      <td>Avg hrs per day</td>\n      <td>0</td>\n      <td>0</td>\n      <td>...</td>\n      <td>Total, all activities</td>\n      <td>15 years and over</td>\n      <td>All persons</td>\n      <td>All education levels</td>\n      <td>NaN</td>\n      <td>NaN</td>\n      <td>All days</td>\n      <td>All races</td>\n      <td>Both sexes</td>\n      <td>Average hours per day</td>\n    </tr>\n    <tr>\n      <th>34</th>\n      <td>34</td>\n      <td>TUU10101AA01000003</td>\n      <td>0</td>\n      <td>0</td>\n      <td>0</td>\n      <td>0</td>\n      <td>16</td>\n      <td>Avg hrs per day - Weekend days and holidays</td>\n      <td>0</td>\n      <td>0</td>\n      <td>...</td>\n      <td>Total, all activities</td>\n      <td>15 years and over</td>\n      <td>All persons</td>\n      <td>All education levels</td>\n      <td>NaN</td>\n      <td>NaN</td>\n      <td>Weekend days and holidays</td>\n      <td>All races</td>\n      <td>Both sexes</td>\n      <td>Average hours per day</td>\n    </tr>\n    <tr>\n      <th>35</th>\n      <td>35</td>\n      <td>TUU10101AA01000005</td>\n      <td>0</td>\n      <td>0</td>\n      <td>0</td>\n      <td>0</td>\n      <td>19</td>\n      <td>Avg hrs per day - Nonholiday weekdays</td>\n      <td>0</td>\n      <td>0</td>\n      <td>...</td>\n      <td>Total, all activities</td>\n      <td>15 years and over</td>\n      <td>All persons</td>\n      <td>All education levels</td>\n      <td>NaN</td>\n      <td>NaN</td>\n      <td>Nonholiday weekdays</td>\n      <td>All races</td>\n      <td>Both sexes</td>\n      <td>Average hours per day</td>\n    </tr>\n    <tr>\n      <th>36</th>\n      <td>36</td>\n      <td>TUU10101AA01000007</td>\n      <td>0</td>\n      <td>0</td>\n      <td>0</td>\n      <td>0</td>\n      <td>0</td>\n      <td>Avg hrs per day - Employed</td>\n      <td>0</td>\n      <td>0</td>\n      <td>...</td>\n      <td>Total, all activities</td>\n      <td>15 years and over</td>\n      <td>All persons</td>\n      <td>All education levels</td>\n      <td>Employed</td>\n      <td>NaN</td>\n      <td>All days</td>\n      <td>All races</td>\n      <td>Both sexes</td>\n      <td>Average hours per day</td>\n    </tr>\n    <tr>\n      <th>37</th>\n      <td>37</td>\n      <td>TUU10101AA01000008</td>\n      <td>0</td>\n      <td>0</td>\n      <td>0</td>\n      <td>0</td>\n      <td>16</td>\n      <td>Avg hrs per day - Weekend days and holidays, E...</td>\n      <td>0</td>\n      <td>0</td>\n      <td>...</td>\n      <td>Total, all activities</td>\n      <td>15 years and over</td>\n      <td>All persons</td>\n      <td>All education levels</td>\n      <td>Employed</td>\n      <td>NaN</td>\n      <td>Weekend days and holidays</td>\n      <td>All races</td>\n      <td>Both sexes</td>\n      <td>Average hours per day</td>\n    </tr>\n    <tr>\n      <th>...</th>\n      <td>...</td>\n      <td>...</td>\n      <td>...</td>\n      <td>...</td>\n      <td>...</td>\n      <td>...</td>\n      <td>...</td>\n      <td>...</td>\n      <td>...</td>\n      <td>...</td>\n      <td>...</td>\n      <td>...</td>\n      <td>...</td>\n      <td>...</td>\n      <td>...</td>\n      <td>...</td>\n      <td>...</td>\n      <td>...</td>\n      <td>...</td>\n      <td>...</td>\n      <td>...</td>\n    </tr>\n    <tr>\n      <th>25495</th>\n      <td>25495</td>\n      <td>TUU10101QA01014521</td>\n      <td>0</td>\n      <td>0</td>\n      <td>0</td>\n      <td>0</td>\n      <td>0</td>\n      <td>Avg hrs per day - Participating in sports, exe...</td>\n      <td>0</td>\n      <td>600027</td>\n      <td>...</td>\n      <td>Participating in sports, exercise, and recreat...</td>\n      <td>15 years and over</td>\n      <td>All persons</td>\n      <td>All education levels</td>\n      <td>NaN</td>\n      <td>NaN</td>\n      <td>All days</td>\n      <td>All races</td>\n      <td>Both sexes</td>\n      <td>Average hours per day</td>\n    </tr>\n    <tr>\n      <th>25496</th>\n      <td>25496</td>\n      <td>TUU10101QA01015010</td>\n      <td>0</td>\n      <td>0</td>\n      <td>0</td>\n      <td>0</td>\n      <td>0</td>\n      <td>Avg hrs per day - Organizational, civic, and r...</td>\n      <td>0</td>\n      <td>600030</td>\n      <td>...</td>\n      <td>Organizational, civic, and religious activities</td>\n      <td>15 years and over</td>\n      <td>All persons</td>\n      <td>All education levels</td>\n      <td>NaN</td>\n      <td>NaN</td>\n      <td>All days</td>\n      <td>All races</td>\n      <td>Both sexes</td>\n      <td>Average hours per day</td>\n    </tr>\n    <tr>\n      <th>25497</th>\n      <td>25497</td>\n      <td>TUU10101QA01015349</td>\n      <td>0</td>\n      <td>0</td>\n      <td>0</td>\n      <td>0</td>\n      <td>0</td>\n      <td>Avg hrs per day - Volunteering (organizational...</td>\n      <td>0</td>\n      <td>600032</td>\n      <td>...</td>\n      <td>Volunteering (organizational and civic activit...</td>\n      <td>15 years and over</td>\n      <td>All persons</td>\n      <td>All education levels</td>\n      <td>NaN</td>\n      <td>NaN</td>\n      <td>All days</td>\n      <td>All races</td>\n      <td>Both sexes</td>\n      <td>Average hours per day</td>\n    </tr>\n    <tr>\n      <th>25498</th>\n      <td>25498</td>\n      <td>TUU10101QA01015586</td>\n      <td>0</td>\n      <td>0</td>\n      <td>0</td>\n      <td>0</td>\n      <td>0</td>\n      <td>Avg hrs per day - Telephone calls, mail, and e...</td>\n      <td>0</td>\n      <td>600033</td>\n      <td>...</td>\n      <td>Telephone calls, mail, and e-mail (includes tr...</td>\n      <td>15 years and over</td>\n      <td>All persons</td>\n      <td>All education levels</td>\n      <td>NaN</td>\n      <td>NaN</td>\n      <td>All days</td>\n      <td>All races</td>\n      <td>Both sexes</td>\n      <td>Average hours per day</td>\n    </tr>\n    <tr>\n      <th>25499</th>\n      <td>25499</td>\n      <td>TUU10101QA01015925</td>\n      <td>0</td>\n      <td>0</td>\n      <td>0</td>\n      <td>0</td>\n      <td>0</td>\n      <td>Avg hrs per day - Other activities, not elsewh...</td>\n      <td>0</td>\n      <td>600034</td>\n      <td>...</td>\n      <td>Other activities, not elsewhere classified (in...</td>\n      <td>15 years and over</td>\n      <td>All persons</td>\n      <td>All education levels</td>\n      <td>NaN</td>\n      <td>NaN</td>\n      <td>All days</td>\n      <td>All races</td>\n      <td>Both sexes</td>\n      <td>Average hours per day</td>\n    </tr>\n  </tbody>\n</table>\n<p>8952 rows × 23 columns</p>\n</div>",
          "text/plain": "       Unnamed: 0  series_id                       sex_code  race_code  \\\n33             33  TUU10101AA01000000                     0          0   \n34             34  TUU10101AA01000003                     0          0   \n35             35  TUU10101AA01000005                     0          0   \n36             36  TUU10101AA01000007                     0          0   \n37             37  TUU10101AA01000008                     0          0   \n...           ...                             ...       ...        ...   \n25495       25495  TUU10101QA01014521                     0          0   \n25496       25496  TUU10101QA01015010                     0          0   \n25497       25497  TUU10101QA01015349                     0          0   \n25498       25498  TUU10101QA01015586                     0          0   \n25499       25499  TUU10101QA01015925                     0          0   \n\n       educ_code  age_code  pertype_code  \\\n33             0         0             0   \n34             0         0            16   \n35             0         0            19   \n36             0         0             0   \n37             0         0            16   \n...          ...       ...           ...   \n25495          0         0             0   \n25496          0         0             0   \n25497          0         0             0   \n25498          0         0             0   \n25499          0         0             0   \n\n                                            series_title  earn_code  \\\n33                                       Avg hrs per day          0   \n34           Avg hrs per day - Weekend days and holidays          0   \n35                 Avg hrs per day - Nonholiday weekdays          0   \n36                            Avg hrs per day - Employed          0   \n37     Avg hrs per day - Weekend days and holidays, E...          0   \n...                                                  ...        ...   \n25495  Avg hrs per day - Participating in sports, exe...          0   \n25496  Avg hrs per day - Organizational, civic, and r...          0   \n25497  Avg hrs per day - Volunteering (organizational...          0   \n25498  Avg hrs per day - Telephone calls, mail, and e...          0   \n25499  Avg hrs per day - Other activities, not elsewh...          0   \n\n       actcode_code  ...                                       actcode_text  \\\n33                0  ...                              Total, all activities   \n34                0  ...                              Total, all activities   \n35                0  ...                              Total, all activities   \n36                0  ...                              Total, all activities   \n37                0  ...                              Total, all activities   \n...             ...  ...                                                ...   \n25495        600027  ...  Participating in sports, exercise, and recreat...   \n25496        600030  ...    Organizational, civic, and religious activities   \n25497        600032  ...  Volunteering (organizational and civic activit...   \n25498        600033  ...  Telephone calls, mail, and e-mail (includes tr...   \n25499        600034  ...  Other activities, not elsewhere classified (in...   \n\n                age_text    earn_text             educ_text lfstat_text  \\\n33     15 years and over  All persons  All education levels         NaN   \n34     15 years and over  All persons  All education levels         NaN   \n35     15 years and over  All persons  All education levels         NaN   \n36     15 years and over  All persons  All education levels    Employed   \n37     15 years and over  All persons  All education levels    Employed   \n...                  ...          ...                   ...         ...   \n25495  15 years and over  All persons  All education levels         NaN   \n25496  15 years and over  All persons  All education levels         NaN   \n25497  15 years and over  All persons  All education levels         NaN   \n25498  15 years and over  All persons  All education levels         NaN   \n25499  15 years and over  All persons  All education levels         NaN   \n\n      orig_text               pertype_text  race_text    sex_text  \\\n33          NaN                   All days  All races  Both sexes   \n34          NaN  Weekend days and holidays  All races  Both sexes   \n35          NaN        Nonholiday weekdays  All races  Both sexes   \n36          NaN                   All days  All races  Both sexes   \n37          NaN  Weekend days and holidays  All races  Both sexes   \n...         ...                        ...        ...         ...   \n25495       NaN                   All days  All races  Both sexes   \n25496       NaN                   All days  All races  Both sexes   \n25497       NaN                   All days  All races  Both sexes   \n25498       NaN                   All days  All races  Both sexes   \n25499       NaN                   All days  All races  Both sexes   \n\n               stattype_text  \n33     Average hours per day  \n34     Average hours per day  \n35     Average hours per day  \n36     Average hours per day  \n37     Average hours per day  \n...                      ...  \n25495  Average hours per day  \n25496  Average hours per day  \n25497  Average hours per day  \n25498  Average hours per day  \n25499  Average hours per day  \n\n[8952 rows x 23 columns]"
         },
         "metadata": {},
         "output_type": "display_data"
        }
       ]
      }
     },
     "fa5ab64834fc47229667fd5ea55a1f3d": {
      "model_module": "@jupyter-widgets/controls",
      "model_module_version": "1.5.0",
      "model_name": "DescriptionStyleModel",
      "state": {
       "description_width": ""
      }
     },
     "fad959643be14ea2b22a1df91bdbabe3": {
      "model_module": "@jupyter-widgets/controls",
      "model_module_version": "1.5.0",
      "model_name": "DropdownModel",
      "state": {
       "_options_labels": [
        "Advanced degree",
        "All education levels",
        "Bachelor's degree and higher",
        "Bachelor's degree only",
        "High school graduates, no college",
        "Less than a high school diploma",
        "Some college or associate degree"
       ],
       "description": "Education: Only works with 25 or older in the Ages selector",
       "index": 1,
       "layout": "IPY_MODEL_7346b2ca46af46a1af1524967f5c182c",
       "style": "IPY_MODEL_ea46499890b6493f97ab5e0dc743d33c"
      }
     },
     "fbfd3ca337cc447fb073ac4bbf8f7e80": {
      "model_module": "@jupyter-widgets/base",
      "model_module_version": "1.2.0",
      "model_name": "LayoutModel",
      "state": {}
     },
     "fc896517e1264f6f9504c96a4916d187": {
      "model_module": "@jupyter-widgets/output",
      "model_module_version": "1.0.0",
      "model_name": "OutputModel",
      "state": {
       "layout": "IPY_MODEL_8c064b7e3115475498457076bf531ee1"
      }
     },
     "fc8ce8bcf24c43e6a5bbdac237ddad66": {
      "model_module": "@jupyter-widgets/controls",
      "model_module_version": "1.5.0",
      "model_name": "DescriptionStyleModel",
      "state": {
       "description_width": ""
      }
     },
     "fe0d346ee4d84feaa486dfa5e7a1dc3b": {
      "model_module": "@jupyter-widgets/base",
      "model_module_version": "1.2.0",
      "model_name": "LayoutModel",
      "state": {}
     },
     "ff308e4e4d104dc6a2c685625e8757a7": {
      "model_module": "@jupyter-widgets/controls",
      "model_module_version": "1.5.0",
      "model_name": "DescriptionStyleModel",
      "state": {
       "description_width": ""
      }
     },
     "ffc7aaf9b73248019e1423f2c0505cf9": {
      "model_module": "@jupyter-widgets/output",
      "model_module_version": "1.0.0",
      "model_name": "OutputModel",
      "state": {
       "layout": "IPY_MODEL_76412ffae26044b480b26f7e7c124be5",
       "outputs": [
        {
         "data": {
          "text/plain": "3478    3478\n3703    3703\n7303    7303\n7472    7472\n7592    7592\n7701    7701\n8424    8424\n8448    8448\nName: Unnamed: 0, dtype: int64"
         },
         "metadata": {},
         "output_type": "display_data"
        }
       ]
      }
     }
    },
    "version_major": 2,
    "version_minor": 0
   }
  }
 },
 "nbformat": 4,
 "nbformat_minor": 4
}
